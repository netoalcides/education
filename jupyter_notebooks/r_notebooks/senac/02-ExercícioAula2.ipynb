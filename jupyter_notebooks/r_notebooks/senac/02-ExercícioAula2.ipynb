{
 "cells": [
  {
   "cell_type": "markdown",
   "metadata": {},
   "source": [
    "# Análise de um projeto"
   ]
  },
  {
   "cell_type": "markdown",
   "metadata": {},
   "source": [
    "Neste exercício iremos aplicar os conceitos apresentados sobre análise descritiva para analisar as entregas realizadas por um time de um projeto."
   ]
  },
  {
   "cell_type": "markdown",
   "metadata": {},
   "source": [
    "- Rodar os códigos\n",
    "- Realizar as análises pedidas\n",
    "- Responder as perguntas"
   ]
  },
  {
   "cell_type": "markdown",
   "metadata": {},
   "source": [
    "## Carregar pacotes"
   ]
  },
  {
   "cell_type": "code",
   "execution_count": null,
   "metadata": {},
   "outputs": [],
   "source": [
    "library(tidyverse)\n",
    "library(magrittr)"
   ]
  },
  {
   "cell_type": "markdown",
   "metadata": {},
   "source": [
    "## Carregar dados"
   ]
  },
  {
   "cell_type": "code",
   "execution_count": null,
   "metadata": {},
   "outputs": [],
   "source": [
    "dados_entregas_projetos <- read_csv( file = \"/home/vmsenac/dados/projetos_entrega.csv\" )"
   ]
  },
  {
   "cell_type": "markdown",
   "metadata": {},
   "source": [
    "## Análises"
   ]
  },
  {
   "cell_type": "markdown",
   "metadata": {},
   "source": [
    "- Mostrar a evolução das entregas conforme as semanas (dica: eixo x - semanas, eixo y - entregas)"
   ]
  },
  {
   "cell_type": "code",
   "execution_count": null,
   "metadata": {},
   "outputs": [],
   "source": [
    "# codigo para gerar o gráfico"
   ]
  },
  {
   "cell_type": "markdown",
   "metadata": {},
   "source": [
    "- Aplicar as medidas de posição no número de entregas(média, mediana, quartil 1, quartil 3, mínimo e máximo)"
   ]
  },
  {
   "cell_type": "code",
   "execution_count": null,
   "metadata": {},
   "outputs": [],
   "source": [
    "# codigo para gerar as medidas"
   ]
  },
  {
   "cell_type": "markdown",
   "metadata": {},
   "source": [
    "- Aplicar as medidas de variabilidade no número de entregas (variância e desvio padrão)"
   ]
  },
  {
   "cell_type": "code",
   "execution_count": null,
   "metadata": {},
   "outputs": [],
   "source": [
    "# codigo para gerar as medidas"
   ]
  },
  {
   "cell_type": "markdown",
   "metadata": {},
   "source": [
    "## Perguntas"
   ]
  },
  {
   "cell_type": "markdown",
   "metadata": {},
   "source": [
    "- Qual semana apresentou maior pico de entregas? Quantas entregas foram realizadas?\n",
    "- Qual semana apresentou menor pico de entregas? Quantas entregas foram realizadas?\n",
    "- A média e mediana são iguais ou diferentes? Qual destes valores você teria maior confiança?\n",
    "- Qual a diferença do número de entregas entre o primeiro e o terceiro quartil? Você acredita ser um valor baixo ou alto?\n",
    "- Você acredita que existe uma variabilidade muita alta nas quantidades de entregas? Qual o valor apresentado pelo desvio-padrão?\n",
    "- Se você estivesse no papel de gestão, o que você faria para diminuir esta variabilidade na quantidade de entregas?"
   ]
  }
 ],
 "metadata": {
  "kernelspec": {
   "display_name": "R",
   "language": "R",
   "name": "ir"
  },
  "language_info": {
   "codemirror_mode": "r",
   "file_extension": ".r",
   "mimetype": "text/x-r-source",
   "name": "R",
   "pygments_lexer": "r",
   "version": "3.4.4"
  }
 },
 "nbformat": 4,
 "nbformat_minor": 2
}
