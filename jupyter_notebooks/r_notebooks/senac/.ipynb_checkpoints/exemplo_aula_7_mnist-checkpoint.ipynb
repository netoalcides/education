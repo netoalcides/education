{
 "cells": [
  {
   "cell_type": "markdown",
   "metadata": {},
   "source": [
    "# Exemplo de classificação de imagens - MNIST\n",
    "\n",
    "A base de dados do MNIST é uma parte de um outro dataset denominado de NIST. Neste banco, existem diversas imagens de dígitos escritos à mão.\n",
    "\n",
    "O MNIST é uma base clássica para treinamento de algoritmos de reconhecimento de imagens. Neste exemplo iremos trabalhar com esta base.\n",
    "\n",
    "Referência: http://yann.lecun.com/exdb/mnist/."
   ]
  },
  {
   "cell_type": "markdown",
   "metadata": {},
   "source": [
    "## Carregar pacotes"
   ]
  },
  {
   "cell_type": "code",
   "execution_count": null,
   "metadata": {},
   "outputs": [],
   "source": [
    "library(tidyverse)\n",
    "library(magrittr)\n",
    "library(reticulate)\n",
    "use_python('/usr/local/bin/python3.6')\n",
    "library(keras)"
   ]
  },
  {
   "cell_type": "markdown",
   "metadata": {},
   "source": [
    "## Carregar dados"
   ]
  },
  {
   "cell_type": "code",
   "execution_count": 2,
   "metadata": {},
   "outputs": [],
   "source": [
    "mnist <- dataset_mnist()"
   ]
  },
  {
   "cell_type": "markdown",
   "metadata": {},
   "source": [
    "## Amostra de treinamento"
   ]
  },
  {
   "cell_type": "code",
   "execution_count": 3,
   "metadata": {},
   "outputs": [],
   "source": [
    "train_images <- mnist$train$x\n",
    "train_labels <- mnist$train$y"
   ]
  },
  {
   "cell_type": "markdown",
   "metadata": {},
   "source": [
    "## Amostra de teste"
   ]
  },
  {
   "cell_type": "code",
   "execution_count": 4,
   "metadata": {},
   "outputs": [],
   "source": [
    "test_images <- mnist$test$x\n",
    "test_labels <- mnist$test$y"
   ]
  },
  {
   "cell_type": "markdown",
   "metadata": {},
   "source": [
    "## Explicando os dados"
   ]
  },
  {
   "cell_type": "markdown",
   "metadata": {},
   "source": [
    "- Os dados dos labels são vetores com os seguintes tamanhos"
   ]
  },
  {
   "cell_type": "code",
   "execution_count": 5,
   "metadata": {},
   "outputs": [
    {
     "name": "stdout",
     "output_type": "stream",
     "text": [
      "[1] 60000\n",
      "[1] 10000\n"
     ]
    }
   ],
   "source": [
    "print( train_labels %>% dim )\n",
    "print( test_labels %>% dim )"
   ]
  },
  {
   "cell_type": "markdown",
   "metadata": {},
   "source": [
    "- E apresentam os digitos entre 0 a 9."
   ]
  },
  {
   "cell_type": "code",
   "execution_count": 10,
   "metadata": {},
   "outputs": [
    {
     "data": {
      "text/html": [
       "<table>\n",
       "<thead><tr><th scope=col>.</th></tr></thead>\n",
       "<tbody>\n",
       "\t<tr><td>5</td></tr>\n",
       "\t<tr><td>0</td></tr>\n",
       "\t<tr><td>4</td></tr>\n",
       "\t<tr><td>1</td></tr>\n",
       "\t<tr><td>9</td></tr>\n",
       "\t<tr><td>2</td></tr>\n",
       "\t<tr><td>3</td></tr>\n",
       "\t<tr><td>6</td></tr>\n",
       "\t<tr><td>7</td></tr>\n",
       "\t<tr><td>8</td></tr>\n",
       "</tbody>\n",
       "</table>\n"
      ],
      "text/latex": [
       "\\begin{tabular}{r|l}\n",
       " .\\\\\n",
       "\\hline\n",
       "\t 5\\\\\n",
       "\t 0\\\\\n",
       "\t 4\\\\\n",
       "\t 1\\\\\n",
       "\t 9\\\\\n",
       "\t 2\\\\\n",
       "\t 3\\\\\n",
       "\t 6\\\\\n",
       "\t 7\\\\\n",
       "\t 8\\\\\n",
       "\\end{tabular}\n"
      ],
      "text/markdown": [
       "\n",
       ". | \n",
       "|---|---|---|---|---|---|---|---|---|---|\n",
       "| 5 | \n",
       "| 0 | \n",
       "| 4 | \n",
       "| 1 | \n",
       "| 9 | \n",
       "| 2 | \n",
       "| 3 | \n",
       "| 6 | \n",
       "| 7 | \n",
       "| 8 | \n",
       "\n",
       "\n"
      ],
      "text/plain": [
       "   .\n",
       "1  5\n",
       "2  0\n",
       "3  4\n",
       "4  1\n",
       "5  9\n",
       "6  2\n",
       "7  3\n",
       "8  6\n",
       "9  7\n",
       "10 8"
      ]
     },
     "metadata": {},
     "output_type": "display_data"
    }
   ],
   "source": [
    "train_labels %>% \n",
    "    data_frame %>%  \n",
    "    distinct()"
   ]
  },
  {
   "cell_type": "markdown",
   "metadata": {},
   "source": [
    "- Os dados de treinamento e teste estão em formato de tensores.\n",
    "\n",
    "Tensores possuem 3 propriedades: ordem (eixos), dimensão e tipo."
   ]
  },
  {
   "cell_type": "code",
   "execution_count": 11,
   "metadata": {},
   "outputs": [
    {
     "data": {
      "text/html": [
       "3"
      ],
      "text/latex": [
       "3"
      ],
      "text/markdown": [
       "3"
      ],
      "text/plain": [
       "[1] 3"
      ]
     },
     "metadata": {},
     "output_type": "display_data"
    }
   ],
   "source": [
    "# eixos (ordem) do tensor\n",
    "train_images %>% \n",
    "  dim %>% \n",
    "  length"
   ]
  },
  {
   "cell_type": "code",
   "execution_count": 12,
   "metadata": {},
   "outputs": [
    {
     "data": {
      "text/html": [
       "<ol class=list-inline>\n",
       "\t<li>60000</li>\n",
       "\t<li>28</li>\n",
       "\t<li>28</li>\n",
       "</ol>\n"
      ],
      "text/latex": [
       "\\begin{enumerate*}\n",
       "\\item 60000\n",
       "\\item 28\n",
       "\\item 28\n",
       "\\end{enumerate*}\n"
      ],
      "text/markdown": [
       "1. 60000\n",
       "2. 28\n",
       "3. 28\n",
       "\n",
       "\n"
      ],
      "text/plain": [
       "[1] 60000    28    28"
      ]
     },
     "metadata": {},
     "output_type": "display_data"
    }
   ],
   "source": [
    "# formato - 60000 imagens com dimensão 28 x 28\n",
    "train_images %>% \n",
    "  dim"
   ]
  },
  {
   "cell_type": "code",
   "execution_count": 13,
   "metadata": {},
   "outputs": [
    {
     "data": {
      "text/html": [
       "'integer'"
      ],
      "text/latex": [
       "'integer'"
      ],
      "text/markdown": [
       "'integer'"
      ],
      "text/plain": [
       "[1] \"integer\""
      ]
     },
     "metadata": {},
     "output_type": "display_data"
    }
   ],
   "source": [
    "# tipo do dados\n",
    "train_images %>% \n",
    "  typeof()"
   ]
  },
  {
   "cell_type": "markdown",
   "metadata": {},
   "source": [
    "## Ver as imagens"
   ]
  },
  {
   "cell_type": "code",
   "execution_count": 14,
   "metadata": {},
   "outputs": [
    {
     "data": {
      "text/html": [
       "<table>\n",
       "<tbody>\n",
       "\t<tr><td>0  </td><td>0  </td><td>0  </td><td>  0</td><td>  0</td><td>  0</td><td>  0</td><td>  0</td><td>  0</td><td>  0</td><td>⋯  </td><td>  0</td><td>  0</td><td>  0</td><td>  0</td><td> 0 </td><td>0  </td><td>0  </td><td>0  </td><td>0  </td><td>0  </td></tr>\n",
       "\t<tr><td>0  </td><td>0  </td><td>0  </td><td>  0</td><td>  0</td><td>  0</td><td>  0</td><td>  0</td><td>  0</td><td>  0</td><td>⋯  </td><td>  0</td><td>  0</td><td>  0</td><td>  0</td><td> 0 </td><td>0  </td><td>0  </td><td>0  </td><td>0  </td><td>0  </td></tr>\n",
       "\t<tr><td>0  </td><td>0  </td><td>0  </td><td>  0</td><td>  0</td><td>  0</td><td>  0</td><td>  0</td><td>  0</td><td>  0</td><td>⋯  </td><td>  0</td><td>  0</td><td>  0</td><td>  0</td><td> 0 </td><td>0  </td><td>0  </td><td>0  </td><td>0  </td><td>0  </td></tr>\n",
       "\t<tr><td>0  </td><td>0  </td><td>0  </td><td>  0</td><td>  0</td><td>  0</td><td>  0</td><td>  0</td><td>  0</td><td>  0</td><td>⋯  </td><td>  0</td><td>  0</td><td>  0</td><td>  0</td><td> 0 </td><td>0  </td><td>0  </td><td>0  </td><td>0  </td><td>0  </td></tr>\n",
       "\t<tr><td>0  </td><td>0  </td><td>0  </td><td>  0</td><td>  0</td><td>  0</td><td>  0</td><td>  0</td><td>  0</td><td>  0</td><td>⋯  </td><td>  0</td><td>  0</td><td>  0</td><td>  0</td><td> 0 </td><td>0  </td><td>0  </td><td>0  </td><td>0  </td><td>0  </td></tr>\n",
       "\t<tr><td>0  </td><td>0  </td><td>0  </td><td>  0</td><td>  0</td><td>  0</td><td>  0</td><td>  0</td><td>  0</td><td>  0</td><td>⋯  </td><td>  0</td><td>  0</td><td> 67</td><td>232</td><td>39 </td><td>0  </td><td>0  </td><td>0  </td><td>0  </td><td>0  </td></tr>\n",
       "\t<tr><td>0  </td><td>0  </td><td>0  </td><td>  0</td><td> 62</td><td> 81</td><td>  0</td><td>  0</td><td>  0</td><td>  0</td><td>⋯  </td><td>  0</td><td>  0</td><td>120</td><td>180</td><td>39 </td><td>0  </td><td>0  </td><td>0  </td><td>0  </td><td>0  </td></tr>\n",
       "\t<tr><td>0  </td><td>0  </td><td>0  </td><td>  0</td><td>126</td><td>163</td><td>  0</td><td>  0</td><td>  0</td><td>  0</td><td>⋯  </td><td>  0</td><td>  2</td><td>153</td><td>210</td><td>40 </td><td>0  </td><td>0  </td><td>0  </td><td>0  </td><td>0  </td></tr>\n",
       "\t<tr><td>0  </td><td>0  </td><td>0  </td><td>  0</td><td>220</td><td>163</td><td>  0</td><td>  0</td><td>  0</td><td>  0</td><td>⋯  </td><td>  0</td><td> 27</td><td>254</td><td>162</td><td> 0 </td><td>0  </td><td>0  </td><td>0  </td><td>0  </td><td>0  </td></tr>\n",
       "\t<tr><td>0  </td><td>0  </td><td>0  </td><td>  0</td><td>222</td><td>163</td><td>  0</td><td>  0</td><td>  0</td><td>  0</td><td>⋯  </td><td>  0</td><td>183</td><td>254</td><td>125</td><td> 0 </td><td>0  </td><td>0  </td><td>0  </td><td>0  </td><td>0  </td></tr>\n",
       "\t<tr><td>0  </td><td>0  </td><td>0  </td><td> 46</td><td>245</td><td>163</td><td>  0</td><td>  0</td><td>  0</td><td>  0</td><td>⋯  </td><td>  0</td><td>198</td><td>254</td><td> 56</td><td> 0 </td><td>0  </td><td>0  </td><td>0  </td><td>0  </td><td>0  </td></tr>\n",
       "\t<tr><td>0  </td><td>0  </td><td>0  </td><td>120</td><td>254</td><td>163</td><td>  0</td><td>  0</td><td>  0</td><td>  0</td><td>⋯  </td><td> 23</td><td>231</td><td>254</td><td> 29</td><td> 0 </td><td>0  </td><td>0  </td><td>0  </td><td>0  </td><td>0  </td></tr>\n",
       "\t<tr><td>0  </td><td>0  </td><td>0  </td><td>159</td><td>254</td><td>120</td><td>  0</td><td>  0</td><td>  0</td><td>  0</td><td>⋯  </td><td>163</td><td>254</td><td>216</td><td> 16</td><td> 0 </td><td>0  </td><td>0  </td><td>0  </td><td>0  </td><td>0  </td></tr>\n",
       "\t<tr><td>0  </td><td>0  </td><td>0  </td><td>159</td><td>254</td><td> 67</td><td>  0</td><td>  0</td><td>  0</td><td>  0</td><td>⋯  </td><td>248</td><td>254</td><td> 91</td><td>  0</td><td> 0 </td><td>0  </td><td>0  </td><td>0  </td><td>0  </td><td>0  </td></tr>\n",
       "\t<tr><td>0  </td><td>0  </td><td>0  </td><td>159</td><td>254</td><td> 85</td><td>  0</td><td>  0</td><td>  0</td><td> 47</td><td>⋯  </td><td>241</td><td>252</td><td> 40</td><td>  0</td><td> 0 </td><td>0  </td><td>0  </td><td>0  </td><td>0  </td><td>0  </td></tr>\n",
       "\t<tr><td>0  </td><td>0  </td><td>0  </td><td>150</td><td>253</td><td>237</td><td>207</td><td>207</td><td>207</td><td>253</td><td>⋯  </td><td>233</td><td>250</td><td>  0</td><td>  0</td><td> 0 </td><td>0  </td><td>0  </td><td>0  </td><td>0  </td><td>0  </td></tr>\n",
       "\t<tr><td>0  </td><td>0  </td><td>0  </td><td>  0</td><td>119</td><td>177</td><td>177</td><td>177</td><td>177</td><td>177</td><td>⋯  </td><td>254</td><td>220</td><td>  0</td><td>  0</td><td> 0 </td><td>0  </td><td>0  </td><td>0  </td><td>0  </td><td>0  </td></tr>\n",
       "\t<tr><td>0  </td><td>0  </td><td>0  </td><td>  0</td><td>  0</td><td>  0</td><td>  0</td><td>  0</td><td>  0</td><td>  0</td><td>⋯  </td><td>254</td><td>137</td><td>  0</td><td>  0</td><td> 0 </td><td>0  </td><td>0  </td><td>0  </td><td>0  </td><td>0  </td></tr>\n",
       "\t<tr><td>0  </td><td>0  </td><td>0  </td><td>  0</td><td>  0</td><td>  0</td><td>  0</td><td>  0</td><td>  0</td><td>  0</td><td>⋯  </td><td>254</td><td> 57</td><td>  0</td><td>  0</td><td> 0 </td><td>0  </td><td>0  </td><td>0  </td><td>0  </td><td>0  </td></tr>\n",
       "\t<tr><td>0  </td><td>0  </td><td>0  </td><td>  0</td><td>  0</td><td>  0</td><td>  0</td><td>  0</td><td>  0</td><td>  0</td><td>⋯  </td><td>254</td><td> 57</td><td>  0</td><td>  0</td><td> 0 </td><td>0  </td><td>0  </td><td>0  </td><td>0  </td><td>0  </td></tr>\n",
       "\t<tr><td>0  </td><td>0  </td><td>0  </td><td>  0</td><td>  0</td><td>  0</td><td>  0</td><td>  0</td><td>  0</td><td>  0</td><td>⋯  </td><td>255</td><td> 94</td><td>  0</td><td>  0</td><td> 0 </td><td>0  </td><td>0  </td><td>0  </td><td>0  </td><td>0  </td></tr>\n",
       "\t<tr><td>0  </td><td>0  </td><td>0  </td><td>  0</td><td>  0</td><td>  0</td><td>  0</td><td>  0</td><td>  0</td><td>  0</td><td>⋯  </td><td>254</td><td> 96</td><td>  0</td><td>  0</td><td> 0 </td><td>0  </td><td>0  </td><td>0  </td><td>0  </td><td>0  </td></tr>\n",
       "\t<tr><td>0  </td><td>0  </td><td>0  </td><td>  0</td><td>  0</td><td>  0</td><td>  0</td><td>  0</td><td>  0</td><td>  0</td><td>⋯  </td><td>254</td><td>153</td><td>  0</td><td>  0</td><td> 0 </td><td>0  </td><td>0  </td><td>0  </td><td>0  </td><td>0  </td></tr>\n",
       "\t<tr><td>0  </td><td>0  </td><td>0  </td><td>  0</td><td>  0</td><td>  0</td><td>  0</td><td>  0</td><td>  0</td><td>  0</td><td>⋯  </td><td>255</td><td>153</td><td>  0</td><td>  0</td><td> 0 </td><td>0  </td><td>0  </td><td>0  </td><td>0  </td><td>0  </td></tr>\n",
       "\t<tr><td>0  </td><td>0  </td><td>0  </td><td>  0</td><td>  0</td><td>  0</td><td>  0</td><td>  0</td><td>  0</td><td>  0</td><td>⋯  </td><td>254</td><td>153</td><td>  0</td><td>  0</td><td> 0 </td><td>0  </td><td>0  </td><td>0  </td><td>0  </td><td>0  </td></tr>\n",
       "\t<tr><td>0  </td><td>0  </td><td>0  </td><td>  0</td><td>  0</td><td>  0</td><td>  0</td><td>  0</td><td>  0</td><td>  0</td><td>⋯  </td><td>  0</td><td>  0</td><td>  0</td><td>  0</td><td> 0 </td><td>0  </td><td>0  </td><td>0  </td><td>0  </td><td>0  </td></tr>\n",
       "\t<tr><td>0  </td><td>0  </td><td>0  </td><td>  0</td><td>  0</td><td>  0</td><td>  0</td><td>  0</td><td>  0</td><td>  0</td><td>⋯  </td><td>  0</td><td>  0</td><td>  0</td><td>  0</td><td> 0 </td><td>0  </td><td>0  </td><td>0  </td><td>0  </td><td>0  </td></tr>\n",
       "\t<tr><td>0  </td><td>0  </td><td>0  </td><td>  0</td><td>  0</td><td>  0</td><td>  0</td><td>  0</td><td>  0</td><td>  0</td><td>⋯  </td><td>  0</td><td>  0</td><td>  0</td><td>  0</td><td> 0 </td><td>0  </td><td>0  </td><td>0  </td><td>0  </td><td>0  </td></tr>\n",
       "</tbody>\n",
       "</table>\n"
      ],
      "text/latex": [
       "\\begin{tabular}{llllllllllllllllllllllllllll}\n",
       "\t 0   & 0   & 0   &   0 &   0 &   0 &   0 &   0 &   0 &   0 & ⋯   &   0 &   0 &   0 &   0 &  0  & 0   & 0   & 0   & 0   & 0  \\\\\n",
       "\t 0   & 0   & 0   &   0 &   0 &   0 &   0 &   0 &   0 &   0 & ⋯   &   0 &   0 &   0 &   0 &  0  & 0   & 0   & 0   & 0   & 0  \\\\\n",
       "\t 0   & 0   & 0   &   0 &   0 &   0 &   0 &   0 &   0 &   0 & ⋯   &   0 &   0 &   0 &   0 &  0  & 0   & 0   & 0   & 0   & 0  \\\\\n",
       "\t 0   & 0   & 0   &   0 &   0 &   0 &   0 &   0 &   0 &   0 & ⋯   &   0 &   0 &   0 &   0 &  0  & 0   & 0   & 0   & 0   & 0  \\\\\n",
       "\t 0   & 0   & 0   &   0 &   0 &   0 &   0 &   0 &   0 &   0 & ⋯   &   0 &   0 &   0 &   0 &  0  & 0   & 0   & 0   & 0   & 0  \\\\\n",
       "\t 0   & 0   & 0   &   0 &   0 &   0 &   0 &   0 &   0 &   0 & ⋯   &   0 &   0 &  67 & 232 & 39  & 0   & 0   & 0   & 0   & 0  \\\\\n",
       "\t 0   & 0   & 0   &   0 &  62 &  81 &   0 &   0 &   0 &   0 & ⋯   &   0 &   0 & 120 & 180 & 39  & 0   & 0   & 0   & 0   & 0  \\\\\n",
       "\t 0   & 0   & 0   &   0 & 126 & 163 &   0 &   0 &   0 &   0 & ⋯   &   0 &   2 & 153 & 210 & 40  & 0   & 0   & 0   & 0   & 0  \\\\\n",
       "\t 0   & 0   & 0   &   0 & 220 & 163 &   0 &   0 &   0 &   0 & ⋯   &   0 &  27 & 254 & 162 &  0  & 0   & 0   & 0   & 0   & 0  \\\\\n",
       "\t 0   & 0   & 0   &   0 & 222 & 163 &   0 &   0 &   0 &   0 & ⋯   &   0 & 183 & 254 & 125 &  0  & 0   & 0   & 0   & 0   & 0  \\\\\n",
       "\t 0   & 0   & 0   &  46 & 245 & 163 &   0 &   0 &   0 &   0 & ⋯   &   0 & 198 & 254 &  56 &  0  & 0   & 0   & 0   & 0   & 0  \\\\\n",
       "\t 0   & 0   & 0   & 120 & 254 & 163 &   0 &   0 &   0 &   0 & ⋯   &  23 & 231 & 254 &  29 &  0  & 0   & 0   & 0   & 0   & 0  \\\\\n",
       "\t 0   & 0   & 0   & 159 & 254 & 120 &   0 &   0 &   0 &   0 & ⋯   & 163 & 254 & 216 &  16 &  0  & 0   & 0   & 0   & 0   & 0  \\\\\n",
       "\t 0   & 0   & 0   & 159 & 254 &  67 &   0 &   0 &   0 &   0 & ⋯   & 248 & 254 &  91 &   0 &  0  & 0   & 0   & 0   & 0   & 0  \\\\\n",
       "\t 0   & 0   & 0   & 159 & 254 &  85 &   0 &   0 &   0 &  47 & ⋯   & 241 & 252 &  40 &   0 &  0  & 0   & 0   & 0   & 0   & 0  \\\\\n",
       "\t 0   & 0   & 0   & 150 & 253 & 237 & 207 & 207 & 207 & 253 & ⋯   & 233 & 250 &   0 &   0 &  0  & 0   & 0   & 0   & 0   & 0  \\\\\n",
       "\t 0   & 0   & 0   &   0 & 119 & 177 & 177 & 177 & 177 & 177 & ⋯   & 254 & 220 &   0 &   0 &  0  & 0   & 0   & 0   & 0   & 0  \\\\\n",
       "\t 0   & 0   & 0   &   0 &   0 &   0 &   0 &   0 &   0 &   0 & ⋯   & 254 & 137 &   0 &   0 &  0  & 0   & 0   & 0   & 0   & 0  \\\\\n",
       "\t 0   & 0   & 0   &   0 &   0 &   0 &   0 &   0 &   0 &   0 & ⋯   & 254 &  57 &   0 &   0 &  0  & 0   & 0   & 0   & 0   & 0  \\\\\n",
       "\t 0   & 0   & 0   &   0 &   0 &   0 &   0 &   0 &   0 &   0 & ⋯   & 254 &  57 &   0 &   0 &  0  & 0   & 0   & 0   & 0   & 0  \\\\\n",
       "\t 0   & 0   & 0   &   0 &   0 &   0 &   0 &   0 &   0 &   0 & ⋯   & 255 &  94 &   0 &   0 &  0  & 0   & 0   & 0   & 0   & 0  \\\\\n",
       "\t 0   & 0   & 0   &   0 &   0 &   0 &   0 &   0 &   0 &   0 & ⋯   & 254 &  96 &   0 &   0 &  0  & 0   & 0   & 0   & 0   & 0  \\\\\n",
       "\t 0   & 0   & 0   &   0 &   0 &   0 &   0 &   0 &   0 &   0 & ⋯   & 254 & 153 &   0 &   0 &  0  & 0   & 0   & 0   & 0   & 0  \\\\\n",
       "\t 0   & 0   & 0   &   0 &   0 &   0 &   0 &   0 &   0 &   0 & ⋯   & 255 & 153 &   0 &   0 &  0  & 0   & 0   & 0   & 0   & 0  \\\\\n",
       "\t 0   & 0   & 0   &   0 &   0 &   0 &   0 &   0 &   0 &   0 & ⋯   & 254 & 153 &   0 &   0 &  0  & 0   & 0   & 0   & 0   & 0  \\\\\n",
       "\t 0   & 0   & 0   &   0 &   0 &   0 &   0 &   0 &   0 &   0 & ⋯   &   0 &   0 &   0 &   0 &  0  & 0   & 0   & 0   & 0   & 0  \\\\\n",
       "\t 0   & 0   & 0   &   0 &   0 &   0 &   0 &   0 &   0 &   0 & ⋯   &   0 &   0 &   0 &   0 &  0  & 0   & 0   & 0   & 0   & 0  \\\\\n",
       "\t 0   & 0   & 0   &   0 &   0 &   0 &   0 &   0 &   0 &   0 & ⋯   &   0 &   0 &   0 &   0 &  0  & 0   & 0   & 0   & 0   & 0  \\\\\n",
       "\\end{tabular}\n"
      ],
      "text/markdown": [
       "\n",
       "| 0   | 0   | 0   |   0 |   0 |   0 |   0 |   0 |   0 |   0 | ⋯   |   0 |   0 |   0 |   0 |  0  | 0   | 0   | 0   | 0   | 0   | \n",
       "| 0   | 0   | 0   |   0 |   0 |   0 |   0 |   0 |   0 |   0 | ⋯   |   0 |   0 |   0 |   0 |  0  | 0   | 0   | 0   | 0   | 0   | \n",
       "| 0   | 0   | 0   |   0 |   0 |   0 |   0 |   0 |   0 |   0 | ⋯   |   0 |   0 |   0 |   0 |  0  | 0   | 0   | 0   | 0   | 0   | \n",
       "| 0   | 0   | 0   |   0 |   0 |   0 |   0 |   0 |   0 |   0 | ⋯   |   0 |   0 |   0 |   0 |  0  | 0   | 0   | 0   | 0   | 0   | \n",
       "| 0   | 0   | 0   |   0 |   0 |   0 |   0 |   0 |   0 |   0 | ⋯   |   0 |   0 |   0 |   0 |  0  | 0   | 0   | 0   | 0   | 0   | \n",
       "| 0   | 0   | 0   |   0 |   0 |   0 |   0 |   0 |   0 |   0 | ⋯   |   0 |   0 |  67 | 232 | 39  | 0   | 0   | 0   | 0   | 0   | \n",
       "| 0   | 0   | 0   |   0 |  62 |  81 |   0 |   0 |   0 |   0 | ⋯   |   0 |   0 | 120 | 180 | 39  | 0   | 0   | 0   | 0   | 0   | \n",
       "| 0   | 0   | 0   |   0 | 126 | 163 |   0 |   0 |   0 |   0 | ⋯   |   0 |   2 | 153 | 210 | 40  | 0   | 0   | 0   | 0   | 0   | \n",
       "| 0   | 0   | 0   |   0 | 220 | 163 |   0 |   0 |   0 |   0 | ⋯   |   0 |  27 | 254 | 162 |  0  | 0   | 0   | 0   | 0   | 0   | \n",
       "| 0   | 0   | 0   |   0 | 222 | 163 |   0 |   0 |   0 |   0 | ⋯   |   0 | 183 | 254 | 125 |  0  | 0   | 0   | 0   | 0   | 0   | \n",
       "| 0   | 0   | 0   |  46 | 245 | 163 |   0 |   0 |   0 |   0 | ⋯   |   0 | 198 | 254 |  56 |  0  | 0   | 0   | 0   | 0   | 0   | \n",
       "| 0   | 0   | 0   | 120 | 254 | 163 |   0 |   0 |   0 |   0 | ⋯   |  23 | 231 | 254 |  29 |  0  | 0   | 0   | 0   | 0   | 0   | \n",
       "| 0   | 0   | 0   | 159 | 254 | 120 |   0 |   0 |   0 |   0 | ⋯   | 163 | 254 | 216 |  16 |  0  | 0   | 0   | 0   | 0   | 0   | \n",
       "| 0   | 0   | 0   | 159 | 254 |  67 |   0 |   0 |   0 |   0 | ⋯   | 248 | 254 |  91 |   0 |  0  | 0   | 0   | 0   | 0   | 0   | \n",
       "| 0   | 0   | 0   | 159 | 254 |  85 |   0 |   0 |   0 |  47 | ⋯   | 241 | 252 |  40 |   0 |  0  | 0   | 0   | 0   | 0   | 0   | \n",
       "| 0   | 0   | 0   | 150 | 253 | 237 | 207 | 207 | 207 | 253 | ⋯   | 233 | 250 |   0 |   0 |  0  | 0   | 0   | 0   | 0   | 0   | \n",
       "| 0   | 0   | 0   |   0 | 119 | 177 | 177 | 177 | 177 | 177 | ⋯   | 254 | 220 |   0 |   0 |  0  | 0   | 0   | 0   | 0   | 0   | \n",
       "| 0   | 0   | 0   |   0 |   0 |   0 |   0 |   0 |   0 |   0 | ⋯   | 254 | 137 |   0 |   0 |  0  | 0   | 0   | 0   | 0   | 0   | \n",
       "| 0   | 0   | 0   |   0 |   0 |   0 |   0 |   0 |   0 |   0 | ⋯   | 254 |  57 |   0 |   0 |  0  | 0   | 0   | 0   | 0   | 0   | \n",
       "| 0   | 0   | 0   |   0 |   0 |   0 |   0 |   0 |   0 |   0 | ⋯   | 254 |  57 |   0 |   0 |  0  | 0   | 0   | 0   | 0   | 0   | \n",
       "| 0   | 0   | 0   |   0 |   0 |   0 |   0 |   0 |   0 |   0 | ⋯   | 255 |  94 |   0 |   0 |  0  | 0   | 0   | 0   | 0   | 0   | \n",
       "| 0   | 0   | 0   |   0 |   0 |   0 |   0 |   0 |   0 |   0 | ⋯   | 254 |  96 |   0 |   0 |  0  | 0   | 0   | 0   | 0   | 0   | \n",
       "| 0   | 0   | 0   |   0 |   0 |   0 |   0 |   0 |   0 |   0 | ⋯   | 254 | 153 |   0 |   0 |  0  | 0   | 0   | 0   | 0   | 0   | \n",
       "| 0   | 0   | 0   |   0 |   0 |   0 |   0 |   0 |   0 |   0 | ⋯   | 255 | 153 |   0 |   0 |  0  | 0   | 0   | 0   | 0   | 0   | \n",
       "| 0   | 0   | 0   |   0 |   0 |   0 |   0 |   0 |   0 |   0 | ⋯   | 254 | 153 |   0 |   0 |  0  | 0   | 0   | 0   | 0   | 0   | \n",
       "| 0   | 0   | 0   |   0 |   0 |   0 |   0 |   0 |   0 |   0 | ⋯   |   0 |   0 |   0 |   0 |  0  | 0   | 0   | 0   | 0   | 0   | \n",
       "| 0   | 0   | 0   |   0 |   0 |   0 |   0 |   0 |   0 |   0 | ⋯   |   0 |   0 |   0 |   0 |  0  | 0   | 0   | 0   | 0   | 0   | \n",
       "| 0   | 0   | 0   |   0 |   0 |   0 |   0 |   0 |   0 |   0 | ⋯   |   0 |   0 |   0 |   0 |  0  | 0   | 0   | 0   | 0   | 0   | \n",
       "\n",
       "\n"
      ],
      "text/plain": [
       "      [,1] [,2] [,3] [,4] [,5] [,6] [,7] [,8] [,9] [,10] [,11] [,12] [,13]\n",
       " [1,] 0    0    0      0    0    0    0    0    0    0   ⋯       0     0  \n",
       " [2,] 0    0    0      0    0    0    0    0    0    0   ⋯       0     0  \n",
       " [3,] 0    0    0      0    0    0    0    0    0    0   ⋯       0     0  \n",
       " [4,] 0    0    0      0    0    0    0    0    0    0   ⋯       0     0  \n",
       " [5,] 0    0    0      0    0    0    0    0    0    0   ⋯       0     0  \n",
       " [6,] 0    0    0      0    0    0    0    0    0    0   ⋯       0     0  \n",
       " [7,] 0    0    0      0   62   81    0    0    0    0   ⋯       0     0  \n",
       " [8,] 0    0    0      0  126  163    0    0    0    0   ⋯       0     2  \n",
       " [9,] 0    0    0      0  220  163    0    0    0    0   ⋯       0    27  \n",
       "[10,] 0    0    0      0  222  163    0    0    0    0   ⋯       0   183  \n",
       "[11,] 0    0    0     46  245  163    0    0    0    0   ⋯       0   198  \n",
       "[12,] 0    0    0    120  254  163    0    0    0    0   ⋯      23   231  \n",
       "[13,] 0    0    0    159  254  120    0    0    0    0   ⋯     163   254  \n",
       "[14,] 0    0    0    159  254   67    0    0    0    0   ⋯     248   254  \n",
       "[15,] 0    0    0    159  254   85    0    0    0   47   ⋯     241   252  \n",
       "[16,] 0    0    0    150  253  237  207  207  207  253   ⋯     233   250  \n",
       "[17,] 0    0    0      0  119  177  177  177  177  177   ⋯     254   220  \n",
       "[18,] 0    0    0      0    0    0    0    0    0    0   ⋯     254   137  \n",
       "[19,] 0    0    0      0    0    0    0    0    0    0   ⋯     254    57  \n",
       "[20,] 0    0    0      0    0    0    0    0    0    0   ⋯     254    57  \n",
       "[21,] 0    0    0      0    0    0    0    0    0    0   ⋯     255    94  \n",
       "[22,] 0    0    0      0    0    0    0    0    0    0   ⋯     254    96  \n",
       "[23,] 0    0    0      0    0    0    0    0    0    0   ⋯     254   153  \n",
       "[24,] 0    0    0      0    0    0    0    0    0    0   ⋯     255   153  \n",
       "[25,] 0    0    0      0    0    0    0    0    0    0   ⋯     254   153  \n",
       "[26,] 0    0    0      0    0    0    0    0    0    0   ⋯       0     0  \n",
       "[27,] 0    0    0      0    0    0    0    0    0    0   ⋯       0     0  \n",
       "[28,] 0    0    0      0    0    0    0    0    0    0   ⋯       0     0  \n",
       "      [,14] [,15] [,16] [,17] [,18] [,19] [,20] [,21]\n",
       " [1,]   0     0    0    0     0     0     0     0    \n",
       " [2,]   0     0    0    0     0     0     0     0    \n",
       " [3,]   0     0    0    0     0     0     0     0    \n",
       " [4,]   0     0    0    0     0     0     0     0    \n",
       " [5,]   0     0    0    0     0     0     0     0    \n",
       " [6,]  67   232   39    0     0     0     0     0    \n",
       " [7,] 120   180   39    0     0     0     0     0    \n",
       " [8,] 153   210   40    0     0     0     0     0    \n",
       " [9,] 254   162    0    0     0     0     0     0    \n",
       "[10,] 254   125    0    0     0     0     0     0    \n",
       "[11,] 254    56    0    0     0     0     0     0    \n",
       "[12,] 254    29    0    0     0     0     0     0    \n",
       "[13,] 216    16    0    0     0     0     0     0    \n",
       "[14,]  91     0    0    0     0     0     0     0    \n",
       "[15,]  40     0    0    0     0     0     0     0    \n",
       "[16,]   0     0    0    0     0     0     0     0    \n",
       "[17,]   0     0    0    0     0     0     0     0    \n",
       "[18,]   0     0    0    0     0     0     0     0    \n",
       "[19,]   0     0    0    0     0     0     0     0    \n",
       "[20,]   0     0    0    0     0     0     0     0    \n",
       "[21,]   0     0    0    0     0     0     0     0    \n",
       "[22,]   0     0    0    0     0     0     0     0    \n",
       "[23,]   0     0    0    0     0     0     0     0    \n",
       "[24,]   0     0    0    0     0     0     0     0    \n",
       "[25,]   0     0    0    0     0     0     0     0    \n",
       "[26,]   0     0    0    0     0     0     0     0    \n",
       "[27,]   0     0    0    0     0     0     0     0    \n",
       "[28,]   0     0    0    0     0     0     0     0    "
      ]
     },
     "metadata": {},
     "output_type": "display_data"
    },
    {
     "data": {
      "image/png": "[encoded data removed]",
      "text/plain": [
       "plot without title"
      ]
     },
     "metadata": {},
     "output_type": "display_data"
    }
   ],
   "source": [
    "im <- 3\n",
    "train_images[im,,]\n",
    "train_images[im,,] %>% \n",
    "  as.raster( max = max(train_images[im,,]) ) %>% \n",
    "  plot()"
   ]
  },
  {
   "cell_type": "markdown",
   "metadata": {},
   "source": [
    "## Modelo\n",
    "\n",
    "O foco da aula é somente apresentar como trabalhamos com imagens e como podemos utilizar algoritmos para realizar o processo de reconhecimento de padrões.\n",
    "\n",
    "Em nosso exemplo vamos utilizar um modelo de redes neurais utilizando o pacotes Keras com *backend* do Tensorflow.\n",
    "\n",
    "https://keras.rstudio.com/articles/faq.html"
   ]
  },
  {
   "cell_type": "markdown",
   "metadata": {},
   "source": [
    "### Criar modelo"
   ]
  },
  {
   "cell_type": "code",
   "execution_count": 15,
   "metadata": {},
   "outputs": [],
   "source": [
    "network <- keras_model_sequential() %>%\n",
    "  layer_dense( units = 512, \n",
    "               activation = \"relu\", \n",
    "               input_shape = c(28 * 28) ) %>%\n",
    "  layer_dense( units = 10, \n",
    "               activation = \"softmax\" )"
   ]
  },
  {
   "cell_type": "code",
   "execution_count": 16,
   "metadata": {},
   "outputs": [
    {
     "data": {
      "text/plain": [
       "Model\n",
       "________________________________________________________________________________\n",
       "Layer (type)                        Output Shape                    Param #     \n",
       "================================================================================\n",
       "dense_1 (Dense)                     (None, 512)                     401920      \n",
       "________________________________________________________________________________\n",
       "dense_2 (Dense)                     (None, 10)                      5130        \n",
       "================================================================================\n",
       "Total params: 407,050\n",
       "Trainable params: 407,050\n",
       "Non-trainable params: 0\n",
       "________________________________________________________________________________\n",
       "\n"
      ]
     },
     "metadata": {},
     "output_type": "display_data"
    }
   ],
   "source": [
    "network"
   ]
  },
  {
   "cell_type": "markdown",
   "metadata": {},
   "source": [
    "### Métricas para aprendizagem do modelo"
   ]
  },
  {
   "cell_type": "markdown",
   "metadata": {},
   "source": [
    "- Otimizadores:\n",
    "http://ruder.io/optimizing-gradient-descent/index.html#rmsprop"
   ]
  },
  {
   "cell_type": "code",
   "execution_count": 17,
   "metadata": {},
   "outputs": [],
   "source": [
    "network %>% compile(\n",
    "  optimizer = \"rmsprop\",\n",
    "  loss = \"categorical_crossentropy\",\n",
    "  metrics = c(\"accuracy\")\n",
    ")"
   ]
  },
  {
   "cell_type": "markdown",
   "metadata": {},
   "source": [
    "## Preparação dos dados"
   ]
  },
  {
   "cell_type": "markdown",
   "metadata": {},
   "source": [
    "- Os dados de treinamento e teste são normalizados para *range* 0-1. A literatura de reconhecimento de imagens mostra que realizar este procedimento melhora o processo de aprendizagem do modelo.\n",
    "\n",
    "- As dimensões são ajustadas porque o modelo irá \"ler\" a linha ao invés da matriz quadrada 28 x 28."
   ]
  },
  {
   "cell_type": "code",
   "execution_count": 18,
   "metadata": {},
   "outputs": [
    {
     "data": {
      "text/html": [
       "<ol class=list-inline>\n",
       "\t<li>60000</li>\n",
       "\t<li>784</li>\n",
       "</ol>\n"
      ],
      "text/latex": [
       "\\begin{enumerate*}\n",
       "\\item 60000\n",
       "\\item 784\n",
       "\\end{enumerate*}\n"
      ],
      "text/markdown": [
       "1. 60000\n",
       "2. 784\n",
       "\n",
       "\n"
      ],
      "text/plain": [
       "[1] 60000   784"
      ]
     },
     "metadata": {},
     "output_type": "display_data"
    }
   ],
   "source": [
    "train_images <- array_reshape(train_images, c(60000, 28 * 28))\n",
    "train_images <- train_images / 255\n",
    "train_images %>% dim"
   ]
  },
  {
   "cell_type": "code",
   "execution_count": 19,
   "metadata": {},
   "outputs": [
    {
     "data": {
      "text/html": [
       "<ol class=list-inline>\n",
       "\t<li>10000</li>\n",
       "\t<li>784</li>\n",
       "</ol>\n"
      ],
      "text/latex": [
       "\\begin{enumerate*}\n",
       "\\item 10000\n",
       "\\item 784\n",
       "\\end{enumerate*}\n"
      ],
      "text/markdown": [
       "1. 10000\n",
       "2. 784\n",
       "\n",
       "\n"
      ],
      "text/plain": [
       "[1] 10000   784"
      ]
     },
     "metadata": {},
     "output_type": "display_data"
    }
   ],
   "source": [
    "test_images <- array_reshape(test_images, c(10000, 28 * 28))\n",
    "test_images <- test_images / 255\n",
    "test_images %>% dim"
   ]
  },
  {
   "cell_type": "markdown",
   "metadata": {},
   "source": [
    "- Criar uma coluna para cada dígito."
   ]
  },
  {
   "cell_type": "code",
   "execution_count": 20,
   "metadata": {},
   "outputs": [],
   "source": [
    "train_labels <- to_categorical(train_labels)\n",
    "test_labels <- to_categorical(test_labels)"
   ]
  },
  {
   "cell_type": "code",
   "execution_count": 25,
   "metadata": {},
   "outputs": [
    {
     "data": {
      "text/html": [
       "<table>\n",
       "<tbody>\n",
       "\t<tr><td>0</td><td>0</td><td>0</td><td>0</td><td>0</td><td>1</td><td>0</td><td>0</td><td>0</td><td>0</td></tr>\n",
       "\t<tr><td>1</td><td>0</td><td>0</td><td>0</td><td>0</td><td>0</td><td>0</td><td>0</td><td>0</td><td>0</td></tr>\n",
       "\t<tr><td>0</td><td>0</td><td>0</td><td>0</td><td>1</td><td>0</td><td>0</td><td>0</td><td>0</td><td>0</td></tr>\n",
       "\t<tr><td>0</td><td>1</td><td>0</td><td>0</td><td>0</td><td>0</td><td>0</td><td>0</td><td>0</td><td>0</td></tr>\n",
       "\t<tr><td>0</td><td>0</td><td>0</td><td>0</td><td>0</td><td>0</td><td>0</td><td>0</td><td>0</td><td>1</td></tr>\n",
       "\t<tr><td>0</td><td>0</td><td>1</td><td>0</td><td>0</td><td>0</td><td>0</td><td>0</td><td>0</td><td>0</td></tr>\n",
       "</tbody>\n",
       "</table>\n"
      ],
      "text/latex": [
       "\\begin{tabular}{llllllllll}\n",
       "\t 0 & 0 & 0 & 0 & 0 & 1 & 0 & 0 & 0 & 0\\\\\n",
       "\t 1 & 0 & 0 & 0 & 0 & 0 & 0 & 0 & 0 & 0\\\\\n",
       "\t 0 & 0 & 0 & 0 & 1 & 0 & 0 & 0 & 0 & 0\\\\\n",
       "\t 0 & 1 & 0 & 0 & 0 & 0 & 0 & 0 & 0 & 0\\\\\n",
       "\t 0 & 0 & 0 & 0 & 0 & 0 & 0 & 0 & 0 & 1\\\\\n",
       "\t 0 & 0 & 1 & 0 & 0 & 0 & 0 & 0 & 0 & 0\\\\\n",
       "\\end{tabular}\n"
      ],
      "text/markdown": [
       "\n",
       "| 0 | 0 | 0 | 0 | 0 | 1 | 0 | 0 | 0 | 0 | \n",
       "| 1 | 0 | 0 | 0 | 0 | 0 | 0 | 0 | 0 | 0 | \n",
       "| 0 | 0 | 0 | 0 | 1 | 0 | 0 | 0 | 0 | 0 | \n",
       "| 0 | 1 | 0 | 0 | 0 | 0 | 0 | 0 | 0 | 0 | \n",
       "| 0 | 0 | 0 | 0 | 0 | 0 | 0 | 0 | 0 | 1 | \n",
       "| 0 | 0 | 1 | 0 | 0 | 0 | 0 | 0 | 0 | 0 | \n",
       "\n",
       "\n"
      ],
      "text/plain": [
       "     [,1] [,2] [,3] [,4] [,5] [,6] [,7] [,8] [,9] [,10]\n",
       "[1,] 0    0    0    0    0    1    0    0    0    0    \n",
       "[2,] 1    0    0    0    0    0    0    0    0    0    \n",
       "[3,] 0    0    0    0    1    0    0    0    0    0    \n",
       "[4,] 0    1    0    0    0    0    0    0    0    0    \n",
       "[5,] 0    0    0    0    0    0    0    0    0    1    \n",
       "[6,] 0    0    1    0    0    0    0    0    0    0    "
      ]
     },
     "metadata": {},
     "output_type": "display_data"
    }
   ],
   "source": [
    "train_labels %>% \n",
    "    head()"
   ]
  },
  {
   "cell_type": "markdown",
   "metadata": {},
   "source": [
    "## Treinamento do modelo"
   ]
  },
  {
   "cell_type": "code",
   "execution_count": 26,
   "metadata": {},
   "outputs": [],
   "source": [
    "set.seed(104)\n",
    "network %>% fit(train_images, \n",
    "                train_labels, \n",
    "                epochs = 5, \n",
    "                batch_size = 128)"
   ]
  },
  {
   "cell_type": "markdown",
   "metadata": {},
   "source": [
    "## Avaliação"
   ]
  },
  {
   "cell_type": "code",
   "execution_count": 27,
   "metadata": {},
   "outputs": [
    {
     "data": {
      "text/html": [
       "<dl>\n",
       "\t<dt>$loss</dt>\n",
       "\t\t<dd>0.0669793818979524</dd>\n",
       "\t<dt>$acc</dt>\n",
       "\t\t<dd>0.9784</dd>\n",
       "</dl>\n"
      ],
      "text/latex": [
       "\\begin{description}\n",
       "\\item[\\$loss] 0.0669793818979524\n",
       "\\item[\\$acc] 0.9784\n",
       "\\end{description}\n"
      ],
      "text/markdown": [
       "$loss\n",
       ":   0.0669793818979524\n",
       "$acc\n",
       ":   0.9784\n",
       "\n",
       "\n"
      ],
      "text/plain": [
       "$loss\n",
       "[1] 0.06697938\n",
       "\n",
       "$acc\n",
       "[1] 0.9784\n"
      ]
     },
     "metadata": {},
     "output_type": "display_data"
    }
   ],
   "source": [
    "network %>% evaluate(test_images, test_labels)"
   ]
  },
  {
   "cell_type": "markdown",
   "metadata": {},
   "source": [
    "## Previsão"
   ]
  },
  {
   "cell_type": "code",
   "execution_count": 28,
   "metadata": {},
   "outputs": [],
   "source": [
    "classes_pred <- network %>% \n",
    "  predict_classes(test_images[1:10000,])"
   ]
  },
  {
   "cell_type": "markdown",
   "metadata": {},
   "source": [
    "- matriz de confusão"
   ]
  },
  {
   "cell_type": "code",
   "execution_count": 29,
   "metadata": {},
   "outputs": [
    {
     "data": {
      "text/html": [
       "<table>\n",
       "<thead><tr><th scope=col>previsto</th><th scope=col>0</th><th scope=col>1</th><th scope=col>2</th><th scope=col>3</th><th scope=col>4</th><th scope=col>5</th><th scope=col>6</th><th scope=col>7</th><th scope=col>8</th><th scope=col>9</th></tr></thead>\n",
       "<tbody>\n",
       "\t<tr><td>0   </td><td>972 </td><td>   0</td><td>   5</td><td>  0 </td><td>  1 </td><td>  2 </td><td>  2 </td><td>  2 </td><td>  2 </td><td>  3 </td></tr>\n",
       "\t<tr><td>1   </td><td>  0 </td><td>1126</td><td>   2</td><td>  0 </td><td>  0 </td><td>  0 </td><td>  3 </td><td>  4 </td><td>  0 </td><td>  2 </td></tr>\n",
       "\t<tr><td>2   </td><td>  1 </td><td>   4</td><td>1006</td><td>  2 </td><td>  0 </td><td>  0 </td><td>  2 </td><td> 10 </td><td>  4 </td><td>  0 </td></tr>\n",
       "\t<tr><td>3   </td><td>  0 </td><td>   0</td><td>   4</td><td>996 </td><td>  1 </td><td>  7 </td><td>  1 </td><td>  5 </td><td>  8 </td><td>  2 </td></tr>\n",
       "\t<tr><td>4   </td><td>  1 </td><td>   0</td><td>   2</td><td>  0 </td><td>953 </td><td>  2 </td><td>  1 </td><td>  1 </td><td>  1 </td><td>  2 </td></tr>\n",
       "\t<tr><td>5   </td><td>  1 </td><td>   1</td><td>   0</td><td>  0 </td><td>  0 </td><td>870 </td><td>  2 </td><td>  0 </td><td>  5 </td><td>  2 </td></tr>\n",
       "\t<tr><td>6   </td><td>  2 </td><td>   2</td><td>   2</td><td>  1 </td><td>  7 </td><td>  3 </td><td>945 </td><td>  0 </td><td>  1 </td><td>  0 </td></tr>\n",
       "\t<tr><td>7   </td><td>  1 </td><td>   0</td><td>   2</td><td>  3 </td><td>  1 </td><td>  0 </td><td>  0 </td><td>977 </td><td>  2 </td><td>  1 </td></tr>\n",
       "\t<tr><td>8   </td><td>  2 </td><td>   2</td><td>   9</td><td>  3 </td><td>  1 </td><td>  5 </td><td>  2 </td><td>  1 </td><td>942 </td><td>  0 </td></tr>\n",
       "\t<tr><td>9   </td><td>  0 </td><td>   0</td><td>   0</td><td>  5 </td><td> 18 </td><td>  3 </td><td>  0 </td><td> 28 </td><td>  9 </td><td>997 </td></tr>\n",
       "</tbody>\n",
       "</table>\n"
      ],
      "text/latex": [
       "\\begin{tabular}{r|lllllllllll}\n",
       " previsto & 0 & 1 & 2 & 3 & 4 & 5 & 6 & 7 & 8 & 9\\\\\n",
       "\\hline\n",
       "\t 0    & 972  &    0 &    5 &   0  &   1  &   2  &   2  &   2  &   2  &   3 \\\\\n",
       "\t 1    &   0  & 1126 &    2 &   0  &   0  &   0  &   3  &   4  &   0  &   2 \\\\\n",
       "\t 2    &   1  &    4 & 1006 &   2  &   0  &   0  &   2  &  10  &   4  &   0 \\\\\n",
       "\t 3    &   0  &    0 &    4 & 996  &   1  &   7  &   1  &   5  &   8  &   2 \\\\\n",
       "\t 4    &   1  &    0 &    2 &   0  & 953  &   2  &   1  &   1  &   1  &   2 \\\\\n",
       "\t 5    &   1  &    1 &    0 &   0  &   0  & 870  &   2  &   0  &   5  &   2 \\\\\n",
       "\t 6    &   2  &    2 &    2 &   1  &   7  &   3  & 945  &   0  &   1  &   0 \\\\\n",
       "\t 7    &   1  &    0 &    2 &   3  &   1  &   0  &   0  & 977  &   2  &   1 \\\\\n",
       "\t 8    &   2  &    2 &    9 &   3  &   1  &   5  &   2  &   1  & 942  &   0 \\\\\n",
       "\t 9    &   0  &    0 &    0 &   5  &  18  &   3  &   0  &  28  &   9  & 997 \\\\\n",
       "\\end{tabular}\n"
      ],
      "text/markdown": [
       "\n",
       "previsto | 0 | 1 | 2 | 3 | 4 | 5 | 6 | 7 | 8 | 9 | \n",
       "|---|---|---|---|---|---|---|---|---|---|\n",
       "| 0    | 972  |    0 |    5 |   0  |   1  |   2  |   2  |   2  |   2  |   3  | \n",
       "| 1    |   0  | 1126 |    2 |   0  |   0  |   0  |   3  |   4  |   0  |   2  | \n",
       "| 2    |   1  |    4 | 1006 |   2  |   0  |   0  |   2  |  10  |   4  |   0  | \n",
       "| 3    |   0  |    0 |    4 | 996  |   1  |   7  |   1  |   5  |   8  |   2  | \n",
       "| 4    |   1  |    0 |    2 |   0  | 953  |   2  |   1  |   1  |   1  |   2  | \n",
       "| 5    |   1  |    1 |    0 |   0  |   0  | 870  |   2  |   0  |   5  |   2  | \n",
       "| 6    |   2  |    2 |    2 |   1  |   7  |   3  | 945  |   0  |   1  |   0  | \n",
       "| 7    |   1  |    0 |    2 |   3  |   1  |   0  |   0  | 977  |   2  |   1  | \n",
       "| 8    |   2  |    2 |    9 |   3  |   1  |   5  |   2  |   1  | 942  |   0  | \n",
       "| 9    |   0  |    0 |    0 |   5  |  18  |   3  |   0  |  28  |   9  | 997  | \n",
       "\n",
       "\n"
      ],
      "text/plain": [
       "   previsto 0   1    2    3   4   5   6   7   8   9  \n",
       "1  0        972    0    5   0   1   2   2   2   2   3\n",
       "2  1          0 1126    2   0   0   0   3   4   0   2\n",
       "3  2          1    4 1006   2   0   0   2  10   4   0\n",
       "4  3          0    0    4 996   1   7   1   5   8   2\n",
       "5  4          1    0    2   0 953   2   1   1   1   2\n",
       "6  5          1    1    0   0   0 870   2   0   5   2\n",
       "7  6          2    2    2   1   7   3 945   0   1   0\n",
       "8  7          1    0    2   3   1   0   0 977   2   1\n",
       "9  8          2    2    9   3   1   5   2   1 942   0\n",
       "10 9          0    0    0   5  18   3   0  28   9 997"
      ]
     },
     "metadata": {},
     "output_type": "display_data"
    }
   ],
   "source": [
    "data_frame( real = mnist$test$y,\n",
    "            previsto = classes_pred ) %>% \n",
    "  count( real, previsto ) %>% \n",
    "  spread( key = real, value = n, fill = 0 )"
   ]
  },
  {
   "cell_type": "markdown",
   "metadata": {},
   "source": [
    "## Utilizando outras imagens"
   ]
  },
  {
   "cell_type": "code",
   "execution_count": 34,
   "metadata": {},
   "outputs": [
    {
     "data": {
      "image/png": "[encoded data removed]",
      "text/plain": [
       "plot without title"
      ]
     },
     "metadata": {},
     "output_type": "display_data"
    }
   ],
   "source": [
    "imagem <- image_load(path = \"/home/vm-data-science/dados/imagens_mnist/teste_6_2.png\",\n",
    "                     grayscale = FALSE,\n",
    "                     target_size = c(28, 28) )\n",
    "\n",
    "imagem <- image_to_array( imagem )\n",
    "\n",
    "imagem <- imagem[,,1]\n",
    "\n",
    "imagem %>% \n",
    "  as.raster( max = max(imagem) ) %>% \n",
    "  plot()"
   ]
  },
  {
   "cell_type": "code",
   "execution_count": 35,
   "metadata": {},
   "outputs": [
    {
     "data": {
      "text/html": [
       "6"
      ],
      "text/latex": [
       "6"
      ],
      "text/markdown": [
       "6"
      ],
      "text/plain": [
       "[1] 6"
      ]
     },
     "metadata": {},
     "output_type": "display_data"
    }
   ],
   "source": [
    "imagem_teste <- array_reshape(imagem, c(1, 28 * 28))\n",
    "\n",
    "imagem_teste <- imagem_teste / max(imagem_teste)\n",
    "\n",
    "network %>% \n",
    "  predict_classes(imagem_teste)"
   ]
  },
  {
   "cell_type": "code",
   "execution_count": null,
   "metadata": {},
   "outputs": [],
   "source": []
  }
 ],
 "metadata": {
  "kernelspec": {
   "display_name": "R",
   "language": "R",
   "name": "ir"
  },
  "language_info": {
   "codemirror_mode": "r",
   "file_extension": ".r",
   "mimetype": "text/x-r-source",
   "name": "R",
   "pygments_lexer": "r",
   "version": "3.4.4"
  }
 },
 "nbformat": 4,
 "nbformat_minor": 2
}
