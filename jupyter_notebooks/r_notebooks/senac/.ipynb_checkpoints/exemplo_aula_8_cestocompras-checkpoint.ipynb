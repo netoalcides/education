{
 "cells": [
  {
   "cell_type": "markdown",
   "metadata": {},
   "source": [
    "# Análise de Cesto de Compras\n",
    "\n",
    "Neste exemplo, iremos apresentar uma análise genérica sobre *Market Basket Analysis*."
   ]
  },
  {
   "cell_type": "markdown",
   "metadata": {},
   "source": [
    "## Carregar pacotes"
   ]
  },
  {
   "cell_type": "code",
   "execution_count": null,
   "metadata": {},
   "outputs": [],
   "source": [
    "library(tidyverse)\n",
    "library(magrittr)\n",
    "library(arules)\n",
    "library(visNetwork)"
   ]
  },
  {
   "cell_type": "markdown",
   "metadata": {},
   "source": [
    "## Carregar dados"
   ]
  },
  {
   "cell_type": "code",
   "execution_count": null,
   "metadata": {
    "scrolled": true
   },
   "outputs": [],
   "source": [
    "dados <- read_csv('/home/vm-data-science/dados/dados_mba_exemplo_1.csv')"
   ]
  },
  {
   "cell_type": "code",
   "execution_count": null,
   "metadata": {},
   "outputs": [],
   "source": [
    "dados %>% \n",
    "    head()"
   ]
  },
  {
   "cell_type": "markdown",
   "metadata": {},
   "source": [
    "## Análise exploratória"
   ]
  },
  {
   "cell_type": "code",
   "execution_count": null,
   "metadata": {},
   "outputs": [],
   "source": [
    "dados %>% \n",
    "  count(ID)"
   ]
  },
  {
   "cell_type": "code",
   "execution_count": null,
   "metadata": {},
   "outputs": [],
   "source": [
    "dados %>% \n",
    "  count(Products)"
   ]
  },
  {
   "cell_type": "markdown",
   "metadata": {},
   "source": [
    "Observamos as compras de 15 clientes, sendo 15 produtos distribuídos entre os clientes."
   ]
  },
  {
   "cell_type": "markdown",
   "metadata": {},
   "source": [
    "## Análise das cestas"
   ]
  },
  {
   "cell_type": "markdown",
   "metadata": {},
   "source": [
    "Primeiramente buscamos criar a lista de compras para cada cliente."
   ]
  },
  {
   "cell_type": "code",
   "execution_count": null,
   "metadata": {},
   "outputs": [],
   "source": [
    "lista_compras <- split( dados$Products, dados$ID)\n",
    "lista_compras"
   ]
  },
  {
   "cell_type": "markdown",
   "metadata": {},
   "source": [
    "Iremos utilizar o pacote arules. Desta forma, precisamos ajustar os dados para uso desta ferramenta."
   ]
  },
  {
   "cell_type": "code",
   "execution_count": null,
   "metadata": {},
   "outputs": [],
   "source": [
    "dados_arules <- as( lista_compras, 'transactions' )"
   ]
  },
  {
   "cell_type": "markdown",
   "metadata": {},
   "source": [
    "Um breve sumário nos mostra, por exemplo, os produtos mais frequentes."
   ]
  },
  {
   "cell_type": "code",
   "execution_count": null,
   "metadata": {},
   "outputs": [],
   "source": [
    "summary(dados_arules)"
   ]
  },
  {
   "cell_type": "markdown",
   "metadata": {},
   "source": [
    "Os dados ficam armazenados em formato de matriz, sendo as linhas os produtos e as colunas os clientes."
   ]
  },
  {
   "cell_type": "code",
   "execution_count": null,
   "metadata": {},
   "outputs": [],
   "source": [
    "as.matrix( dados_arules@data ) * 1"
   ]
  },
  {
   "cell_type": "code",
   "execution_count": null,
   "metadata": {},
   "outputs": [],
   "source": [
    "dados %>% \n",
    "    filter(ID == 1)"
   ]
  },
  {
   "cell_type": "markdown",
   "metadata": {},
   "source": [
    "Podemos obter algumas estatísticas básicas como:"
   ]
  },
  {
   "cell_type": "markdown",
   "metadata": {},
   "source": [
    "- Frequência relativa dos produtos"
   ]
  },
  {
   "cell_type": "code",
   "execution_count": null,
   "metadata": {},
   "outputs": [],
   "source": [
    "itemFrequency( dados_arules, type = 'relative' )"
   ]
  },
  {
   "cell_type": "markdown",
   "metadata": {},
   "source": [
    "- Frequência absoluta"
   ]
  },
  {
   "cell_type": "code",
   "execution_count": null,
   "metadata": {},
   "outputs": [],
   "source": [
    "itemFrequency( dados_arules, type = 'absolute' )"
   ]
  },
  {
   "cell_type": "markdown",
   "metadata": {},
   "source": [
    "- Gráfico dos primeiros produtos mais frequentes."
   ]
  },
  {
   "cell_type": "code",
   "execution_count": null,
   "metadata": {},
   "outputs": [],
   "source": [
    "itemFrequencyPlot( dados_arules, \n",
    "                  topN = 5, \n",
    "                  type = 'relative' )"
   ]
  },
  {
   "cell_type": "markdown",
   "metadata": {},
   "source": [
    "### Criação das regras LHS e RHS\n",
    "\n",
    "O modelo de análise de cesto de compras busca criar regras de associação entre os produtos.\n",
    "\n",
    "As regras LHS são do tipo: \"Se o cliente compra o produto A e B\".\n",
    "\n",
    "As regras RHS complementam as LHS e são do tipo: \"Então compra o produto W\"."
   ]
  },
  {
   "cell_type": "markdown",
   "metadata": {},
   "source": [
    "- Devemos controlar os parâmetros supp (*support*), conf (*confidence*), minlen (número mínimo de regras) e maxlen (número máximo de regras)"
   ]
  },
  {
   "cell_type": "code",
   "execution_count": null,
   "metadata": {},
   "outputs": [],
   "source": [
    "regras <- apriori( dados_arules,\n",
    "         parameter = list( supp = 0.2,\n",
    "                           conf = 0.8,\n",
    "                           minlen = 3,\n",
    "                           maxlen = 5,\n",
    "                           target = 'rules') )"
   ]
  },
  {
   "cell_type": "markdown",
   "metadata": {},
   "source": [
    "Por meio dos parâmetros usados foram obtidas 181 regras de associação."
   ]
  },
  {
   "cell_type": "code",
   "execution_count": null,
   "metadata": {},
   "outputs": [],
   "source": [
    "as( regras, 'data.frame' ) %>% \n",
    "    as_data_frame() %>% \n",
    "    head()"
   ]
  },
  {
   "cell_type": "markdown",
   "metadata": {},
   "source": [
    "Um passo importante também é ajustar as regras redundantes.\n",
    "\n",
    "Vejamos o exemplo a seguir:\n",
    "\n",
    "Existem 29 regras contendo os produtos E e F."
   ]
  },
  {
   "cell_type": "code",
   "execution_count": null,
   "metadata": {},
   "outputs": [],
   "source": [
    "as( regras, 'data.frame' ) %>% \n",
    "  dplyr::as_data_frame() %>% \n",
    "  mutate( rules = as.character(rules) ) %>% \n",
    "  filter( str_detect( rules, 'Product E,Product F' ) )"
   ]
  },
  {
   "cell_type": "markdown",
   "metadata": {},
   "source": [
    "Porém, 27 delas são redundantes, dado que podem ser estar sendo repetidas em outras regras."
   ]
  },
  {
   "cell_type": "code",
   "execution_count": null,
   "metadata": {},
   "outputs": [],
   "source": [
    "as( regras[is.redundant(regras)], 'data.frame' ) %>% \n",
    "  dplyr::as_data_frame() %>% \n",
    "  mutate( rules = as.character(rules) ) %>% \n",
    "  filter( str_detect( rules, 'Product E,Product F' ) )"
   ]
  },
  {
   "cell_type": "markdown",
   "metadata": {},
   "source": [
    "Deste modo, somente 2 regras podem ser vistas como regras únicas."
   ]
  },
  {
   "cell_type": "code",
   "execution_count": null,
   "metadata": {},
   "outputs": [],
   "source": [
    "as( regras[!is.redundant(regras)], 'data.frame' ) %>% \n",
    "  dplyr::as_data_frame() %>% \n",
    "  mutate( rules = as.character(rules) ) %>% \n",
    "  filter( str_detect( rules, 'Product E,Product F' ) )"
   ]
  },
  {
   "cell_type": "markdown",
   "metadata": {},
   "source": [
    "Ajustamos todas as regras:"
   ]
  },
  {
   "cell_type": "code",
   "execution_count": null,
   "metadata": {},
   "outputs": [],
   "source": [
    "regras_ajustadas <- regras[!is.redundant(regras)]"
   ]
  },
  {
   "cell_type": "markdown",
   "metadata": {},
   "source": [
    "Podemos fazer alguns ajustes para deixar as regras num formato melhor."
   ]
  },
  {
   "cell_type": "code",
   "execution_count": null,
   "metadata": {},
   "outputs": [],
   "source": [
    "regras_ajustadas <- as( regras_ajustadas, 'data.frame' ) %>% \n",
    "  dplyr::as_data_frame() %>% \n",
    "  mutate( rules = as.character(rules) ) %>% \n",
    "  separate( rules, c('regras_lhs', 'regras_rhs'), sep = '=>' ) %>% \n",
    "  mutate( regras_lhs = str_replace_all( string = regras_lhs,\n",
    "                                        pattern = '\\\\{',\n",
    "                                        replacement = ''),\n",
    "          regras_lhs = str_replace_all( string = regras_lhs,\n",
    "                                        pattern = '\\\\}',\n",
    "                                        replacement = ''),\n",
    "          regras_lhs = str_trim( regras_lhs ),\n",
    "          regras_rhs = str_replace_all( string = regras_rhs,\n",
    "                                        pattern = '\\\\{',\n",
    "                                        replacement = ''),\n",
    "          regras_rhs = str_replace_all( string = regras_rhs,\n",
    "                                        pattern = '\\\\}',\n",
    "                                        replacement = ''),\n",
    "          regras_rhs = str_trim( regras_rhs ) )"
   ]
  },
  {
   "cell_type": "code",
   "execution_count": null,
   "metadata": {},
   "outputs": [],
   "source": [
    "regras_ajustadas %>% \n",
    "    head()"
   ]
  },
  {
   "cell_type": "markdown",
   "metadata": {},
   "source": [
    "- Podemos ordenar pelo *lift*"
   ]
  },
  {
   "cell_type": "code",
   "execution_count": null,
   "metadata": {},
   "outputs": [],
   "source": [
    "regras_ajustadas %>% \n",
    "    arrange( desc(lift) ) %>% \n",
    "    head()"
   ]
  },
  {
   "cell_type": "markdown",
   "metadata": {},
   "source": [
    "- Podemos analisar as regras que levam a recomendação de algum produto, como, por exemplo, o produto K."
   ]
  },
  {
   "cell_type": "code",
   "execution_count": null,
   "metadata": {},
   "outputs": [],
   "source": [
    "regras_ajustadas %>% \n",
    "  filter( str_detect( regras_rhs, 'Product K') ) %>% \n",
    "  arrange( desc(lift) )"
   ]
  },
  {
   "cell_type": "markdown",
   "metadata": {},
   "source": [
    "## Gráfico de rede dos produtos\n",
    "\n",
    "Podemos gerar uma visualização das regras criadas."
   ]
  },
  {
   "cell_type": "markdown",
   "metadata": {},
   "source": [
    "- Criação dos nós"
   ]
  },
  {
   "cell_type": "code",
   "execution_count": null,
   "metadata": {},
   "outputs": [],
   "source": [
    "nodes <- regras_ajustadas %>% \n",
    "  distinct( regras_rhs ) %>%\n",
    "  rename( title = regras_rhs) %>% \n",
    "  mutate( id = title,\n",
    "          label = title,\n",
    "          group = 'A' ) %>%\n",
    "  bind_rows(., regras_ajustadas %>% \n",
    "               distinct( regras_lhs ) %>%\n",
    "               rename( title = regras_lhs) %>% \n",
    "              mutate( id = title,\n",
    "                      label = \"\",\n",
    "                      group = 'B' ) ) "
   ]
  },
  {
   "cell_type": "code",
   "execution_count": null,
   "metadata": {},
   "outputs": [],
   "source": [
    "nodes %>% \n",
    "    head()"
   ]
  },
  {
   "cell_type": "markdown",
   "metadata": {},
   "source": [
    "- Criação dos *edges*."
   ]
  },
  {
   "cell_type": "code",
   "execution_count": null,
   "metadata": {},
   "outputs": [],
   "source": [
    "edges <- regras_ajustadas %>% \n",
    "  rename( from = regras_lhs,\n",
    "          to = regras_rhs ) %>% \n",
    "  mutate( value = lift,\n",
    "          weight = lift)"
   ]
  },
  {
   "cell_type": "code",
   "execution_count": null,
   "metadata": {},
   "outputs": [],
   "source": [
    "edges %>% \n",
    "    head()"
   ]
  },
  {
   "cell_type": "markdown",
   "metadata": {},
   "source": [
    "- Criação da rede."
   ]
  },
  {
   "cell_type": "code",
   "execution_count": null,
   "metadata": {},
   "outputs": [],
   "source": [
    "visNetwork(nodes, \n",
    "           edges, \n",
    "           width = \"100%\", \n",
    "           height = \"850\",\n",
    "           main = \"Rede Produtos\" ) %>% \n",
    "  visEdges(arrows = 'to') %>% \n",
    "  visPhysics( solver = \"forceAtlas2Based\", \n",
    "              forceAtlas2Based = list(gravitationalConstant = -60) ) %>% \n",
    "  visInteraction( multiselect = TRUE) %>%\n",
    "  visOptions( highlightNearest = list(enabled =TRUE, degree = 1),\n",
    "              nodesIdSelection = TRUE ) %>% \n",
    "  visLayout(randomSeed = 123) %>% \n",
    "  visGroups( groupname = \"A\", color = list( background = '#FA8072',\n",
    "                                            border = '#B22222' ) )"
   ]
  }
 ],
 "metadata": {
  "kernelspec": {
   "display_name": "R",
   "language": "R",
   "name": "ir"
  },
  "language_info": {
   "codemirror_mode": "r",
   "file_extension": ".r",
   "mimetype": "text/x-r-source",
   "name": "R",
   "pygments_lexer": "r",
   "version": "3.4.4"
  }
 },
 "nbformat": 4,
 "nbformat_minor": 2
}
