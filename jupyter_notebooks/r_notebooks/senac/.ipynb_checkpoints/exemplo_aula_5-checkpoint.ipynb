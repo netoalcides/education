{
 "cells": [
  {
   "cell_type": "markdown",
   "metadata": {},
   "source": [
    "# Sistemas de recomendação"
   ]
  },
  {
   "cell_type": "markdown",
   "metadata": {},
   "source": [
    "Neste exemplo, iremos apresentar algumas formas de desenvolver um sistema de recomendação para filmes.\n",
    "\n",
    "Será apresentada a metodologia para Filtragem Colaborativa.\n",
    "\n",
    "Os dados e exemplos foram retirados de https://github.com/jeknov/movieRec.\n",
    "\n",
    "Ao todo são 668 usuários e 10325 filmes."
   ]
  },
  {
   "cell_type": "markdown",
   "metadata": {},
   "source": [
    "## Carregar pacotes"
   ]
  },
  {
   "cell_type": "code",
   "execution_count": 1,
   "metadata": {},
   "outputs": [
    {
     "name": "stderr",
     "output_type": "stream",
     "text": [
      "── Attaching packages ─────────────────────────────────────── tidyverse 1.2.1 ──\n",
      "✔ ggplot2 3.0.0     ✔ purrr   0.2.5\n",
      "✔ tibble  1.4.2     ✔ dplyr   0.7.6\n",
      "✔ tidyr   0.8.1     ✔ stringr 1.3.1\n",
      "✔ readr   1.1.1     ✔ forcats 0.3.0\n",
      "── Conflicts ────────────────────────────────────────── tidyverse_conflicts() ──\n",
      "✖ dplyr::filter() masks stats::filter()\n",
      "✖ dplyr::lag()    masks stats::lag()\n",
      "\n",
      "Attaching package: ‘magrittr’\n",
      "\n",
      "The following object is masked from ‘package:purrr’:\n",
      "\n",
      "    set_names\n",
      "\n",
      "The following object is masked from ‘package:tidyr’:\n",
      "\n",
      "    extract\n",
      "\n",
      "Loading required package: Matrix\n",
      "\n",
      "Attaching package: ‘Matrix’\n",
      "\n",
      "The following object is masked from ‘package:tidyr’:\n",
      "\n",
      "    expand\n",
      "\n",
      "Loading required package: arules\n",
      "\n",
      "Attaching package: ‘arules’\n",
      "\n",
      "The following object is masked from ‘package:dplyr’:\n",
      "\n",
      "    recode\n",
      "\n",
      "The following objects are masked from ‘package:base’:\n",
      "\n",
      "    abbreviate, write\n",
      "\n",
      "Loading required package: proxy\n",
      "\n",
      "Attaching package: ‘proxy’\n",
      "\n",
      "The following object is masked from ‘package:Matrix’:\n",
      "\n",
      "    as.matrix\n",
      "\n",
      "The following objects are masked from ‘package:stats’:\n",
      "\n",
      "    as.dist, dist\n",
      "\n",
      "The following object is masked from ‘package:base’:\n",
      "\n",
      "    as.matrix\n",
      "\n",
      "Loading required package: registry\n",
      "Loading required package: pkgmaker\n",
      "Loading required package: rngtools\n",
      "Loading required package: cluster\n",
      "NMF - BioConductor layer [NO: missing Biobase] | Shared memory capabilities [NO: bigmemory] | Cores 1/1\n",
      "  To enable the Bioconductor layer, try: install.extras('\n",
      "NMF\n",
      "') [with Bioconductor repository enabled]\n",
      "  To enable shared memory capabilities, try: install.extras('\n",
      "NMF\n",
      "')\n"
     ]
    }
   ],
   "source": [
    "library(tidyverse)\n",
    "library(magrittr)\n",
    "library(recommenderlab)\n",
    "library(Matrix)\n",
    "library(NMF)\n",
    "library(NNLM)"
   ]
  },
  {
   "cell_type": "markdown",
   "metadata": {},
   "source": [
    "## Carregar dados"
   ]
  },
  {
   "cell_type": "code",
   "execution_count": 29,
   "metadata": {
    "scrolled": true
   },
   "outputs": [
    {
     "name": "stderr",
     "output_type": "stream",
     "text": [
      "Parsed with column specification:\n",
      "cols(\n",
      "  userId = col_integer(),\n",
      "  movieId = col_integer(),\n",
      "  rating = col_double(),\n",
      "  timestamp = col_integer()\n",
      ")\n",
      "Parsed with column specification:\n",
      "cols(\n",
      "  movieId = col_integer(),\n",
      "  title = col_character(),\n",
      "  genres = col_character()\n",
      ")\n"
     ]
    }
   ],
   "source": [
    "dados_ratings <- read_csv(\"/home/vm-data-science/dados/movie_ratings.csv\")\n",
    "dados_movies <- read_csv(\"/home/vm-data-science/dados/movies.csv\")"
   ]
  },
  {
   "cell_type": "code",
   "execution_count": 31,
   "metadata": {},
   "outputs": [],
   "source": [
    "dados_ratings %<>% \n",
    "    sample_frac( 0.1 )"
   ]
  },
  {
   "cell_type": "code",
   "execution_count": 26,
   "metadata": {
    "scrolled": true
   },
   "outputs": [
    {
     "data": {
      "text/html": [
       "<table>\n",
       "<thead><tr><th scope=col>userId</th><th scope=col>movieId</th><th scope=col>rating</th><th scope=col>timestamp</th></tr></thead>\n",
       "<tbody>\n",
       "\t<tr><td>668       </td><td>4018      </td><td>2.0       </td><td>1025855513</td></tr>\n",
       "\t<tr><td>461       </td><td> 832      </td><td>3.5       </td><td>1193067126</td></tr>\n",
       "\t<tr><td>283       </td><td> 474      </td><td>3.0       </td><td> 868263866</td></tr>\n",
       "\t<tr><td>603       </td><td>1090      </td><td>3.0       </td><td> 860499306</td></tr>\n",
       "\t<tr><td>336       </td><td>2918      </td><td>4.5       </td><td>1248029739</td></tr>\n",
       "\t<tr><td> 66       </td><td>1625      </td><td>4.0       </td><td> 961686150</td></tr>\n",
       "</tbody>\n",
       "</table>\n"
      ],
      "text/latex": [
       "\\begin{tabular}{r|llll}\n",
       " userId & movieId & rating & timestamp\\\\\n",
       "\\hline\n",
       "\t 668        & 4018       & 2.0        & 1025855513\\\\\n",
       "\t 461        &  832       & 3.5        & 1193067126\\\\\n",
       "\t 283        &  474       & 3.0        &  868263866\\\\\n",
       "\t 603        & 1090       & 3.0        &  860499306\\\\\n",
       "\t 336        & 2918       & 4.5        & 1248029739\\\\\n",
       "\t  66        & 1625       & 4.0        &  961686150\\\\\n",
       "\\end{tabular}\n"
      ],
      "text/markdown": [
       "\n",
       "userId | movieId | rating | timestamp | \n",
       "|---|---|---|---|---|---|\n",
       "| 668        | 4018       | 2.0        | 1025855513 | \n",
       "| 461        |  832       | 3.5        | 1193067126 | \n",
       "| 283        |  474       | 3.0        |  868263866 | \n",
       "| 603        | 1090       | 3.0        |  860499306 | \n",
       "| 336        | 2918       | 4.5        | 1248029739 | \n",
       "|  66        | 1625       | 4.0        |  961686150 | \n",
       "\n",
       "\n"
      ],
      "text/plain": [
       "  userId movieId rating timestamp \n",
       "1 668    4018    2.0    1025855513\n",
       "2 461     832    3.5    1193067126\n",
       "3 283     474    3.0     868263866\n",
       "4 603    1090    3.0     860499306\n",
       "5 336    2918    4.5    1248029739\n",
       "6  66    1625    4.0     961686150"
      ]
     },
     "metadata": {},
     "output_type": "display_data"
    }
   ],
   "source": [
    "dados_ratings %>% head"
   ]
  },
  {
   "cell_type": "code",
   "execution_count": 32,
   "metadata": {},
   "outputs": [
    {
     "data": {
      "text/html": [
       "<ol class=list-inline>\n",
       "\t<li>654</li>\n",
       "\t<li>1</li>\n",
       "</ol>\n"
      ],
      "text/latex": [
       "\\begin{enumerate*}\n",
       "\\item 654\n",
       "\\item 1\n",
       "\\end{enumerate*}\n"
      ],
      "text/markdown": [
       "1. 654\n",
       "2. 1\n",
       "\n",
       "\n"
      ],
      "text/plain": [
       "[1] 654   1"
      ]
     },
     "metadata": {},
     "output_type": "display_data"
    }
   ],
   "source": [
    "dados_ratings %>% \n",
    "    distinct(userId) %>% dim"
   ]
  },
  {
   "cell_type": "code",
   "execution_count": 33,
   "metadata": {},
   "outputs": [
    {
     "data": {
      "text/html": [
       "<ol class=list-inline>\n",
       "\t<li>10534</li>\n",
       "\t<li>4</li>\n",
       "</ol>\n"
      ],
      "text/latex": [
       "\\begin{enumerate*}\n",
       "\\item 10534\n",
       "\\item 4\n",
       "\\end{enumerate*}\n"
      ],
      "text/markdown": [
       "1. 10534\n",
       "2. 4\n",
       "\n",
       "\n"
      ],
      "text/plain": [
       "[1] 10534     4"
      ]
     },
     "metadata": {},
     "output_type": "display_data"
    }
   ],
   "source": [
    "dados_ratings %>% dim"
   ]
  },
  {
   "cell_type": "code",
   "execution_count": 11,
   "metadata": {
    "scrolled": true
   },
   "outputs": [
    {
     "data": {
      "text/html": [
       "<table>\n",
       "<thead><tr><th scope=col>movieId</th><th scope=col>title</th><th scope=col>genres</th></tr></thead>\n",
       "<tbody>\n",
       "\t<tr><td>1                                          </td><td>Toy Story (1995)                           </td><td>Adventure|Animation|Children|Comedy|Fantasy</td></tr>\n",
       "\t<tr><td>2                                          </td><td>Jumanji (1995)                             </td><td>Adventure|Children|Fantasy                 </td></tr>\n",
       "\t<tr><td>3                                          </td><td>Grumpier Old Men (1995)                    </td><td>Comedy|Romance                             </td></tr>\n",
       "\t<tr><td>4                                          </td><td>Waiting to Exhale (1995)                   </td><td>Comedy|Drama|Romance                       </td></tr>\n",
       "\t<tr><td>5                                          </td><td>Father of the Bride Part II (1995)         </td><td>Comedy                                     </td></tr>\n",
       "\t<tr><td>6                                          </td><td>Heat (1995)                                </td><td>Action|Crime|Thriller                      </td></tr>\n",
       "</tbody>\n",
       "</table>\n"
      ],
      "text/latex": [
       "\\begin{tabular}{r|lll}\n",
       " movieId & title & genres\\\\\n",
       "\\hline\n",
       "\t 1                                                                                   & Toy Story (1995)                                                                    & Adventure\\textbar{}Animation\\textbar{}Children\\textbar{}Comedy\\textbar{}Fantasy\\\\\n",
       "\t 2                                                               & Jumanji (1995)                                                  & Adventure\\textbar{}Children\\textbar{}Fantasy                 \\\\\n",
       "\t 3                                                     & Grumpier Old Men (1995)                               & Comedy\\textbar{}Romance                             \\\\\n",
       "\t 4                                                               & Waiting to Exhale (1995)                                        & Comedy\\textbar{}Drama\\textbar{}Romance                       \\\\\n",
       "\t 5                                           & Father of the Bride Part II (1995)          & Comedy                                     \\\\\n",
       "\t 6                                                               & Heat (1995)                                                     & Action\\textbar{}Crime\\textbar{}Thriller                      \\\\\n",
       "\\end{tabular}\n"
      ],
      "text/markdown": [
       "\n",
       "movieId | title | genres | \n",
       "|---|---|---|---|---|---|\n",
       "| 1                                           | Toy Story (1995)                            | Adventure|Animation|Children|Comedy|Fantasy | \n",
       "| 2                                           | Jumanji (1995)                              | Adventure|Children|Fantasy                  | \n",
       "| 3                                           | Grumpier Old Men (1995)                     | Comedy|Romance                              | \n",
       "| 4                                           | Waiting to Exhale (1995)                    | Comedy|Drama|Romance                        | \n",
       "| 5                                           | Father of the Bride Part II (1995)          | Comedy                                      | \n",
       "| 6                                           | Heat (1995)                                 | Action|Crime|Thriller                       | \n",
       "\n",
       "\n"
      ],
      "text/plain": [
       "  movieId title                             \n",
       "1 1       Toy Story (1995)                  \n",
       "2 2       Jumanji (1995)                    \n",
       "3 3       Grumpier Old Men (1995)           \n",
       "4 4       Waiting to Exhale (1995)          \n",
       "5 5       Father of the Bride Part II (1995)\n",
       "6 6       Heat (1995)                       \n",
       "  genres                                     \n",
       "1 Adventure|Animation|Children|Comedy|Fantasy\n",
       "2 Adventure|Children|Fantasy                 \n",
       "3 Comedy|Romance                             \n",
       "4 Comedy|Drama|Romance                       \n",
       "5 Comedy                                     \n",
       "6 Action|Crime|Thriller                      "
      ]
     },
     "metadata": {},
     "output_type": "display_data"
    }
   ],
   "source": [
    "dados_movies %>% head"
   ]
  },
  {
   "cell_type": "code",
   "execution_count": 17,
   "metadata": {},
   "outputs": [
    {
     "data": {
      "text/html": [
       "<ol class=list-inline>\n",
       "\t<li>10329</li>\n",
       "\t<li>3</li>\n",
       "</ol>\n"
      ],
      "text/latex": [
       "\\begin{enumerate*}\n",
       "\\item 10329\n",
       "\\item 3\n",
       "\\end{enumerate*}\n"
      ],
      "text/markdown": [
       "1. 10329\n",
       "2. 3\n",
       "\n",
       "\n"
      ],
      "text/plain": [
       "[1] 10329     3"
      ]
     },
     "metadata": {},
     "output_type": "display_data"
    }
   ],
   "source": [
    "dados_movies %>% dim"
   ]
  },
  {
   "cell_type": "markdown",
   "metadata": {},
   "source": [
    "## Análises"
   ]
  },
  {
   "cell_type": "markdown",
   "metadata": {},
   "source": [
    "### Transformar em matriz de usuário/item\n",
    "\n",
    "Os valores \"NA\" são os filmes que os usuários ainda não deram nota.\n",
    "\n",
    "O objetivo é estimar estes valores pelos métodos que serão apresentados para sabermos se devemos recomendar ou não estes filmes."
   ]
  },
  {
   "cell_type": "code",
   "execution_count": 34,
   "metadata": {},
   "outputs": [],
   "source": [
    "user_item_matrix <- dados_ratings %>% \n",
    "    select( -timestamp ) %>% \n",
    "    spread( key = movieId, value = rating )"
   ]
  },
  {
   "cell_type": "code",
   "execution_count": 35,
   "metadata": {},
   "outputs": [
    {
     "data": {
      "text/html": [
       "<table>\n",
       "<thead><tr><th scope=col>userId</th><th scope=col>1</th><th scope=col>2</th><th scope=col>3</th><th scope=col>4</th></tr></thead>\n",
       "<tbody>\n",
       "\t<tr><td>1 </td><td>NA</td><td>NA</td><td>NA</td><td>NA</td></tr>\n",
       "\t<tr><td>2 </td><td>NA</td><td>NA</td><td>NA</td><td>NA</td></tr>\n",
       "\t<tr><td>3 </td><td>NA</td><td>NA</td><td>NA</td><td>NA</td></tr>\n",
       "\t<tr><td>4 </td><td>NA</td><td>NA</td><td>NA</td><td>NA</td></tr>\n",
       "\t<tr><td>5 </td><td>NA</td><td>NA</td><td>NA</td><td>NA</td></tr>\n",
       "</tbody>\n",
       "</table>\n"
      ],
      "text/latex": [
       "\\begin{tabular}{r|lllll}\n",
       " userId & 1 & 2 & 3 & 4\\\\\n",
       "\\hline\n",
       "\t 1  & NA & NA & NA & NA\\\\\n",
       "\t 2  & NA & NA & NA & NA\\\\\n",
       "\t 3  & NA & NA & NA & NA\\\\\n",
       "\t 4  & NA & NA & NA & NA\\\\\n",
       "\t 5  & NA & NA & NA & NA\\\\\n",
       "\\end{tabular}\n"
      ],
      "text/markdown": [
       "\n",
       "userId | 1 | 2 | 3 | 4 | \n",
       "|---|---|---|---|---|\n",
       "| 1  | NA | NA | NA | NA | \n",
       "| 2  | NA | NA | NA | NA | \n",
       "| 3  | NA | NA | NA | NA | \n",
       "| 4  | NA | NA | NA | NA | \n",
       "| 5  | NA | NA | NA | NA | \n",
       "\n",
       "\n"
      ],
      "text/plain": [
       "  userId 1  2  3  4 \n",
       "1 1      NA NA NA NA\n",
       "2 2      NA NA NA NA\n",
       "3 3      NA NA NA NA\n",
       "4 4      NA NA NA NA\n",
       "5 5      NA NA NA NA"
      ]
     },
     "metadata": {},
     "output_type": "display_data"
    }
   ],
   "source": [
    "user_item_matrix[1:5, 1:5]"
   ]
  },
  {
   "cell_type": "markdown",
   "metadata": {},
   "source": [
    "## Algoritmos baseados em memória (*Memory Based Reasoning*)\n",
    "\n",
    "Estes algoritmos, primeiramente, calculam a similaridade entre os usuários (*User based filtering*) ou itens (*Item based filtering*). Iremos apresentar ambos métodos.\n",
    "\n",
    "Para realizar os cálculos, iremos utilizar as funções do pacote recommenderlab.\n",
    "\n",
    "Neste pacote, primeiramente devemos transformar a matriz para o formato \"realRatingMatrix\"."
   ]
  },
  {
   "cell_type": "code",
   "execution_count": 36,
   "metadata": {},
   "outputs": [],
   "source": [
    "user_item_matrix_reclab <- as.matrix(user_item_matrix)[,-1] %>% \n",
    "                                as(., \"realRatingMatrix\")"
   ]
  },
  {
   "cell_type": "code",
   "execution_count": 37,
   "metadata": {},
   "outputs": [
    {
     "data": {
      "text/plain": [
       "654 x 3830 rating matrix of class ‘realRatingMatrix’ with 10534 ratings."
      ]
     },
     "metadata": {},
     "output_type": "display_data"
    }
   ],
   "source": [
    "user_item_matrix_reclab"
   ]
  },
  {
   "cell_type": "markdown",
   "metadata": {},
   "source": [
    "### ***Item Based filtering***\n",
    "\n",
    "Este método segue as etapas:\n",
    "\n",
    "1 - Para cada 2 itens, calcule a similaridade entre eles.\n",
    "\n",
    "2 - Para cada item, identifique os *k* itens mais similares. \n",
    "\n",
    "3 - Identifique os grupos de itens mais associados para cada usuário.\n",
    "\n",
    "4 - Recomende o grupo de itens que estão mais associados ao usuário."
   ]
  },
  {
   "cell_type": "markdown",
   "metadata": {},
   "source": [
    "- **Matriz de distâncias**\n",
    "\n",
    "A matriz de distância será calculada em relação aos filmes (3830 x 3830), iremos apresentar uma amostra.\n",
    "\n",
    "A diagonal é zero porque a distância entre o item e ele mesmo é igual. O método de cálculo da distância foi o coseno."
   ]
  },
  {
   "cell_type": "code",
   "execution_count": 38,
   "metadata": {},
   "outputs": [
    {
     "data": {
      "text/html": [
       "<table>\n",
       "<thead><tr><th></th><th scope=col>1</th><th scope=col>2</th><th scope=col>3</th><th scope=col>4</th></tr></thead>\n",
       "<tbody>\n",
       "\t<tr><th scope=row>1</th><td>0 </td><td> 1</td><td> 1</td><td> 1</td></tr>\n",
       "\t<tr><th scope=row>2</th><td>1 </td><td> 0</td><td>NA</td><td>NA</td></tr>\n",
       "\t<tr><th scope=row>3</th><td>1 </td><td>NA</td><td> 0</td><td>NA</td></tr>\n",
       "\t<tr><th scope=row>4</th><td>1 </td><td>NA</td><td>NA</td><td> 0</td></tr>\n",
       "</tbody>\n",
       "</table>\n"
      ],
      "text/latex": [
       "\\begin{tabular}{r|llll}\n",
       "  & 1 & 2 & 3 & 4\\\\\n",
       "\\hline\n",
       "\t1 & 0  &  1 &  1 &  1\\\\\n",
       "\t2 & 1  &  0 & NA & NA\\\\\n",
       "\t3 & 1  & NA &  0 & NA\\\\\n",
       "\t4 & 1  & NA & NA &  0\\\\\n",
       "\\end{tabular}\n"
      ],
      "text/markdown": [
       "\n",
       "| <!--/--> | 1 | 2 | 3 | 4 | \n",
       "|---|---|---|---|\n",
       "| 1 | 0  |  1 |  1 |  1 | \n",
       "| 2 | 1  |  0 | NA | NA | \n",
       "| 3 | 1  | NA |  0 | NA | \n",
       "| 4 | 1  | NA | NA |  0 | \n",
       "\n",
       "\n"
      ],
      "text/plain": [
       "  1 2  3  4 \n",
       "1 0  1  1  1\n",
       "2 1  0 NA NA\n",
       "3 1 NA  0 NA\n",
       "4 1 NA NA  0"
      ]
     },
     "metadata": {},
     "output_type": "display_data"
    }
   ],
   "source": [
    "similarity_items <- similarity(user_item_matrix_reclab[, 1:4], \n",
    "                               method = \"cosine\", \n",
    "                               which = \"items\")\n",
    "as.matrix(similarity_items)"
   ]
  },
  {
   "cell_type": "markdown",
   "metadata": {},
   "source": [
    "- **Construção do modelo**\n",
    "\n",
    "A matriz de similaridades é construída internamente no modelo.\n",
    "\n",
    "Usamos k = 30, para buscar os 30 vizinhos mais próximos."
   ]
  },
  {
   "cell_type": "code",
   "execution_count": 39,
   "metadata": {},
   "outputs": [],
   "source": [
    "# cuidado - demora bastante\n",
    "#item_based_rec_model <- Recommender( data = user_item_matrix_reclab, \n",
    " #                                    method = \"IBCF\", # Item based\n",
    "  #                                   parameter = list(k = 30))"
   ]
  },
  {
   "cell_type": "code",
   "execution_count": 40,
   "metadata": {},
   "outputs": [],
   "source": [
    "#save( item_based_rec_model, file = \"item_based_rec_model.RData\")"
   ]
  },
  {
   "cell_type": "code",
   "execution_count": 41,
   "metadata": {},
   "outputs": [],
   "source": [
    "# carregar o modelo salvo\n",
    "load( \"item_based_rec_model.RData\" )"
   ]
  },
  {
   "cell_type": "markdown",
   "metadata": {},
   "source": [
    "- **Uso do modelo**"
   ]
  },
  {
   "cell_type": "code",
   "execution_count": 42,
   "metadata": {},
   "outputs": [],
   "source": [
    "numero_recomendações <- 5"
   ]
  },
  {
   "cell_type": "code",
   "execution_count": 43,
   "metadata": {},
   "outputs": [],
   "source": [
    "item_based_recomendacoes <- predict( item_based_rec_model,\n",
    "                                     user_item_matrix_reclab,\n",
    "                                     n = numero_recomendações )"
   ]
  },
  {
   "cell_type": "markdown",
   "metadata": {},
   "source": [
    "- **Recomendações de usuários para o filme**"
   ]
  },
  {
   "cell_type": "code",
   "execution_count": 82,
   "metadata": {},
   "outputs": [
    {
     "data": {
      "text/html": [
       "<table>\n",
       "<thead><tr><th scope=col>movieId</th><th scope=col>title</th><th scope=col>genres</th><th scope=col>usersId</th></tr></thead>\n",
       "<tbody>\n",
       "\t<tr><td>3                      </td><td>Grumpier Old Men (1995)</td><td>Comedy|Romance         </td><td>114, 191, 206, 484, 494</td></tr>\n",
       "</tbody>\n",
       "</table>\n"
      ],
      "text/latex": [
       "\\begin{tabular}{r|llll}\n",
       " movieId & title & genres & usersId\\\\\n",
       "\\hline\n",
       "\t 3                        & Grumpier Old Men (1995)  & Comedy\\textbar{}Romance & 114, 191, 206, 484, 494 \\\\\n",
       "\\end{tabular}\n"
      ],
      "text/markdown": [
       "\n",
       "movieId | title | genres | usersId | \n",
       "|---|\n",
       "| 3                       | Grumpier Old Men (1995) | Comedy|Romance          | 114, 191, 206, 484, 494 | \n",
       "\n",
       "\n"
      ],
      "text/plain": [
       "  movieId title                   genres         usersId                \n",
       "1 3       Grumpier Old Men (1995) Comedy|Romance 114, 191, 206, 484, 494"
      ]
     },
     "metadata": {},
     "output_type": "display_data"
    }
   ],
   "source": [
    "dados_movies %>% \n",
    "    filter( movieId == 3 ) %>% \n",
    "    mutate( usersId = list(item_based_recomendacoes@items[[8]]) )"
   ]
  },
  {
   "cell_type": "markdown",
   "metadata": {},
   "source": [
    "### ***User based filtering***"
   ]
  },
  {
   "cell_type": "markdown",
   "metadata": {},
   "source": [
    "- **Matriz de distâncias**\n",
    "\n",
    "Como a matriz de distância entre os usuários será muito grande (654 x 654), iremos apresentar uma amostra.\n",
    "\n",
    "A diagonal é zero porque a distância entre o usuário e ele mesmo é igual. O método de cálculo da distância foi o coseno."
   ]
  },
  {
   "cell_type": "code",
   "execution_count": 56,
   "metadata": {},
   "outputs": [
    {
     "data": {
      "text/html": [
       "<table>\n",
       "<thead><tr><th></th><th scope=col>1</th><th scope=col>2</th><th scope=col>3</th><th scope=col>4</th></tr></thead>\n",
       "<tbody>\n",
       "\t<tr><th scope=row>1</th><td> 0</td><td>NA</td><td>NA</td><td>NA</td></tr>\n",
       "\t<tr><th scope=row>2</th><td>NA</td><td> 0</td><td>NA</td><td>NA</td></tr>\n",
       "\t<tr><th scope=row>3</th><td>NA</td><td>NA</td><td> 0</td><td>NA</td></tr>\n",
       "\t<tr><th scope=row>4</th><td>NA</td><td>NA</td><td>NA</td><td> 0</td></tr>\n",
       "</tbody>\n",
       "</table>\n"
      ],
      "text/latex": [
       "\\begin{tabular}{r|llll}\n",
       "  & 1 & 2 & 3 & 4\\\\\n",
       "\\hline\n",
       "\t1 &  0 & NA & NA & NA\\\\\n",
       "\t2 & NA &  0 & NA & NA\\\\\n",
       "\t3 & NA & NA &  0 & NA\\\\\n",
       "\t4 & NA & NA & NA &  0\\\\\n",
       "\\end{tabular}\n"
      ],
      "text/markdown": [
       "\n",
       "| <!--/--> | 1 | 2 | 3 | 4 | \n",
       "|---|---|---|---|\n",
       "| 1 |  0 | NA | NA | NA | \n",
       "| 2 | NA |  0 | NA | NA | \n",
       "| 3 | NA | NA |  0 | NA | \n",
       "| 4 | NA | NA | NA |  0 | \n",
       "\n",
       "\n"
      ],
      "text/plain": [
       "  1  2  3  4 \n",
       "1  0 NA NA NA\n",
       "2 NA  0 NA NA\n",
       "3 NA NA  0 NA\n",
       "4 NA NA NA  0"
      ]
     },
     "metadata": {},
     "output_type": "display_data"
    }
   ],
   "source": [
    "similarity_users <- similarity(user_item_matrix_reclab[1:4, ], \n",
    "                               method = \"cosine\", \n",
    "                               which = \"users\")\n",
    "as.matrix(similarity_users)"
   ]
  },
  {
   "cell_type": "markdown",
   "metadata": {},
   "source": [
    "- **Construção do modelo**"
   ]
  },
  {
   "cell_type": "code",
   "execution_count": 57,
   "metadata": {},
   "outputs": [],
   "source": [
    "user_based_rec_model <- Recommender( data = user_item_matrix_reclab, \n",
    "                                     method = \"UBCF\" # User based \n",
    "                                   )"
   ]
  },
  {
   "cell_type": "markdown",
   "metadata": {},
   "source": [
    "- **Uso do modelo**"
   ]
  },
  {
   "cell_type": "code",
   "execution_count": 58,
   "metadata": {},
   "outputs": [],
   "source": [
    "numero_recomendacoes <- 10"
   ]
  },
  {
   "cell_type": "code",
   "execution_count": 59,
   "metadata": {},
   "outputs": [],
   "source": [
    "user_based_recomendacoes <- predict( user_based_rec_model,\n",
    "                                     user_item_matrix_reclab,\n",
    "                                     n = numero_recomendações )"
   ]
  },
  {
   "cell_type": "markdown",
   "metadata": {},
   "source": [
    "- **Recomendação de filmes para o usuário**"
   ]
  },
  {
   "cell_type": "code",
   "execution_count": 80,
   "metadata": {
    "scrolled": true
   },
   "outputs": [
    {
     "data": {
      "text/html": [
       "<table>\n",
       "<thead><tr><th scope=col>movieId</th><th scope=col>title</th><th scope=col>genres</th></tr></thead>\n",
       "<tbody>\n",
       "\t<tr><td>  40                           </td><td>Cry, the Beloved Country (1995)</td><td>Drama                          </td></tr>\n",
       "\t<tr><td> 177                           </td><td>Lord of Illusions (1995)       </td><td>Horror                         </td></tr>\n",
       "\t<tr><td> 583                           </td><td>Dear Diary (Caro Diario) (1994)</td><td>Comedy|Drama                   </td></tr>\n",
       "\t<tr><td>2792                           </td><td>Airplane II: The Sequel (1982) </td><td>Comedy                         </td></tr>\n",
       "</tbody>\n",
       "</table>\n"
      ],
      "text/latex": [
       "\\begin{tabular}{r|lll}\n",
       " movieId & title & genres\\\\\n",
       "\\hline\n",
       "\t   40                            & Cry, the Beloved Country (1995) & Drama                          \\\\\n",
       "\t  177                            & Lord of Illusions (1995)        & Horror                         \\\\\n",
       "\t  583                            & Dear Diary (Caro Diario) (1994) & Comedy\\textbar{}Drama         \\\\\n",
       "\t 2792                            & Airplane II: The Sequel (1982)  & Comedy                         \\\\\n",
       "\\end{tabular}\n"
      ],
      "text/markdown": [
       "\n",
       "movieId | title | genres | \n",
       "|---|---|---|---|\n",
       "|   40                            | Cry, the Beloved Country (1995) | Drama                           | \n",
       "|  177                            | Lord of Illusions (1995)        | Horror                          | \n",
       "|  583                            | Dear Diary (Caro Diario) (1994) | Comedy|Drama                    | \n",
       "| 2792                            | Airplane II: The Sequel (1982)  | Comedy                          | \n",
       "\n",
       "\n"
      ],
      "text/plain": [
       "  movieId title                           genres      \n",
       "1   40    Cry, the Beloved Country (1995) Drama       \n",
       "2  177    Lord of Illusions (1995)        Horror      \n",
       "3  583    Dear Diary (Caro Diario) (1994) Comedy|Drama\n",
       "4 2792    Airplane II: The Sequel (1982)  Comedy      "
      ]
     },
     "metadata": {},
     "output_type": "display_data"
    }
   ],
   "source": [
    "# filmes recomendados para o usuário 8\n",
    "dados_movies %>% \n",
    "    filter( movieId %in% c(user_based_recomendacoes@items[[8]]) )"
   ]
  },
  {
   "cell_type": "markdown",
   "metadata": {},
   "source": [
    "## Algoritmos baseados em modelos\n",
    "\n",
    "Por meio da técnica de fatoração de matrizes, esses algoritmos preenchem os valores \"NA\" diretamente na matriz de usuários e itens.\n",
    "\n",
    "Será utilizado o pacote NNLM combinado com o pacote NMF. Este pacote permite o uso de modelos baseados em *Alternating Least Squares*, estes proporcionam ganho de tempo e memória para estimar os *ratings*."
   ]
  },
  {
   "cell_type": "code",
   "execution_count": 83,
   "metadata": {},
   "outputs": [],
   "source": [
    "user_item_matrix_nnlm <- as.matrix(user_item_matrix)[,-1]"
   ]
  },
  {
   "cell_type": "code",
   "execution_count": 84,
   "metadata": {},
   "outputs": [
    {
     "data": {
      "text/html": [
       "<table>\n",
       "<thead><tr><th scope=col>1</th><th scope=col>2</th><th scope=col>3</th><th scope=col>4</th><th scope=col>5</th><th scope=col>6</th><th scope=col>7</th><th scope=col>9</th><th scope=col>10</th><th scope=col>11</th><th scope=col>⋯</th><th scope=col>136020</th><th scope=col>138702</th><th scope=col>138863</th><th scope=col>139644</th><th scope=col>140247</th><th scope=col>140820</th><th scope=col>141305</th><th scope=col>144656</th><th scope=col>144976</th><th scope=col>146656</th></tr></thead>\n",
       "<tbody>\n",
       "\t<tr><td>NA</td><td>NA</td><td>NA</td><td>NA</td><td>NA</td><td>NA</td><td>NA</td><td>NA</td><td>NA</td><td>NA</td><td>⋯ </td><td>NA</td><td>NA</td><td>NA</td><td>NA</td><td>NA</td><td>NA</td><td>NA</td><td>NA</td><td>NA</td><td>NA</td></tr>\n",
       "\t<tr><td>NA</td><td>NA</td><td>NA</td><td>NA</td><td>NA</td><td>NA</td><td>NA</td><td>NA</td><td>NA</td><td>NA</td><td>⋯ </td><td>NA</td><td>NA</td><td>NA</td><td>NA</td><td>NA</td><td>NA</td><td>NA</td><td>NA</td><td>NA</td><td>NA</td></tr>\n",
       "\t<tr><td>NA</td><td>NA</td><td>NA</td><td>NA</td><td>NA</td><td>NA</td><td>NA</td><td>NA</td><td>NA</td><td>NA</td><td>⋯ </td><td>NA</td><td>NA</td><td>NA</td><td>NA</td><td>NA</td><td>NA</td><td>NA</td><td>NA</td><td>NA</td><td>NA</td></tr>\n",
       "\t<tr><td>NA</td><td>NA</td><td>NA</td><td>NA</td><td>NA</td><td>NA</td><td>NA</td><td>NA</td><td>NA</td><td>NA</td><td>⋯ </td><td>NA</td><td>NA</td><td>NA</td><td>NA</td><td>NA</td><td>NA</td><td>NA</td><td>NA</td><td>NA</td><td>NA</td></tr>\n",
       "\t<tr><td>NA</td><td>NA</td><td>NA</td><td>NA</td><td>NA</td><td>NA</td><td>NA</td><td>NA</td><td>NA</td><td>NA</td><td>⋯ </td><td>NA</td><td>NA</td><td>NA</td><td>NA</td><td>NA</td><td>NA</td><td>NA</td><td>NA</td><td>NA</td><td>NA</td></tr>\n",
       "\t<tr><td>NA</td><td>NA</td><td>NA</td><td>NA</td><td>NA</td><td>NA</td><td>NA</td><td>NA</td><td>NA</td><td>NA</td><td>⋯ </td><td>NA</td><td>NA</td><td>NA</td><td>NA</td><td>NA</td><td>NA</td><td>NA</td><td>NA</td><td>NA</td><td>NA</td></tr>\n",
       "</tbody>\n",
       "</table>\n"
      ],
      "text/latex": [
       "\\begin{tabular}{llllllllllllllllllllllllllllllllllllllllllllllllllllllllllllllllllllllllllllllllllllllllllllllllllllllllllllllllllllllllllllllllllllllllllllllllllllllllllllllllllllllllllllllllllllllllllllllllllllllllllllllllllllllllllllllllllllllllllllllllllllllllllllllllllllllllllllllllllllllllllllllllllllllllllllllllllllllllllllllllllllllllllllllllllllllllllllllllllllllllllllllllllllllllllllllllllllllllllllllllllllllllllllllllllllllllllllllllllllllllllllllllllllllllllllllllllllllllllllllllllllllllllllllllllllllllllllllllllllllllllllllllllllllllllllllllllllllllllllllllllllllllllllllllllllllllllllllllllllllllllllllllllllllllllllllllllllllllllllllllllllllllllllllllllllllllllllllllllllllllllllllllllllllllllllllllllllllllllllllllllllllllllllllllllllllllllllllllllllllllllllllllllllllllllllllllllllllllllllllllllllllllllllllllllllllllllllllllllllllllllllllllllllllllllllllllllllllllllllllllllllllllllllllllllllllllllllllllllllllllllllllllllllllllllllllllllllllllllllllllllllllllllllllllllllllllllllllllllllllllllllllllllllllllllllllllllllllllllllllllllllllllllllllllllllllllllllllllllllllllllllllllllllllllllllllllllllllllllllllllllllllllllllllllllllllllllllllllllllllllllllllllllllllllllllllllllllllllllllllllllllllllllllllllllllllllllllllllllllllllllllllllllllllllllllllllllllllllllllllllllllllllllllllllllllllllllllllllllllllllllllllllllllllllllllllllllllllllllllllllllllllllllllllllllllllllllllllllllllllllllllllllllllllllllllllllllllllllllllllllllllllllllllllllllllllllllllllllllllllllllllllllllllllllllllllllllllllllllllllllllllllllllllllllllllllllllllllllllllllllllllllllllllllllllllllllllllllllllllllllllllllllllllllllllllllllllllllllllllllllllllllllllllllllllllllllllllllllllllllllllllllllllllllllllllllllllllllllllllllllllllllllllllllllllllllllllllllllllllllllllllllllllllllllllllllllllllllllllllllllllllllllllllllllllllllllllllllllllllllllllllllllllllllllllllllllllllllllllllllllllllllllllllllllllllllllllllllllllllllllllllllllllllllllllllllllllllllllllllllllllllllllllllllllllllllllllllllllllllllllllllllllllllllllllllllllllllllllllllllllllllllllllllllllllllllllllllllllllllllllllllllllllllllllllllllllllllllllllllllllllllllllllllllllllllllllllllllllllllllllllllllllllllllllllllllllllllllllllllllllllllllllllllllllllllllllllllllllllllllllllllllllllllllllllllllllllllllllllllllllllllllllllllllllllllllllllllllllllllllllllllllllllllllllllllllllllllllllllllllllllllllllllllllllllllllllllllllllllllllllllllllllllllllllllllllllllllllllllllllllllllllllllllllllllllllllllllllllllllllllllllllllllllllllllllllllllllllllllllllllllllllllllllllllllllllllllllllllllllllllllllllllllllllllllllllllllllllllllllllllllllllllllllllllllllllllllllllllllllllllllllllllllllllllllllllllllllllllllllllllllllllllllllllllllllllllllllllllllllllllllllllllllllllllllllllllllllllllllllllllllllllllllllllllllllllllllllllllllllllllllllllllllllllllllllllllllllllllllllllllllllllllllllllllllllllllllllllllllllllllllllllllllllllllllllllllllllllllllllllllllllllllllllllllllllllllllllllllllllllllllllllllllllllllllllllllllllllllllllllllllllllllllllllllllllllllllllllllllllllllllllllllllllllllllllllllllllllllllllllllllllllllllllllllllllllllllllllllllllllllllllllllllllllllllllllllllllllllllllllllllllllllllllllllllllllllllllllllllllllllllllllllllllllllllllllllllllllllllllllllllllllllllllllllllllllllllllllllllllllllllllllllllllllllllllllllllllllllllllllllllllllllllllllllllllllllllllllllllllllllllllllllllllllllllllllllllllllllllllllllllllllllllllllllllllllllllllllllllllllllllllllllllllllllllllllllllllllllllllllllllllllllllllllllllllllllllllllllllllllllllllllllllllllllllllllllllllllllllllllllllllllllllllllllllllllllllllllllllllllllllllllllllllllllllllllllllllllllllllllllllllllllllllllllllllllllllllllllllllllllllllllllllllllllllllllllllllllllllllllllllllllllllllllllllllllllllllllllllllllllllllllllllllllllllllllllllllllllllllllllllllllllllllllllllllllllllllll}\n",
       " 1 & 2 & 3 & 4 & 5 & 6 & 7 & 9 & 10 & 11 & ⋯ & 136020 & 138702 & 138863 & 139644 & 140247 & 140820 & 141305 & 144656 & 144976 & 146656\\\\\n",
       "\\hline\n",
       "\t NA & NA & NA & NA & NA & NA & NA & NA & NA & NA & ⋯  & NA & NA & NA & NA & NA & NA & NA & NA & NA & NA\\\\\n",
       "\t NA & NA & NA & NA & NA & NA & NA & NA & NA & NA & ⋯  & NA & NA & NA & NA & NA & NA & NA & NA & NA & NA\\\\\n",
       "\t NA & NA & NA & NA & NA & NA & NA & NA & NA & NA & ⋯  & NA & NA & NA & NA & NA & NA & NA & NA & NA & NA\\\\\n",
       "\t NA & NA & NA & NA & NA & NA & NA & NA & NA & NA & ⋯  & NA & NA & NA & NA & NA & NA & NA & NA & NA & NA\\\\\n",
       "\t NA & NA & NA & NA & NA & NA & NA & NA & NA & NA & ⋯  & NA & NA & NA & NA & NA & NA & NA & NA & NA & NA\\\\\n",
       "\t NA & NA & NA & NA & NA & NA & NA & NA & NA & NA & ⋯  & NA & NA & NA & NA & NA & NA & NA & NA & NA & NA\\\\\n",
       "\\end{tabular}\n"
      ],
      "text/markdown": [
       "\n",
       "1 | 2 | 3 | 4 | 5 | 6 | 7 | 9 | 10 | 11 | ⋯ | 136020 | 138702 | 138863 | 139644 | 140247 | 140820 | 141305 | 144656 | 144976 | 146656 | \n",
       "|---|---|---|---|---|---|\n",
       "| NA | NA | NA | NA | NA | NA | NA | NA | NA | NA | ⋯  | NA | NA | NA | NA | NA | NA | NA | NA | NA | NA | \n",
       "| NA | NA | NA | NA | NA | NA | NA | NA | NA | NA | ⋯  | NA | NA | NA | NA | NA | NA | NA | NA | NA | NA | \n",
       "| NA | NA | NA | NA | NA | NA | NA | NA | NA | NA | ⋯  | NA | NA | NA | NA | NA | NA | NA | NA | NA | NA | \n",
       "| NA | NA | NA | NA | NA | NA | NA | NA | NA | NA | ⋯  | NA | NA | NA | NA | NA | NA | NA | NA | NA | NA | \n",
       "| NA | NA | NA | NA | NA | NA | NA | NA | NA | NA | ⋯  | NA | NA | NA | NA | NA | NA | NA | NA | NA | NA | \n",
       "| NA | NA | NA | NA | NA | NA | NA | NA | NA | NA | ⋯  | NA | NA | NA | NA | NA | NA | NA | NA | NA | NA | \n",
       "\n",
       "\n"
      ],
      "text/plain": [
       "     1  2  3  4  5  6  7  9  10 11 ⋯ 136020 138702 138863 139644 140247 140820\n",
       "[1,] NA NA NA NA NA NA NA NA NA NA ⋯ NA     NA     NA     NA     NA     NA    \n",
       "[2,] NA NA NA NA NA NA NA NA NA NA ⋯ NA     NA     NA     NA     NA     NA    \n",
       "[3,] NA NA NA NA NA NA NA NA NA NA ⋯ NA     NA     NA     NA     NA     NA    \n",
       "[4,] NA NA NA NA NA NA NA NA NA NA ⋯ NA     NA     NA     NA     NA     NA    \n",
       "[5,] NA NA NA NA NA NA NA NA NA NA ⋯ NA     NA     NA     NA     NA     NA    \n",
       "[6,] NA NA NA NA NA NA NA NA NA NA ⋯ NA     NA     NA     NA     NA     NA    \n",
       "     141305 144656 144976 146656\n",
       "[1,] NA     NA     NA     NA    \n",
       "[2,] NA     NA     NA     NA    \n",
       "[3,] NA     NA     NA     NA    \n",
       "[4,] NA     NA     NA     NA    \n",
       "[5,] NA     NA     NA     NA    \n",
       "[6,] NA     NA     NA     NA    "
      ]
     },
     "metadata": {},
     "output_type": "display_data"
    }
   ],
   "source": [
    "user_item_matrix_nnlm %>% head()"
   ]
  },
  {
   "cell_type": "code",
   "execution_count": 85,
   "metadata": {},
   "outputs": [],
   "source": [
    "fatoracao_rec_model <- nnmf(user_item_matrix_nnlm, \n",
    "                            method = 'scd', \n",
    "                            loss = 'mse')"
   ]
  },
  {
   "cell_type": "code",
   "execution_count": 86,
   "metadata": {},
   "outputs": [],
   "source": [
    "complete_user_item_matrix <- fatoracao_rec_model$W %*% fatoracao_rec_model$H"
   ]
  },
  {
   "cell_type": "code",
   "execution_count": 87,
   "metadata": {},
   "outputs": [
    {
     "data": {
      "text/html": [
       "<table>\n",
       "<thead><tr><th scope=col>1</th><th scope=col>2</th><th scope=col>3</th><th scope=col>4</th><th scope=col>5</th><th scope=col>6</th><th scope=col>7</th><th scope=col>9</th><th scope=col>10</th><th scope=col>11</th><th scope=col>⋯</th><th scope=col>136020</th><th scope=col>138702</th><th scope=col>138863</th><th scope=col>139644</th><th scope=col>140247</th><th scope=col>140820</th><th scope=col>141305</th><th scope=col>144656</th><th scope=col>144976</th><th scope=col>146656</th></tr></thead>\n",
       "<tbody>\n",
       "\t<tr><td>3.879486</td><td>3.769182</td><td>3.490703</td><td>2.439220</td><td>3.569014</td><td>3.849695</td><td>3.852912</td><td>3.006848</td><td>3.665552</td><td>3.545650</td><td>⋯       </td><td>3.693775</td><td>4.249371</td><td>2.443081</td><td>4.286129</td><td>4.112343</td><td>4.158994</td><td>3.500481</td><td>3.768083</td><td>3.830962</td><td>4.112343</td></tr>\n",
       "\t<tr><td>3.822143</td><td>3.713470</td><td>3.439107</td><td>2.403166</td><td>3.516260</td><td>3.792792</td><td>3.795962</td><td>2.962403</td><td>3.611372</td><td>3.493242</td><td>⋯       </td><td>3.639177</td><td>4.186560</td><td>2.406969</td><td>4.222776</td><td>4.051558</td><td>4.097520</td><td>3.448740</td><td>3.712387</td><td>3.774337</td><td>4.051558</td></tr>\n",
       "\t<tr><td>4.035885</td><td>3.921134</td><td>3.631428</td><td>2.537556</td><td>3.712896</td><td>4.004892</td><td>4.008240</td><td>3.128067</td><td>3.813327</td><td>3.688591</td><td>⋯       </td><td>3.842687</td><td>4.420681</td><td>2.541572</td><td>4.458922</td><td>4.278129</td><td>4.326661</td><td>3.641600</td><td>3.919991</td><td>3.985405</td><td>4.278129</td></tr>\n",
       "\t<tr><td>3.910564</td><td>3.799377</td><td>3.518667</td><td>2.458761</td><td>3.597604</td><td>3.880534</td><td>3.883777</td><td>3.030935</td><td>3.694917</td><td>3.574054</td><td>⋯       </td><td>3.723365</td><td>4.283412</td><td>2.462652</td><td>4.320465</td><td>4.145286</td><td>4.192311</td><td>3.528523</td><td>3.798269</td><td>3.861652</td><td>4.145286</td></tr>\n",
       "\t<tr><td>2.111282</td><td>2.051253</td><td>1.899700</td><td>1.327465</td><td>1.942318</td><td>2.095069</td><td>2.096820</td><td>1.636378</td><td>1.994856</td><td>1.929603</td><td>⋯       </td><td>2.010215</td><td>2.312579</td><td>1.329566</td><td>2.332584</td><td>2.238006</td><td>2.263395</td><td>1.905021</td><td>2.050655</td><td>2.084875</td><td>2.238006</td></tr>\n",
       "\t<tr><td>3.744082</td><td>3.637627</td><td>3.368868</td><td>2.354085</td><td>3.444445</td><td>3.715330</td><td>3.718435</td><td>2.901901</td><td>3.537615</td><td>3.421897</td><td>⋯       </td><td>3.564852</td><td>4.101056</td><td>2.357810</td><td>4.136532</td><td>3.968811</td><td>4.013834</td><td>3.378304</td><td>3.636567</td><td>3.697251</td><td>3.968811</td></tr>\n",
       "</tbody>\n",
       "</table>\n"
      ],
      "text/latex": [
       "\\begin{tabular}{llllllllllllllllllllllllllllllllllllllllllllllllllllllllllllllllllllllllllllllllllllllllllllllllllllllllllllllllllllllllllllllllllllllllllllllllllllllllllllllllllllllllllllllllllllllllllllllllllllllllllllllllllllllllllllllllllllllllllllllllllllllllllllllllllllllllllllllllllllllllllllllllllllllllllllllllllllllllllllllllllllllllllllllllllllllllllllllllllllllllllllllllllllllllllllllllllllllllllllllllllllllllllllllllllllllllllllllllllllllllllllllllllllllllllllllllllllllllllllllllllllllllllllllllllllllllllllllllllllllllllllllllllllllllllllllllllllllllllllllllllllllllllllllllllllllllllllllllllllllllllllllllllllllllllllllllllllllllllllllllllllllllllllllllllllllllllllllllllllllllllllllllllllllllllllllllllllllllllllllllllllllllllllllllllllllllllllllllllllllllllllllllllllllllllllllllllllllllllllllllllllllllllllllllllllllllllllllllllllllllllllllllllllllllllllllllllllllllllllllllllllllllllllllllllllllllllllllllllllllllllllllllllllllllllllllllllllllllllllllllllllllllllllllllllllllllllllllllllllllllllllllllllllllllllllllllllllllllllllllllllllllllllllllllllllllllllllllllllllllllllllllllllllllllllllllllllllllllllllllllllllllllllllllllllllllllllllllllllllllllllllllllllllllllllllllllllllllllllllllllllllllllllllllllllllllllllllllllllllllllllllllllllllllllllllllllllllllllllllllllllllllllllllllllllllllllllllllllllllllllllllllllllllllllllllllllllllllllllllllllllllllllllllllllllllllllllllllllllllllllllllllllllllllllllllllllllllllllllllllllllllllllllllllllllllllllllllllllllllllllllllllllllllllllllllllllllllllllllllllllllllllllllllllllllllllllllllllllllllllllllllllllllllllllllllllllllllllllllllllllllllllllllllllllllllllllllllllllllllllllllllllllllllllllllllllllllllllllllllllllllllllllllllllllllllllllllllllllllllllllllllllllllllllllllllllllllllllllllllllllllllllllllllllllllllllllllllllllllllllllllllllllllllllllllllllllllllllllllllllllllllllllllllllllllllllllllllllllllllllllllllllllllllllllllllllllllllllllllllllllllllllllllllllllllllllllllllllllllllllllllllllllllllllllllllllllllllllllllllllllllllllllllllllllllllllllllllllllllllllllllllllllllllllllllllllllllllllllllllllllllllllllllllllllllllllllllllllllllllllllllllllllllllllllllllllllllllllllllllllllllllllllllllllllllllllllllllllllllllllllllllllllllllllllllllllllllllllllllllllllllllllllllllllllllllllllllllllllllllllllllllllllllllllllllllllllllllllllllllllllllllllllllllllllllllllllllllllllllllllllllllllllllllllllllllllllllllllllllllllllllllllllllllllllllllllllllllllllllllllllllllllllllllllllllllllllllllllllllllllllllllllllllllllllllllllllllllllllllllllllllllllllllllllllllllllllllllllllllllllllllllllllllllllllllllllllllllllllllllllllllllllllllllllllllllllllllllllllllllllllllllllllllllllllllllllllllllllllllllllllllllllllllllllllllllllllllllllllllllllllllllllllllllllllllllllllllllllllllllllllllllllllllllllllllllllllllllllllllllllllllllllllllllllllllllllllllllllllllllllllllllllllllllllllllllllllllllllllllllllllllllllllllllllllllllllllllllllllllllllllllllllllllllllllllllllllllllllllllllllllllllllllllllllllllllllllllllllllllllllllllllllllllllllllllllllllllllllllllllllllllllllllllllllllllllllllllllllllllllllllllllllllllllllllllllllllllllllllllllllllllllllllllllllllllllllllllllllllllllllllllllllllllllllllllllllllllllllllllllllllllllllllllllllllllllllllllllllllllllllllllllllllllllllllllllllllllllllllllllllllllllllllllllllllllllllllllllllllllllllllllllllllllllllllllllllllllllllllllllllllllllllllllllllllllllllllllllllllllllllllllllllllllllllllllllllllllllllllllllllllllllllllllllllllllllllllllllllllllllllllllllllllllllllllllllllllllllllllllllllllllllllllllllllllllllllllllllllllllllllllllllllllllllllllllllllllllllllllllllllllllllllllllllllllllllllllllllllllllllllllllllllllllllllllllllllllllllllllllllllllllllllllllllllllllllllllllllllllllllllllllllllllllllllllllllllllllllllllllllllllllllllllllllllllllllllllllllllllllllllllllllllllllllllllllllllllllllll}\n",
       " 1 & 2 & 3 & 4 & 5 & 6 & 7 & 9 & 10 & 11 & ⋯ & 136020 & 138702 & 138863 & 139644 & 140247 & 140820 & 141305 & 144656 & 144976 & 146656\\\\\n",
       "\\hline\n",
       "\t 3.879486 & 3.769182 & 3.490703 & 2.439220 & 3.569014 & 3.849695 & 3.852912 & 3.006848 & 3.665552 & 3.545650 & ⋯        & 3.693775 & 4.249371 & 2.443081 & 4.286129 & 4.112343 & 4.158994 & 3.500481 & 3.768083 & 3.830962 & 4.112343\\\\\n",
       "\t 3.822143 & 3.713470 & 3.439107 & 2.403166 & 3.516260 & 3.792792 & 3.795962 & 2.962403 & 3.611372 & 3.493242 & ⋯        & 3.639177 & 4.186560 & 2.406969 & 4.222776 & 4.051558 & 4.097520 & 3.448740 & 3.712387 & 3.774337 & 4.051558\\\\\n",
       "\t 4.035885 & 3.921134 & 3.631428 & 2.537556 & 3.712896 & 4.004892 & 4.008240 & 3.128067 & 3.813327 & 3.688591 & ⋯        & 3.842687 & 4.420681 & 2.541572 & 4.458922 & 4.278129 & 4.326661 & 3.641600 & 3.919991 & 3.985405 & 4.278129\\\\\n",
       "\t 3.910564 & 3.799377 & 3.518667 & 2.458761 & 3.597604 & 3.880534 & 3.883777 & 3.030935 & 3.694917 & 3.574054 & ⋯        & 3.723365 & 4.283412 & 2.462652 & 4.320465 & 4.145286 & 4.192311 & 3.528523 & 3.798269 & 3.861652 & 4.145286\\\\\n",
       "\t 2.111282 & 2.051253 & 1.899700 & 1.327465 & 1.942318 & 2.095069 & 2.096820 & 1.636378 & 1.994856 & 1.929603 & ⋯        & 2.010215 & 2.312579 & 1.329566 & 2.332584 & 2.238006 & 2.263395 & 1.905021 & 2.050655 & 2.084875 & 2.238006\\\\\n",
       "\t 3.744082 & 3.637627 & 3.368868 & 2.354085 & 3.444445 & 3.715330 & 3.718435 & 2.901901 & 3.537615 & 3.421897 & ⋯        & 3.564852 & 4.101056 & 2.357810 & 4.136532 & 3.968811 & 4.013834 & 3.378304 & 3.636567 & 3.697251 & 3.968811\\\\\n",
       "\\end{tabular}\n"
      ],
      "text/markdown": [
       "\n",
       "1 | 2 | 3 | 4 | 5 | 6 | 7 | 9 | 10 | 11 | ⋯ | 136020 | 138702 | 138863 | 139644 | 140247 | 140820 | 141305 | 144656 | 144976 | 146656 | \n",
       "|---|---|---|---|---|---|\n",
       "| 3.879486 | 3.769182 | 3.490703 | 2.439220 | 3.569014 | 3.849695 | 3.852912 | 3.006848 | 3.665552 | 3.545650 | ⋯        | 3.693775 | 4.249371 | 2.443081 | 4.286129 | 4.112343 | 4.158994 | 3.500481 | 3.768083 | 3.830962 | 4.112343 | \n",
       "| 3.822143 | 3.713470 | 3.439107 | 2.403166 | 3.516260 | 3.792792 | 3.795962 | 2.962403 | 3.611372 | 3.493242 | ⋯        | 3.639177 | 4.186560 | 2.406969 | 4.222776 | 4.051558 | 4.097520 | 3.448740 | 3.712387 | 3.774337 | 4.051558 | \n",
       "| 4.035885 | 3.921134 | 3.631428 | 2.537556 | 3.712896 | 4.004892 | 4.008240 | 3.128067 | 3.813327 | 3.688591 | ⋯        | 3.842687 | 4.420681 | 2.541572 | 4.458922 | 4.278129 | 4.326661 | 3.641600 | 3.919991 | 3.985405 | 4.278129 | \n",
       "| 3.910564 | 3.799377 | 3.518667 | 2.458761 | 3.597604 | 3.880534 | 3.883777 | 3.030935 | 3.694917 | 3.574054 | ⋯        | 3.723365 | 4.283412 | 2.462652 | 4.320465 | 4.145286 | 4.192311 | 3.528523 | 3.798269 | 3.861652 | 4.145286 | \n",
       "| 2.111282 | 2.051253 | 1.899700 | 1.327465 | 1.942318 | 2.095069 | 2.096820 | 1.636378 | 1.994856 | 1.929603 | ⋯        | 2.010215 | 2.312579 | 1.329566 | 2.332584 | 2.238006 | 2.263395 | 1.905021 | 2.050655 | 2.084875 | 2.238006 | \n",
       "| 3.744082 | 3.637627 | 3.368868 | 2.354085 | 3.444445 | 3.715330 | 3.718435 | 2.901901 | 3.537615 | 3.421897 | ⋯        | 3.564852 | 4.101056 | 2.357810 | 4.136532 | 3.968811 | 4.013834 | 3.378304 | 3.636567 | 3.697251 | 3.968811 | \n",
       "\n",
       "\n"
      ],
      "text/plain": [
       "     1        2        3        4        5        6        7        9       \n",
       "[1,] 3.879486 3.769182 3.490703 2.439220 3.569014 3.849695 3.852912 3.006848\n",
       "[2,] 3.822143 3.713470 3.439107 2.403166 3.516260 3.792792 3.795962 2.962403\n",
       "[3,] 4.035885 3.921134 3.631428 2.537556 3.712896 4.004892 4.008240 3.128067\n",
       "[4,] 3.910564 3.799377 3.518667 2.458761 3.597604 3.880534 3.883777 3.030935\n",
       "[5,] 2.111282 2.051253 1.899700 1.327465 1.942318 2.095069 2.096820 1.636378\n",
       "[6,] 3.744082 3.637627 3.368868 2.354085 3.444445 3.715330 3.718435 2.901901\n",
       "     10       11       ⋯ 136020   138702   138863   139644   140247   140820  \n",
       "[1,] 3.665552 3.545650 ⋯ 3.693775 4.249371 2.443081 4.286129 4.112343 4.158994\n",
       "[2,] 3.611372 3.493242 ⋯ 3.639177 4.186560 2.406969 4.222776 4.051558 4.097520\n",
       "[3,] 3.813327 3.688591 ⋯ 3.842687 4.420681 2.541572 4.458922 4.278129 4.326661\n",
       "[4,] 3.694917 3.574054 ⋯ 3.723365 4.283412 2.462652 4.320465 4.145286 4.192311\n",
       "[5,] 1.994856 1.929603 ⋯ 2.010215 2.312579 1.329566 2.332584 2.238006 2.263395\n",
       "[6,] 3.537615 3.421897 ⋯ 3.564852 4.101056 2.357810 4.136532 3.968811 4.013834\n",
       "     141305   144656   144976   146656  \n",
       "[1,] 3.500481 3.768083 3.830962 4.112343\n",
       "[2,] 3.448740 3.712387 3.774337 4.051558\n",
       "[3,] 3.641600 3.919991 3.985405 4.278129\n",
       "[4,] 3.528523 3.798269 3.861652 4.145286\n",
       "[5,] 1.905021 2.050655 2.084875 2.238006\n",
       "[6,] 3.378304 3.636567 3.697251 3.968811"
      ]
     },
     "metadata": {},
     "output_type": "display_data"
    }
   ],
   "source": [
    "complete_user_item_matrix %>% head()"
   ]
  },
  {
   "cell_type": "markdown",
   "metadata": {},
   "source": [
    "Podemos combinar as duas matrizes para obter os *ratings* dos filmes ainda não foram assistidos e poderão ser recomendados."
   ]
  },
  {
   "cell_type": "code",
   "execution_count": 88,
   "metadata": {},
   "outputs": [],
   "source": [
    "matriz_recomendacoes <- ( is.na(user_item_matrix_nnlm) == TRUE ) * round(complete_user_item_matrix, 2)"
   ]
  },
  {
   "cell_type": "code",
   "execution_count": 89,
   "metadata": {},
   "outputs": [
    {
     "data": {
      "text/html": [
       "<table>\n",
       "<thead><tr><th scope=col>1</th><th scope=col>2</th><th scope=col>3</th><th scope=col>4</th><th scope=col>5</th><th scope=col>6</th><th scope=col>7</th><th scope=col>9</th><th scope=col>10</th><th scope=col>11</th><th scope=col>⋯</th><th scope=col>136020</th><th scope=col>138702</th><th scope=col>138863</th><th scope=col>139644</th><th scope=col>140247</th><th scope=col>140820</th><th scope=col>141305</th><th scope=col>144656</th><th scope=col>144976</th><th scope=col>146656</th></tr></thead>\n",
       "<tbody>\n",
       "\t<tr><td>3.88</td><td>3.77</td><td>3.49</td><td>2.44</td><td>3.57</td><td>3.85</td><td>3.85</td><td>3.01</td><td>3.67</td><td>3.55</td><td>⋯   </td><td>3.69</td><td>4.25</td><td>2.44</td><td>4.29</td><td>4.11</td><td>4.16</td><td>3.50</td><td>3.77</td><td>3.83</td><td>4.11</td></tr>\n",
       "\t<tr><td>3.82</td><td>3.71</td><td>3.44</td><td>2.40</td><td>3.52</td><td>3.79</td><td>3.80</td><td>2.96</td><td>3.61</td><td>3.49</td><td>⋯   </td><td>3.64</td><td>4.19</td><td>2.41</td><td>4.22</td><td>4.05</td><td>4.10</td><td>3.45</td><td>3.71</td><td>3.77</td><td>4.05</td></tr>\n",
       "\t<tr><td>4.04</td><td>3.92</td><td>3.63</td><td>2.54</td><td>3.71</td><td>4.00</td><td>4.01</td><td>3.13</td><td>3.81</td><td>3.69</td><td>⋯   </td><td>3.84</td><td>4.42</td><td>2.54</td><td>4.46</td><td>4.28</td><td>4.33</td><td>3.64</td><td>3.92</td><td>3.99</td><td>4.28</td></tr>\n",
       "\t<tr><td>3.91</td><td>3.80</td><td>3.52</td><td>2.46</td><td>3.60</td><td>3.88</td><td>3.88</td><td>3.03</td><td>3.69</td><td>3.57</td><td>⋯   </td><td>3.72</td><td>4.28</td><td>2.46</td><td>4.32</td><td>4.15</td><td>4.19</td><td>3.53</td><td>3.80</td><td>3.86</td><td>4.15</td></tr>\n",
       "\t<tr><td>2.11</td><td>2.05</td><td>1.90</td><td>1.33</td><td>1.94</td><td>2.10</td><td>2.10</td><td>1.64</td><td>1.99</td><td>1.93</td><td>⋯   </td><td>2.01</td><td>2.31</td><td>1.33</td><td>2.33</td><td>2.24</td><td>2.26</td><td>1.91</td><td>2.05</td><td>2.08</td><td>2.24</td></tr>\n",
       "\t<tr><td>3.74</td><td>3.64</td><td>3.37</td><td>2.35</td><td>3.44</td><td>3.72</td><td>3.72</td><td>2.90</td><td>3.54</td><td>3.42</td><td>⋯   </td><td>3.56</td><td>4.10</td><td>2.36</td><td>4.14</td><td>3.97</td><td>4.01</td><td>3.38</td><td>3.64</td><td>3.70</td><td>3.97</td></tr>\n",
       "</tbody>\n",
       "</table>\n"
      ],
      "text/latex": [
       "\\begin{tabular}{llllllllllllllllllllllllllllllllllllllllllllllllllllllllllllllllllllllllllllllllllllllllllllllllllllllllllllllllllllllllllllllllllllllllllllllllllllllllllllllllllllllllllllllllllllllllllllllllllllllllllllllllllllllllllllllllllllllllllllllllllllllllllllllllllllllllllllllllllllllllllllllllllllllllllllllllllllllllllllllllllllllllllllllllllllllllllllllllllllllllllllllllllllllllllllllllllllllllllllllllllllllllllllllllllllllllllllllllllllllllllllllllllllllllllllllllllllllllllllllllllllllllllllllllllllllllllllllllllllllllllllllllllllllllllllllllllllllllllllllllllllllllllllllllllllllllllllllllllllllllllllllllllllllllllllllllllllllllllllllllllllllllllllllllllllllllllllllllllllllllllllllllllllllllllllllllllllllllllllllllllllllllllllllllllllllllllllllllllllllllllllllllllllllllllllllllllllllllllllllllllllllllllllllllllllllllllllllllllllllllllllllllllllllllllllllllllllllllllllllllllllllllllllllllllllllllllllllllllllllllllllllllllllllllllllllllllllllllllllllllllllllllllllllllllllllllllllllllllllllllllllllllllllllllllllllllllllllllllllllllllllllllllllllllllllllllllllllllllllllllllllllllllllllllllllllllllllllllllllllllllllllllllllllllllllllllllllllllllllllllllllllllllllllllllllllllllllllllllllllllllllllllllllllllllllllllllllllllllllllllllllllllllllllllllllllllllllllllllllllllllllllllllllllllllllllllllllllllllllllllllllllllllllllllllllllllllllllllllllllllllllllllllllllllllllllllllllllllllllllllllllllllllllllllllllllllllllllllllllllllllllllllllllllllllllllllllllllllllllllllllllllllllllllllllllllllllllllllllllllllllllllllllllllllllllllllllllllllllllllllllllllllllllllllllllllllllllllllllllllllllllllllllllllllllllllllllllllllllllllllllllllllllllllllllllllllllllllllllllllllllllllllllllllllllllllllllllllllllllllllllllllllllllllllllllllllllllllllllllllllllllllllllllllllllllllllllllllllllllllllllllllllllllllllllllllllllllllllllllllllllllllllllllllllllllllllllllllllllllllllllllllllllllllllllllllllllllllllllllllllllllllllllllllllllllllllllllllllllllllllllllllllllllllllllllllllllllllllllllllllllllllllllllllllllllllllllllllllllllllllllllllllllllllllllllllllllllllllllllllllllllllllllllllllllllllllllllllllllllllllllllllllllllllllllllllllllllllllllllllllllllllllllllllllllllllllllllllllllllllllllllllllllllllllllllllllllllllllllllllllllllllllllllllllllllllllllllllllllllllllllllllllllllllllllllllllllllllllllllllllllllllllllllllllllllllllllllllllllllllllllllllllllllllllllllllllllllllllllllllllllllllllllllllllllllllllllllllllllllllllllllllllllllllllllllllllllllllllllllllllllllllllllllllllllllllllllllllllllllllllllllllllllllllllllllllllllllllllllllllllllllllllllllllllllllllllllllllllllllllllllllllllllllllllllllllllllllllllllllllllllllllllllllllllllllllllllllllllllllllllllllllllllllllllllllllllllllllllllllllllllllllllllllllllllllllllllllllllllllllllllllllllllllllllllllllllllllllllllllllllllllllllllllllllllllllllllllllllllllllllllllllllllllllllllllllllllllllllllllllllllllllllllllllllllllllllllllllllllllllllllllllllllllllllllllllllllllllllllllllllllllllllllllllllllllllllllllllllllllllllllllllllllllllllllllllllllllllllllllllllllllllllllllllllllllllllllllllllllllllllllllllllllllllllllllllllllllllllllllllllllllllllllllllllllllllllllllllllllllllllllllllllllllllllllllllllllllllllllllllllllllllllllllllllllllllllllllllllllllllllllllllllllllllllllllllllllllllllllllllllllllllllllllllllllllllllllllllllllllllllllllllllllllllllllllllllllllllllllllllllllllllllllllllllllllllllllllllllllllllllllllllllllllllllllllllllllllllllllllllllllllllllllllllllllllllllllllllllllllllllllllllllllllllllllllllllllllllllllllllllllllllllllllllllllllllllllllllllllllllllllllllllllllllllllllllllllllllllllllllllllllllllllllllllllllllllllllllllllllllllllllllllllllllllllllllllllllllllllllllllllllllllllllllllllllllllllllllllllllllllllllllllllllllllllllllllllllllllllllllllllllllllllllllllllllllllllllllllllllllllllllllllllllllllllllllllllllll}\n",
       " 1 & 2 & 3 & 4 & 5 & 6 & 7 & 9 & 10 & 11 & ⋯ & 136020 & 138702 & 138863 & 139644 & 140247 & 140820 & 141305 & 144656 & 144976 & 146656\\\\\n",
       "\\hline\n",
       "\t 3.88 & 3.77 & 3.49 & 2.44 & 3.57 & 3.85 & 3.85 & 3.01 & 3.67 & 3.55 & ⋯    & 3.69 & 4.25 & 2.44 & 4.29 & 4.11 & 4.16 & 3.50 & 3.77 & 3.83 & 4.11\\\\\n",
       "\t 3.82 & 3.71 & 3.44 & 2.40 & 3.52 & 3.79 & 3.80 & 2.96 & 3.61 & 3.49 & ⋯    & 3.64 & 4.19 & 2.41 & 4.22 & 4.05 & 4.10 & 3.45 & 3.71 & 3.77 & 4.05\\\\\n",
       "\t 4.04 & 3.92 & 3.63 & 2.54 & 3.71 & 4.00 & 4.01 & 3.13 & 3.81 & 3.69 & ⋯    & 3.84 & 4.42 & 2.54 & 4.46 & 4.28 & 4.33 & 3.64 & 3.92 & 3.99 & 4.28\\\\\n",
       "\t 3.91 & 3.80 & 3.52 & 2.46 & 3.60 & 3.88 & 3.88 & 3.03 & 3.69 & 3.57 & ⋯    & 3.72 & 4.28 & 2.46 & 4.32 & 4.15 & 4.19 & 3.53 & 3.80 & 3.86 & 4.15\\\\\n",
       "\t 2.11 & 2.05 & 1.90 & 1.33 & 1.94 & 2.10 & 2.10 & 1.64 & 1.99 & 1.93 & ⋯    & 2.01 & 2.31 & 1.33 & 2.33 & 2.24 & 2.26 & 1.91 & 2.05 & 2.08 & 2.24\\\\\n",
       "\t 3.74 & 3.64 & 3.37 & 2.35 & 3.44 & 3.72 & 3.72 & 2.90 & 3.54 & 3.42 & ⋯    & 3.56 & 4.10 & 2.36 & 4.14 & 3.97 & 4.01 & 3.38 & 3.64 & 3.70 & 3.97\\\\\n",
       "\\end{tabular}\n"
      ],
      "text/markdown": [
       "\n",
       "1 | 2 | 3 | 4 | 5 | 6 | 7 | 9 | 10 | 11 | ⋯ | 136020 | 138702 | 138863 | 139644 | 140247 | 140820 | 141305 | 144656 | 144976 | 146656 | \n",
       "|---|---|---|---|---|---|\n",
       "| 3.88 | 3.77 | 3.49 | 2.44 | 3.57 | 3.85 | 3.85 | 3.01 | 3.67 | 3.55 | ⋯    | 3.69 | 4.25 | 2.44 | 4.29 | 4.11 | 4.16 | 3.50 | 3.77 | 3.83 | 4.11 | \n",
       "| 3.82 | 3.71 | 3.44 | 2.40 | 3.52 | 3.79 | 3.80 | 2.96 | 3.61 | 3.49 | ⋯    | 3.64 | 4.19 | 2.41 | 4.22 | 4.05 | 4.10 | 3.45 | 3.71 | 3.77 | 4.05 | \n",
       "| 4.04 | 3.92 | 3.63 | 2.54 | 3.71 | 4.00 | 4.01 | 3.13 | 3.81 | 3.69 | ⋯    | 3.84 | 4.42 | 2.54 | 4.46 | 4.28 | 4.33 | 3.64 | 3.92 | 3.99 | 4.28 | \n",
       "| 3.91 | 3.80 | 3.52 | 2.46 | 3.60 | 3.88 | 3.88 | 3.03 | 3.69 | 3.57 | ⋯    | 3.72 | 4.28 | 2.46 | 4.32 | 4.15 | 4.19 | 3.53 | 3.80 | 3.86 | 4.15 | \n",
       "| 2.11 | 2.05 | 1.90 | 1.33 | 1.94 | 2.10 | 2.10 | 1.64 | 1.99 | 1.93 | ⋯    | 2.01 | 2.31 | 1.33 | 2.33 | 2.24 | 2.26 | 1.91 | 2.05 | 2.08 | 2.24 | \n",
       "| 3.74 | 3.64 | 3.37 | 2.35 | 3.44 | 3.72 | 3.72 | 2.90 | 3.54 | 3.42 | ⋯    | 3.56 | 4.10 | 2.36 | 4.14 | 3.97 | 4.01 | 3.38 | 3.64 | 3.70 | 3.97 | \n",
       "\n",
       "\n"
      ],
      "text/plain": [
       "     1    2    3    4    5    6    7    9    10   11   ⋯ 136020 138702 138863\n",
       "[1,] 3.88 3.77 3.49 2.44 3.57 3.85 3.85 3.01 3.67 3.55 ⋯ 3.69   4.25   2.44  \n",
       "[2,] 3.82 3.71 3.44 2.40 3.52 3.79 3.80 2.96 3.61 3.49 ⋯ 3.64   4.19   2.41  \n",
       "[3,] 4.04 3.92 3.63 2.54 3.71 4.00 4.01 3.13 3.81 3.69 ⋯ 3.84   4.42   2.54  \n",
       "[4,] 3.91 3.80 3.52 2.46 3.60 3.88 3.88 3.03 3.69 3.57 ⋯ 3.72   4.28   2.46  \n",
       "[5,] 2.11 2.05 1.90 1.33 1.94 2.10 2.10 1.64 1.99 1.93 ⋯ 2.01   2.31   1.33  \n",
       "[6,] 3.74 3.64 3.37 2.35 3.44 3.72 3.72 2.90 3.54 3.42 ⋯ 3.56   4.10   2.36  \n",
       "     139644 140247 140820 141305 144656 144976 146656\n",
       "[1,] 4.29   4.11   4.16   3.50   3.77   3.83   4.11  \n",
       "[2,] 4.22   4.05   4.10   3.45   3.71   3.77   4.05  \n",
       "[3,] 4.46   4.28   4.33   3.64   3.92   3.99   4.28  \n",
       "[4,] 4.32   4.15   4.19   3.53   3.80   3.86   4.15  \n",
       "[5,] 2.33   2.24   2.26   1.91   2.05   2.08   2.24  \n",
       "[6,] 4.14   3.97   4.01   3.38   3.64   3.70   3.97  "
      ]
     },
     "metadata": {},
     "output_type": "display_data"
    }
   ],
   "source": [
    "matriz_recomendacoes %>% head()"
   ]
  },
  {
   "cell_type": "markdown",
   "metadata": {},
   "source": [
    "Associamos novamente com os usuários."
   ]
  },
  {
   "cell_type": "code",
   "execution_count": 91,
   "metadata": {},
   "outputs": [],
   "source": [
    "matriz_recomendacoes <- cbind( user_item_matrix$userId, data.frame(matriz_recomendacoes) )"
   ]
  },
  {
   "cell_type": "code",
   "execution_count": 93,
   "metadata": {},
   "outputs": [],
   "source": [
    "# alguns ajustes\n",
    "matriz_recomendacoes %<>% \n",
    "    rename( userId = `user_item_matrix$userId` )"
   ]
  },
  {
   "cell_type": "markdown",
   "metadata": {},
   "source": [
    "Podemos ajustar para organizar um banco de dados ordenado com as possíveis recomendações."
   ]
  },
  {
   "cell_type": "code",
   "execution_count": 94,
   "metadata": {},
   "outputs": [],
   "source": [
    "banco_ratings <- matriz_recomendacoes %>% \n",
    "    gather( key = movieId, value = ratings, -userId  ) %>% \n",
    "    mutate( movieId = as.integer(str_extract(movieId, \"[0-9]\") ) ) %>% \n",
    "    filter( ratings > 0 )"
   ]
  },
  {
   "cell_type": "markdown",
   "metadata": {},
   "source": [
    "Combinamos com o banco de filmes."
   ]
  },
  {
   "cell_type": "code",
   "execution_count": 95,
   "metadata": {},
   "outputs": [],
   "source": [
    "banco_ratings %<>% \n",
    "    left_join(., y = dados_movies,\n",
    "              by = \"movieId\" )"
   ]
  },
  {
   "cell_type": "code",
   "execution_count": 96,
   "metadata": {},
   "outputs": [
    {
     "data": {
      "text/html": [
       "<table>\n",
       "<thead><tr><th scope=col>userId</th><th scope=col>movieId</th><th scope=col>ratings</th><th scope=col>title</th><th scope=col>genres</th></tr></thead>\n",
       "<tbody>\n",
       "\t<tr><td>1                                          </td><td>1                                          </td><td>3.88                                       </td><td>Toy Story (1995)                           </td><td>Adventure|Animation|Children|Comedy|Fantasy</td></tr>\n",
       "\t<tr><td>2                                          </td><td>1                                          </td><td>3.82                                       </td><td>Toy Story (1995)                           </td><td>Adventure|Animation|Children|Comedy|Fantasy</td></tr>\n",
       "\t<tr><td>3                                          </td><td>1                                          </td><td>4.04                                       </td><td>Toy Story (1995)                           </td><td>Adventure|Animation|Children|Comedy|Fantasy</td></tr>\n",
       "\t<tr><td>4                                          </td><td>1                                          </td><td>3.91                                       </td><td>Toy Story (1995)                           </td><td>Adventure|Animation|Children|Comedy|Fantasy</td></tr>\n",
       "\t<tr><td>5                                          </td><td>1                                          </td><td>2.11                                       </td><td>Toy Story (1995)                           </td><td>Adventure|Animation|Children|Comedy|Fantasy</td></tr>\n",
       "\t<tr><td>6                                          </td><td>1                                          </td><td>3.74                                       </td><td>Toy Story (1995)                           </td><td>Adventure|Animation|Children|Comedy|Fantasy</td></tr>\n",
       "</tbody>\n",
       "</table>\n"
      ],
      "text/latex": [
       "\\begin{tabular}{r|lllll}\n",
       " userId & movieId & ratings & title & genres\\\\\n",
       "\\hline\n",
       "\t 1                                                                                   & 1                                                                                   & 3.88                                                                                & Toy Story (1995)                                                                    & Adventure\\textbar{}Animation\\textbar{}Children\\textbar{}Comedy\\textbar{}Fantasy\\\\\n",
       "\t 2                                                                                   & 1                                                                                   & 3.82                                                                                & Toy Story (1995)                                                                    & Adventure\\textbar{}Animation\\textbar{}Children\\textbar{}Comedy\\textbar{}Fantasy\\\\\n",
       "\t 3                                                                                   & 1                                                                                   & 4.04                                                                                & Toy Story (1995)                                                                    & Adventure\\textbar{}Animation\\textbar{}Children\\textbar{}Comedy\\textbar{}Fantasy\\\\\n",
       "\t 4                                                                                   & 1                                                                                   & 3.91                                                                                & Toy Story (1995)                                                                    & Adventure\\textbar{}Animation\\textbar{}Children\\textbar{}Comedy\\textbar{}Fantasy\\\\\n",
       "\t 5                                                                                   & 1                                                                                   & 2.11                                                                                & Toy Story (1995)                                                                    & Adventure\\textbar{}Animation\\textbar{}Children\\textbar{}Comedy\\textbar{}Fantasy\\\\\n",
       "\t 6                                                                                   & 1                                                                                   & 3.74                                                                                & Toy Story (1995)                                                                    & Adventure\\textbar{}Animation\\textbar{}Children\\textbar{}Comedy\\textbar{}Fantasy\\\\\n",
       "\\end{tabular}\n"
      ],
      "text/markdown": [
       "\n",
       "userId | movieId | ratings | title | genres | \n",
       "|---|---|---|---|---|---|\n",
       "| 1                                           | 1                                           | 3.88                                        | Toy Story (1995)                            | Adventure|Animation|Children|Comedy|Fantasy | \n",
       "| 2                                           | 1                                           | 3.82                                        | Toy Story (1995)                            | Adventure|Animation|Children|Comedy|Fantasy | \n",
       "| 3                                           | 1                                           | 4.04                                        | Toy Story (1995)                            | Adventure|Animation|Children|Comedy|Fantasy | \n",
       "| 4                                           | 1                                           | 3.91                                        | Toy Story (1995)                            | Adventure|Animation|Children|Comedy|Fantasy | \n",
       "| 5                                           | 1                                           | 2.11                                        | Toy Story (1995)                            | Adventure|Animation|Children|Comedy|Fantasy | \n",
       "| 6                                           | 1                                           | 3.74                                        | Toy Story (1995)                            | Adventure|Animation|Children|Comedy|Fantasy | \n",
       "\n",
       "\n"
      ],
      "text/plain": [
       "  userId movieId ratings title           \n",
       "1 1      1       3.88    Toy Story (1995)\n",
       "2 2      1       3.82    Toy Story (1995)\n",
       "3 3      1       4.04    Toy Story (1995)\n",
       "4 4      1       3.91    Toy Story (1995)\n",
       "5 5      1       2.11    Toy Story (1995)\n",
       "6 6      1       3.74    Toy Story (1995)\n",
       "  genres                                     \n",
       "1 Adventure|Animation|Children|Comedy|Fantasy\n",
       "2 Adventure|Animation|Children|Comedy|Fantasy\n",
       "3 Adventure|Animation|Children|Comedy|Fantasy\n",
       "4 Adventure|Animation|Children|Comedy|Fantasy\n",
       "5 Adventure|Animation|Children|Comedy|Fantasy\n",
       "6 Adventure|Animation|Children|Comedy|Fantasy"
      ]
     },
     "metadata": {},
     "output_type": "display_data"
    }
   ],
   "source": [
    "banco_ratings %>% head()"
   ]
  },
  {
   "cell_type": "markdown",
   "metadata": {},
   "source": [
    "Podemos ver as 5 melhores recomendações para o usuário 8."
   ]
  },
  {
   "cell_type": "code",
   "execution_count": 98,
   "metadata": {
    "scrolled": true
   },
   "outputs": [
    {
     "data": {
      "text/html": [
       "<table>\n",
       "<thead><tr><th scope=col>userId</th><th scope=col>movieId</th><th scope=col>ratings</th><th scope=col>title</th><th scope=col>genres</th></tr></thead>\n",
       "<tbody>\n",
       "\t<tr><td>8                                          </td><td>3                                          </td><td>10.55                                      </td><td>Grumpier Old Men (1995)                    </td><td>Comedy|Romance                             </td></tr>\n",
       "\t<tr><td>8                                          </td><td>4                                          </td><td> 6.69                                      </td><td>Waiting to Exhale (1995)                   </td><td>Comedy|Drama|Romance                       </td></tr>\n",
       "\t<tr><td>8                                          </td><td>6                                          </td><td> 6.58                                      </td><td>Heat (1995)                                </td><td>Action|Crime|Thriller                      </td></tr>\n",
       "\t<tr><td>8                                          </td><td>1                                          </td><td> 6.58                                      </td><td>Toy Story (1995)                           </td><td>Adventure|Animation|Children|Comedy|Fantasy</td></tr>\n",
       "\t<tr><td>8                                          </td><td>5                                          </td><td> 6.54                                      </td><td>Father of the Bride Part II (1995)         </td><td>Comedy                                     </td></tr>\n",
       "</tbody>\n",
       "</table>\n"
      ],
      "text/latex": [
       "\\begin{tabular}{r|lllll}\n",
       " userId & movieId & ratings & title & genres\\\\\n",
       "\\hline\n",
       "\t 8                                                     & 3                                                     & 10.55                                                 & Grumpier Old Men (1995)                               & Comedy\\textbar{}Romance                             \\\\\n",
       "\t 8                                                               & 4                                                               &  6.69                                                           & Waiting to Exhale (1995)                                        & Comedy\\textbar{}Drama\\textbar{}Romance                       \\\\\n",
       "\t 8                                                               & 6                                                               &  6.58                                                           & Heat (1995)                                                     & Action\\textbar{}Crime\\textbar{}Thriller                      \\\\\n",
       "\t 8                                                                                   & 1                                                                                   &  6.58                                                                               & Toy Story (1995)                                                                    & Adventure\\textbar{}Animation\\textbar{}Children\\textbar{}Comedy\\textbar{}Fantasy\\\\\n",
       "\t 8                                           & 5                                           &  6.54                                       & Father of the Bride Part II (1995)          & Comedy                                     \\\\\n",
       "\\end{tabular}\n"
      ],
      "text/markdown": [
       "\n",
       "userId | movieId | ratings | title | genres | \n",
       "|---|---|---|---|---|\n",
       "| 8                                           | 3                                           | 10.55                                       | Grumpier Old Men (1995)                     | Comedy|Romance                              | \n",
       "| 8                                           | 4                                           |  6.69                                       | Waiting to Exhale (1995)                    | Comedy|Drama|Romance                        | \n",
       "| 8                                           | 6                                           |  6.58                                       | Heat (1995)                                 | Action|Crime|Thriller                       | \n",
       "| 8                                           | 1                                           |  6.58                                       | Toy Story (1995)                            | Adventure|Animation|Children|Comedy|Fantasy | \n",
       "| 8                                           | 5                                           |  6.54                                       | Father of the Bride Part II (1995)          | Comedy                                      | \n",
       "\n",
       "\n"
      ],
      "text/plain": [
       "  userId movieId ratings title                             \n",
       "1 8      3       10.55   Grumpier Old Men (1995)           \n",
       "2 8      4        6.69   Waiting to Exhale (1995)          \n",
       "3 8      6        6.58   Heat (1995)                       \n",
       "4 8      1        6.58   Toy Story (1995)                  \n",
       "5 8      5        6.54   Father of the Bride Part II (1995)\n",
       "  genres                                     \n",
       "1 Comedy|Romance                             \n",
       "2 Comedy|Drama|Romance                       \n",
       "3 Action|Crime|Thriller                      \n",
       "4 Adventure|Animation|Children|Comedy|Fantasy\n",
       "5 Comedy                                     "
      ]
     },
     "metadata": {},
     "output_type": "display_data"
    }
   ],
   "source": [
    "banco_ratings %>% \n",
    "    filter( userId == 8 ) %>% \n",
    "    arrange( desc(ratings) ) %>% \n",
    "    head(5)"
   ]
  }
 ],
 "metadata": {
  "kernelspec": {
   "display_name": "R",
   "language": "R",
   "name": "ir"
  },
  "language_info": {
   "codemirror_mode": "r",
   "file_extension": ".r",
   "mimetype": "text/x-r-source",
   "name": "R",
   "pygments_lexer": "r",
   "version": "3.4.4"
  }
 },
 "nbformat": 4,
 "nbformat_minor": 2
}
