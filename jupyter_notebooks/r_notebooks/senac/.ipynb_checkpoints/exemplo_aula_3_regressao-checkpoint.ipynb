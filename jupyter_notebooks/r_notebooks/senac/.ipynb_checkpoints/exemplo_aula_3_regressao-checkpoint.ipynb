{
 "cells": [
  {
   "cell_type": "markdown",
   "metadata": {},
   "source": [
    "# Exemplo Regressão Linear"
   ]
  },
  {
   "cell_type": "markdown",
   "metadata": {},
   "source": [
    "Neste exemplo iremos apresentar um modelo de regressão linear. O dataset utilizado será o Hatco, este banco de dados está presente no Livro de Hair, Joseph F. Multivariate Data Analysis. 6th ed. Upper Saddle River, N.J.: Pearson Prentice Hall, 2006.\n",
    "\n",
    "A Hatco é uma empresa fictícia de fornecimento para indústrias, os dados representam uma pesquisa de satisfação realizada com clientes da empresa. Por meio de várias características observadas, podemos criar um modelo que irá prever o quanto um consumidor está satisfeito com tais serviços."
   ]
  },
  {
   "cell_type": "markdown",
   "metadata": {},
   "source": [
    "O modelo a ser ajustado será: \n",
    "\n",
    "$$\n",
    "\\begin{equation}\n",
    "nivelsatisfacao_i = \\beta_0 + \\beta_1 caracteristicas + \\epsilon_i\n",
    "\\tag{1}\n",
    "\\end{equation}\n",
    "$$"
   ]
  },
  {
   "cell_type": "markdown",
   "metadata": {},
   "source": [
    "## Carregar pacotes"
   ]
  },
  {
   "cell_type": "code",
   "execution_count": null,
   "metadata": {},
   "outputs": [],
   "source": [
    "library(tidyverse)\n",
    "library(magrittr)\n",
    "library(Hmisc)"
   ]
  },
  {
   "cell_type": "markdown",
   "metadata": {},
   "source": [
    "## Carregar dados"
   ]
  },
  {
   "cell_type": "code",
   "execution_count": null,
   "metadata": {},
   "outputs": [],
   "source": [
    "dados_hatco <- read_csv2( file = \"/home/vmsenac/dados/hatco_csv.csv\" )\n",
    "dados_hatco"
   ]
  },
  {
   "cell_type": "markdown",
   "metadata": {},
   "source": [
    "## Análises"
   ]
  },
  {
   "cell_type": "markdown",
   "metadata": {},
   "source": [
    "Antes de iniciarmos as análises, observam-se dados faltantes (*missings*) no banco de dados. Desta forma, vamos ajustar este problema para depois estimarmos os modelos de regressão.\n",
    "\n",
    "Para o caso de variáveis categóricas iremos utilizar o método do valor mais frequente. Para as variáveis quantitativas iremos imputar a média. (na prática, utilizamos vários métodos e escolhemos o que resultará num menor erro do modelo)"
   ]
  },
  {
   "cell_type": "markdown",
   "metadata": {},
   "source": [
    "### Ajustar *missings* variáveis categóricas - Valor mais frequente"
   ]
  },
  {
   "cell_type": "markdown",
   "metadata": {},
   "source": [
    "As variáveis categóricas são:\n",
    "- tamanho_firma;\n",
    "- area_industria."
   ]
  },
  {
   "cell_type": "code",
   "execution_count": null,
   "metadata": {},
   "outputs": [],
   "source": [
    "# tamanho da firma\n",
    "dados_hatco %>% \n",
    "  count( tamanho_firma )"
   ]
  },
  {
   "cell_type": "code",
   "execution_count": null,
   "metadata": {},
   "outputs": [],
   "source": [
    "# area industria\n",
    "dados_hatco %>% \n",
    "  count( area_industria )"
   ]
  },
  {
   "cell_type": "markdown",
   "metadata": {},
   "source": [
    "Para tamanho da firma, a categoria \"pequena\" foi a mais frequente. No caso de area_industria, temos a categoria \"outra_area\"."
   ]
  },
  {
   "cell_type": "code",
   "execution_count": null,
   "metadata": {},
   "outputs": [],
   "source": [
    "dados_hatco %<>% \n",
    "  mutate(tamanho_firma_2 = impute( tamanho_firma, 'pequena' ),\n",
    "         area_industria_2 = impute( area_industria, 'outra_area' ) )"
   ]
  },
  {
   "cell_type": "markdown",
   "metadata": {},
   "source": [
    "### Ajustar *missings* variáveis quantitativas - Média"
   ]
  },
  {
   "cell_type": "markdown",
   "metadata": {},
   "source": [
    "As variáveis quantitativas são:\n",
    "- velocidade_entrega;\n",
    "- nivel_preco;\n",
    "- flexibilidade_preco;\n",
    "- imagem_fornecedor;\n",
    "- qualidade_servico;\n",
    "- imagem_forca_vendas;\n",
    "- qualidade_produto;\n",
    "- nivel_satisfacao."
   ]
  },
  {
   "cell_type": "code",
   "execution_count": null,
   "metadata": {},
   "outputs": [],
   "source": [
    "dados_hatco %<>% \n",
    "  mutate(velocidade_entrega_2 = impute( velocidade_entrega, mean ),\n",
    "         nivel_preco_2 = impute( nivel_preco, mean ),\n",
    "         flexibilidade_preco_2 = impute( flexibilidade_preco, mean ),\n",
    "         imagem_fornecedor_2 = impute( imagem_fornecedor, mean ),\n",
    "         qualidade_servico_2 =  impute( qualidade_servico, mean ),\n",
    "         imagem_forca_vendas_2 =  impute( imagem_forca_vendas, mean ),\n",
    "         qualidade_produto_2 =  impute( qualidade_produto, mean ),\n",
    "         nivel_satisfacao_2 =  impute( nivel_satisfacao, mean ) )"
   ]
  },
  {
   "cell_type": "markdown",
   "metadata": {},
   "source": [
    "### Divisão das amostras treinamento e teste"
   ]
  },
  {
   "cell_type": "markdown",
   "metadata": {},
   "source": [
    "Primeiramente vamos manter no banco somente as variáveis que serão utilizadas, depois iremos dividir em amostra de treino e teste."
   ]
  },
  {
   "cell_type": "code",
   "execution_count": null,
   "metadata": {},
   "outputs": [],
   "source": [
    "dados_hatco_sem_missings <- dados_hatco %>% \n",
    "                                select( contains('_2') )"
   ]
  },
  {
   "cell_type": "code",
   "execution_count": null,
   "metadata": {},
   "outputs": [],
   "source": [
    "# amostra de treino\n",
    "dados_hatco_train <- dados_hatco_sem_missings %>% \n",
    "                        sample_frac(., 0.7)"
   ]
  },
  {
   "cell_type": "code",
   "execution_count": null,
   "metadata": {
    "scrolled": true
   },
   "outputs": [],
   "source": [
    "# amostra de teste\n",
    "dados_hatco_test <- setdiff( dados_hatco_sem_missings, dados_hatco_train )"
   ]
  },
  {
   "cell_type": "markdown",
   "metadata": {},
   "source": [
    "### Treinamento modelo de regressão linear"
   ]
  },
  {
   "cell_type": "markdown",
   "metadata": {},
   "source": [
    "- modelo 1: modelo sem variáveis"
   ]
  },
  {
   "cell_type": "code",
   "execution_count": null,
   "metadata": {},
   "outputs": [],
   "source": [
    "model_null <- lm( formula = nivel_satisfacao_2 ~ 1, \n",
    "                  data = dados_hatco_train )\n",
    "summary(model_null)"
   ]
  },
  {
   "cell_type": "markdown",
   "metadata": {},
   "source": [
    "- modelo 2: modelo com todas as variáveis"
   ]
  },
  {
   "cell_type": "code",
   "execution_count": null,
   "metadata": {},
   "outputs": [],
   "source": [
    "model_full <- lm( formula = nivel_satisfacao_2 ~ ., \n",
    "                  data = dados_hatco_train )\n",
    "summary(model_full)"
   ]
  },
  {
   "cell_type": "markdown",
   "metadata": {},
   "source": [
    "- modelo 3: método de seleção backward"
   ]
  },
  {
   "cell_type": "code",
   "execution_count": null,
   "metadata": {},
   "outputs": [],
   "source": [
    "model_backward <- step( model_full, \n",
    "                        scope = list( lower = model_null, upper = model_full ), \n",
    "                        direction = \"backward\")\n",
    "summary(model_backward)"
   ]
  },
  {
   "cell_type": "markdown",
   "metadata": {},
   "source": [
    "- modelo 4: método de seleção forward"
   ]
  },
  {
   "cell_type": "code",
   "execution_count": null,
   "metadata": {},
   "outputs": [],
   "source": [
    "model_forward <- step( model_null, \n",
    "                       scope = list( lower = model_null, upper = model_full ), \n",
    "                       direction = \"forward\")\n",
    "summary(model_forward)"
   ]
  },
  {
   "cell_type": "markdown",
   "metadata": {},
   "source": [
    "- modelo 5: método de seleção stepwise"
   ]
  },
  {
   "cell_type": "code",
   "execution_count": null,
   "metadata": {},
   "outputs": [],
   "source": [
    "model_stepwise <- step( model_null, \n",
    "                       scope = list( lower = model_null, upper = model_full ), \n",
    "                       direction = \"both\")\n",
    "summary(model_stepwise)"
   ]
  },
  {
   "cell_type": "markdown",
   "metadata": {},
   "source": [
    "### Teste dos modelos de regressão linear"
   ]
  },
  {
   "cell_type": "markdown",
   "metadata": {},
   "source": [
    "Para os problemas de regressão linear, iremos utilizar a métrica RMSE (*Root Mean Squared Error*) para validação dos modelos."
   ]
  },
  {
   "cell_type": "markdown",
   "metadata": {},
   "source": [
    "- Gera as previsões"
   ]
  },
  {
   "cell_type": "code",
   "execution_count": null,
   "metadata": {},
   "outputs": [],
   "source": [
    "dados_hatco_test %<>% \n",
    "    mutate( previsao_model_null = predict( model_null, .),\n",
    "            previsao_model_full = predict( model_full, .),\n",
    "            previsao_model_backward = predict( model_backward, .),\n",
    "            previsao_model_forward = predict( model_forward, .),\n",
    "            previsao_model_stepwise = predict( model_stepwise, .) )"
   ]
  },
  {
   "cell_type": "markdown",
   "metadata": {},
   "source": [
    "- Realiza os testes"
   ]
  },
  {
   "cell_type": "code",
   "execution_count": null,
   "metadata": {},
   "outputs": [],
   "source": [
    "dados_hatco_test %>% \n",
    "    summarise( rmse_model_null = sqrt( mean( (previsao_model_null - nivel_satisfacao_2)^2 ) ),\n",
    "               rmse_model_full = sqrt( mean( (previsao_model_full - nivel_satisfacao_2)^2 ) ),\n",
    "               rmse_model_backward = sqrt( mean( (previsao_model_backward - nivel_satisfacao_2)^2 ) ),\n",
    "               rmse_model_forward = sqrt( mean( (previsao_model_forward - nivel_satisfacao_2)^2 ) ),\n",
    "               rmse_model_stepwise = sqrt( mean( (previsao_model_stepwise - nivel_satisfacao_2)^2 ) ) )"
   ]
  },
  {
   "cell_type": "markdown",
   "metadata": {},
   "source": [
    "No presente caso, o modelo 2 (utiliza todas as variáveis) apresentou menor erro na amostra de teste, sendo considerado o melhor."
   ]
  }
 ],
 "metadata": {
  "kernelspec": {
   "display_name": "R",
   "language": "R",
   "name": "ir"
  },
  "language_info": {
   "codemirror_mode": "r",
   "file_extension": ".r",
   "mimetype": "text/x-r-source",
   "name": "R",
   "pygments_lexer": "r",
   "version": "3.4.4"
  }
 },
 "nbformat": 4,
 "nbformat_minor": 2
}
