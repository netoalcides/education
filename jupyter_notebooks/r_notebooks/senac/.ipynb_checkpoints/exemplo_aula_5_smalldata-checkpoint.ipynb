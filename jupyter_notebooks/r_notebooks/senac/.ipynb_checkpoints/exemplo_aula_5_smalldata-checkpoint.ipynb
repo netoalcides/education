{
 "cells": [
  {
   "cell_type": "markdown",
   "metadata": {},
   "source": [
    "# Sistemas de recomendação"
   ]
  },
  {
   "cell_type": "markdown",
   "metadata": {},
   "source": [
    "Neste exemplo, iremos apresentar algumas formas de desenvolver um sistema de recomendação para filmes.\n",
    "\n",
    "Será apresentada a metodologia para Filtragem Colaborativa."
   ]
  },
  {
   "cell_type": "markdown",
   "metadata": {},
   "source": [
    "## Carregar pacotes"
   ]
  },
  {
   "cell_type": "code",
   "execution_count": null,
   "metadata": {},
   "outputs": [],
   "source": [
    "library(reshape2)\n",
    "library(tidyverse)\n",
    "library(magrittr)\n",
    "library(recommenderlab)\n",
    "library(Matrix)\n",
    "library(NMF)\n",
    "library(NNLM)"
   ]
  },
  {
   "cell_type": "markdown",
   "metadata": {},
   "source": [
    "## Carregar dados"
   ]
  },
  {
   "cell_type": "code",
   "execution_count": null,
   "metadata": {
    "scrolled": true
   },
   "outputs": [],
   "source": [
    "dados_ratings <- read_csv(\"/home/vm-data-science/education/dados/movies_ratings_example.csv\")"
   ]
  },
  {
   "cell_type": "code",
   "execution_count": null,
   "metadata": {
    "scrolled": true
   },
   "outputs": [],
   "source": [
    "dados_ratings %>% head"
   ]
  },
  {
   "cell_type": "markdown",
   "metadata": {},
   "source": [
    "## Análises"
   ]
  },
  {
   "cell_type": "markdown",
   "metadata": {},
   "source": [
    "### Transformar em matriz de usuário/item\n",
    "\n",
    "Os valores \"NA\" são os filmes que os usuários ainda não deram nota.\n",
    "\n",
    "O objetivo é estimar estes valores pelos métodos que serão apresentados para sabermos se devemos recomendar ou não estes filmes."
   ]
  },
  {
   "cell_type": "code",
   "execution_count": null,
   "metadata": {},
   "outputs": [],
   "source": [
    "user_item_matrix <- dados_ratings %>% \n",
    "  spread( key = movie, value = rating ) %>% \n",
    "  select( -user )"
   ]
  },
  {
   "cell_type": "code",
   "execution_count": null,
   "metadata": {},
   "outputs": [],
   "source": [
    "user_item_matrix"
   ]
  },
  {
   "cell_type": "markdown",
   "metadata": {},
   "source": [
    "## Algoritmos baseados em memória (*Memory Based Reasoning*)\n",
    "\n",
    "Estes algoritmos, primeiramente, calculam a similaridade entre os usuários (*User based filtering*) ou itens (*Item based filtering*). Iremos apresentar ambos métodos.\n",
    "\n",
    "Para realizar os cálculos, iremos utilizar as funções do pacote recommenderlab.\n",
    "\n",
    "Neste pacote, primeiramente devemos transformar a matriz para o formato \"realRatingMatrix\"."
   ]
  },
  {
   "cell_type": "code",
   "execution_count": null,
   "metadata": {},
   "outputs": [],
   "source": [
    "user_item_matrix_reclab <- as.matrix(user_item_matrix[,-1]) %>% \n",
    "                                as(., \"realRatingMatrix\")"
   ]
  },
  {
   "cell_type": "code",
   "execution_count": null,
   "metadata": {},
   "outputs": [],
   "source": [
    "user_item_matrix_reclab"
   ]
  },
  {
   "cell_type": "markdown",
   "metadata": {},
   "source": [
    "### ***Item Based filtering***\n",
    "\n",
    "Este método segue as etapas:\n",
    "\n",
    "1 - Para cada 2 itens, calcule a similaridade entre eles.\n",
    "\n",
    "2 - Para cada item, identifique os *k* itens mais similares. \n",
    "\n",
    "3 - Identifique os grupos de itens mais associados para cada usuário.\n",
    "\n",
    "4 - Recomende o grupo de itens que estão mais associados ao usuário."
   ]
  },
  {
   "cell_type": "markdown",
   "metadata": {},
   "source": [
    "- **Matriz de distâncias**\n",
    "\n",
    "A matriz de distância será calculada em relação aos filmes (6 x 6), iremos apresentar uma amostra.\n",
    "\n",
    "A diagonal é zero porque a distância entre o item e ele mesmo é igual. O método de cálculo da distância foi o coseno."
   ]
  },
  {
   "cell_type": "code",
   "execution_count": null,
   "metadata": {},
   "outputs": [],
   "source": [
    "similarity_items <- similarity(user_item_matrix_reclab, \n",
    "                               method = \"cosine\", \n",
    "                               which = \"items\")\n",
    "as.matrix(similarity_items)"
   ]
  },
  {
   "cell_type": "markdown",
   "metadata": {},
   "source": [
    "- **Construção do modelo**\n",
    "\n",
    "A matriz de similaridades é construída internamente no modelo."
   ]
  },
  {
   "cell_type": "code",
   "execution_count": null,
   "metadata": {},
   "outputs": [],
   "source": [
    "# cuidado - demora bastante se a matriz for muito grande\n",
    "# https://github.com/mhahsler/recommenderlab/blob/master/R/RECOM_IBCF.R\n",
    "\n",
    "item_based_rec_model <- Recommender( data = user_item_matrix_reclab, \n",
    "                                     method = \"IBCF\", # Item based\n",
    "                                     parameter = list(k = 3, normalize = NULL))"
   ]
  },
  {
   "cell_type": "code",
   "execution_count": null,
   "metadata": {},
   "outputs": [],
   "source": [
    "item_based_rec_model@model"
   ]
  },
  {
   "cell_type": "markdown",
   "metadata": {},
   "source": [
    "- **Uso do modelo**"
   ]
  },
  {
   "cell_type": "code",
   "execution_count": null,
   "metadata": {},
   "outputs": [],
   "source": [
    "numero_recomendações <- 5"
   ]
  },
  {
   "cell_type": "code",
   "execution_count": null,
   "metadata": {},
   "outputs": [],
   "source": [
    "item_based_recomendacoes <- predict( item_based_rec_model,\n",
    "                                     user_item_matrix_reclab,\n",
    "                                     n = numero_recomendações )"
   ]
  },
  {
   "cell_type": "markdown",
   "metadata": {},
   "source": [
    "- **Avaliações previstas para os filmes não vistos**"
   ]
  },
  {
   "cell_type": "code",
   "execution_count": null,
   "metadata": {},
   "outputs": [],
   "source": [
    "movies <- sapply( item_based_recomendacoes@items, \n",
    "                  function(x){ colnames(user_item_matrix[,-1])[x] } )\n",
    "\n",
    "dados_ratings_previstos_ibcf <- cbind( melt(movies), ratings = item_based_recomendacoes@ratings %>% unlist )\n",
    "\n",
    "dados_ratings_previstos_ibcf %<>% \n",
    "  rename( user_id = L1 ) %>% \n",
    "  left_join(., dados_ratings %>% \n",
    "              distinct( user, user_id),\n",
    "            by =\"user_id\" )"
   ]
  },
  {
   "cell_type": "code",
   "execution_count": null,
   "metadata": {
    "scrolled": true
   },
   "outputs": [],
   "source": [
    "dados_ratings_previstos_ibcf"
   ]
  },
  {
   "cell_type": "code",
   "execution_count": null,
   "metadata": {},
   "outputs": [],
   "source": [
    "dados_ratings_previstos_ibcf %>% \n",
    "    filter( user_id == 5 ) %>% \n",
    "    arrange( desc(ratings) )"
   ]
  },
  {
   "cell_type": "markdown",
   "metadata": {},
   "source": [
    "### ***User based filtering***"
   ]
  },
  {
   "cell_type": "markdown",
   "metadata": {},
   "source": [
    "- **Matriz de distâncias**\n",
    "\n",
    "A diagonal é zero porque a distância entre o usuário e ele mesmo é igual. O método de cálculo da distância foi o coseno."
   ]
  },
  {
   "cell_type": "code",
   "execution_count": null,
   "metadata": {},
   "outputs": [],
   "source": [
    "similarity_users <- similarity(user_item_matrix_reclab, \n",
    "                               method = \"cosine\", \n",
    "                               which = \"users\")\n",
    "as.matrix(similarity_users)"
   ]
  },
  {
   "cell_type": "markdown",
   "metadata": {},
   "source": [
    "- **Construção do modelo**"
   ]
  },
  {
   "cell_type": "code",
   "execution_count": null,
   "metadata": {},
   "outputs": [],
   "source": [
    "user_based_rec_model <- Recommender( data = user_item_matrix_reclab, \n",
    "                                     method = \"UBCF\", # User based \n",
    "                                     parameter = list(nn = 3, normalize = NULL) )"
   ]
  },
  {
   "cell_type": "code",
   "execution_count": null,
   "metadata": {},
   "outputs": [],
   "source": [
    "user_based_rec_model@model"
   ]
  },
  {
   "cell_type": "markdown",
   "metadata": {},
   "source": [
    "- **Uso do modelo**"
   ]
  },
  {
   "cell_type": "code",
   "execution_count": null,
   "metadata": {},
   "outputs": [],
   "source": [
    "numero_recomendacoes <- 10"
   ]
  },
  {
   "cell_type": "code",
   "execution_count": null,
   "metadata": {},
   "outputs": [],
   "source": [
    "user_based_recomendacoes <- predict( user_based_rec_model,\n",
    "                                     user_item_matrix_reclab,\n",
    "                                     n = numero_recomendações )"
   ]
  },
  {
   "cell_type": "markdown",
   "metadata": {},
   "source": [
    "- **Recomendação de filmes para o usuário**"
   ]
  },
  {
   "cell_type": "code",
   "execution_count": null,
   "metadata": {},
   "outputs": [],
   "source": [
    "movies <- sapply( user_based_recomendacoes@items, \n",
    "                  function(x){ colnames(user_item_matrix[,-1])[x] } )\n",
    "\n",
    "dados_ratings_previstos_ubcf <- cbind( melt(movies), ratings = user_based_recomendacoes@ratings %>% unlist )\n",
    "\n",
    "dados_ratings_previstos_ubcf %<>% \n",
    "  rename( user_id = L1 ) %>% \n",
    "  left_join(., dados_ratings %>% \n",
    "              distinct( user, user_id),\n",
    "            by =\"user_id\" )"
   ]
  },
  {
   "cell_type": "code",
   "execution_count": null,
   "metadata": {
    "scrolled": true
   },
   "outputs": [],
   "source": [
    "dados_ratings_previstos_ubcf"
   ]
  },
  {
   "cell_type": "code",
   "execution_count": null,
   "metadata": {},
   "outputs": [],
   "source": [
    "dados_ratings_previstos_ubcf %>% \n",
    "    filter( user_id == 3 ) %>% \n",
    "    arrange( desc(ratings) )"
   ]
  },
  {
   "cell_type": "markdown",
   "metadata": {},
   "source": [
    "## Algoritmos baseados em modelos\n",
    "\n",
    "Por meio da técnica de fatoração de matrizes, esses algoritmos preenchem os valores \"NA\" diretamente na matriz de usuários e itens.\n",
    "\n",
    "Será utilizado o pacote NNLM combinado com o pacote NMF. Este pacote permite o uso de modelos baseados em *Alternating Least Squares*, estes proporcionam ganho de tempo e memória para estimar os *ratings*.\n",
    "\n",
    "https://towardsdatascience.com/prototyping-a-recommender-system-step-by-step-part-2-alternating-least-square-als-matrix-4a76c58714a1"
   ]
  },
  {
   "cell_type": "code",
   "execution_count": null,
   "metadata": {},
   "outputs": [],
   "source": [
    "user_item_matrix_nnlm <- as.matrix(user_item_matrix[,-1])"
   ]
  },
  {
   "cell_type": "code",
   "execution_count": null,
   "metadata": {},
   "outputs": [],
   "source": [
    "user_item_matrix_nnlm"
   ]
  },
  {
   "cell_type": "code",
   "execution_count": null,
   "metadata": {},
   "outputs": [],
   "source": [
    "fatoracao_rec_model <- nnmf(user_item_matrix_nnlm, \n",
    "                            k = 2,  \n",
    "                            method = 'scd', \n",
    "                            loss = 'mse')"
   ]
  },
  {
   "cell_type": "code",
   "execution_count": null,
   "metadata": {},
   "outputs": [],
   "source": [
    "complete_user_item_matrix <- fatoracao_rec_model$W %*% fatoracao_rec_model$H"
   ]
  },
  {
   "cell_type": "code",
   "execution_count": null,
   "metadata": {},
   "outputs": [],
   "source": [
    "complete_user_item_matrix"
   ]
  },
  {
   "cell_type": "markdown",
   "metadata": {},
   "source": [
    "Podemos combinar as duas matrizes para obter os *ratings* dos filmes ainda não foram assistidos e poderão ser recomendados."
   ]
  },
  {
   "cell_type": "code",
   "execution_count": null,
   "metadata": {},
   "outputs": [],
   "source": [
    "matriz_recomendacoes <- ( is.na(user_item_matrix_nnlm) == TRUE ) * round(complete_user_item_matrix, 2)"
   ]
  },
  {
   "cell_type": "code",
   "execution_count": null,
   "metadata": {},
   "outputs": [],
   "source": [
    "matriz_recomendacoes"
   ]
  },
  {
   "cell_type": "markdown",
   "metadata": {},
   "source": [
    "Associamos novamente com os usuários."
   ]
  },
  {
   "cell_type": "code",
   "execution_count": null,
   "metadata": {},
   "outputs": [],
   "source": [
    "matriz_recomendacoes <- cbind( user_item_matrix$user_id, data.frame(matriz_recomendacoes) )"
   ]
  },
  {
   "cell_type": "code",
   "execution_count": null,
   "metadata": {},
   "outputs": [],
   "source": [
    "# alguns ajustes\n",
    "matriz_recomendacoes %<>% \n",
    "    rename( user_id = `user_item_matrix$user_id` )"
   ]
  },
  {
   "cell_type": "code",
   "execution_count": null,
   "metadata": {
    "scrolled": true
   },
   "outputs": [],
   "source": [
    "matriz_recomendacoes %<>% \n",
    "    left_join(., dados_ratings %>% \n",
    "              distinct( user, user_id),\n",
    "            by =\"user_id\" )"
   ]
  },
  {
   "cell_type": "code",
   "execution_count": null,
   "metadata": {},
   "outputs": [],
   "source": [
    "matriz_recomendacoes"
   ]
  },
  {
   "cell_type": "markdown",
   "metadata": {},
   "source": [
    "Podemos ajustar para organizar um banco de dados ordenado com as possíveis recomendações."
   ]
  },
  {
   "cell_type": "code",
   "execution_count": null,
   "metadata": {},
   "outputs": [],
   "source": [
    "banco_ratings <- matriz_recomendacoes %>% \n",
    "    gather( key = movie, value = ratings, -c(user_id, user)  ) %>% \n",
    "    filter( ratings > 0 )"
   ]
  },
  {
   "cell_type": "code",
   "execution_count": null,
   "metadata": {},
   "outputs": [],
   "source": [
    "banco_ratings"
   ]
  },
  {
   "cell_type": "markdown",
   "metadata": {},
   "source": [
    "Podemos ver as 5 melhores recomendações para o usuário 6."
   ]
  },
  {
   "cell_type": "code",
   "execution_count": null,
   "metadata": {
    "scrolled": false
   },
   "outputs": [],
   "source": [
    "banco_ratings %>% \n",
    "    filter( user_id == 3 ) %>% \n",
    "    arrange( desc(ratings) ) %>% \n",
    "    head(5)"
   ]
  },
  {
   "cell_type": "markdown",
   "metadata": {},
   "source": [
    "## Comparações"
   ]
  },
  {
   "cell_type": "code",
   "execution_count": null,
   "metadata": {},
   "outputs": [],
   "source": [
    "dados_ratings_previstos_ibcf %>% \n",
    "    filter( user_id == 3 ) %>% \n",
    "    arrange( desc(ratings) )"
   ]
  },
  {
   "cell_type": "code",
   "execution_count": null,
   "metadata": {},
   "outputs": [],
   "source": [
    "dados_ratings_previstos_ubcf %>% \n",
    "    filter( user_id == 3 ) %>% \n",
    "    arrange( desc(ratings) )"
   ]
  },
  {
   "cell_type": "code",
   "execution_count": null,
   "metadata": {},
   "outputs": [],
   "source": [
    "banco_ratings %>% \n",
    "    filter( user_id == 3 ) %>% \n",
    "    arrange( desc(ratings) )"
   ]
  },
  {
   "cell_type": "code",
   "execution_count": null,
   "metadata": {},
   "outputs": [],
   "source": []
  }
 ],
 "metadata": {
  "kernelspec": {
   "display_name": "R",
   "language": "R",
   "name": "ir"
  },
  "language_info": {
   "codemirror_mode": "r",
   "file_extension": ".r",
   "mimetype": "text/x-r-source",
   "name": "R",
   "pygments_lexer": "r",
   "version": "3.4.4"
  }
 },
 "nbformat": 4,
 "nbformat_minor": 2
}
