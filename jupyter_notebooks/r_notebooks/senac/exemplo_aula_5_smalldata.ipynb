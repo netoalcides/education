{
 "cells": [
  {
   "cell_type": "markdown",
   "metadata": {},
   "source": [
    "# Sistemas de recomendação"
   ]
  },
  {
   "cell_type": "markdown",
   "metadata": {},
   "source": [
    "Neste exemplo, iremos apresentar algumas formas de desenvolver um sistema de recomendação para filmes.\n",
    "\n",
    "Será apresentada a metodologia para Filtragem Colaborativa."
   ]
  },
  {
   "cell_type": "markdown",
   "metadata": {},
   "source": [
    "## Carregar pacotes"
   ]
  },
  {
   "cell_type": "code",
   "execution_count": 1,
   "metadata": {},
   "outputs": [
    {
     "name": "stderr",
     "output_type": "stream",
     "text": [
      "── Attaching packages ─────────────────────────────────────── tidyverse 1.2.1 ──\n",
      "✔ ggplot2 3.0.0     ✔ purrr   0.2.5\n",
      "✔ tibble  1.4.2     ✔ dplyr   0.7.6\n",
      "✔ tidyr   0.8.1     ✔ stringr 1.3.1\n",
      "✔ readr   1.1.1     ✔ forcats 0.3.0\n",
      "── Conflicts ────────────────────────────────────────── tidyverse_conflicts() ──\n",
      "✖ dplyr::filter() masks stats::filter()\n",
      "✖ dplyr::lag()    masks stats::lag()\n",
      "\n",
      "Attaching package: ‘magrittr’\n",
      "\n",
      "The following object is masked from ‘package:purrr’:\n",
      "\n",
      "    set_names\n",
      "\n",
      "The following object is masked from ‘package:tidyr’:\n",
      "\n",
      "    extract\n",
      "\n",
      "Loading required package: Matrix\n",
      "\n",
      "Attaching package: ‘Matrix’\n",
      "\n",
      "The following object is masked from ‘package:tidyr’:\n",
      "\n",
      "    expand\n",
      "\n",
      "Loading required package: arules\n",
      "\n",
      "Attaching package: ‘arules’\n",
      "\n",
      "The following object is masked from ‘package:dplyr’:\n",
      "\n",
      "    recode\n",
      "\n",
      "The following objects are masked from ‘package:base’:\n",
      "\n",
      "    abbreviate, write\n",
      "\n",
      "Loading required package: proxy\n",
      "\n",
      "Attaching package: ‘proxy’\n",
      "\n",
      "The following object is masked from ‘package:Matrix’:\n",
      "\n",
      "    as.matrix\n",
      "\n",
      "The following objects are masked from ‘package:stats’:\n",
      "\n",
      "    as.dist, dist\n",
      "\n",
      "The following object is masked from ‘package:base’:\n",
      "\n",
      "    as.matrix\n",
      "\n",
      "Loading required package: registry\n",
      "Loading required package: pkgmaker\n",
      "Loading required package: rngtools\n",
      "Loading required package: cluster\n",
      "NMF - BioConductor layer [NO: missing Biobase] | Shared memory capabilities [NO: bigmemory] | Cores 3/4\n",
      "  To enable the Bioconductor layer, try: install.extras('\n",
      "NMF\n",
      "') [with Bioconductor repository enabled]\n",
      "  To enable shared memory capabilities, try: install.extras('\n",
      "NMF\n",
      "')\n"
     ]
    }
   ],
   "source": [
    "library(reshape2)\n",
    "library(tidyverse)\n",
    "library(magrittr)\n",
    "library(recommenderlab)\n",
    "library(Matrix)\n",
    "library(NMF)\n",
    "library(NNLM)"
   ]
  },
  {
   "cell_type": "markdown",
   "metadata": {},
   "source": [
    "## Carregar dados"
   ]
  },
  {
   "cell_type": "code",
   "execution_count": 2,
   "metadata": {
    "scrolled": true
   },
   "outputs": [
    {
     "name": "stderr",
     "output_type": "stream",
     "text": [
      "Parsed with column specification:\n",
      "cols(\n",
      "  user_id = col_integer(),\n",
      "  user = col_character(),\n",
      "  movie = col_character(),\n",
      "  rating = col_double()\n",
      ")\n"
     ]
    }
   ],
   "source": [
    "dados_ratings <- read_csv(\"/home/vm-data-science/education/dados/movies_ratings_example.csv\")"
   ]
  },
  {
   "cell_type": "code",
   "execution_count": 3,
   "metadata": {
    "scrolled": true
   },
   "outputs": [
    {
     "data": {
      "text/html": [
       "<table>\n",
       "<thead><tr><th scope=col>user_id</th><th scope=col>user</th><th scope=col>movie</th><th scope=col>rating</th></tr></thead>\n",
       "<tbody>\n",
       "\t<tr><td>1          </td><td>antonio    </td><td>batman     </td><td>2.5        </td></tr>\n",
       "\t<tr><td>1          </td><td>antonio    </td><td>matrix     </td><td>3.0        </td></tr>\n",
       "\t<tr><td>1          </td><td>antonio    </td><td>spiderman  </td><td>3.5        </td></tr>\n",
       "\t<tr><td>1          </td><td>antonio    </td><td>ella       </td><td>2.5        </td></tr>\n",
       "\t<tr><td>1          </td><td>antonio    </td><td>blue_lagoon</td><td>3.0        </td></tr>\n",
       "\t<tr><td>2          </td><td>nunes      </td><td>batman     </td><td>3.0        </td></tr>\n",
       "</tbody>\n",
       "</table>\n"
      ],
      "text/latex": [
       "\\begin{tabular}{r|llll}\n",
       " user\\_id & user & movie & rating\\\\\n",
       "\\hline\n",
       "\t 1           & antonio     & batman      & 2.5        \\\\\n",
       "\t 1           & antonio     & matrix      & 3.0        \\\\\n",
       "\t 1           & antonio     & spiderman   & 3.5        \\\\\n",
       "\t 1           & antonio     & ella        & 2.5        \\\\\n",
       "\t 1             & antonio       & blue\\_lagoon & 3.0          \\\\\n",
       "\t 2           & nunes       & batman      & 3.0        \\\\\n",
       "\\end{tabular}\n"
      ],
      "text/markdown": [
       "\n",
       "user_id | user | movie | rating | \n",
       "|---|---|---|---|---|---|\n",
       "| 1           | antonio     | batman      | 2.5         | \n",
       "| 1           | antonio     | matrix      | 3.0         | \n",
       "| 1           | antonio     | spiderman   | 3.5         | \n",
       "| 1           | antonio     | ella        | 2.5         | \n",
       "| 1           | antonio     | blue_lagoon | 3.0         | \n",
       "| 2           | nunes       | batman      | 3.0         | \n",
       "\n",
       "\n"
      ],
      "text/plain": [
       "  user_id user    movie       rating\n",
       "1 1       antonio batman      2.5   \n",
       "2 1       antonio matrix      3.0   \n",
       "3 1       antonio spiderman   3.5   \n",
       "4 1       antonio ella        2.5   \n",
       "5 1       antonio blue_lagoon 3.0   \n",
       "6 2       nunes   batman      3.0   "
      ]
     },
     "metadata": {},
     "output_type": "display_data"
    }
   ],
   "source": [
    "dados_ratings %>% head"
   ]
  },
  {
   "cell_type": "markdown",
   "metadata": {},
   "source": [
    "## Análises"
   ]
  },
  {
   "cell_type": "markdown",
   "metadata": {},
   "source": [
    "### Transformar em matriz de usuário/item\n",
    "\n",
    "Os valores \"NA\" são os filmes que os usuários ainda não deram nota.\n",
    "\n",
    "O objetivo é estimar estes valores pelos métodos que serão apresentados para sabermos se devemos recomendar ou não estes filmes."
   ]
  },
  {
   "cell_type": "code",
   "execution_count": 4,
   "metadata": {},
   "outputs": [],
   "source": [
    "user_item_matrix <- dados_ratings %>% \n",
    "  spread( key = movie, value = rating ) %>% \n",
    "  select( -user )"
   ]
  },
  {
   "cell_type": "code",
   "execution_count": 5,
   "metadata": {},
   "outputs": [
    {
     "data": {
      "text/html": [
       "<table>\n",
       "<thead><tr><th scope=col>user_id</th><th scope=col>batman</th><th scope=col>blue_lagoon</th><th scope=col>ella</th><th scope=col>lost_in_translation</th><th scope=col>matrix</th><th scope=col>spiderman</th></tr></thead>\n",
       "<tbody>\n",
       "\t<tr><td>1  </td><td>2.5</td><td> 3 </td><td>2.5</td><td> NA</td><td>3.0</td><td>3.5</td></tr>\n",
       "\t<tr><td>2  </td><td>3.0</td><td> 4 </td><td> NA</td><td>3.5</td><td>3.5</td><td> NA</td></tr>\n",
       "\t<tr><td>3  </td><td> NA</td><td>NA </td><td>2.5</td><td>4.0</td><td>3.5</td><td>3.0</td></tr>\n",
       "\t<tr><td>4  </td><td> NA</td><td> 3 </td><td>2.0</td><td>3.0</td><td>4.0</td><td>2.0</td></tr>\n",
       "\t<tr><td>5  </td><td>3.0</td><td> 3 </td><td>3.5</td><td>5.0</td><td>4.0</td><td> NA</td></tr>\n",
       "\t<tr><td>6  </td><td> NA</td><td> 1 </td><td>4.0</td><td> NA</td><td>4.5</td><td> NA</td></tr>\n",
       "\t<tr><td>7  </td><td>3.0</td><td> 2 </td><td> NA</td><td> NA</td><td>3.5</td><td>4.0</td></tr>\n",
       "</tbody>\n",
       "</table>\n"
      ],
      "text/latex": [
       "\\begin{tabular}{r|lllllll}\n",
       " user\\_id & batman & blue\\_lagoon & ella & lost\\_in\\_translation & matrix & spiderman\\\\\n",
       "\\hline\n",
       "\t 1   & 2.5 &  3  & 2.5 &  NA & 3.0 & 3.5\\\\\n",
       "\t 2   & 3.0 &  4  &  NA & 3.5 & 3.5 &  NA\\\\\n",
       "\t 3   &  NA & NA  & 2.5 & 4.0 & 3.5 & 3.0\\\\\n",
       "\t 4   &  NA &  3  & 2.0 & 3.0 & 4.0 & 2.0\\\\\n",
       "\t 5   & 3.0 &  3  & 3.5 & 5.0 & 4.0 &  NA\\\\\n",
       "\t 6   &  NA &  1  & 4.0 &  NA & 4.5 &  NA\\\\\n",
       "\t 7   & 3.0 &  2  &  NA &  NA & 3.5 & 4.0\\\\\n",
       "\\end{tabular}\n"
      ],
      "text/markdown": [
       "\n",
       "user_id | batman | blue_lagoon | ella | lost_in_translation | matrix | spiderman | \n",
       "|---|---|---|---|---|---|---|\n",
       "| 1   | 2.5 |  3  | 2.5 |  NA | 3.0 | 3.5 | \n",
       "| 2   | 3.0 |  4  |  NA | 3.5 | 3.5 |  NA | \n",
       "| 3   |  NA | NA  | 2.5 | 4.0 | 3.5 | 3.0 | \n",
       "| 4   |  NA |  3  | 2.0 | 3.0 | 4.0 | 2.0 | \n",
       "| 5   | 3.0 |  3  | 3.5 | 5.0 | 4.0 |  NA | \n",
       "| 6   |  NA |  1  | 4.0 |  NA | 4.5 |  NA | \n",
       "| 7   | 3.0 |  2  |  NA |  NA | 3.5 | 4.0 | \n",
       "\n",
       "\n"
      ],
      "text/plain": [
       "  user_id batman blue_lagoon ella lost_in_translation matrix spiderman\n",
       "1 1       2.5     3          2.5   NA                 3.0    3.5      \n",
       "2 2       3.0     4           NA  3.5                 3.5     NA      \n",
       "3 3        NA    NA          2.5  4.0                 3.5    3.0      \n",
       "4 4        NA     3          2.0  3.0                 4.0    2.0      \n",
       "5 5       3.0     3          3.5  5.0                 4.0     NA      \n",
       "6 6        NA     1          4.0   NA                 4.5     NA      \n",
       "7 7       3.0     2           NA   NA                 3.5    4.0      "
      ]
     },
     "metadata": {},
     "output_type": "display_data"
    }
   ],
   "source": [
    "user_item_matrix"
   ]
  },
  {
   "cell_type": "markdown",
   "metadata": {},
   "source": [
    "## Algoritmos baseados em memória (*Memory Based Reasoning*)\n",
    "\n",
    "Estes algoritmos, primeiramente, calculam a similaridade entre os usuários (*User based filtering*) ou itens (*Item based filtering*). Iremos apresentar ambos métodos.\n",
    "\n",
    "Para realizar os cálculos, iremos utilizar as funções do pacote recommenderlab.\n",
    "\n",
    "Neste pacote, primeiramente devemos transformar a matriz para o formato \"realRatingMatrix\"."
   ]
  },
  {
   "cell_type": "code",
   "execution_count": 6,
   "metadata": {},
   "outputs": [],
   "source": [
    "user_item_matrix_reclab <- as.matrix(user_item_matrix[,-1]) %>% \n",
    "                                as(., \"realRatingMatrix\")"
   ]
  },
  {
   "cell_type": "code",
   "execution_count": 7,
   "metadata": {},
   "outputs": [
    {
     "data": {
      "text/plain": [
       "7 x 6 rating matrix of class ‘realRatingMatrix’ with 30 ratings."
      ]
     },
     "metadata": {},
     "output_type": "display_data"
    }
   ],
   "source": [
    "user_item_matrix_reclab"
   ]
  },
  {
   "cell_type": "markdown",
   "metadata": {},
   "source": [
    "### ***Item Based filtering***\n",
    "\n",
    "Este método segue as etapas:\n",
    "\n",
    "1 - Para cada 2 itens, calcule a similaridade entre eles.\n",
    "\n",
    "2 - Para cada item, identifique os *k* itens mais similares. \n",
    "\n",
    "3 - Identifique os grupos de itens mais associados para cada usuário.\n",
    "\n",
    "4 - Recomende o grupo de itens que estão mais associados ao usuário."
   ]
  },
  {
   "cell_type": "markdown",
   "metadata": {},
   "source": [
    "- **Matriz de distâncias**\n",
    "\n",
    "A matriz de distância será calculada em relação aos filmes (6 x 6), iremos apresentar uma amostra.\n",
    "\n",
    "A diagonal é zero porque a distância entre o item e ele mesmo é igual. O método de cálculo da distância foi o coseno."
   ]
  },
  {
   "cell_type": "code",
   "execution_count": 8,
   "metadata": {},
   "outputs": [
    {
     "data": {
      "text/html": [
       "<table>\n",
       "<thead><tr><th></th><th scope=col>batman</th><th scope=col>blue_lagoon</th><th scope=col>ella</th><th scope=col>lost_in_translation</th><th scope=col>matrix</th><th scope=col>spiderman</th></tr></thead>\n",
       "<tbody>\n",
       "\t<tr><th scope=row>batman</th><td>0.0000000</td><td>0.9705803</td><td>0.9972270</td><td>0.9847836</td><td>0.9982897</td><td>0.9997098</td></tr>\n",
       "\t<tr><th scope=row>blue_lagoon</th><td>0.9705803</td><td>0.0000000</td><td>0.8528029</td><td>0.9582708</td><td>0.9118390</td><td>0.9197925</td></tr>\n",
       "\t<tr><th scope=row>ella</th><td>0.9972270</td><td>0.8528029</td><td>0.0000000</td><td>0.9987770</td><td>0.9808042</td><td>0.9920930</td></tr>\n",
       "\t<tr><th scope=row>lost_in_translation</th><td>0.9847836</td><td>0.9582708</td><td>0.9987770</td><td>0.0000000</td><td>0.9822047</td><td>0.9984604</td></tr>\n",
       "\t<tr><th scope=row>matrix</th><td>0.9982897</td><td>0.9118390</td><td>0.9808042</td><td>0.9822047</td><td>0.0000000</td><td>0.9515988</td></tr>\n",
       "\t<tr><th scope=row>spiderman</th><td>0.9997098</td><td>0.9197925</td><td>0.9920930</td><td>0.9984604</td><td>0.9515988</td><td>0.0000000</td></tr>\n",
       "</tbody>\n",
       "</table>\n"
      ],
      "text/latex": [
       "\\begin{tabular}{r|llllll}\n",
       "  & batman & blue\\_lagoon & ella & lost\\_in\\_translation & matrix & spiderman\\\\\n",
       "\\hline\n",
       "\tbatman & 0.0000000 & 0.9705803 & 0.9972270 & 0.9847836 & 0.9982897 & 0.9997098\\\\\n",
       "\tblue\\_lagoon & 0.9705803 & 0.0000000 & 0.8528029 & 0.9582708 & 0.9118390 & 0.9197925\\\\\n",
       "\tella & 0.9972270 & 0.8528029 & 0.0000000 & 0.9987770 & 0.9808042 & 0.9920930\\\\\n",
       "\tlost\\_in\\_translation & 0.9847836 & 0.9582708 & 0.9987770 & 0.0000000 & 0.9822047 & 0.9984604\\\\\n",
       "\tmatrix & 0.9982897 & 0.9118390 & 0.9808042 & 0.9822047 & 0.0000000 & 0.9515988\\\\\n",
       "\tspiderman & 0.9997098 & 0.9197925 & 0.9920930 & 0.9984604 & 0.9515988 & 0.0000000\\\\\n",
       "\\end{tabular}\n"
      ],
      "text/markdown": [
       "\n",
       "| <!--/--> | batman | blue_lagoon | ella | lost_in_translation | matrix | spiderman | \n",
       "|---|---|---|---|---|---|\n",
       "| batman | 0.0000000 | 0.9705803 | 0.9972270 | 0.9847836 | 0.9982897 | 0.9997098 | \n",
       "| blue_lagoon | 0.9705803 | 0.0000000 | 0.8528029 | 0.9582708 | 0.9118390 | 0.9197925 | \n",
       "| ella | 0.9972270 | 0.8528029 | 0.0000000 | 0.9987770 | 0.9808042 | 0.9920930 | \n",
       "| lost_in_translation | 0.9847836 | 0.9582708 | 0.9987770 | 0.0000000 | 0.9822047 | 0.9984604 | \n",
       "| matrix | 0.9982897 | 0.9118390 | 0.9808042 | 0.9822047 | 0.0000000 | 0.9515988 | \n",
       "| spiderman | 0.9997098 | 0.9197925 | 0.9920930 | 0.9984604 | 0.9515988 | 0.0000000 | \n",
       "\n",
       "\n"
      ],
      "text/plain": [
       "                    batman    blue_lagoon ella      lost_in_translation\n",
       "batman              0.0000000 0.9705803   0.9972270 0.9847836          \n",
       "blue_lagoon         0.9705803 0.0000000   0.8528029 0.9582708          \n",
       "ella                0.9972270 0.8528029   0.0000000 0.9987770          \n",
       "lost_in_translation 0.9847836 0.9582708   0.9987770 0.0000000          \n",
       "matrix              0.9982897 0.9118390   0.9808042 0.9822047          \n",
       "spiderman           0.9997098 0.9197925   0.9920930 0.9984604          \n",
       "                    matrix    spiderman\n",
       "batman              0.9982897 0.9997098\n",
       "blue_lagoon         0.9118390 0.9197925\n",
       "ella                0.9808042 0.9920930\n",
       "lost_in_translation 0.9822047 0.9984604\n",
       "matrix              0.0000000 0.9515988\n",
       "spiderman           0.9515988 0.0000000"
      ]
     },
     "metadata": {},
     "output_type": "display_data"
    }
   ],
   "source": [
    "similarity_items <- similarity(user_item_matrix_reclab, \n",
    "                               method = \"cosine\", \n",
    "                               which = \"items\")\n",
    "as.matrix(similarity_items)"
   ]
  },
  {
   "cell_type": "markdown",
   "metadata": {},
   "source": [
    "- **Construção do modelo**\n",
    "\n",
    "A matriz de similaridades é construída internamente no modelo."
   ]
  },
  {
   "cell_type": "code",
   "execution_count": 9,
   "metadata": {},
   "outputs": [],
   "source": [
    "# cuidado - demora bastante se a matriz for muito grande\n",
    "# https://github.com/mhahsler/recommenderlab/blob/master/R/RECOM_IBCF.R\n",
    "\n",
    "item_based_rec_model <- Recommender( data = user_item_matrix_reclab, \n",
    "                                     method = \"IBCF\", # Item based\n",
    "                                     parameter = list(k = 3, normalize = NULL))"
   ]
  },
  {
   "cell_type": "code",
   "execution_count": 10,
   "metadata": {},
   "outputs": [
    {
     "data": {
      "text/plain": [
       "$description\n",
       "[1] \"IBCF: Reduced similarity matrix\"\n",
       "\n",
       "$sim\n",
       "6 x 6 sparse Matrix of class \"dgCMatrix\"\n",
       "                       batman blue_lagoon      ella lost_in_translation\n",
       "batman              .                   . 0.9972270           .        \n",
       "blue_lagoon         0.9705803           . .                   0.9582708\n",
       "ella                0.9972270           . .                   0.9987770\n",
       "lost_in_translation 0.9847836           . 0.9987770           .        \n",
       "matrix              0.9982897           . 0.9808042           0.9822047\n",
       "spiderman           0.9997098           . 0.9920930           0.9984604\n",
       "                       matrix spiderman\n",
       "batman              0.9982897 0.9997098\n",
       "blue_lagoon         .         0.9197925\n",
       "ella                .         0.9920930\n",
       "lost_in_translation .         0.9984604\n",
       "matrix              .         .        \n",
       "spiderman           .         .        \n",
       "\n",
       "$k\n",
       "[1] 3\n",
       "\n",
       "$method\n",
       "[1] \"Cosine\"\n",
       "\n",
       "$normalize\n",
       "NULL\n",
       "\n",
       "$normalize_sim_matrix\n",
       "[1] FALSE\n",
       "\n",
       "$alpha\n",
       "[1] 0.5\n",
       "\n",
       "$na_as_zero\n",
       "[1] FALSE\n",
       "\n",
       "$verbose\n",
       "[1] FALSE\n"
      ]
     },
     "metadata": {},
     "output_type": "display_data"
    }
   ],
   "source": [
    "item_based_rec_model@model"
   ]
  },
  {
   "cell_type": "markdown",
   "metadata": {},
   "source": [
    "- **Uso do modelo**"
   ]
  },
  {
   "cell_type": "code",
   "execution_count": 11,
   "metadata": {},
   "outputs": [],
   "source": [
    "numero_recomendações <- 5"
   ]
  },
  {
   "cell_type": "code",
   "execution_count": 12,
   "metadata": {},
   "outputs": [],
   "source": [
    "item_based_recomendacoes <- predict( item_based_rec_model,\n",
    "                                     user_item_matrix_reclab,\n",
    "                                     n = numero_recomendações )"
   ]
  },
  {
   "cell_type": "markdown",
   "metadata": {},
   "source": [
    "- **Avaliações previstas para os filmes não vistos**"
   ]
  },
  {
   "cell_type": "code",
   "execution_count": 13,
   "metadata": {},
   "outputs": [],
   "source": [
    "movies <- sapply( item_based_recomendacoes@items, \n",
    "                  function(x){ colnames(user_item_matrix[,-1])[x] } )\n",
    "\n",
    "dados_ratings_previstos_ibcf <- cbind( melt(movies), ratings = item_based_recomendacoes@ratings %>% unlist )\n",
    "\n",
    "dados_ratings_previstos_ibcf %<>% \n",
    "  rename( user_id = L1 ) %>% \n",
    "  left_join(., dados_ratings %>% \n",
    "              distinct( user, user_id),\n",
    "            by =\"user_id\" )"
   ]
  },
  {
   "cell_type": "code",
   "execution_count": 14,
   "metadata": {
    "scrolled": true
   },
   "outputs": [
    {
     "data": {
      "text/html": [
       "<table>\n",
       "<thead><tr><th scope=col>value</th><th scope=col>user_id</th><th scope=col>ratings</th><th scope=col>user</th></tr></thead>\n",
       "<tbody>\n",
       "\t<tr><td>lost_in_translation</td><td>1                  </td><td>2.834827           </td><td>antonio            </td></tr>\n",
       "\t<tr><td>ella               </td><td>2                  </td><td>3.250194           </td><td>nunes              </td></tr>\n",
       "\t<tr><td>spiderman          </td><td>2                  </td><td>3.249844           </td><td>nunes              </td></tr>\n",
       "\t<tr><td>blue_lagoon        </td><td>3                  </td><td>3.510244           </td><td>carlota            </td></tr>\n",
       "\t<tr><td>batman             </td><td>3                  </td><td>3.000177           </td><td>carlota            </td></tr>\n",
       "\t<tr><td>batman             </td><td>4                  </td><td>2.666587           </td><td>fiona              </td></tr>\n",
       "\t<tr><td>spiderman          </td><td>5                  </td><td>3.833695           </td><td>valkyria           </td></tr>\n",
       "\t<tr><td>batman             </td><td>6                  </td><td>4.250133           </td><td>jacinta            </td></tr>\n",
       "\t<tr><td>lost_in_translation</td><td>6                  </td><td>4.000000           </td><td>jacinta            </td></tr>\n",
       "\t<tr><td>spiderman          </td><td>6                  </td><td>4.000000           </td><td>jacinta            </td></tr>\n",
       "\t<tr><td>lost_in_translation</td><td>7                  </td><td>3.503448           </td><td>didira             </td></tr>\n",
       "\t<tr><td>ella               </td><td>7                  </td><td>3.498710           </td><td>didira             </td></tr>\n",
       "</tbody>\n",
       "</table>\n"
      ],
      "text/latex": [
       "\\begin{tabular}{r|llll}\n",
       " value & user\\_id & ratings & user\\\\\n",
       "\\hline\n",
       "\t lost\\_in\\_translation & 1                       & 2.834827                & antonio                \\\\\n",
       "\t ella                & 2                   & 3.250194            & nunes              \\\\\n",
       "\t spiderman           & 2                   & 3.249844            & nunes              \\\\\n",
       "\t blue\\_lagoon         & 3                     & 3.510244              & carlota              \\\\\n",
       "\t batman              & 3                   & 3.000177            & carlota            \\\\\n",
       "\t batman              & 4                   & 2.666587            & fiona              \\\\\n",
       "\t spiderman           & 5                   & 3.833695            & valkyria           \\\\\n",
       "\t batman              & 6                   & 4.250133            & jacinta            \\\\\n",
       "\t lost\\_in\\_translation & 6                       & 4.000000                & jacinta                \\\\\n",
       "\t spiderman           & 6                   & 4.000000            & jacinta            \\\\\n",
       "\t lost\\_in\\_translation & 7                       & 3.503448                & didira                 \\\\\n",
       "\t ella                & 7                   & 3.498710            & didira             \\\\\n",
       "\\end{tabular}\n"
      ],
      "text/markdown": [
       "\n",
       "value | user_id | ratings | user | \n",
       "|---|---|---|---|---|---|---|---|---|---|---|---|\n",
       "| lost_in_translation | 1                   | 2.834827            | antonio             | \n",
       "| ella                | 2                   | 3.250194            | nunes               | \n",
       "| spiderman           | 2                   | 3.249844            | nunes               | \n",
       "| blue_lagoon         | 3                   | 3.510244            | carlota             | \n",
       "| batman              | 3                   | 3.000177            | carlota             | \n",
       "| batman              | 4                   | 2.666587            | fiona               | \n",
       "| spiderman           | 5                   | 3.833695            | valkyria            | \n",
       "| batman              | 6                   | 4.250133            | jacinta             | \n",
       "| lost_in_translation | 6                   | 4.000000            | jacinta             | \n",
       "| spiderman           | 6                   | 4.000000            | jacinta             | \n",
       "| lost_in_translation | 7                   | 3.503448            | didira              | \n",
       "| ella                | 7                   | 3.498710            | didira              | \n",
       "\n",
       "\n"
      ],
      "text/plain": [
       "   value               user_id ratings  user    \n",
       "1  lost_in_translation 1       2.834827 antonio \n",
       "2  ella                2       3.250194 nunes   \n",
       "3  spiderman           2       3.249844 nunes   \n",
       "4  blue_lagoon         3       3.510244 carlota \n",
       "5  batman              3       3.000177 carlota \n",
       "6  batman              4       2.666587 fiona   \n",
       "7  spiderman           5       3.833695 valkyria\n",
       "8  batman              6       4.250133 jacinta \n",
       "9  lost_in_translation 6       4.000000 jacinta \n",
       "10 spiderman           6       4.000000 jacinta \n",
       "11 lost_in_translation 7       3.503448 didira  \n",
       "12 ella                7       3.498710 didira  "
      ]
     },
     "metadata": {},
     "output_type": "display_data"
    }
   ],
   "source": [
    "dados_ratings_previstos_ibcf"
   ]
  },
  {
   "cell_type": "code",
   "execution_count": 16,
   "metadata": {},
   "outputs": [
    {
     "data": {
      "text/html": [
       "<table>\n",
       "<thead><tr><th scope=col>value</th><th scope=col>user_id</th><th scope=col>ratings</th><th scope=col>user</th></tr></thead>\n",
       "<tbody>\n",
       "\t<tr><td>spiderman</td><td>5        </td><td>3.833695 </td><td>valkyria </td></tr>\n",
       "</tbody>\n",
       "</table>\n"
      ],
      "text/latex": [
       "\\begin{tabular}{r|llll}\n",
       " value & user\\_id & ratings & user\\\\\n",
       "\\hline\n",
       "\t spiderman & 5         & 3.833695  & valkyria \\\\\n",
       "\\end{tabular}\n"
      ],
      "text/markdown": [
       "\n",
       "value | user_id | ratings | user | \n",
       "|---|\n",
       "| spiderman | 5         | 3.833695  | valkyria  | \n",
       "\n",
       "\n"
      ],
      "text/plain": [
       "  value     user_id ratings  user    \n",
       "1 spiderman 5       3.833695 valkyria"
      ]
     },
     "metadata": {},
     "output_type": "display_data"
    }
   ],
   "source": [
    "dados_ratings_previstos_ibcf %>% \n",
    "    filter( user_id == 5 ) %>% \n",
    "    arrange( desc(ratings) )"
   ]
  },
  {
   "cell_type": "markdown",
   "metadata": {},
   "source": [
    "### ***User based filtering***"
   ]
  },
  {
   "cell_type": "markdown",
   "metadata": {},
   "source": [
    "- **Matriz de distâncias**\n",
    "\n",
    "A diagonal é zero porque a distância entre o usuário e ele mesmo é igual. O método de cálculo da distância foi o coseno."
   ]
  },
  {
   "cell_type": "code",
   "execution_count": 17,
   "metadata": {},
   "outputs": [
    {
     "data": {
      "text/html": [
       "<table>\n",
       "<thead><tr><th></th><th scope=col>1</th><th scope=col>2</th><th scope=col>3</th><th scope=col>4</th><th scope=col>5</th><th scope=col>6</th><th scope=col>7</th></tr></thead>\n",
       "<tbody>\n",
       "\t<tr><th scope=row>1</th><td>0.0000000</td><td>0.9981648</td><td>0.9909091</td><td>0.9508468</td><td>0.9917917</td><td>0.8817122</td><td>0.9793213</td></tr>\n",
       "\t<tr><th scope=row>2</th><td>0.9981648</td><td>0.0000000</td><td>0.9977852</td><td>0.9836167</td><td>0.9714729</td><td>0.8060805</td><td>0.9537445</td></tr>\n",
       "\t<tr><th scope=row>3</th><td>0.9909091</td><td>0.9977852</td><td>0.0000000</td><td>0.9765627</td><td>0.9973940</td><td>0.9943456</td><td>0.9897444</td></tr>\n",
       "\t<tr><th scope=row>4</th><td>0.9508468</td><td>0.9836167</td><td>0.9765627</td><td>0.0000000</td><td>0.9663543</td><td>0.8823398</td><td>0.9155755</td></tr>\n",
       "\t<tr><th scope=row>5</th><td>0.9917917</td><td>0.9714729</td><td>0.9973940</td><td>0.9663543</td><td>0.0000000</td><td>0.9395973</td><td>0.9897553</td></tr>\n",
       "\t<tr><th scope=row>6</th><td>0.8817122</td><td>0.8060805</td><td>0.9943456</td><td>0.8823398</td><td>0.9395973</td><td>0.0000000</td><td>0.9551954</td></tr>\n",
       "\t<tr><th scope=row>7</th><td>0.9793213</td><td>0.9537445</td><td>0.9897444</td><td>0.9155755</td><td>0.9897553</td><td>0.9551954</td><td>0.0000000</td></tr>\n",
       "</tbody>\n",
       "</table>\n"
      ],
      "text/latex": [
       "\\begin{tabular}{r|lllllll}\n",
       "  & 1 & 2 & 3 & 4 & 5 & 6 & 7\\\\\n",
       "\\hline\n",
       "\t1 & 0.0000000 & 0.9981648 & 0.9909091 & 0.9508468 & 0.9917917 & 0.8817122 & 0.9793213\\\\\n",
       "\t2 & 0.9981648 & 0.0000000 & 0.9977852 & 0.9836167 & 0.9714729 & 0.8060805 & 0.9537445\\\\\n",
       "\t3 & 0.9909091 & 0.9977852 & 0.0000000 & 0.9765627 & 0.9973940 & 0.9943456 & 0.9897444\\\\\n",
       "\t4 & 0.9508468 & 0.9836167 & 0.9765627 & 0.0000000 & 0.9663543 & 0.8823398 & 0.9155755\\\\\n",
       "\t5 & 0.9917917 & 0.9714729 & 0.9973940 & 0.9663543 & 0.0000000 & 0.9395973 & 0.9897553\\\\\n",
       "\t6 & 0.8817122 & 0.8060805 & 0.9943456 & 0.8823398 & 0.9395973 & 0.0000000 & 0.9551954\\\\\n",
       "\t7 & 0.9793213 & 0.9537445 & 0.9897444 & 0.9155755 & 0.9897553 & 0.9551954 & 0.0000000\\\\\n",
       "\\end{tabular}\n"
      ],
      "text/markdown": [
       "\n",
       "| <!--/--> | 1 | 2 | 3 | 4 | 5 | 6 | 7 | \n",
       "|---|---|---|---|---|---|---|\n",
       "| 1 | 0.0000000 | 0.9981648 | 0.9909091 | 0.9508468 | 0.9917917 | 0.8817122 | 0.9793213 | \n",
       "| 2 | 0.9981648 | 0.0000000 | 0.9977852 | 0.9836167 | 0.9714729 | 0.8060805 | 0.9537445 | \n",
       "| 3 | 0.9909091 | 0.9977852 | 0.0000000 | 0.9765627 | 0.9973940 | 0.9943456 | 0.9897444 | \n",
       "| 4 | 0.9508468 | 0.9836167 | 0.9765627 | 0.0000000 | 0.9663543 | 0.8823398 | 0.9155755 | \n",
       "| 5 | 0.9917917 | 0.9714729 | 0.9973940 | 0.9663543 | 0.0000000 | 0.9395973 | 0.9897553 | \n",
       "| 6 | 0.8817122 | 0.8060805 | 0.9943456 | 0.8823398 | 0.9395973 | 0.0000000 | 0.9551954 | \n",
       "| 7 | 0.9793213 | 0.9537445 | 0.9897444 | 0.9155755 | 0.9897553 | 0.9551954 | 0.0000000 | \n",
       "\n",
       "\n"
      ],
      "text/plain": [
       "  1         2         3         4         5         6         7        \n",
       "1 0.0000000 0.9981648 0.9909091 0.9508468 0.9917917 0.8817122 0.9793213\n",
       "2 0.9981648 0.0000000 0.9977852 0.9836167 0.9714729 0.8060805 0.9537445\n",
       "3 0.9909091 0.9977852 0.0000000 0.9765627 0.9973940 0.9943456 0.9897444\n",
       "4 0.9508468 0.9836167 0.9765627 0.0000000 0.9663543 0.8823398 0.9155755\n",
       "5 0.9917917 0.9714729 0.9973940 0.9663543 0.0000000 0.9395973 0.9897553\n",
       "6 0.8817122 0.8060805 0.9943456 0.8823398 0.9395973 0.0000000 0.9551954\n",
       "7 0.9793213 0.9537445 0.9897444 0.9155755 0.9897553 0.9551954 0.0000000"
      ]
     },
     "metadata": {},
     "output_type": "display_data"
    }
   ],
   "source": [
    "similarity_users <- similarity(user_item_matrix_reclab, \n",
    "                               method = \"cosine\", \n",
    "                               which = \"users\")\n",
    "as.matrix(similarity_users)"
   ]
  },
  {
   "cell_type": "markdown",
   "metadata": {},
   "source": [
    "- **Construção do modelo**"
   ]
  },
  {
   "cell_type": "code",
   "execution_count": 18,
   "metadata": {},
   "outputs": [],
   "source": [
    "user_based_rec_model <- Recommender( data = user_item_matrix_reclab, \n",
    "                                     method = \"UBCF\", # User based \n",
    "                                     parameter = list(nn = 3, normalize = NULL) )"
   ]
  },
  {
   "cell_type": "code",
   "execution_count": 19,
   "metadata": {},
   "outputs": [
    {
     "data": {
      "text/plain": [
       "$description\n",
       "[1] \"UBCF-Real data: contains full or sample of data set\"\n",
       "\n",
       "$data\n",
       "7 x 6 rating matrix of class ‘realRatingMatrix’ with 30 ratings.\n",
       "\n",
       "$method\n",
       "[1] \"cosine\"\n",
       "\n",
       "$nn\n",
       "[1] 3\n",
       "\n",
       "$sample\n",
       "[1] FALSE\n",
       "\n",
       "$normalize\n",
       "NULL\n",
       "\n",
       "$verbose\n",
       "[1] FALSE\n"
      ]
     },
     "metadata": {},
     "output_type": "display_data"
    }
   ],
   "source": [
    "user_based_rec_model@model"
   ]
  },
  {
   "cell_type": "markdown",
   "metadata": {},
   "source": [
    "- **Uso do modelo**"
   ]
  },
  {
   "cell_type": "code",
   "execution_count": 20,
   "metadata": {},
   "outputs": [],
   "source": [
    "numero_recomendacoes <- 10"
   ]
  },
  {
   "cell_type": "code",
   "execution_count": 21,
   "metadata": {},
   "outputs": [],
   "source": [
    "user_based_recomendacoes <- predict( user_based_rec_model,\n",
    "                                     user_item_matrix_reclab,\n",
    "                                     n = numero_recomendações )"
   ]
  },
  {
   "cell_type": "markdown",
   "metadata": {},
   "source": [
    "- **Recomendação de filmes para o usuário**"
   ]
  },
  {
   "cell_type": "code",
   "execution_count": 22,
   "metadata": {},
   "outputs": [],
   "source": [
    "movies <- sapply( user_based_recomendacoes@items, \n",
    "                  function(x){ colnames(user_item_matrix[,-1])[x] } )\n",
    "\n",
    "dados_ratings_previstos_ubcf <- cbind( melt(movies), ratings = user_based_recomendacoes@ratings %>% unlist )\n",
    "\n",
    "dados_ratings_previstos_ubcf %<>% \n",
    "  rename( user_id = L1 ) %>% \n",
    "  left_join(., dados_ratings %>% \n",
    "              distinct( user, user_id),\n",
    "            by =\"user_id\" )"
   ]
  },
  {
   "cell_type": "code",
   "execution_count": 23,
   "metadata": {
    "scrolled": true
   },
   "outputs": [
    {
     "data": {
      "text/html": [
       "<table>\n",
       "<thead><tr><th scope=col>value</th><th scope=col>user_id</th><th scope=col>ratings</th><th scope=col>user</th></tr></thead>\n",
       "<tbody>\n",
       "\t<tr><td>lost_in_translation</td><td>1                  </td><td>2.8269760          </td><td>antonio            </td></tr>\n",
       "\t<tr><td>spiderman          </td><td>2                  </td><td>2.1652338          </td><td>nunes              </td></tr>\n",
       "\t<tr><td>ella               </td><td>2                  </td><td>1.6655401          </td><td>nunes              </td></tr>\n",
       "\t<tr><td>blue_lagoon        </td><td>3                  </td><td>2.3315208          </td><td>carlota            </td></tr>\n",
       "\t<tr><td>batman             </td><td>3                  </td><td>1.9983905          </td><td>carlota            </td></tr>\n",
       "\t<tr><td>batman             </td><td>4                  </td><td>0.9968484          </td><td>fiona              </td></tr>\n",
       "\t<tr><td>spiderman          </td><td>5                  </td><td>2.1622789          </td><td>valkyria           </td></tr>\n",
       "\t<tr><td>spiderman          </td><td>6                  </td><td>2.3067380          </td><td>jacinta            </td></tr>\n",
       "\t<tr><td>lost_in_translation</td><td>6                  </td><td>1.3484751          </td><td>jacinta            </td></tr>\n",
       "\t<tr><td>batman             </td><td>6                  </td><td>0.9715363          </td><td>jacinta            </td></tr>\n",
       "\t<tr><td>lost_in_translation</td><td>7                  </td><td>2.9896812          </td><td>didira             </td></tr>\n",
       "\t<tr><td>ella               </td><td>7                  </td><td>1.9931214          </td><td>didira             </td></tr>\n",
       "</tbody>\n",
       "</table>\n"
      ],
      "text/latex": [
       "\\begin{tabular}{r|llll}\n",
       " value & user\\_id & ratings & user\\\\\n",
       "\\hline\n",
       "\t lost\\_in\\_translation & 1                       & 2.8269760               & antonio                \\\\\n",
       "\t spiderman           & 2                   & 2.1652338           & nunes              \\\\\n",
       "\t ella                & 2                   & 1.6655401           & nunes              \\\\\n",
       "\t blue\\_lagoon         & 3                     & 2.3315208             & carlota              \\\\\n",
       "\t batman              & 3                   & 1.9983905           & carlota            \\\\\n",
       "\t batman              & 4                   & 0.9968484           & fiona              \\\\\n",
       "\t spiderman           & 5                   & 2.1622789           & valkyria           \\\\\n",
       "\t spiderman           & 6                   & 2.3067380           & jacinta            \\\\\n",
       "\t lost\\_in\\_translation & 6                       & 1.3484751               & jacinta                \\\\\n",
       "\t batman              & 6                   & 0.9715363           & jacinta            \\\\\n",
       "\t lost\\_in\\_translation & 7                       & 2.9896812               & didira                 \\\\\n",
       "\t ella                & 7                   & 1.9931214           & didira             \\\\\n",
       "\\end{tabular}\n"
      ],
      "text/markdown": [
       "\n",
       "value | user_id | ratings | user | \n",
       "|---|---|---|---|---|---|---|---|---|---|---|---|\n",
       "| lost_in_translation | 1                   | 2.8269760           | antonio             | \n",
       "| spiderman           | 2                   | 2.1652338           | nunes               | \n",
       "| ella                | 2                   | 1.6655401           | nunes               | \n",
       "| blue_lagoon         | 3                   | 2.3315208           | carlota             | \n",
       "| batman              | 3                   | 1.9983905           | carlota             | \n",
       "| batman              | 4                   | 0.9968484           | fiona               | \n",
       "| spiderman           | 5                   | 2.1622789           | valkyria            | \n",
       "| spiderman           | 6                   | 2.3067380           | jacinta             | \n",
       "| lost_in_translation | 6                   | 1.3484751           | jacinta             | \n",
       "| batman              | 6                   | 0.9715363           | jacinta             | \n",
       "| lost_in_translation | 7                   | 2.9896812           | didira              | \n",
       "| ella                | 7                   | 1.9931214           | didira              | \n",
       "\n",
       "\n"
      ],
      "text/plain": [
       "   value               user_id ratings   user    \n",
       "1  lost_in_translation 1       2.8269760 antonio \n",
       "2  spiderman           2       2.1652338 nunes   \n",
       "3  ella                2       1.6655401 nunes   \n",
       "4  blue_lagoon         3       2.3315208 carlota \n",
       "5  batman              3       1.9983905 carlota \n",
       "6  batman              4       0.9968484 fiona   \n",
       "7  spiderman           5       2.1622789 valkyria\n",
       "8  spiderman           6       2.3067380 jacinta \n",
       "9  lost_in_translation 6       1.3484751 jacinta \n",
       "10 batman              6       0.9715363 jacinta \n",
       "11 lost_in_translation 7       2.9896812 didira  \n",
       "12 ella                7       1.9931214 didira  "
      ]
     },
     "metadata": {},
     "output_type": "display_data"
    }
   ],
   "source": [
    "dados_ratings_previstos_ubcf"
   ]
  },
  {
   "cell_type": "code",
   "execution_count": 24,
   "metadata": {},
   "outputs": [
    {
     "data": {
      "text/html": [
       "<table>\n",
       "<thead><tr><th scope=col>value</th><th scope=col>user_id</th><th scope=col>ratings</th><th scope=col>user</th></tr></thead>\n",
       "<tbody>\n",
       "\t<tr><td>blue_lagoon</td><td>3          </td><td>2.331521   </td><td>carlota    </td></tr>\n",
       "\t<tr><td>batman     </td><td>3          </td><td>1.998390   </td><td>carlota    </td></tr>\n",
       "</tbody>\n",
       "</table>\n"
      ],
      "text/latex": [
       "\\begin{tabular}{r|llll}\n",
       " value & user\\_id & ratings & user\\\\\n",
       "\\hline\n",
       "\t blue\\_lagoon & 3             & 2.331521      & carlota      \\\\\n",
       "\t batman      & 3           & 1.998390    & carlota    \\\\\n",
       "\\end{tabular}\n"
      ],
      "text/markdown": [
       "\n",
       "value | user_id | ratings | user | \n",
       "|---|---|\n",
       "| blue_lagoon | 3           | 2.331521    | carlota     | \n",
       "| batman      | 3           | 1.998390    | carlota     | \n",
       "\n",
       "\n"
      ],
      "text/plain": [
       "  value       user_id ratings  user   \n",
       "1 blue_lagoon 3       2.331521 carlota\n",
       "2 batman      3       1.998390 carlota"
      ]
     },
     "metadata": {},
     "output_type": "display_data"
    }
   ],
   "source": [
    "dados_ratings_previstos_ubcf %>% \n",
    "    filter( user_id == 3 ) %>% \n",
    "    arrange( desc(ratings) )"
   ]
  },
  {
   "cell_type": "markdown",
   "metadata": {},
   "source": [
    "## Algoritmos baseados em modelos\n",
    "\n",
    "Por meio da técnica de fatoração de matrizes, esses algoritmos preenchem os valores \"NA\" diretamente na matriz de usuários e itens.\n",
    "\n",
    "Será utilizado o pacote NNLM combinado com o pacote NMF. Este pacote permite o uso de modelos baseados em *Alternating Least Squares*, estes proporcionam ganho de tempo e memória para estimar os *ratings*.\n",
    "\n",
    "https://towardsdatascience.com/prototyping-a-recommender-system-step-by-step-part-2-alternating-least-square-als-matrix-4a76c58714a1"
   ]
  },
  {
   "cell_type": "code",
   "execution_count": 25,
   "metadata": {},
   "outputs": [],
   "source": [
    "user_item_matrix_nnlm <- as.matrix(user_item_matrix[,-1])"
   ]
  },
  {
   "cell_type": "code",
   "execution_count": 26,
   "metadata": {},
   "outputs": [
    {
     "data": {
      "text/html": [
       "<table>\n",
       "<thead><tr><th scope=col>batman</th><th scope=col>blue_lagoon</th><th scope=col>ella</th><th scope=col>lost_in_translation</th><th scope=col>matrix</th><th scope=col>spiderman</th></tr></thead>\n",
       "<tbody>\n",
       "\t<tr><td>2.5</td><td> 3 </td><td>2.5</td><td> NA</td><td>3.0</td><td>3.5</td></tr>\n",
       "\t<tr><td>3.0</td><td> 4 </td><td> NA</td><td>3.5</td><td>3.5</td><td> NA</td></tr>\n",
       "\t<tr><td> NA</td><td>NA </td><td>2.5</td><td>4.0</td><td>3.5</td><td>3.0</td></tr>\n",
       "\t<tr><td> NA</td><td> 3 </td><td>2.0</td><td>3.0</td><td>4.0</td><td>2.0</td></tr>\n",
       "\t<tr><td>3.0</td><td> 3 </td><td>3.5</td><td>5.0</td><td>4.0</td><td> NA</td></tr>\n",
       "\t<tr><td> NA</td><td> 1 </td><td>4.0</td><td> NA</td><td>4.5</td><td> NA</td></tr>\n",
       "\t<tr><td>3.0</td><td> 2 </td><td> NA</td><td> NA</td><td>3.5</td><td>4.0</td></tr>\n",
       "</tbody>\n",
       "</table>\n"
      ],
      "text/latex": [
       "\\begin{tabular}{llllll}\n",
       " batman & blue\\_lagoon & ella & lost\\_in\\_translation & matrix & spiderman\\\\\n",
       "\\hline\n",
       "\t 2.5 &  3  & 2.5 &  NA & 3.0 & 3.5\\\\\n",
       "\t 3.0 &  4  &  NA & 3.5 & 3.5 &  NA\\\\\n",
       "\t  NA & NA  & 2.5 & 4.0 & 3.5 & 3.0\\\\\n",
       "\t  NA &  3  & 2.0 & 3.0 & 4.0 & 2.0\\\\\n",
       "\t 3.0 &  3  & 3.5 & 5.0 & 4.0 &  NA\\\\\n",
       "\t  NA &  1  & 4.0 &  NA & 4.5 &  NA\\\\\n",
       "\t 3.0 &  2  &  NA &  NA & 3.5 & 4.0\\\\\n",
       "\\end{tabular}\n"
      ],
      "text/markdown": [
       "\n",
       "batman | blue_lagoon | ella | lost_in_translation | matrix | spiderman | \n",
       "|---|---|---|---|---|---|---|\n",
       "| 2.5 |  3  | 2.5 |  NA | 3.0 | 3.5 | \n",
       "| 3.0 |  4  |  NA | 3.5 | 3.5 |  NA | \n",
       "|  NA | NA  | 2.5 | 4.0 | 3.5 | 3.0 | \n",
       "|  NA |  3  | 2.0 | 3.0 | 4.0 | 2.0 | \n",
       "| 3.0 |  3  | 3.5 | 5.0 | 4.0 |  NA | \n",
       "|  NA |  1  | 4.0 |  NA | 4.5 |  NA | \n",
       "| 3.0 |  2  |  NA |  NA | 3.5 | 4.0 | \n",
       "\n",
       "\n"
      ],
      "text/plain": [
       "     batman blue_lagoon ella lost_in_translation matrix spiderman\n",
       "[1,] 2.5     3          2.5   NA                 3.0    3.5      \n",
       "[2,] 3.0     4           NA  3.5                 3.5     NA      \n",
       "[3,]  NA    NA          2.5  4.0                 3.5    3.0      \n",
       "[4,]  NA     3          2.0  3.0                 4.0    2.0      \n",
       "[5,] 3.0     3          3.5  5.0                 4.0     NA      \n",
       "[6,]  NA     1          4.0   NA                 4.5     NA      \n",
       "[7,] 3.0     2           NA   NA                 3.5    4.0      "
      ]
     },
     "metadata": {},
     "output_type": "display_data"
    }
   ],
   "source": [
    "user_item_matrix_nnlm"
   ]
  },
  {
   "cell_type": "code",
   "execution_count": 27,
   "metadata": {},
   "outputs": [],
   "source": [
    "fatoracao_rec_model <- nnmf(user_item_matrix_nnlm, \n",
    "                            k = 2,  \n",
    "                            method = 'scd', \n",
    "                            loss = 'mse')"
   ]
  },
  {
   "cell_type": "code",
   "execution_count": 28,
   "metadata": {},
   "outputs": [],
   "source": [
    "complete_user_item_matrix <- fatoracao_rec_model$W %*% fatoracao_rec_model$H"
   ]
  },
  {
   "cell_type": "code",
   "execution_count": 29,
   "metadata": {},
   "outputs": [
    {
     "data": {
      "text/html": [
       "<table>\n",
       "<thead><tr><th scope=col>batman</th><th scope=col>blue_lagoon</th><th scope=col>ella</th><th scope=col>lost_in_translation</th><th scope=col>matrix</th><th scope=col>spiderman</th></tr></thead>\n",
       "<tbody>\n",
       "\t<tr><td>2.643294</td><td>2.639233</td><td>2.520116</td><td>3.938678</td><td>3.389984</td><td>3.253988</td></tr>\n",
       "\t<tr><td>2.907350</td><td>3.906254</td><td>2.434689</td><td>3.414793</td><td>3.748188</td><td>2.100460</td></tr>\n",
       "\t<tr><td>2.752215</td><td>2.974938</td><td>2.547696</td><td>3.893485</td><td>3.534098</td><td>3.053634</td></tr>\n",
       "\t<tr><td>2.584164</td><td>3.335451</td><td>2.209941</td><td>3.160066</td><td>3.328871</td><td>2.068232</td></tr>\n",
       "\t<tr><td>3.208547</td><td>2.920639</td><td>3.154122</td><td>5.039658</td><td>4.109397</td><td>4.366837</td></tr>\n",
       "\t<tr><td>3.460083</td><td>1.039054</td><td>4.110634</td><td>7.364349</td><td>4.390422</td><td>7.819339</td></tr>\n",
       "\t<tr><td>2.713040</td><td>2.179266</td><td>2.764584</td><td>4.526804</td><td>3.469110</td><td>4.120288</td></tr>\n",
       "</tbody>\n",
       "</table>\n"
      ],
      "text/latex": [
       "\\begin{tabular}{llllll}\n",
       " batman & blue\\_lagoon & ella & lost\\_in\\_translation & matrix & spiderman\\\\\n",
       "\\hline\n",
       "\t 2.643294 & 2.639233 & 2.520116 & 3.938678 & 3.389984 & 3.253988\\\\\n",
       "\t 2.907350 & 3.906254 & 2.434689 & 3.414793 & 3.748188 & 2.100460\\\\\n",
       "\t 2.752215 & 2.974938 & 2.547696 & 3.893485 & 3.534098 & 3.053634\\\\\n",
       "\t 2.584164 & 3.335451 & 2.209941 & 3.160066 & 3.328871 & 2.068232\\\\\n",
       "\t 3.208547 & 2.920639 & 3.154122 & 5.039658 & 4.109397 & 4.366837\\\\\n",
       "\t 3.460083 & 1.039054 & 4.110634 & 7.364349 & 4.390422 & 7.819339\\\\\n",
       "\t 2.713040 & 2.179266 & 2.764584 & 4.526804 & 3.469110 & 4.120288\\\\\n",
       "\\end{tabular}\n"
      ],
      "text/markdown": [
       "\n",
       "batman | blue_lagoon | ella | lost_in_translation | matrix | spiderman | \n",
       "|---|---|---|---|---|---|---|\n",
       "| 2.643294 | 2.639233 | 2.520116 | 3.938678 | 3.389984 | 3.253988 | \n",
       "| 2.907350 | 3.906254 | 2.434689 | 3.414793 | 3.748188 | 2.100460 | \n",
       "| 2.752215 | 2.974938 | 2.547696 | 3.893485 | 3.534098 | 3.053634 | \n",
       "| 2.584164 | 3.335451 | 2.209941 | 3.160066 | 3.328871 | 2.068232 | \n",
       "| 3.208547 | 2.920639 | 3.154122 | 5.039658 | 4.109397 | 4.366837 | \n",
       "| 3.460083 | 1.039054 | 4.110634 | 7.364349 | 4.390422 | 7.819339 | \n",
       "| 2.713040 | 2.179266 | 2.764584 | 4.526804 | 3.469110 | 4.120288 | \n",
       "\n",
       "\n"
      ],
      "text/plain": [
       "     batman   blue_lagoon ella     lost_in_translation matrix   spiderman\n",
       "[1,] 2.643294 2.639233    2.520116 3.938678            3.389984 3.253988 \n",
       "[2,] 2.907350 3.906254    2.434689 3.414793            3.748188 2.100460 \n",
       "[3,] 2.752215 2.974938    2.547696 3.893485            3.534098 3.053634 \n",
       "[4,] 2.584164 3.335451    2.209941 3.160066            3.328871 2.068232 \n",
       "[5,] 3.208547 2.920639    3.154122 5.039658            4.109397 4.366837 \n",
       "[6,] 3.460083 1.039054    4.110634 7.364349            4.390422 7.819339 \n",
       "[7,] 2.713040 2.179266    2.764584 4.526804            3.469110 4.120288 "
      ]
     },
     "metadata": {},
     "output_type": "display_data"
    }
   ],
   "source": [
    "complete_user_item_matrix"
   ]
  },
  {
   "cell_type": "markdown",
   "metadata": {},
   "source": [
    "Podemos combinar as duas matrizes para obter os *ratings* dos filmes ainda não foram assistidos e poderão ser recomendados."
   ]
  },
  {
   "cell_type": "code",
   "execution_count": 30,
   "metadata": {},
   "outputs": [],
   "source": [
    "matriz_recomendacoes <- ( is.na(user_item_matrix_nnlm) == TRUE ) * round(complete_user_item_matrix, 2)"
   ]
  },
  {
   "cell_type": "code",
   "execution_count": 31,
   "metadata": {},
   "outputs": [
    {
     "data": {
      "text/html": [
       "<table>\n",
       "<thead><tr><th scope=col>batman</th><th scope=col>blue_lagoon</th><th scope=col>ella</th><th scope=col>lost_in_translation</th><th scope=col>matrix</th><th scope=col>spiderman</th></tr></thead>\n",
       "<tbody>\n",
       "\t<tr><td>0.00</td><td>0.00</td><td>0.00</td><td>3.94</td><td>0   </td><td>0.00</td></tr>\n",
       "\t<tr><td>0.00</td><td>0.00</td><td>2.43</td><td>0.00</td><td>0   </td><td>2.10</td></tr>\n",
       "\t<tr><td>2.75</td><td>2.97</td><td>0.00</td><td>0.00</td><td>0   </td><td>0.00</td></tr>\n",
       "\t<tr><td>2.58</td><td>0.00</td><td>0.00</td><td>0.00</td><td>0   </td><td>0.00</td></tr>\n",
       "\t<tr><td>0.00</td><td>0.00</td><td>0.00</td><td>0.00</td><td>0   </td><td>4.37</td></tr>\n",
       "\t<tr><td>3.46</td><td>0.00</td><td>0.00</td><td>7.36</td><td>0   </td><td>7.82</td></tr>\n",
       "\t<tr><td>0.00</td><td>0.00</td><td>2.76</td><td>4.53</td><td>0   </td><td>0.00</td></tr>\n",
       "</tbody>\n",
       "</table>\n"
      ],
      "text/latex": [
       "\\begin{tabular}{llllll}\n",
       " batman & blue\\_lagoon & ella & lost\\_in\\_translation & matrix & spiderman\\\\\n",
       "\\hline\n",
       "\t 0.00 & 0.00 & 0.00 & 3.94 & 0    & 0.00\\\\\n",
       "\t 0.00 & 0.00 & 2.43 & 0.00 & 0    & 2.10\\\\\n",
       "\t 2.75 & 2.97 & 0.00 & 0.00 & 0    & 0.00\\\\\n",
       "\t 2.58 & 0.00 & 0.00 & 0.00 & 0    & 0.00\\\\\n",
       "\t 0.00 & 0.00 & 0.00 & 0.00 & 0    & 4.37\\\\\n",
       "\t 3.46 & 0.00 & 0.00 & 7.36 & 0    & 7.82\\\\\n",
       "\t 0.00 & 0.00 & 2.76 & 4.53 & 0    & 0.00\\\\\n",
       "\\end{tabular}\n"
      ],
      "text/markdown": [
       "\n",
       "batman | blue_lagoon | ella | lost_in_translation | matrix | spiderman | \n",
       "|---|---|---|---|---|---|---|\n",
       "| 0.00 | 0.00 | 0.00 | 3.94 | 0    | 0.00 | \n",
       "| 0.00 | 0.00 | 2.43 | 0.00 | 0    | 2.10 | \n",
       "| 2.75 | 2.97 | 0.00 | 0.00 | 0    | 0.00 | \n",
       "| 2.58 | 0.00 | 0.00 | 0.00 | 0    | 0.00 | \n",
       "| 0.00 | 0.00 | 0.00 | 0.00 | 0    | 4.37 | \n",
       "| 3.46 | 0.00 | 0.00 | 7.36 | 0    | 7.82 | \n",
       "| 0.00 | 0.00 | 2.76 | 4.53 | 0    | 0.00 | \n",
       "\n",
       "\n"
      ],
      "text/plain": [
       "     batman blue_lagoon ella lost_in_translation matrix spiderman\n",
       "[1,] 0.00   0.00        0.00 3.94                0      0.00     \n",
       "[2,] 0.00   0.00        2.43 0.00                0      2.10     \n",
       "[3,] 2.75   2.97        0.00 0.00                0      0.00     \n",
       "[4,] 2.58   0.00        0.00 0.00                0      0.00     \n",
       "[5,] 0.00   0.00        0.00 0.00                0      4.37     \n",
       "[6,] 3.46   0.00        0.00 7.36                0      7.82     \n",
       "[7,] 0.00   0.00        2.76 4.53                0      0.00     "
      ]
     },
     "metadata": {},
     "output_type": "display_data"
    }
   ],
   "source": [
    "matriz_recomendacoes"
   ]
  },
  {
   "cell_type": "markdown",
   "metadata": {},
   "source": [
    "Associamos novamente com os usuários."
   ]
  },
  {
   "cell_type": "code",
   "execution_count": 32,
   "metadata": {},
   "outputs": [],
   "source": [
    "matriz_recomendacoes <- cbind( user_item_matrix$user_id, data.frame(matriz_recomendacoes) )"
   ]
  },
  {
   "cell_type": "code",
   "execution_count": 33,
   "metadata": {},
   "outputs": [],
   "source": [
    "# alguns ajustes\n",
    "matriz_recomendacoes %<>% \n",
    "    rename( user_id = `user_item_matrix$user_id` )"
   ]
  },
  {
   "cell_type": "code",
   "execution_count": 34,
   "metadata": {
    "scrolled": true
   },
   "outputs": [],
   "source": [
    "matriz_recomendacoes %<>% \n",
    "    left_join(., dados_ratings %>% \n",
    "              distinct( user, user_id),\n",
    "            by =\"user_id\" )"
   ]
  },
  {
   "cell_type": "code",
   "execution_count": 35,
   "metadata": {},
   "outputs": [
    {
     "data": {
      "text/html": [
       "<table>\n",
       "<thead><tr><th scope=col>user_id</th><th scope=col>batman</th><th scope=col>blue_lagoon</th><th scope=col>ella</th><th scope=col>lost_in_translation</th><th scope=col>matrix</th><th scope=col>spiderman</th><th scope=col>user</th></tr></thead>\n",
       "<tbody>\n",
       "\t<tr><td>1       </td><td>0.00    </td><td>0.00    </td><td>0.00    </td><td>3.94    </td><td>0       </td><td>0.00    </td><td>antonio </td></tr>\n",
       "\t<tr><td>2       </td><td>0.00    </td><td>0.00    </td><td>2.43    </td><td>0.00    </td><td>0       </td><td>2.10    </td><td>nunes   </td></tr>\n",
       "\t<tr><td>3       </td><td>2.75    </td><td>2.97    </td><td>0.00    </td><td>0.00    </td><td>0       </td><td>0.00    </td><td>carlota </td></tr>\n",
       "\t<tr><td>4       </td><td>2.58    </td><td>0.00    </td><td>0.00    </td><td>0.00    </td><td>0       </td><td>0.00    </td><td>fiona   </td></tr>\n",
       "\t<tr><td>5       </td><td>0.00    </td><td>0.00    </td><td>0.00    </td><td>0.00    </td><td>0       </td><td>4.37    </td><td>valkyria</td></tr>\n",
       "\t<tr><td>6       </td><td>3.46    </td><td>0.00    </td><td>0.00    </td><td>7.36    </td><td>0       </td><td>7.82    </td><td>jacinta </td></tr>\n",
       "\t<tr><td>7       </td><td>0.00    </td><td>0.00    </td><td>2.76    </td><td>4.53    </td><td>0       </td><td>0.00    </td><td>didira  </td></tr>\n",
       "</tbody>\n",
       "</table>\n"
      ],
      "text/latex": [
       "\\begin{tabular}{r|llllllll}\n",
       " user\\_id & batman & blue\\_lagoon & ella & lost\\_in\\_translation & matrix & spiderman & user\\\\\n",
       "\\hline\n",
       "\t 1        & 0.00     & 0.00     & 0.00     & 3.94     & 0        & 0.00     & antonio \\\\\n",
       "\t 2        & 0.00     & 0.00     & 2.43     & 0.00     & 0        & 2.10     & nunes   \\\\\n",
       "\t 3        & 2.75     & 2.97     & 0.00     & 0.00     & 0        & 0.00     & carlota \\\\\n",
       "\t 4        & 2.58     & 0.00     & 0.00     & 0.00     & 0        & 0.00     & fiona   \\\\\n",
       "\t 5        & 0.00     & 0.00     & 0.00     & 0.00     & 0        & 4.37     & valkyria\\\\\n",
       "\t 6        & 3.46     & 0.00     & 0.00     & 7.36     & 0        & 7.82     & jacinta \\\\\n",
       "\t 7        & 0.00     & 0.00     & 2.76     & 4.53     & 0        & 0.00     & didira  \\\\\n",
       "\\end{tabular}\n"
      ],
      "text/markdown": [
       "\n",
       "user_id | batman | blue_lagoon | ella | lost_in_translation | matrix | spiderman | user | \n",
       "|---|---|---|---|---|---|---|\n",
       "| 1        | 0.00     | 0.00     | 0.00     | 3.94     | 0        | 0.00     | antonio  | \n",
       "| 2        | 0.00     | 0.00     | 2.43     | 0.00     | 0        | 2.10     | nunes    | \n",
       "| 3        | 2.75     | 2.97     | 0.00     | 0.00     | 0        | 0.00     | carlota  | \n",
       "| 4        | 2.58     | 0.00     | 0.00     | 0.00     | 0        | 0.00     | fiona    | \n",
       "| 5        | 0.00     | 0.00     | 0.00     | 0.00     | 0        | 4.37     | valkyria | \n",
       "| 6        | 3.46     | 0.00     | 0.00     | 7.36     | 0        | 7.82     | jacinta  | \n",
       "| 7        | 0.00     | 0.00     | 2.76     | 4.53     | 0        | 0.00     | didira   | \n",
       "\n",
       "\n"
      ],
      "text/plain": [
       "  user_id batman blue_lagoon ella lost_in_translation matrix spiderman user    \n",
       "1 1       0.00   0.00        0.00 3.94                0      0.00      antonio \n",
       "2 2       0.00   0.00        2.43 0.00                0      2.10      nunes   \n",
       "3 3       2.75   2.97        0.00 0.00                0      0.00      carlota \n",
       "4 4       2.58   0.00        0.00 0.00                0      0.00      fiona   \n",
       "5 5       0.00   0.00        0.00 0.00                0      4.37      valkyria\n",
       "6 6       3.46   0.00        0.00 7.36                0      7.82      jacinta \n",
       "7 7       0.00   0.00        2.76 4.53                0      0.00      didira  "
      ]
     },
     "metadata": {},
     "output_type": "display_data"
    }
   ],
   "source": [
    "matriz_recomendacoes"
   ]
  },
  {
   "cell_type": "markdown",
   "metadata": {},
   "source": [
    "Podemos ajustar para organizar um banco de dados ordenado com as possíveis recomendações."
   ]
  },
  {
   "cell_type": "code",
   "execution_count": 36,
   "metadata": {},
   "outputs": [],
   "source": [
    "banco_ratings <- matriz_recomendacoes %>% \n",
    "    gather( key = movie, value = ratings, -c(user_id, user)  ) %>% \n",
    "    filter( ratings > 0 )"
   ]
  },
  {
   "cell_type": "code",
   "execution_count": 37,
   "metadata": {},
   "outputs": [
    {
     "data": {
      "text/html": [
       "<table>\n",
       "<thead><tr><th scope=col>user_id</th><th scope=col>user</th><th scope=col>movie</th><th scope=col>ratings</th></tr></thead>\n",
       "<tbody>\n",
       "\t<tr><td>3                  </td><td>carlota            </td><td>batman             </td><td>2.75               </td></tr>\n",
       "\t<tr><td>4                  </td><td>fiona              </td><td>batman             </td><td>2.58               </td></tr>\n",
       "\t<tr><td>6                  </td><td>jacinta            </td><td>batman             </td><td>3.46               </td></tr>\n",
       "\t<tr><td>3                  </td><td>carlota            </td><td>blue_lagoon        </td><td>2.97               </td></tr>\n",
       "\t<tr><td>2                  </td><td>nunes              </td><td>ella               </td><td>2.43               </td></tr>\n",
       "\t<tr><td>7                  </td><td>didira             </td><td>ella               </td><td>2.76               </td></tr>\n",
       "\t<tr><td>1                  </td><td>antonio            </td><td>lost_in_translation</td><td>3.94               </td></tr>\n",
       "\t<tr><td>6                  </td><td>jacinta            </td><td>lost_in_translation</td><td>7.36               </td></tr>\n",
       "\t<tr><td>7                  </td><td>didira             </td><td>lost_in_translation</td><td>4.53               </td></tr>\n",
       "\t<tr><td>2                  </td><td>nunes              </td><td>spiderman          </td><td>2.10               </td></tr>\n",
       "\t<tr><td>5                  </td><td>valkyria           </td><td>spiderman          </td><td>4.37               </td></tr>\n",
       "\t<tr><td>6                  </td><td>jacinta            </td><td>spiderman          </td><td>7.82               </td></tr>\n",
       "</tbody>\n",
       "</table>\n"
      ],
      "text/latex": [
       "\\begin{tabular}{r|llll}\n",
       " user\\_id & user & movie & ratings\\\\\n",
       "\\hline\n",
       "\t 3                   & carlota             & batman              & 2.75               \\\\\n",
       "\t 4                   & fiona               & batman              & 2.58               \\\\\n",
       "\t 6                   & jacinta             & batman              & 3.46               \\\\\n",
       "\t 3                     & carlota               & blue\\_lagoon         & 2.97                 \\\\\n",
       "\t 2                   & nunes               & ella                & 2.43               \\\\\n",
       "\t 7                   & didira              & ella                & 2.76               \\\\\n",
       "\t 1                       & antonio                 & lost\\_in\\_translation & 3.94                   \\\\\n",
       "\t 6                       & jacinta                 & lost\\_in\\_translation & 7.36                   \\\\\n",
       "\t 7                       & didira                  & lost\\_in\\_translation & 4.53                   \\\\\n",
       "\t 2                   & nunes               & spiderman           & 2.10               \\\\\n",
       "\t 5                   & valkyria            & spiderman           & 4.37               \\\\\n",
       "\t 6                   & jacinta             & spiderman           & 7.82               \\\\\n",
       "\\end{tabular}\n"
      ],
      "text/markdown": [
       "\n",
       "user_id | user | movie | ratings | \n",
       "|---|---|---|---|---|---|---|---|---|---|---|---|\n",
       "| 3                   | carlota             | batman              | 2.75                | \n",
       "| 4                   | fiona               | batman              | 2.58                | \n",
       "| 6                   | jacinta             | batman              | 3.46                | \n",
       "| 3                   | carlota             | blue_lagoon         | 2.97                | \n",
       "| 2                   | nunes               | ella                | 2.43                | \n",
       "| 7                   | didira              | ella                | 2.76                | \n",
       "| 1                   | antonio             | lost_in_translation | 3.94                | \n",
       "| 6                   | jacinta             | lost_in_translation | 7.36                | \n",
       "| 7                   | didira              | lost_in_translation | 4.53                | \n",
       "| 2                   | nunes               | spiderman           | 2.10                | \n",
       "| 5                   | valkyria            | spiderman           | 4.37                | \n",
       "| 6                   | jacinta             | spiderman           | 7.82                | \n",
       "\n",
       "\n"
      ],
      "text/plain": [
       "   user_id user     movie               ratings\n",
       "1  3       carlota  batman              2.75   \n",
       "2  4       fiona    batman              2.58   \n",
       "3  6       jacinta  batman              3.46   \n",
       "4  3       carlota  blue_lagoon         2.97   \n",
       "5  2       nunes    ella                2.43   \n",
       "6  7       didira   ella                2.76   \n",
       "7  1       antonio  lost_in_translation 3.94   \n",
       "8  6       jacinta  lost_in_translation 7.36   \n",
       "9  7       didira   lost_in_translation 4.53   \n",
       "10 2       nunes    spiderman           2.10   \n",
       "11 5       valkyria spiderman           4.37   \n",
       "12 6       jacinta  spiderman           7.82   "
      ]
     },
     "metadata": {},
     "output_type": "display_data"
    }
   ],
   "source": [
    "banco_ratings"
   ]
  },
  {
   "cell_type": "markdown",
   "metadata": {},
   "source": [
    "Podemos ver as 5 melhores recomendações para o usuário 6."
   ]
  },
  {
   "cell_type": "code",
   "execution_count": 38,
   "metadata": {
    "scrolled": false
   },
   "outputs": [
    {
     "data": {
      "text/html": [
       "<table>\n",
       "<thead><tr><th scope=col>user_id</th><th scope=col>user</th><th scope=col>movie</th><th scope=col>ratings</th></tr></thead>\n",
       "<tbody>\n",
       "\t<tr><td>3          </td><td>carlota    </td><td>blue_lagoon</td><td>2.97       </td></tr>\n",
       "\t<tr><td>3          </td><td>carlota    </td><td>batman     </td><td>2.75       </td></tr>\n",
       "</tbody>\n",
       "</table>\n"
      ],
      "text/latex": [
       "\\begin{tabular}{r|llll}\n",
       " user\\_id & user & movie & ratings\\\\\n",
       "\\hline\n",
       "\t 3             & carlota       & blue\\_lagoon & 2.97         \\\\\n",
       "\t 3           & carlota     & batman      & 2.75       \\\\\n",
       "\\end{tabular}\n"
      ],
      "text/markdown": [
       "\n",
       "user_id | user | movie | ratings | \n",
       "|---|---|\n",
       "| 3           | carlota     | blue_lagoon | 2.97        | \n",
       "| 3           | carlota     | batman      | 2.75        | \n",
       "\n",
       "\n"
      ],
      "text/plain": [
       "  user_id user    movie       ratings\n",
       "1 3       carlota blue_lagoon 2.97   \n",
       "2 3       carlota batman      2.75   "
      ]
     },
     "metadata": {},
     "output_type": "display_data"
    }
   ],
   "source": [
    "banco_ratings %>% \n",
    "    filter( user_id == 3 ) %>% \n",
    "    arrange( desc(ratings) ) %>% \n",
    "    head(5)"
   ]
  },
  {
   "cell_type": "markdown",
   "metadata": {},
   "source": [
    "## Comparações"
   ]
  },
  {
   "cell_type": "code",
   "execution_count": null,
   "metadata": {},
   "outputs": [],
   "source": [
    "dados_ratings_previstos_ibcf %>% \n",
    "    filter( user_id == 3 ) %>% \n",
    "    arrange( desc(ratings) )"
   ]
  },
  {
   "cell_type": "code",
   "execution_count": null,
   "metadata": {},
   "outputs": [],
   "source": [
    "dados_ratings_previstos_ubcf %>% \n",
    "    filter( user_id == 3 ) %>% \n",
    "    arrange( desc(ratings) )"
   ]
  },
  {
   "cell_type": "code",
   "execution_count": null,
   "metadata": {},
   "outputs": [],
   "source": [
    "banco_ratings %>% \n",
    "    filter( user_id == 3 ) %>% \n",
    "    arrange( desc(ratings) )"
   ]
  },
  {
   "cell_type": "code",
   "execution_count": null,
   "metadata": {},
   "outputs": [],
   "source": []
  }
 ],
 "metadata": {
  "kernelspec": {
   "display_name": "R",
   "language": "R",
   "name": "ir"
  },
  "language_info": {
   "codemirror_mode": "r",
   "file_extension": ".r",
   "mimetype": "text/x-r-source",
   "name": "R",
   "pygments_lexer": "r",
   "version": "3.4.4"
  }
 },
 "nbformat": 4,
 "nbformat_minor": 2
}
