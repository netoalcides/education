{
 "cells": [
  {
   "cell_type": "markdown",
   "metadata": {},
   "source": [
    "# Análise de séries temporais"
   ]
  },
  {
   "cell_type": "markdown",
   "metadata": {},
   "source": [
    "Neste exemplo iremos analisar o caso de um empresa de eventos.\n",
    "\n",
    "Por meio da análise do passado de um evento, o que a empresa poderá aprender?"
   ]
  },
  {
   "cell_type": "markdown",
   "metadata": {},
   "source": [
    "## Carregar pacotes"
   ]
  },
  {
   "cell_type": "code",
   "execution_count": null,
   "metadata": {},
   "outputs": [],
   "source": [
    "library(tidyverse)\n",
    "library(magrittr)\n",
    "library(lubridate)\n",
    "library(tseries)\n",
    "library(forecast)"
   ]
  },
  {
   "cell_type": "markdown",
   "metadata": {},
   "source": [
    "## Carregar dados"
   ]
  },
  {
   "cell_type": "code",
   "execution_count": null,
   "metadata": {},
   "outputs": [],
   "source": [
    "dados_vendas <- read_csv( \"/home/vm-data-science/dados/dados_vendas_evento.csv\" )"
   ]
  },
  {
   "cell_type": "code",
   "execution_count": null,
   "metadata": {},
   "outputs": [],
   "source": [
    "dados_vendas %>% head"
   ]
  },
  {
   "cell_type": "markdown",
   "metadata": {},
   "source": [
    "## Análises"
   ]
  },
  {
   "cell_type": "markdown",
   "metadata": {},
   "source": [
    "### Análise gráfica da série"
   ]
  },
  {
   "cell_type": "code",
   "execution_count": null,
   "metadata": {},
   "outputs": [],
   "source": [
    "dados_vendas %>% \n",
    "    ggplot( aes( x = data_venda, y = qtd_inscricoes ) ) +\n",
    "    geom_line()"
   ]
  },
  {
   "cell_type": "markdown",
   "metadata": {},
   "source": [
    "### Verificar estacionariedade"
   ]
  },
  {
   "cell_type": "code",
   "execution_count": null,
   "metadata": {},
   "outputs": [],
   "source": [
    "adf.test( x = dados_vendas$qtd_inscricoes, alternative = 'stationary' )"
   ]
  },
  {
   "cell_type": "markdown",
   "metadata": {},
   "source": [
    "Verificamos que a série não é estacionária."
   ]
  },
  {
   "cell_type": "markdown",
   "metadata": {},
   "source": [
    "### Integração - I(d)"
   ]
  },
  {
   "cell_type": "markdown",
   "metadata": {},
   "source": [
    "Podemos verificar o grau de integração para obter a estacionariedade."
   ]
  },
  {
   "cell_type": "code",
   "execution_count": null,
   "metadata": {},
   "outputs": [],
   "source": [
    "adf.test( x = diff(dados_vendas$qtd_inscricoes, 1), alternative = 'stationary' )"
   ]
  },
  {
   "cell_type": "markdown",
   "metadata": {},
   "source": [
    "Com 1 diferenciação podemos obter a estacionariedade.\n",
    "\n",
    "O novo gráfico com a série diferenciada."
   ]
  },
  {
   "cell_type": "code",
   "execution_count": null,
   "metadata": {},
   "outputs": [],
   "source": [
    "dados_vendas %>% \n",
    "    mutate( qtd_dif = c(0,diff(qtd_inscricoes)) ) %>% \n",
    "    ggplot( aes( x = data_venda, y = qtd_dif ) ) +\n",
    "    geom_line()"
   ]
  },
  {
   "cell_type": "markdown",
   "metadata": {},
   "source": [
    "### Parâmetros AR(p)"
   ]
  },
  {
   "cell_type": "markdown",
   "metadata": {},
   "source": [
    "Para ter uma idéia de quantos parâmetros AR podem ser necessários verificamos o gráfico PACF."
   ]
  },
  {
   "cell_type": "code",
   "execution_count": null,
   "metadata": {},
   "outputs": [],
   "source": [
    "Pacf( x = diff(dados_vendas$qtd_inscricoes, 1), lag.max = 15 )"
   ]
  },
  {
   "cell_type": "markdown",
   "metadata": {},
   "source": [
    "Observamos 3 lags fora da linha tracejada. Portanto, temos uma idéia que a parte AR terá ordem de até 4 (maior lag foi 4)."
   ]
  },
  {
   "cell_type": "markdown",
   "metadata": {},
   "source": [
    "### Parâmetros MA(q)"
   ]
  },
  {
   "cell_type": "markdown",
   "metadata": {},
   "source": [
    "Para ter uma idéia de quantos parâmetros AR podem ser necessários verificamos o gráfico ACF."
   ]
  },
  {
   "cell_type": "code",
   "execution_count": null,
   "metadata": {},
   "outputs": [],
   "source": [
    "Acf( x = diff(dados_vendas$qtd_inscricoes, 1), lag.max = 15 )"
   ]
  },
  {
   "cell_type": "markdown",
   "metadata": {},
   "source": [
    "Observamos 3 lags fora da linha tracejada. Portanto, temos uma idéia que a parte MA terá ordem de até 10 (ultimo lag foi 10). \n",
    "\n",
    "Porém, durante o diagnóstico do modelo, perceberemos que não será necessária a ordem 10."
   ]
  },
  {
   "cell_type": "markdown",
   "metadata": {},
   "source": [
    "### Estimação do modelo ARIMA(p,d,q)\n",
    "\n",
    "Observamos que a integração é de ordem d = 1, p até 4 e q até 10.\n",
    "\n",
    "Iremos testar vários modelos."
   ]
  },
  {
   "cell_type": "markdown",
   "metadata": {},
   "source": [
    "### Amostras de treino e teste\n",
    "\n",
    "Em séries temporais não podemos dividir aleatoriamente as amostras. Devemos selecionar um passado e buscar prever o futuro."
   ]
  },
  {
   "cell_type": "code",
   "execution_count": null,
   "metadata": {},
   "outputs": [],
   "source": [
    "dados_vendas %>% dim"
   ]
  },
  {
   "cell_type": "code",
   "execution_count": null,
   "metadata": {},
   "outputs": [],
   "source": [
    "dados_vendas_train <- dados_vendas %>% slice(1:72)\n",
    "dados_vendas_test <- dados_vendas %>% slice(73:77)"
   ]
  },
  {
   "cell_type": "markdown",
   "metadata": {},
   "source": [
    "#### Modelo ARIMA(4, 1, 0)"
   ]
  },
  {
   "cell_type": "code",
   "execution_count": null,
   "metadata": {},
   "outputs": [],
   "source": [
    "modelo_4_1_0 <- Arima( dados_vendas_train$qtd_inscricoes, order = c(4, 1, 0 ) )\n",
    "modelo_4_1_0"
   ]
  },
  {
   "cell_type": "markdown",
   "metadata": {},
   "source": [
    "Podemos diagnosticar a qualidade do modelo analisando o ACF e PACF dos resíduos do modelo."
   ]
  },
  {
   "cell_type": "code",
   "execution_count": null,
   "metadata": {},
   "outputs": [],
   "source": [
    "Acf( modelo_4_1_0$residuals, lag.max = 15 )"
   ]
  },
  {
   "cell_type": "code",
   "execution_count": null,
   "metadata": {},
   "outputs": [],
   "source": [
    "Pacf( modelo_4_1_0$residuals, lag.max = 15 )"
   ]
  },
  {
   "cell_type": "markdown",
   "metadata": {},
   "source": [
    "Por meio dos gráficos, observamos que não há algum lag fora das linhas tracejadas.\n",
    "\n",
    "Este resultado nos mostra que o modelo não possui problema de autocorrelação e também pode não ser necessário utilizar os lags da parte MA."
   ]
  },
  {
   "cell_type": "markdown",
   "metadata": {},
   "source": [
    "### Avaliação do modelo"
   ]
  },
  {
   "cell_type": "code",
   "execution_count": null,
   "metadata": {},
   "outputs": [],
   "source": [
    "dados_vendas_test %<>% \n",
    "  mutate( modelo_4_1_0_pred = forecast( modelo_4_1_0, h = 5)$mean )\n",
    "\n",
    "dados_vendas_test"
   ]
  },
  {
   "cell_type": "markdown",
   "metadata": {},
   "source": [
    "Podemos verificar a qualidade das previsões."
   ]
  },
  {
   "cell_type": "code",
   "execution_count": null,
   "metadata": {},
   "outputs": [],
   "source": [
    "accuracy( dados_vendas_test$modelo_4_1_0_pred,\n",
    "          dados_vendas_test$qtd_inscricoes )"
   ]
  },
  {
   "cell_type": "markdown",
   "metadata": {},
   "source": [
    "Podemos testar diversos outros modelos.\n",
    "\n",
    "Pelo momento, somente iremos testar mais um. Iremos incluir a variável ticket."
   ]
  },
  {
   "cell_type": "code",
   "execution_count": null,
   "metadata": {},
   "outputs": [],
   "source": [
    "modelo_4_1_0_x <- Arima(dados_vendas_train$qtd_inscricoes, \n",
    "                        order = c(4, 1, 0 ),\n",
    "                        xreg =  dados_vendas_train %>% select( ticket ) )\n",
    "modelo_4_1_0_x"
   ]
  },
  {
   "cell_type": "markdown",
   "metadata": {},
   "source": [
    "Será que melhor na amostra de teste?"
   ]
  },
  {
   "cell_type": "code",
   "execution_count": null,
   "metadata": {},
   "outputs": [],
   "source": [
    "dados_vendas_test %<>% \n",
    "  mutate( modelo_4_1_0_x_pred = forecast( modelo_4_1_0_x, \n",
    "                                          xreg = dados_vendas_test %>% \n",
    "                                             select( ticket ), h = 5)$mean )\n",
    "\n",
    "dados_vendas_test"
   ]
  },
  {
   "cell_type": "code",
   "execution_count": null,
   "metadata": {},
   "outputs": [],
   "source": [
    "accuracy( dados_vendas_test$modelo_4_1_0_x_pred,\n",
    "          dados_vendas_test$qtd_inscricoes )"
   ]
  },
  {
   "cell_type": "markdown",
   "metadata": {},
   "source": [
    "Podemos ainda testar as variaveis: \"número de dias até o evento\" e criar uma variável que indica \"período distante\" e \"período próximo\". Quais outros testes você faria?"
   ]
  },
  {
   "cell_type": "code",
   "execution_count": null,
   "metadata": {},
   "outputs": [],
   "source": []
  },
  {
   "cell_type": "code",
   "execution_count": null,
   "metadata": {},
   "outputs": [],
   "source": []
  }
 ],
 "metadata": {
  "kernelspec": {
   "display_name": "R",
   "language": "R",
   "name": "ir"
  },
  "language_info": {
   "codemirror_mode": "r",
   "file_extension": ".r",
   "mimetype": "text/x-r-source",
   "name": "R",
   "pygments_lexer": "r",
   "version": "3.4.4"
  }
 },
 "nbformat": 4,
 "nbformat_minor": 2
}
