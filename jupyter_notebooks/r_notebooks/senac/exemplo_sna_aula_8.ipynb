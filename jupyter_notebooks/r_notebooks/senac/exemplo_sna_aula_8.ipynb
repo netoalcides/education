{
 "cells": [
  {
   "cell_type": "markdown",
   "metadata": {},
   "source": [
    "# Exemplo Análise SNA - Aula 8\n",
    "\n",
    "Neste exemplo iremos apresentar a construção da rede social e apresentar a metodologia de algumas métricas."
   ]
  },
  {
   "cell_type": "markdown",
   "metadata": {},
   "source": [
    "## Carregar pacotes"
   ]
  },
  {
   "cell_type": "code",
   "execution_count": null,
   "metadata": {},
   "outputs": [],
   "source": [
    "library(tidyverse)\n",
    "library(magrittr)\n",
    "library(lubridate)\n",
    "library(igraph)\n",
    "library(visNetwork)"
   ]
  },
  {
   "cell_type": "markdown",
   "metadata": {},
   "source": [
    "## Carregar dados"
   ]
  },
  {
   "cell_type": "code",
   "execution_count": null,
   "metadata": {},
   "outputs": [],
   "source": [
    "matriz_adjacencia <- read_csv2('/home/vm-data-science/dados/exemplo_sna_aula_8.csv')"
   ]
  },
  {
   "cell_type": "code",
   "execution_count": null,
   "metadata": {
    "scrolled": true
   },
   "outputs": [],
   "source": [
    "matriz_adjacencia"
   ]
  },
  {
   "cell_type": "markdown",
   "metadata": {},
   "source": [
    "- vamos realizar um pequeno ajuste na matriz"
   ]
  },
  {
   "cell_type": "code",
   "execution_count": null,
   "metadata": {},
   "outputs": [],
   "source": [
    "m_adj_lower <- matriz_adjacencia %>% \n",
    "  select( -id ) %>% \n",
    "  as.matrix()\n",
    "\n",
    "m_adj_lower[ lower.tri(m_adj_lower) ] <- 0"
   ]
  },
  {
   "cell_type": "code",
   "execution_count": null,
   "metadata": {},
   "outputs": [],
   "source": [
    "m_adj_lower"
   ]
  },
  {
   "cell_type": "markdown",
   "metadata": {},
   "source": [
    "## Análises"
   ]
  },
  {
   "cell_type": "markdown",
   "metadata": {},
   "source": [
    "### Rede não direcionada\n",
    "\n",
    "Iremos apresentar a construção e as métricas para uma rede não direcionada."
   ]
  },
  {
   "cell_type": "markdown",
   "metadata": {},
   "source": [
    "- *nodes*"
   ]
  },
  {
   "cell_type": "code",
   "execution_count": null,
   "metadata": {},
   "outputs": [],
   "source": [
    "nodes <- matriz_adjacencia %>% \n",
    "    distinct(id)\n",
    "nodes"
   ]
  },
  {
   "cell_type": "code",
   "execution_count": null,
   "metadata": {},
   "outputs": [],
   "source": [
    "edges <- m_adj_lower %>% \n",
    "  dplyr::as_data_frame() %>% \n",
    "  mutate( from = colnames(m_adj_lower) ) %>% \n",
    "  gather( key = to, value = value, -from ) %>% \n",
    "  filter( value > 0 )\n",
    "edges"
   ]
  },
  {
   "cell_type": "markdown",
   "metadata": {},
   "source": [
    "- Cria rede não direcionada\n",
    "\n",
    "Nesta rede não há setas direcionando para qual caminho o fluxo está ocorrendo."
   ]
  },
  {
   "cell_type": "code",
   "execution_count": null,
   "metadata": {
    "scrolled": true
   },
   "outputs": [],
   "source": [
    "visNetwork(nodes, \n",
    "           edges, \n",
    "           width = \"100%\", \n",
    "           height = \"850\",\n",
    "           main = \"Rede Exemplo\" ) %>% \n",
    "  visInteraction( multiselect = TRUE) %>%\n",
    "  visOptions( highlightNearest = list(enabled = TRUE, degree = 1),\n",
    "              nodesIdSelection = TRUE ) %>% \n",
    "  visLayout(randomSeed = 541)"
   ]
  },
  {
   "cell_type": "markdown",
   "metadata": {},
   "source": [
    "- Métricas"
   ]
  },
  {
   "cell_type": "code",
   "execution_count": null,
   "metadata": {},
   "outputs": [],
   "source": [
    "exemplo_network_nao_direct <- graph_from_data_frame( d = edges,\n",
    "                                                vertices = nodes, \n",
    "                                                directed = F )\n",
    "\n",
    "as.matrix( exemplo_network_nao_direct[] )"
   ]
  },
  {
   "cell_type": "markdown",
   "metadata": {},
   "source": [
    "- *Density*"
   ]
  },
  {
   "cell_type": "code",
   "execution_count": null,
   "metadata": {},
   "outputs": [],
   "source": [
    "print( edge_density(exemplo_network_nao_direct, loops=F) ) # usando a funcao\n",
    "\n",
    "print( (mean(degree(exemplo_network_nao_direct))/2) / ((vcount(exemplo_network_nao_direct)-1)/2) ) # calculo na 'mao' 1\n",
    "\n",
    "print( (sum(degree(exemplo_network_nao_direct))/2) / ((6*(6-1))/2) ) # calculo nao 'mao' 2"
   ]
  },
  {
   "cell_type": "markdown",
   "metadata": {},
   "source": [
    "- *Degree*\n",
    "\n",
    "Demonstra se o nó possui muitas conexões com os demais da rede."
   ]
  },
  {
   "cell_type": "code",
   "execution_count": null,
   "metadata": {},
   "outputs": [],
   "source": [
    "degree(exemplo_network_nao_direct)"
   ]
  },
  {
   "cell_type": "markdown",
   "metadata": {},
   "source": [
    "- *Closeness*\n",
    "\n",
    "Mede a capacidade de atuação do nó na rede."
   ]
  },
  {
   "cell_type": "code",
   "execution_count": null,
   "metadata": {},
   "outputs": [],
   "source": [
    "closeness( exemplo_network_nao_direct, \n",
    "           mode = \"all\", \n",
    "           weights = NA, \n",
    "           normalized = T )"
   ]
  },
  {
   "cell_type": "code",
   "execution_count": null,
   "metadata": {},
   "outputs": [],
   "source": [
    "# Exemplo do calculo para o no 2\n",
    "1 / ( sum( distances( exemplo_network_nao_direct )[2,] ) / ( vcount(exemplo_network_nao_direct)-1) )"
   ]
  },
  {
   "cell_type": "markdown",
   "metadata": {},
   "source": [
    "- *Betweenness*\n",
    "\n",
    "O quanto o nó influencia no fluxo da informação na rede, a capacidade de intermediação."
   ]
  },
  {
   "cell_type": "code",
   "execution_count": null,
   "metadata": {},
   "outputs": [],
   "source": [
    "betweenness(exemplo_network_nao_direct, \n",
    "            directed = F, \n",
    "            weights = NA, \n",
    "            normalized = F)"
   ]
  },
  {
   "cell_type": "markdown",
   "metadata": {},
   "source": [
    "O cálculo do *betweenness* merece um pouco mais de detalhes para entendimento. A medida verifica se o determinado nó está no meio do caminho da menor distância entre dois nós.\n",
    "\n",
    "Vamos mostrar detalhes para o nó 3."
   ]
  },
  {
   "cell_type": "markdown",
   "metadata": {},
   "source": [
    "- caminho(s) mais curto(s) entre os nós 1 e 2:"
   ]
  },
  {
   "cell_type": "code",
   "execution_count": null,
   "metadata": {},
   "outputs": [],
   "source": [
    "all_shortest_paths( exemplo_network_nao_direct, from = 1, to = 2 )"
   ]
  },
  {
   "cell_type": "markdown",
   "metadata": {},
   "source": [
    "Temos 1 menor caminho, mas o nó 3 não pertence, então 0/1"
   ]
  },
  {
   "cell_type": "markdown",
   "metadata": {},
   "source": [
    "- caminho(s) mais curto(s) entre os nós 1 e 4:"
   ]
  },
  {
   "cell_type": "code",
   "execution_count": null,
   "metadata": {},
   "outputs": [],
   "source": [
    "all_shortest_paths( exemplo_network_nao_direct, from = 1, to = 4 )"
   ]
  },
  {
   "cell_type": "markdown",
   "metadata": {},
   "source": [
    "Temos 1 menor caminho, mas o nó 3 não pertence, então 0/1"
   ]
  },
  {
   "cell_type": "markdown",
   "metadata": {},
   "source": [
    "- caminho(s) mais curto(s) entre os nós 1 e 5:"
   ]
  },
  {
   "cell_type": "code",
   "execution_count": null,
   "metadata": {},
   "outputs": [],
   "source": [
    "all_shortest_paths( exemplo_network_nao_direct, from = 1, to = 5 )"
   ]
  },
  {
   "cell_type": "markdown",
   "metadata": {},
   "source": [
    "Temos 1 menor caminho, mas o nó 3 não pertence, então 0/1"
   ]
  },
  {
   "cell_type": "markdown",
   "metadata": {},
   "source": [
    "- caminho(s) mais curto(s) entre os nós 1 e 6:"
   ]
  },
  {
   "cell_type": "code",
   "execution_count": null,
   "metadata": {},
   "outputs": [],
   "source": [
    "all_shortest_paths( exemplo_network_nao_direct, from = 1, to = 6 )"
   ]
  },
  {
   "cell_type": "markdown",
   "metadata": {},
   "source": [
    "Temos 2 menores caminhos e o nó 3 pertence aos 2, então 2/2"
   ]
  },
  {
   "cell_type": "markdown",
   "metadata": {},
   "source": [
    "- caminho(s) mais curto(s) entre os nós 2 e 4:"
   ]
  },
  {
   "cell_type": "code",
   "execution_count": null,
   "metadata": {},
   "outputs": [],
   "source": [
    "all_shortest_paths( exemplo_network_nao_direct, from = 2, to = 4 )"
   ]
  },
  {
   "cell_type": "markdown",
   "metadata": {},
   "source": [
    "Temos 1 menor caminho, mas o nó 3 não pertence, então 0/1"
   ]
  },
  {
   "cell_type": "markdown",
   "metadata": {},
   "source": [
    "- caminho(s) mais curto(s) entre os nós 2 e 5:"
   ]
  },
  {
   "cell_type": "code",
   "execution_count": null,
   "metadata": {},
   "outputs": [],
   "source": [
    "all_shortest_paths( exemplo_network_nao_direct, from = 2, to = 5 )"
   ]
  },
  {
   "cell_type": "markdown",
   "metadata": {},
   "source": [
    "Temos 2 menores caminhos, mas o nó 3 somente pertence a 1 deles, então 1/2.\n",
    "\n",
    "Podemos verificar que o nó 3 está contido em todos os demais menores caminhos."
   ]
  },
  {
   "cell_type": "code",
   "execution_count": null,
   "metadata": {},
   "outputs": [],
   "source": [
    "all_shortest_paths( exemplo_network_nao_direct, from = 2, to = 6 ) # 1/1\n",
    "all_shortest_paths( exemplo_network_nao_direct, from = 4, to = 5 ) # 1/1\n",
    "all_shortest_paths( exemplo_network_nao_direct, from = 4, to = 6 ) # 1/1\n",
    "all_shortest_paths( exemplo_network_nao_direct, from = 5, to = 6 ) # 1/1"
   ]
  },
  {
   "cell_type": "markdown",
   "metadata": {},
   "source": [
    "Ao somarmos todos os valores temos o *betweenness*"
   ]
  },
  {
   "cell_type": "markdown",
   "metadata": {},
   "source": [
    "### Rede direcionada\n",
    "\n",
    "A rede direcionada mostra o fluxo de como a informação pode seguir."
   ]
  },
  {
   "cell_type": "code",
   "execution_count": null,
   "metadata": {
    "scrolled": true
   },
   "outputs": [],
   "source": [
    "visNetwork(nodes, \n",
    "           edges, \n",
    "           width = \"100%\", \n",
    "           height = \"850\",\n",
    "           main = \"Rede Exemplo\" ) %>% \n",
    "  visEdges(arrows = 'to') %>%\n",
    "  visInteraction( multiselect = TRUE) %>%\n",
    "  visOptions( highlightNearest = list(enabled = TRUE, degree = 1),\n",
    "              nodesIdSelection = TRUE ) %>% \n",
    "  visLayout(randomSeed = 541)"
   ]
  },
  {
   "cell_type": "markdown",
   "metadata": {},
   "source": [
    "- Métricas"
   ]
  },
  {
   "cell_type": "code",
   "execution_count": null,
   "metadata": {},
   "outputs": [],
   "source": [
    "exemplo_network_direct <- graph_from_data_frame( d = edges,\n",
    "                                                vertices = nodes, \n",
    "                                                directed = T )\n",
    "\n",
    "as.matrix( exemplo_network_direct[] )"
   ]
  },
  {
   "cell_type": "markdown",
   "metadata": {},
   "source": [
    "- *Density*"
   ]
  },
  {
   "cell_type": "code",
   "execution_count": null,
   "metadata": {},
   "outputs": [],
   "source": [
    "print( edge_density(exemplo_network_direct, loops=F) ) # usando a funcao\n",
    "\n",
    "print( (mean(degree(exemplo_network_direct, mode = 'out'))/2) / ((vcount(exemplo_network_direct)-1)/2) ) # calculo na 'mao' 1\n",
    "\n",
    "print( (sum(degree(exemplo_network_direct, mode = 'out'))/2) / ((6*(6-1))/2) )"
   ]
  },
  {
   "cell_type": "markdown",
   "metadata": {},
   "source": [
    "- *Closeness*"
   ]
  },
  {
   "cell_type": "code",
   "execution_count": null,
   "metadata": {
    "scrolled": false
   },
   "outputs": [],
   "source": [
    "closeness( exemplo_network_direct, \n",
    "           mode = \"out\", \n",
    "           weights = NA, \n",
    "           normalized = T )"
   ]
  },
  {
   "cell_type": "markdown",
   "metadata": {},
   "source": [
    "- *Betweenness*"
   ]
  },
  {
   "cell_type": "code",
   "execution_count": null,
   "metadata": {},
   "outputs": [],
   "source": [
    "betweenness(exemplo_network_direct, \n",
    "            directed = T, \n",
    "            weights = NA, \n",
    "            normalized = F)"
   ]
  }
 ],
 "metadata": {
  "kernelspec": {
   "display_name": "R",
   "language": "R",
   "name": "ir"
  },
  "language_info": {
   "codemirror_mode": "r",
   "file_extension": ".r",
   "mimetype": "text/x-r-source",
   "name": "R",
   "pygments_lexer": "r",
   "version": "3.4.4"
  }
 },
 "nbformat": 4,
 "nbformat_minor": 2
}
