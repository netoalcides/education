{
 "cells": [
  {
   "cell_type": "markdown",
   "metadata": {},
   "source": [
    "# Exemplo 1 - Redução de dimensão detalhado\n",
    "\n",
    "Neste exemplo iremos analisar dados agregados do último censo.\n",
    "\n",
    "Será que conseguiremos resumir os dados apresentados em poucas visualizações?"
   ]
  },
  {
   "cell_type": "markdown",
   "metadata": {},
   "source": [
    "## Carregar pacotes"
   ]
  },
  {
   "cell_type": "code",
   "execution_count": null,
   "metadata": {},
   "outputs": [],
   "source": [
    "library(tidyverse)\n",
    "library(magrittr)\n",
    "library(plotly)\n",
    "library(psych)"
   ]
  },
  {
   "cell_type": "markdown",
   "metadata": {},
   "source": [
    "## Carregar dados"
   ]
  },
  {
   "cell_type": "code",
   "execution_count": null,
   "metadata": {},
   "outputs": [],
   "source": [
    "dados_municipios <- read_csv(\"/home/vm-data-science/dados/dados_municipios.csv\")"
   ]
  },
  {
   "cell_type": "code",
   "execution_count": null,
   "metadata": {},
   "outputs": [],
   "source": [
    "dados_municipios %>% head"
   ]
  },
  {
   "cell_type": "markdown",
   "metadata": {},
   "source": [
    "## *Principal Components Analysis* - PCA\n",
    "\n",
    "1 - Analisar correlações\n",
    "\n",
    "2 - Definir número de componentes a serem extraídos\n",
    "\n",
    "3 - Interpretação genérica dos componentes extraídos\n",
    "\n",
    "4 - Realizar as análises necessárias (Visualização ou *Machine Learning* supervisionado)"
   ]
  },
  {
   "cell_type": "markdown",
   "metadata": {},
   "source": [
    "### 1 - Analisar correlações"
   ]
  },
  {
   "cell_type": "code",
   "execution_count": null,
   "metadata": {},
   "outputs": [],
   "source": [
    "correlacao <- dados_municipios %>% \n",
    "  select( contains('t_') ) %>% \n",
    "  cor() %>% \n",
    "  round(., 2)\n",
    "\n",
    "correlacao"
   ]
  },
  {
   "cell_type": "code",
   "execution_count": null,
   "metadata": {},
   "outputs": [],
   "source": [
    "plot_ly( z = correlacao,\n",
    "         x = colnames(correlacao),\n",
    "         y = colnames(correlacao), \n",
    "         colorscale = \"Greys\", \n",
    "         type = \"heatmap\" )"
   ]
  },
  {
   "cell_type": "markdown",
   "metadata": {},
   "source": [
    "### 2 - Definir número de componentes a serem extraídos\n",
    "\n",
    "- Autovalores maiores que 1\n",
    "- Screeplot\n",
    "- Variância explicada"
   ]
  },
  {
   "cell_type": "markdown",
   "metadata": {},
   "source": [
    "- Autovalores maiores que 1\n",
    "\n",
    "Geramos o PCA deixando inicialmente o numero de dimensões igual ao número de variáveis, no caso 8."
   ]
  },
  {
   "cell_type": "code",
   "execution_count": null,
   "metadata": {},
   "outputs": [],
   "source": [
    "pca_model <- principal(dados_municipios %>% \n",
    "                        select( contains('t_') ), \n",
    "                       nfactors = 8, \n",
    "                       rotate = \"none\" )"
   ]
  },
  {
   "cell_type": "code",
   "execution_count": null,
   "metadata": {},
   "outputs": [],
   "source": [
    "pca_model"
   ]
  },
  {
   "cell_type": "code",
   "execution_count": null,
   "metadata": {},
   "outputs": [],
   "source": [
    "pca_model$values %>% \n",
    "    as_data_frame %>% \n",
    "    mutate( dimensao = paste0('PC', 1:8) )"
   ]
  },
  {
   "cell_type": "markdown",
   "metadata": {},
   "source": [
    "Vemos que somente o PC1 tem valor acima de 1. \n",
    "\n",
    "Seguindo somente este critério, somente utilizariamos um componente"
   ]
  },
  {
   "cell_type": "markdown",
   "metadata": {},
   "source": [
    "- Screeplot"
   ]
  },
  {
   "cell_type": "code",
   "execution_count": null,
   "metadata": {
    "scrolled": false
   },
   "outputs": [],
   "source": [
    "pca_model$values %>% \n",
    "    as_data_frame %>% \n",
    "    rename( autovalor = value ) %>% \n",
    "    mutate( dimensao = paste0('PC', 1:8) ) %>% \n",
    "    plot_ly(x = ~dimensao,\n",
    "            y = ~autovalor,\n",
    "            type = 'scatter',\n",
    "            mode = 'lines+markers',\n",
    "            marker = list(size = 10, color = 'red') )"
   ]
  },
  {
   "cell_type": "markdown",
   "metadata": {},
   "source": [
    "Observamos forte decaimento do PC1 para o PC2. \n",
    "\n",
    "Neste caso podemos manter a regra do autovalor acima de 1 e ficar somente com o PC1.\n",
    "\n",
    "Ou, podemos ficar com os componentes PC1 e PC2 devido que a partir de PC2 praticamente não há decaimento."
   ]
  },
  {
   "cell_type": "markdown",
   "metadata": {},
   "source": [
    "- Variância explicada"
   ]
  },
  {
   "cell_type": "code",
   "execution_count": null,
   "metadata": {},
   "outputs": [],
   "source": [
    "pca_model"
   ]
  },
  {
   "cell_type": "markdown",
   "metadata": {},
   "source": [
    "Observamos os valores de ***\"Proportion Explained\"*** e ***\"Cumulative Proportion\"***.\n",
    "\n",
    "Vemos que o PC1 tem proporção de 0.59 e o PC2 proporção de 0.11. Juntos acumulam explicação de 69% da variabilidade dos dados.\n",
    "\n",
    "Do ponto de vista de economia e outras áreas de ciências sociais, valores entre 60% e 70% são razoáveis.\n",
    "\n",
    "Neste caso, somente ficar com PC1 não seria a melhor escolha. Deste modo, poderíamos ficar com PC1 e PC2 ou PC1, PC2 e PC3."
   ]
  },
  {
   "cell_type": "markdown",
   "metadata": {},
   "source": [
    "### 3 - Interpretação\n",
    "\n",
    "Para facilitar a interpretação, podemos rotacionar as cargas."
   ]
  },
  {
   "cell_type": "code",
   "execution_count": null,
   "metadata": {},
   "outputs": [],
   "source": [
    "pca_model <- principal(dados_municipios %>% \n",
    "                        select( contains('t_') ), \n",
    "                       nfactors = 8, \n",
    "                       rotate = \"varimax\" )"
   ]
  },
  {
   "cell_type": "code",
   "execution_count": null,
   "metadata": {},
   "outputs": [],
   "source": [
    "pca_model"
   ]
  },
  {
   "cell_type": "markdown",
   "metadata": {},
   "source": [
    "Vemos que após a rotação podemos melhor interpretar.\n",
    "\n",
    "Agora os componentes a serem usados são RC1 e RC3.\n",
    "\n",
    "As variáveis relacionadas com RC1 são os índices de analfabetismo e escolaridade.\n",
    "As variáveis relacionadas com RC3 são os índices de atraso escolar."
   ]
  },
  {
   "cell_type": "code",
   "execution_count": null,
   "metadata": {},
   "outputs": [],
   "source": [
    "dados_municipios %<>% \n",
    "  mutate( indice_atraso_escolar = pca_model$scores[,1],\n",
    "          indice_qualidade_moradia = pca_model$scores[,2] )\n",
    "\n",
    "dados_municipios %>% \n",
    "    head"
   ]
  },
  {
   "cell_type": "code",
   "execution_count": null,
   "metadata": {},
   "outputs": [],
   "source": [
    "dados_municipios %>% \n",
    "  group_by( estado ) %>% \n",
    "  summarise( indice_qualidade_moradia = mean(indice_qualidade_moradia), \n",
    "             indice_atraso_escolar = mean(indice_atraso_escolar) ) %>% \n",
    "  mutate( d_qual = ifelse( indice_qualidade_moradia > 0, 'moradia_alta', 'moradia_baixa'),\n",
    "          d_atra = ifelse( indice_atraso_escolar > 0, 'atraso_alto', 'atraso_baixo'),\n",
    "          quadrante = paste0(d_qual, ' - ', d_atra) ) %>% \n",
    "  plot_ly( x = ~indice_atraso_escolar,\n",
    "           y = ~indice_qualidade_moradia,\n",
    "           color = ~quadrante,\n",
    "           marker = list( size = 15),\n",
    "           type = 'scatter',\n",
    "           mode = 'markers',\n",
    "           text = ~paste( \"</br> Estado: \", estado,\n",
    "                          \"</br> Moradia: \", d_qual,\n",
    "                          \"</br> Atraso: \", d_atra),\n",
    "           hoverinfo = 'text',\n",
    "           showlegend = TRUE ) %>% \n",
    "  layout( xaxis = list( title = \"Índice de atraso escolar\" ), \n",
    "          yaxis = list( title = \"Índice de qualidade de moradia\" ) )"
   ]
  },
  {
   "cell_type": "code",
   "execution_count": null,
   "metadata": {},
   "outputs": [],
   "source": []
  }
 ],
 "metadata": {
  "kernelspec": {
   "display_name": "R",
   "language": "R",
   "name": "ir"
  },
  "language_info": {
   "codemirror_mode": "r",
   "file_extension": ".r",
   "mimetype": "text/x-r-source",
   "name": "R",
   "pygments_lexer": "r",
   "version": "3.4.4"
  }
 },
 "nbformat": 4,
 "nbformat_minor": 2
}
