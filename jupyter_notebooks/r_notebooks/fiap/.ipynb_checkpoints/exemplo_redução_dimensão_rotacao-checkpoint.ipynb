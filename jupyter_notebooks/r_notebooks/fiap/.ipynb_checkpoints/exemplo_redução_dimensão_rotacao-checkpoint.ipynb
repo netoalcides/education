{
 "cells": [
  {
   "cell_type": "markdown",
   "metadata": {},
   "source": [
    "# Exemplo 1 - Redução de dimensão\n",
    "\n",
    "Neste exemplo iremos analisar dados agregados do último censo.\n",
    "\n",
    "Será que conseguiremos resumir os dados apresentados em poucas visualizações?"
   ]
  },
  {
   "cell_type": "markdown",
   "metadata": {},
   "source": [
    "## Carregar pacotes"
   ]
  },
  {
   "cell_type": "code",
   "execution_count": null,
   "metadata": {},
   "outputs": [],
   "source": [
    "library(tidyverse)\n",
    "library(magrittr)\n",
    "library(plotly)\n",
    "library(psych)"
   ]
  },
  {
   "cell_type": "markdown",
   "metadata": {},
   "source": [
    "## Carregar dados"
   ]
  },
  {
   "cell_type": "code",
   "execution_count": null,
   "metadata": {},
   "outputs": [],
   "source": [
    "dados_municipios <- read_csv(\"/home/vm-data-science/dados/dados_municipios.csv\")"
   ]
  },
  {
   "cell_type": "code",
   "execution_count": null,
   "metadata": {},
   "outputs": [],
   "source": [
    "dados_municipios %>% head"
   ]
  },
  {
   "cell_type": "markdown",
   "metadata": {},
   "source": [
    "## Análises"
   ]
  },
  {
   "cell_type": "markdown",
   "metadata": {},
   "source": [
    "### *Principal Components Analysis* - PCA\n",
    "\n",
    "Agora que podemos criar 2 índices e observar o conceito de rotação."
   ]
  },
  {
   "cell_type": "code",
   "execution_count": null,
   "metadata": {},
   "outputs": [],
   "source": [
    "pca_model_norotate <- principal(dados_municipios %>% \n",
    "                        select( contains('t_') ), \n",
    "                       nfactors = 8, \n",
    "                       rotate = \"none\" )"
   ]
  },
  {
   "cell_type": "code",
   "execution_count": null,
   "metadata": {
    "scrolled": false
   },
   "outputs": [],
   "source": [
    "pca_model_norotate"
   ]
  },
  {
   "cell_type": "code",
   "execution_count": null,
   "metadata": {},
   "outputs": [],
   "source": [
    "pca_model_rotate <- principal(dados_municipios %>% \n",
    "                        select( contains('t_') ), \n",
    "                       nfactors = 8, \n",
    "                       rotate = \"varimax\" )"
   ]
  },
  {
   "cell_type": "code",
   "execution_count": null,
   "metadata": {},
   "outputs": [],
   "source": [
    "pca_model_rotate"
   ]
  },
  {
   "cell_type": "code",
   "execution_count": null,
   "metadata": {},
   "outputs": [],
   "source": [
    "dados_municipios %<>% \n",
    "  mutate( PC1 = pca_model_norotate$scores[,1],\n",
    "          PC2 = pca_model_norotate$scores[,2],\n",
    "          PC1_rot = pca_model_rotate$scores[,1],\n",
    "          PC2_rot = pca_model_rotate$scores[,2] )"
   ]
  },
  {
   "cell_type": "code",
   "execution_count": null,
   "metadata": {},
   "outputs": [],
   "source": [
    "dados_estados <- dados_municipios %>% \n",
    "  group_by( estado ) %>% \n",
    "  summarise( PC1 = mean(PC1), \n",
    "             PC2 = mean(PC2),\n",
    "             PC1_rot = mean(PC1_rot), \n",
    "             PC2_rot = mean(PC2_rot) )"
   ]
  },
  {
   "cell_type": "markdown",
   "metadata": {},
   "source": [
    "- visão não rotacionada"
   ]
  },
  {
   "cell_type": "code",
   "execution_count": null,
   "metadata": {},
   "outputs": [],
   "source": [
    "p <- plot_ly() %>%\n",
    "    add_trace(x=~dados_estados$PC1, \n",
    "              y=~dados_estados$PC2,\n",
    "              type=\"scatter\",\n",
    "              mode=\"markers\" ) \n",
    "p"
   ]
  },
  {
   "cell_type": "code",
   "execution_count": null,
   "metadata": {},
   "outputs": [],
   "source": [
    "variaveis <- pca_model_norotate$loadings[] %>% rownames()\n",
    "\n",
    "for( k in 1:nrow(pca_model_norotate$loadings) ) {\n",
    "    \n",
    "    x <- c(0, pca_model_norotate$loadings[k,1])\n",
    "    y <- c(0, pca_model_norotate$loadings[k,2])\n",
    "    p <- p %>% add_trace(x=x, y=y,\n",
    "                     type=\"scatter\", \n",
    "                     mode=\"lines\",\n",
    "                     line = list(width=1),\n",
    "                     opacity = 1,\n",
    "                     name = variaveis[k] )\n",
    "}"
   ]
  },
  {
   "cell_type": "code",
   "execution_count": null,
   "metadata": {
    "scrolled": false
   },
   "outputs": [],
   "source": [
    "p"
   ]
  },
  {
   "cell_type": "markdown",
   "metadata": {},
   "source": [
    "- visão rotacionada"
   ]
  },
  {
   "cell_type": "code",
   "execution_count": null,
   "metadata": {},
   "outputs": [],
   "source": [
    "p2 <- plot_ly() %>%\n",
    "    add_trace(x=~dados_estados$PC1_rot, \n",
    "              y=~dados_estados$PC2_rot,\n",
    "              type=\"scatter\",\n",
    "              mode=\"markers\" ) "
   ]
  },
  {
   "cell_type": "code",
   "execution_count": null,
   "metadata": {},
   "outputs": [],
   "source": [
    "variaveis <- pca_model_rotate$loadings[] %>% rownames()\n",
    "\n",
    "for( k in 1:nrow(pca_model_rotate$loadings) ) {\n",
    "    \n",
    "    x <- c(0, pca_model_rotate$loadings[k,1])\n",
    "    y <- c(0, pca_model_rotate$loadings[k,2])\n",
    "    p2 <- p2 %>% add_trace(x=x, y=y,\n",
    "                     type=\"scatter\", \n",
    "                     mode=\"lines\",\n",
    "                     line = list(width=1),\n",
    "                     opacity = 1,\n",
    "                     name = variaveis[k]  )\n",
    "}"
   ]
  },
  {
   "cell_type": "code",
   "execution_count": null,
   "metadata": {},
   "outputs": [],
   "source": [
    "p2"
   ]
  },
  {
   "cell_type": "code",
   "execution_count": null,
   "metadata": {},
   "outputs": [],
   "source": []
  }
 ],
 "metadata": {
  "kernelspec": {
   "display_name": "R",
   "language": "R",
   "name": "ir"
  },
  "language_info": {
   "codemirror_mode": "r",
   "file_extension": ".r",
   "mimetype": "text/x-r-source",
   "name": "R",
   "pygments_lexer": "r",
   "version": "3.4.4"
  }
 },
 "nbformat": 4,
 "nbformat_minor": 2
}
