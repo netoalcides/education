{
 "cells": [
  {
   "cell_type": "markdown",
   "metadata": {},
   "source": [
    "# Exemplo Regressão Linear com Cluster\n",
    "\n",
    "Neste exemplo será utilizado os dados da pesquisa sobre *Nerdy Personality Attributes Scale*"
   ]
  },
  {
   "cell_type": "markdown",
   "metadata": {},
   "source": [
    "## Carregar pacotes"
   ]
  },
  {
   "cell_type": "code",
   "execution_count": null,
   "metadata": {},
   "outputs": [],
   "source": [
    "library(tidyverse)\n",
    "library(magrittr)\n",
    "library(clue)\n",
    "library(plotly)"
   ]
  },
  {
   "cell_type": "markdown",
   "metadata": {},
   "source": [
    "## Funções gerais"
   ]
  },
  {
   "cell_type": "code",
   "execution_count": null,
   "metadata": {},
   "outputs": [],
   "source": [
    "rmse <- function( real, prediction ){ sqrt( mean( (real - prediction)^2 ) ) }"
   ]
  },
  {
   "cell_type": "code",
   "execution_count": null,
   "metadata": {},
   "outputs": [],
   "source": [
    "padronizar <- function(x){ (x - min(x)) / (max(x) - min(x)) }"
   ]
  },
  {
   "cell_type": "markdown",
   "metadata": {},
   "source": [
    "## Carregar dados"
   ]
  },
  {
   "cell_type": "code",
   "execution_count": null,
   "metadata": {},
   "outputs": [],
   "source": [
    "load( '/home/vm-data-science/dados/dados_nerd_nomissings.RData' )"
   ]
  },
  {
   "cell_type": "code",
   "execution_count": null,
   "metadata": {},
   "outputs": [],
   "source": [
    "dados_nerd_train %>% \n",
    "    head()"
   ]
  },
  {
   "cell_type": "code",
   "execution_count": null,
   "metadata": {},
   "outputs": [],
   "source": [
    "dados_nerd_test %>% \n",
    "    head()"
   ]
  },
  {
   "cell_type": "markdown",
   "metadata": {},
   "source": [
    "## Análise exploratória"
   ]
  },
  {
   "cell_type": "code",
   "execution_count": null,
   "metadata": {
    "scrolled": true
   },
   "outputs": [],
   "source": [
    "# count em todas as colunas\n",
    "dados_nerd_train %>% \n",
    "  map( ~count(data.frame(x=.x), x) )"
   ]
  },
  {
   "cell_type": "code",
   "execution_count": null,
   "metadata": {},
   "outputs": [],
   "source": [
    "# Histograma\n",
    "dados_nerd_train %>% \n",
    "  ggplot( aes( x = nerdy ) ) +\n",
    "  geom_histogram()"
   ]
  },
  {
   "cell_type": "code",
   "execution_count": null,
   "metadata": {},
   "outputs": [],
   "source": [
    "# outliers\n",
    "dados_nerd_train %>% \n",
    "  dplyr::select( contains('Q') ) %>% \n",
    "  gather( key = variaveis, value = notas ) %>% \n",
    "  plot_ly( x = ~variaveis,\n",
    "           y = ~notas,\n",
    "           type = 'box' )"
   ]
  },
  {
   "cell_type": "markdown",
   "metadata": {},
   "source": [
    "## Combinação de técnicas supervisionadas com não supervisionadas\n",
    "\n",
    "1 - Aplicamos o algoritmo não supervisionado\n",
    "\n",
    "2 - Geramos os novos atributos no banco de dados\n",
    "\n",
    "3 - Aplicamos o algoritmo supervisionado com os atributos obtidos pelo não supervisionado"
   ]
  },
  {
   "cell_type": "markdown",
   "metadata": {},
   "source": [
    "### 1 - Aplicamos o algoritmo de descoberta de *clusters*"
   ]
  },
  {
   "cell_type": "markdown",
   "metadata": {},
   "source": [
    "- padronizamos as variáveis"
   ]
  },
  {
   "cell_type": "code",
   "execution_count": null,
   "metadata": {},
   "outputs": [],
   "source": [
    "dados_nerd_train_padronizados <- dados_nerd_train %>% \n",
    "  dplyr::select( contains('Q') ) %>% \n",
    "  mutate_if( is.numeric, padronizar )"
   ]
  },
  {
   "cell_type": "markdown",
   "metadata": {},
   "source": [
    "- aplicamos algoritmo hierárquico para auxiliar na obtenção do número de grupos"
   ]
  },
  {
   "cell_type": "code",
   "execution_count": null,
   "metadata": {},
   "outputs": [],
   "source": [
    "distancia <- dist( x = dados_nerd_train_padronizados, \n",
    "                   method =  'euclidian' )\n",
    "\n",
    "modelo_cluster_hierarquico <- hclust( distancia,\n",
    "                                      method = 'ward.D' )"
   ]
  },
  {
   "cell_type": "markdown",
   "metadata": {},
   "source": [
    "- geramos o gráfico dos coeficientes de aglomeração (vamos considerar uma solução de 4 grupos, mas poderiamos também testar com 3 grupos)"
   ]
  },
  {
   "cell_type": "code",
   "execution_count": null,
   "metadata": {},
   "outputs": [],
   "source": [
    "data_frame( grupos = 31:1 + 1,\n",
    "            aglomeracao = modelo_cluster_hierarquico$height[872:902] ) %>% \n",
    "  plot_ly( x = ~grupos,\n",
    "           y = ~aglomeracao,\n",
    "           type = 'scatter',\n",
    "           mode = 'lines+markers',\n",
    "           marker = list(size = 10, color = 'red') ) %>% \n",
    "  layout( xaxis = list( autorange=\"reversed\") )"
   ]
  },
  {
   "cell_type": "markdown",
   "metadata": {},
   "source": [
    "- Dendograma (como existem muitos casos, o dendograma será apresentado somente por objetivos educacionais)"
   ]
  },
  {
   "cell_type": "code",
   "execution_count": null,
   "metadata": {},
   "outputs": [],
   "source": [
    "plot(modelo_cluster_hierarquico)\n",
    "rect.hclust( modelo_cluster_hierarquico, \n",
    "             k = 4, \n",
    "             border = \"red\" )"
   ]
  },
  {
   "cell_type": "markdown",
   "metadata": {},
   "source": [
    "- obtenção dos centróides"
   ]
  },
  {
   "cell_type": "code",
   "execution_count": null,
   "metadata": {},
   "outputs": [],
   "source": [
    "centroides <- dados_nerd_train_padronizados %>% \n",
    "  mutate( grupos = cutree(modelo_cluster_hierarquico, \n",
    "                          k = 4 ) ) %>% \n",
    "  group_by( grupos ) %>% \n",
    "  summarise_if( is.numeric, mean )"
   ]
  },
  {
   "cell_type": "markdown",
   "metadata": {},
   "source": [
    "- aplicamos o algoritmo não hierárquico"
   ]
  },
  {
   "cell_type": "code",
   "execution_count": null,
   "metadata": {},
   "outputs": [],
   "source": [
    "set.seed(123)\n",
    "clusters_k4 <- kmeans(dados_nerd_train_padronizados , \n",
    "                      centers = centroides[-1] )"
   ]
  },
  {
   "cell_type": "markdown",
   "metadata": {},
   "source": [
    "### 2 - Geramos os novos atributos no banco de dados"
   ]
  },
  {
   "cell_type": "code",
   "execution_count": null,
   "metadata": {},
   "outputs": [],
   "source": [
    "dados_nerd_train %<>% \n",
    "  mutate( grupos_final = as.factor(clusters_k4$cluster) )"
   ]
  },
  {
   "cell_type": "code",
   "execution_count": null,
   "metadata": {},
   "outputs": [],
   "source": [
    "# exemplo\n",
    "dados_nerd_train %>% \n",
    "  dplyr::select( nerdy, Q1:Q5, grupos_final) %>% \n",
    "  head()"
   ]
  },
  {
   "cell_type": "markdown",
   "metadata": {},
   "source": [
    "### 3 - Aplicamos o modelo de regressão linear"
   ]
  },
  {
   "cell_type": "markdown",
   "metadata": {},
   "source": [
    "- Alguns ajustes importantes no banco de dados no R"
   ]
  },
  {
   "cell_type": "code",
   "execution_count": null,
   "metadata": {},
   "outputs": [],
   "source": [
    "dados_nerd_train %<>% \n",
    "  mutate( gender = as.factor(gender),\n",
    "          education = as.factor(education),\n",
    "          married = as.factor(married),\n",
    "          ASD = as.factor(ASD) )"
   ]
  },
  {
   "cell_type": "markdown",
   "metadata": {},
   "source": [
    "- Modelo 1: somente as 26 questões"
   ]
  },
  {
   "cell_type": "code",
   "execution_count": null,
   "metadata": {},
   "outputs": [],
   "source": [
    "modelo_reg_questoes <- lm( formula = nerdy ~ ., \n",
    "                           data = dados_nerd_train %>% dplyr::select( nerdy, contains('Q') ) )"
   ]
  },
  {
   "cell_type": "code",
   "execution_count": null,
   "metadata": {},
   "outputs": [],
   "source": [
    "summary( modelo_reg_questoes )"
   ]
  },
  {
   "cell_type": "markdown",
   "metadata": {},
   "source": [
    "- Modelo 2: somente os *clusters*"
   ]
  },
  {
   "cell_type": "code",
   "execution_count": null,
   "metadata": {},
   "outputs": [],
   "source": [
    "modelo_reg_clus <- lm( formula = nerdy ~ ., \n",
    "                      data = dados_nerd_train %>% dplyr::select( nerdy, grupos_final ) )"
   ]
  },
  {
   "cell_type": "code",
   "execution_count": null,
   "metadata": {},
   "outputs": [],
   "source": [
    "summary( modelo_reg_clus )"
   ]
  },
  {
   "cell_type": "markdown",
   "metadata": {},
   "source": [
    "- Modelo 3: questões e *clusters*"
   ]
  },
  {
   "cell_type": "code",
   "execution_count": null,
   "metadata": {},
   "outputs": [],
   "source": [
    "modelo_reg_questclus <- lm( formula = nerdy ~ ., \n",
    "                       data = dados_nerd_train %>% dplyr::select( nerdy, contains('Q'), grupos_final ) )"
   ]
  },
  {
   "cell_type": "code",
   "execution_count": null,
   "metadata": {},
   "outputs": [],
   "source": [
    "summary( modelo_reg_questclus )"
   ]
  },
  {
   "cell_type": "markdown",
   "metadata": {},
   "source": [
    "## Avaliação dos modelos"
   ]
  },
  {
   "cell_type": "markdown",
   "metadata": {},
   "source": [
    "- padronizamos as variáveis da amostra de teste"
   ]
  },
  {
   "cell_type": "code",
   "execution_count": null,
   "metadata": {},
   "outputs": [],
   "source": [
    "dados_nerd_test_padronizados <- dados_nerd_test %>% \n",
    "  dplyr::select( contains('Q') ) %>% \n",
    "  mutate_if( is.numeric, padronizar )"
   ]
  },
  {
   "cell_type": "markdown",
   "metadata": {},
   "source": [
    "- criamos os *clusters* para a amostra de teste"
   ]
  },
  {
   "cell_type": "code",
   "execution_count": null,
   "metadata": {},
   "outputs": [],
   "source": [
    "clusters_teste <- cl_predict( clusters_k4, \n",
    "            newdata = dados_nerd_test_padronizados )"
   ]
  },
  {
   "cell_type": "markdown",
   "metadata": {},
   "source": [
    "- Adicionamos os *clusters* na amostra de teste"
   ]
  },
  {
   "cell_type": "code",
   "execution_count": null,
   "metadata": {},
   "outputs": [],
   "source": [
    "dados_nerd_test %<>% \n",
    "  mutate( grupos_final = as.factor(clusters_teste) )"
   ]
  },
  {
   "cell_type": "code",
   "execution_count": null,
   "metadata": {},
   "outputs": [],
   "source": [
    "dados_nerd_test %>% \n",
    "    head()"
   ]
  },
  {
   "cell_type": "markdown",
   "metadata": {},
   "source": [
    "- Geramos as previsoes para avaliação"
   ]
  },
  {
   "cell_type": "code",
   "execution_count": null,
   "metadata": {},
   "outputs": [],
   "source": [
    "amostra_avaliacao <- dados_nerd_test %>% \n",
    "  mutate( pred_nerdy_reg_quest = predict( modelo_reg_questoes, . ),\n",
    "          pred_nerdy_reg_clus = predict( modelo_reg_clus, . ),\n",
    "          pred_nerdy_reg_questclus = predict( modelo_reg_questclus, . ) ) %>% \n",
    "  dplyr::select( nerdy, pred_nerdy_reg_quest, pred_nerdy_reg_clus, pred_nerdy_reg_questclus)"
   ]
  },
  {
   "cell_type": "code",
   "execution_count": null,
   "metadata": {},
   "outputs": [],
   "source": [
    "amostra_avaliacao %>% \n",
    "    head()"
   ]
  },
  {
   "cell_type": "markdown",
   "metadata": {},
   "source": [
    "- Comparamos os modelos pelo RMSE"
   ]
  },
  {
   "cell_type": "code",
   "execution_count": null,
   "metadata": {},
   "outputs": [],
   "source": [
    "amostra_avaliacao %>% \n",
    "  summarise( Modelo_1_questoes = rmse(nerdy, pred_nerdy_reg_quest),\n",
    "             Modelo_2_clusters = rmse(nerdy, pred_nerdy_reg_clus),\n",
    "             Modelo_3_questclust = rmse(nerdy, pred_nerdy_reg_questclus) ) %>% \n",
    "  gather( key = modelos, value = rmse ) %>% \n",
    "  arrange( rmse )"
   ]
  },
  {
   "cell_type": "code",
   "execution_count": null,
   "metadata": {},
   "outputs": [],
   "source": []
  }
 ],
 "metadata": {
  "kernelspec": {
   "display_name": "R",
   "language": "R",
   "name": "ir"
  },
  "language_info": {
   "codemirror_mode": "r",
   "file_extension": ".r",
   "mimetype": "text/x-r-source",
   "name": "R",
   "pygments_lexer": "r",
   "version": "3.4.4"
  }
 },
 "nbformat": 4,
 "nbformat_minor": 2
}
