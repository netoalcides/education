{
 "cells": [
  {
   "cell_type": "markdown",
   "metadata": {},
   "source": [
    "# Exemplo geral modelo de Árvore de regressão"
   ]
  },
  {
   "cell_type": "markdown",
   "metadata": {},
   "source": [
    "Neste exemplo iremos desenvolver um modelo de Particionamento Recursivo (Árvore de decisão) para um exemplo de regressão."
   ]
  },
  {
   "cell_type": "markdown",
   "metadata": {},
   "source": [
    "## Carregar pacotes"
   ]
  },
  {
   "cell_type": "code",
   "execution_count": null,
   "metadata": {},
   "outputs": [],
   "source": [
    "library(tidyverse)\n",
    "library(magrittr)\n",
    "library(rpart)\n",
    "library(visNetwork)"
   ]
  },
  {
   "cell_type": "markdown",
   "metadata": {},
   "source": [
    "## Carregar dados"
   ]
  },
  {
   "cell_type": "code",
   "execution_count": 3,
   "metadata": {
    "scrolled": true
   },
   "outputs": [
    {
     "name": "stderr",
     "output_type": "stream",
     "text": [
      "Parsed with column specification:\n",
      "cols(\n",
      "  x = col_double(),\n",
      "  y = col_double()\n",
      ")\n"
     ]
    }
   ],
   "source": [
    "dados_spline <- read_csv(file = \"/home/vm-data-science/dados/dados_spline.csv\")"
   ]
  },
  {
   "cell_type": "code",
   "execution_count": 4,
   "metadata": {},
   "outputs": [
    {
     "data": {
      "text/html": [
       "<table>\n",
       "<thead><tr><th scope=col>x</th><th scope=col>y</th></tr></thead>\n",
       "<tbody>\n",
       "\t<tr><td>0.08216883 </td><td> 0.19462317</td></tr>\n",
       "\t<tr><td>0.08413394 </td><td> 0.07939476</td></tr>\n",
       "\t<tr><td>0.14659427 </td><td> 0.06655269</td></tr>\n",
       "\t<tr><td>0.17459164 </td><td>-0.05863454</td></tr>\n",
       "\t<tr><td>0.22330805 </td><td>-0.15040834</td></tr>\n",
       "\t<tr><td>0.29192236 </td><td> 0.01899571</td></tr>\n",
       "</tbody>\n",
       "</table>\n"
      ],
      "text/latex": [
       "\\begin{tabular}{r|ll}\n",
       " x & y\\\\\n",
       "\\hline\n",
       "\t 0.08216883  &  0.19462317\\\\\n",
       "\t 0.08413394  &  0.07939476\\\\\n",
       "\t 0.14659427  &  0.06655269\\\\\n",
       "\t 0.17459164  & -0.05863454\\\\\n",
       "\t 0.22330805  & -0.15040834\\\\\n",
       "\t 0.29192236  &  0.01899571\\\\\n",
       "\\end{tabular}\n"
      ],
      "text/markdown": [
       "\n",
       "x | y | \n",
       "|---|---|---|---|---|---|\n",
       "| 0.08216883  |  0.19462317 | \n",
       "| 0.08413394  |  0.07939476 | \n",
       "| 0.14659427  |  0.06655269 | \n",
       "| 0.17459164  | -0.05863454 | \n",
       "| 0.22330805  | -0.15040834 | \n",
       "| 0.29192236  |  0.01899571 | \n",
       "\n",
       "\n"
      ],
      "text/plain": [
       "  x          y          \n",
       "1 0.08216883  0.19462317\n",
       "2 0.08413394  0.07939476\n",
       "3 0.14659427  0.06655269\n",
       "4 0.17459164 -0.05863454\n",
       "5 0.22330805 -0.15040834\n",
       "6 0.29192236  0.01899571"
      ]
     },
     "metadata": {},
     "output_type": "display_data"
    }
   ],
   "source": [
    "dados_spline %>% \n",
    "    head()"
   ]
  },
  {
   "cell_type": "markdown",
   "metadata": {},
   "source": [
    "## Gráfico dos dados"
   ]
  },
  {
   "cell_type": "code",
   "execution_count": null,
   "metadata": {
    "scrolled": true
   },
   "outputs": [],
   "source": [
    "dados_spline %>%\n",
    "  ggplot( aes( x = x, y = y) ) + \n",
    "  geom_point( shape = 1, size = 3 )"
   ]
  },
  {
   "cell_type": "markdown",
   "metadata": {},
   "source": [
    "## Ajustando um modelo de regressão\n",
    "\n",
    "Neste exemplo, vemos um ajuste de regressão aos dados."
   ]
  },
  {
   "cell_type": "code",
   "execution_count": null,
   "metadata": {},
   "outputs": [],
   "source": [
    "dados_spline %>% \n",
    "  ggplot( aes( x = x, y = y) ) + \n",
    "  geom_point( shape = 1, size = 3 ) +\n",
    "  geom_smooth( method = lm, se = FALSE, size = 2 )"
   ]
  },
  {
   "cell_type": "markdown",
   "metadata": {},
   "source": [
    "Você acha que os dados estão bem ajustados?"
   ]
  },
  {
   "cell_type": "markdown",
   "metadata": {},
   "source": []
  },
  {
   "cell_type": "markdown",
   "metadata": {},
   "source": [
    "## Treina modelo de Árvore de decisão\n",
    "\n",
    "Iremos usar a função rpart"
   ]
  },
  {
   "cell_type": "code",
   "execution_count": 7,
   "metadata": {},
   "outputs": [],
   "source": [
    "modelo_arvore_regressão <- rpart( y ~ x, \n",
    "                                  data = dados_spline )"
   ]
  },
  {
   "cell_type": "code",
   "execution_count": null,
   "metadata": {},
   "outputs": [],
   "source": [
    "# Não da pra entender nada!!!, vamos ajustar\n",
    "summary( modelo_arvore_regressão )"
   ]
  },
  {
   "cell_type": "markdown",
   "metadata": {},
   "source": [
    "### Gráfico dos dados com modelo de Árvore de decisão"
   ]
  },
  {
   "cell_type": "code",
   "execution_count": null,
   "metadata": {},
   "outputs": [],
   "source": [
    "dados_spline %>% \n",
    "  mutate( y_pred = predict(modelo_arvore_regressão) ) %>% \n",
    "  ggplot( aes( x = x ) ) +\n",
    "  geom_point( aes( y = y ), shape = 1, size = 3 ) +\n",
    "  geom_line( aes( y = y_pred ), colour = 'royalblue3', size = 2 )"
   ]
  },
  {
   "cell_type": "markdown",
   "metadata": {},
   "source": [
    "Não é o melhor ajuste, mas apresenta melhor desenho de que o modelo de regressão linear."
   ]
  },
  {
   "cell_type": "markdown",
   "metadata": {},
   "source": [
    "### Desenho da Árvore"
   ]
  },
  {
   "cell_type": "code",
   "execution_count": null,
   "metadata": {},
   "outputs": [],
   "source": [
    "modelo_arvore_regressão %>% \n",
    "  visTree(., rules = TRUE,\n",
    "          fallenLeaves = TRUE,\n",
    "          width = \"100%\",\n",
    "          height = \"850\" ) %>% \n",
    "  visOptions(highlightNearest = TRUE, \n",
    "             nodesIdSelection = FALSE) %>% \n",
    "  visLegend( width = 0.1 )"
   ]
  },
  {
   "cell_type": "markdown",
   "metadata": {},
   "source": [
    "### Obtenção das regras"
   ]
  },
  {
   "cell_type": "code",
   "execution_count": 12,
   "metadata": {},
   "outputs": [],
   "source": [
    "source('/home/vm-data-science/R_scripts/tree_rules.R')"
   ]
  },
  {
   "cell_type": "code",
   "execution_count": null,
   "metadata": {
    "scrolled": false
   },
   "outputs": [],
   "source": [
    "tree_rules(modelo_arvore_regressão, model_type = 'regression')"
   ]
  },
  {
   "cell_type": "markdown",
   "metadata": {},
   "source": [
    "### Ajustando as regras"
   ]
  },
  {
   "cell_type": "markdown",
   "metadata": {},
   "source": [
    "IF  [x]>=3.153 AND [x]>=3.53 AND [x]< 5.85 THEN -0.803859793190476\n",
    "\n",
    "ELSEIF [x]>=3.153 AND [x]>=3.53 AND [x]>=5.85 THEN -0.291492582527333\n",
    "\n",
    "ELSEIF [x]>=3.153 AND [x]< 3.53 THEN -0.155720793697166\n",
    "\n",
    "ELSEIF [x]< 3.153 AND [x]>=2.535 THEN 0.309722697556229 \n",
    "\n",
    "ELSEIF [x]< 3.153 AND [x]< 2.535 AND [x]< 0.3793 THEN 0.0966041945562344\n",
    "\n",
    "ELSEIF [x]< 3.153 AND [x]< 2.535 AND [x]>=0.3793 THEN 0.836111424982046\n",
    "\n",
    "END"
   ]
  }
 ],
 "metadata": {
  "kernelspec": {
   "display_name": "R",
   "language": "R",
   "name": "ir"
  },
  "language_info": {
   "codemirror_mode": "r",
   "file_extension": ".r",
   "mimetype": "text/x-r-source",
   "name": "R",
   "pygments_lexer": "r",
   "version": "3.4.4"
  }
 },
 "nbformat": 4,
 "nbformat_minor": 2
}
