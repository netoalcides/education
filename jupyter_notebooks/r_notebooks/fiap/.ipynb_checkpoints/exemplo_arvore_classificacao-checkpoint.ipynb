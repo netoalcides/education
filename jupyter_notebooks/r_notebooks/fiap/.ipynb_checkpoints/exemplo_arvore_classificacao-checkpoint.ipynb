{
 "cells": [
  {
   "cell_type": "markdown",
   "metadata": {},
   "source": [
    "# Exemplo Árvore de Classificação"
   ]
  },
  {
   "cell_type": "markdown",
   "metadata": {},
   "source": [
    "Neste exemplo iremos apresentar um modelo de árvore de classificação. O dataset utilizado será o dados_credito_small.csv.\n",
    "\n",
    "O objetivo desta análise é desenvolver regras que buscarão classificar se um indivíduo irá pagar ou não pagar."
   ]
  },
  {
   "cell_type": "markdown",
   "metadata": {},
   "source": [
    "## Carregar pacotes"
   ]
  },
  {
   "cell_type": "code",
   "execution_count": null,
   "metadata": {},
   "outputs": [],
   "source": [
    "library(tidyverse)\n",
    "library(magrittr)\n",
    "library(rpart)\n",
    "library(visNetwork)"
   ]
  },
  {
   "cell_type": "markdown",
   "metadata": {},
   "source": [
    "## Carregar dados"
   ]
  },
  {
   "cell_type": "code",
   "execution_count": null,
   "metadata": {
    "scrolled": false
   },
   "outputs": [],
   "source": [
    "dados_credito <- read_csv( file = \"/home/vm-data-science/dados/dados_credito_small.csv\" )\n",
    "dados_credito %>% head"
   ]
  },
  {
   "cell_type": "markdown",
   "metadata": {},
   "source": [
    "## Análises"
   ]
  },
  {
   "cell_type": "markdown",
   "metadata": {},
   "source": [
    "Antes de iniciarmos a construção dos modelos é importante realizar um breve análise exploratória buscando comparar os indivíduos que pagaram e não pagaram."
   ]
  },
  {
   "cell_type": "markdown",
   "metadata": {},
   "source": [
    "### Análises em relação variáveis quantitativas"
   ]
  },
  {
   "cell_type": "code",
   "execution_count": null,
   "metadata": {
    "scrolled": true
   },
   "outputs": [],
   "source": [
    "dados_credito %>% \n",
    "    select( -id, -educacao, -tipo_emprego ) %>% \n",
    "    group_by( default ) %>% \n",
    "    summarise_if( is.numeric, mean )"
   ]
  },
  {
   "cell_type": "markdown",
   "metadata": {},
   "source": [
    "### Análises em relação as variáveis categóricas"
   ]
  },
  {
   "cell_type": "code",
   "execution_count": null,
   "metadata": {
    "scrolled": true
   },
   "outputs": [],
   "source": [
    "dados_credito %>% \n",
    "    group_by( default ) %>% \n",
    "    count( educacao_cat ) %>% \n",
    "    spread( key = default, value = n )"
   ]
  },
  {
   "cell_type": "code",
   "execution_count": null,
   "metadata": {},
   "outputs": [],
   "source": [
    "dados_credito %>% \n",
    "    group_by( default ) %>% \n",
    "    count( idade_cat ) %>% \n",
    "    spread( key = default, value = n )"
   ]
  },
  {
   "cell_type": "code",
   "execution_count": null,
   "metadata": {
    "scrolled": true
   },
   "outputs": [],
   "source": [
    "dados_credito %>% \n",
    "    group_by( default ) %>% \n",
    "    count( renda_cat ) %>% \n",
    "    spread( key = default, value = n )"
   ]
  },
  {
   "cell_type": "markdown",
   "metadata": {},
   "source": [
    "### Treinamento do modelo"
   ]
  },
  {
   "cell_type": "code",
   "execution_count": 23,
   "metadata": {},
   "outputs": [],
   "source": [
    "modelo_arvore_classificacao <- rpart( default ~ ., \n",
    "                                      data = dados_credito %>% select( -id ),\n",
    "                                      parms = list( split = \"gini\") )"
   ]
  },
  {
   "cell_type": "code",
   "execution_count": null,
   "metadata": {},
   "outputs": [],
   "source": [
    "summary(modelo_arvore_classificacao)"
   ]
  },
  {
   "cell_type": "markdown",
   "metadata": {},
   "source": [
    "### Desenho da árvore"
   ]
  },
  {
   "cell_type": "code",
   "execution_count": null,
   "metadata": {},
   "outputs": [],
   "source": [
    "modelo_arvore_classificacao %>% \n",
    "  visTree(., rules = TRUE,\n",
    "          fallenLeaves = TRUE,\n",
    "          width = \"100%\",\n",
    "          height = \"850\" ) %>% \n",
    "  visOptions(highlightNearest = TRUE, \n",
    "             nodesIdSelection = FALSE) %>% \n",
    "  visLegend( width = 0.1 )"
   ]
  },
  {
   "cell_type": "markdown",
   "metadata": {},
   "source": [
    "### Regras"
   ]
  },
  {
   "cell_type": "code",
   "execution_count": 26,
   "metadata": {},
   "outputs": [],
   "source": [
    "source('/home/vm-data-science/R_scripts/tree_rules.R')"
   ]
  },
  {
   "cell_type": "code",
   "execution_count": null,
   "metadata": {
    "scrolled": true
   },
   "outputs": [],
   "source": [
    "tree_rules(modelo_arvore_classificacao, model_type = 'classification')"
   ]
  },
  {
   "cell_type": "markdown",
   "metadata": {},
   "source": [
    "IF  [divida]>=12.45 AND [tipo_emprego]< 3.5 AND  ([renda_cat]=\\'alta\\' OR [renda_cat]=\\'baixa\\') THEN \\'nao_pagou\\' \n",
    "\n",
    "ELSEIF [divida]>=12.45 AND [tipo_emprego]< 3.5 AND  ([renda_cat]=\\'baixa_media\\' OR [renda_cat]=\\'media_alta\\') AND  ([idade_cat]=\\'entre_30_40\\') THEN \\'nao_pagou\\' \n",
    "\n",
    "ELSEIF [divida]>=12.45 AND [tipo_emprego]< 3.5 AND  ([renda_cat]=\\'baixa_media\\' OR [renda_cat]=\\'media_alta\\') AND  ([idade_cat]=\\'abaixo_30\\' OR [idade_cat]=\\'acima_40\\') THEN \\'pagou\\' \n",
    "\n",
    "ELSEIF [divida]>=12.45 AND [tipo_emprego]>=3.5 AND [divida]>=19.45 AND [renda]>=51.5 THEN \\'nao_pagou\\' \n",
    "\n",
    "ELSEIF [divida]>=12.45 AND [tipo_emprego]>=3.5 AND [divida]>=19.45 AND [renda]< 51.5 THEN \\'pagou\\' \n",
    "\n",
    "ELSEIF [divida]>=12.45 AND [tipo_emprego]>=3.5 AND [divida]< 19.45 AND [educacao]>=2.5 THEN \\'nao_pagou\\' \n",
    "\n",
    "ELSEIF [divida]>=12.45 AND [tipo_emprego]>=3.5 AND [divida]< 19.45 AND [educacao]< 2.5 THEN \\'pagou\\' \n",
    "\n",
    "ELSEIF [divida]< 12.45 AND [tipo_emprego]< 5.5 AND [idade]< 32.5 AND [outras_div]>=0.545 AND [outras_div]< 1.71 AND [outras_div]>=1.24 THEN \\'nao_pagou\\' \n",
    "\n",
    "ELSEIF [divida]< 12.45 AND [tipo_emprego]< 5.5 AND [idade]< 32.5 AND [outras_div]>=0.545 AND [outras_div]< 1.71 AND [outras_div]< 1.24 AND [outras_div]< 1.005 AND [idade]< 29.5 THEN \\'nao_pagou\\' \n",
    "\n",
    "ELSEIF [divida]< 12.45 AND [tipo_emprego]< 5.5 AND [idade]< 32.5 AND [outras_div]>=0.545 AND [outras_div]< 1.71 AND [outras_div]< 1.24 AND [outras_div]< 1.005 AND [idade]>=29.5 THEN \\'pagou\\' \n",
    "\n",
    "ELSEIF [divida]< 12.45 AND [tipo_emprego]< 5.5 AND [idade]< 32.5 AND [outras_div]>=0.545 AND [outras_div]< 1.71 AND [outras_div]< 1.24 AND [outras_div]>=1.005 THEN \\'pagou\\' \n",
    "\n",
    "ELSEIF [divida]< 12.45 AND [tipo_emprego]< 5.5 AND [idade]< 32.5 AND [outras_div]>=0.545 AND [outras_div]>=1.71 THEN \\'pagou\\' \n",
    "\n",
    "ELSEIF [divida]< 12.45 AND [tipo_emprego]< 5.5 AND [idade]< 32.5 AND [outras_div]< 0.545 THEN \\'pagou\\' \n",
    "\n",
    "ELSEIF [divida]< 12.45 AND [tipo_emprego]< 5.5 AND [idade]>=32.5 THEN \\'pagou\\' \n",
    "\n",
    "ELSEIF [divida]< 12.45 AND [tipo_emprego]>=5.5 THEN \\'pagou\\' \n",
    "\n",
    "END'"
   ]
  }
 ],
 "metadata": {
  "kernelspec": {
   "display_name": "R",
   "language": "R",
   "name": "ir"
  },
  "language_info": {
   "codemirror_mode": "r",
   "file_extension": ".r",
   "mimetype": "text/x-r-source",
   "name": "R",
   "pygments_lexer": "r",
   "version": "3.4.4"
  }
 },
 "nbformat": 4,
 "nbformat_minor": 2
}
