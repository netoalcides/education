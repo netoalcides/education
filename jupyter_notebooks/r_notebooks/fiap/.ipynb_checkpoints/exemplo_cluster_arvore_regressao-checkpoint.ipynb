{
 "cells": [
  {
   "cell_type": "markdown",
   "metadata": {},
   "source": [
    "# Exemplo Árvore de decisão (regressão) com Cluster\n",
    "\n",
    "Neste exemplo será utilizado os dados da pesquisa sobre *Nerdy Personality Attributes Scale*"
   ]
  },
  {
   "cell_type": "markdown",
   "metadata": {},
   "source": [
    "## Carregar pacotes"
   ]
  },
  {
   "cell_type": "code",
   "execution_count": null,
   "metadata": {},
   "outputs": [],
   "source": [
    "library(tidyverse)\n",
    "library(magrittr)\n",
    "library(rpart)\n",
    "library(clue)\n",
    "library(plotly)"
   ]
  },
  {
   "cell_type": "markdown",
   "metadata": {},
   "source": [
    "## Funções gerais"
   ]
  },
  {
   "cell_type": "code",
   "execution_count": null,
   "metadata": {},
   "outputs": [],
   "source": [
    "rmse <- function( real, prediction ){ sqrt( mean( (real - prediction)^2 ) ) }"
   ]
  },
  {
   "cell_type": "code",
   "execution_count": null,
   "metadata": {},
   "outputs": [],
   "source": [
    "padronizar <- function(x){ (x - min(x)) / (max(x) - min(x)) }"
   ]
  },
  {
   "cell_type": "markdown",
   "metadata": {},
   "source": [
    "## Carregar dados"
   ]
  },
  {
   "cell_type": "code",
   "execution_count": null,
   "metadata": {},
   "outputs": [],
   "source": [
    "load( '/home/vm-data-science/dados/dados_nerd_nomissings.RData' )"
   ]
  },
  {
   "cell_type": "code",
   "execution_count": null,
   "metadata": {},
   "outputs": [],
   "source": [
    "dados_nerd_train %>% \n",
    "    head()"
   ]
  },
  {
   "cell_type": "code",
   "execution_count": null,
   "metadata": {},
   "outputs": [],
   "source": [
    "dados_nerd_test %>% \n",
    "    head()"
   ]
  },
  {
   "cell_type": "markdown",
   "metadata": {},
   "source": [
    "## Análise exploratória"
   ]
  },
  {
   "cell_type": "code",
   "execution_count": null,
   "metadata": {
    "scrolled": true
   },
   "outputs": [],
   "source": [
    "# count em todas as colunas\n",
    "dados_nerd_train %>% \n",
    "  map( ~count(data.frame(x=.x), x) )"
   ]
  },
  {
   "cell_type": "code",
   "execution_count": null,
   "metadata": {},
   "outputs": [],
   "source": [
    "# Histograma\n",
    "dados_nerd_train %>% \n",
    "  ggplot( aes( x = nerdy ) ) +\n",
    "  geom_histogram()"
   ]
  },
  {
   "cell_type": "code",
   "execution_count": null,
   "metadata": {},
   "outputs": [],
   "source": [
    "# outliers\n",
    "dados_nerd_train %>% \n",
    "  dplyr::select( contains('Q') ) %>% \n",
    "  gather( key = variaveis, value = notas ) %>% \n",
    "  plot_ly( x = ~variaveis,\n",
    "           y = ~notas,\n",
    "           type = 'box' )"
   ]
  },
  {
   "cell_type": "markdown",
   "metadata": {},
   "source": [
    "## Combinação de técnicas supervisionadas com não supervisionadas\n",
    "\n",
    "1 - Aplicamos o algoritmo não supervisionado\n",
    "\n",
    "2 - Geramos os novos atributos no banco de dados\n",
    "\n",
    "3 - Aplicamos o algoritmo supervisionado com os atributos obtidos pelo não supervisionado"
   ]
  },
  {
   "cell_type": "markdown",
   "metadata": {},
   "source": [
    "### 1 - Aplicamos o algoritmo de descoberta de *clusters*"
   ]
  },
  {
   "cell_type": "markdown",
   "metadata": {},
   "source": [
    "- padronizamos as variáveis"
   ]
  },
  {
   "cell_type": "code",
   "execution_count": null,
   "metadata": {},
   "outputs": [],
   "source": [
    "dados_nerd_train_padronizados <- dados_nerd_train %>% \n",
    "  dplyr::select( contains('Q') ) %>% \n",
    "  mutate_if( is.numeric, padronizar )"
   ]
  },
  {
   "cell_type": "markdown",
   "metadata": {},
   "source": [
    "- aplicamos algoritmo hierárquico para auxiliar na obtenção do número de grupos"
   ]
  },
  {
   "cell_type": "code",
   "execution_count": null,
   "metadata": {},
   "outputs": [],
   "source": [
    "distancia <- dist( x = dados_nerd_train_padronizados, \n",
    "                   method =  'euclidian' )\n",
    "\n",
    "modelo_cluster_hierarquico <- hclust( distancia,\n",
    "                                      method = 'ward.D' )"
   ]
  },
  {
   "cell_type": "markdown",
   "metadata": {},
   "source": [
    "- geramos o gráfico dos coeficientes de aglomeração (vamos considerar uma solução de 4 grupos, mas poderiamos também testar com 3 grupos)"
   ]
  },
  {
   "cell_type": "code",
   "execution_count": null,
   "metadata": {},
   "outputs": [],
   "source": [
    "data_frame( grupos = 31:1 + 1,\n",
    "            aglomeracao = modelo_cluster_hierarquico$height[872:902] ) %>% \n",
    "  plot_ly( x = ~grupos,\n",
    "           y = ~aglomeracao,\n",
    "           type = 'scatter',\n",
    "           mode = 'lines+markers',\n",
    "           marker = list(size = 10, color = 'red') ) %>% \n",
    "  layout( xaxis = list( autorange=\"reversed\") )"
   ]
  },
  {
   "cell_type": "markdown",
   "metadata": {},
   "source": [
    "- Dendograma (como existem muitos casos, o dendograma será apresentado somente por objetivos educacionais)"
   ]
  },
  {
   "cell_type": "code",
   "execution_count": null,
   "metadata": {},
   "outputs": [],
   "source": [
    "plot(modelo_cluster_hierarquico)\n",
    "rect.hclust( modelo_cluster_hierarquico, \n",
    "             k = 4, \n",
    "             border = \"red\" )"
   ]
  },
  {
   "cell_type": "markdown",
   "metadata": {},
   "source": [
    "- obtenção dos centróides"
   ]
  },
  {
   "cell_type": "code",
   "execution_count": null,
   "metadata": {},
   "outputs": [],
   "source": [
    "centroides <- dados_nerd_train_padronizados %>% \n",
    "  mutate( grupos = cutree(modelo_cluster_hierarquico, \n",
    "                          k = 4 ) ) %>% \n",
    "  group_by( grupos ) %>% \n",
    "  summarise_if( is.numeric, mean )"
   ]
  },
  {
   "cell_type": "markdown",
   "metadata": {},
   "source": [
    "- aplicamos o algoritmo não hierárquico"
   ]
  },
  {
   "cell_type": "code",
   "execution_count": null,
   "metadata": {},
   "outputs": [],
   "source": [
    "set.seed(123)\n",
    "clusters_k4 <- kmeans(dados_nerd_train_padronizados , \n",
    "                      centers = centroides[-1] )"
   ]
  },
  {
   "cell_type": "markdown",
   "metadata": {},
   "source": [
    "### 2 - Geramos os novos atributos no banco de dados"
   ]
  },
  {
   "cell_type": "code",
   "execution_count": null,
   "metadata": {},
   "outputs": [],
   "source": [
    "dados_nerd_train %<>% \n",
    "  mutate( grupos_final = as.factor(clusters_k4$cluster) )"
   ]
  },
  {
   "cell_type": "code",
   "execution_count": null,
   "metadata": {},
   "outputs": [],
   "source": [
    "# exemplo\n",
    "dados_nerd_train %>% \n",
    "  dplyr::select( nerdy, Q1:Q5, grupos_final) %>% \n",
    "  head()"
   ]
  },
  {
   "cell_type": "markdown",
   "metadata": {},
   "source": [
    "### 3 - Aplicamos o modelo de árvore de regressão"
   ]
  },
  {
   "cell_type": "markdown",
   "metadata": {},
   "source": [
    "- Alguns ajustes importantes no banco de dados no R"
   ]
  },
  {
   "cell_type": "code",
   "execution_count": null,
   "metadata": {},
   "outputs": [],
   "source": [
    "dados_nerd_train %<>% \n",
    "  mutate( gender = as.factor(gender),\n",
    "          education = as.factor(education),\n",
    "          married = as.factor(married),\n",
    "          ASD = as.factor(ASD) )"
   ]
  },
  {
   "cell_type": "markdown",
   "metadata": {},
   "source": [
    "- Dividir a amostra de treinamento em: treino/validação"
   ]
  },
  {
   "cell_type": "code",
   "execution_count": null,
   "metadata": {},
   "outputs": [],
   "source": [
    "# treino\n",
    "set.seed(543)\n",
    "dados_nerd_train_modelo_train <- dados_nerd_train %>% \n",
    "  sample_frac(., 0.8)"
   ]
  },
  {
   "cell_type": "code",
   "execution_count": null,
   "metadata": {},
   "outputs": [],
   "source": [
    "# validacao\n",
    "dados_nerd_train_modelo_valid <- setdiff( dados_nerd_train, dados_nerd_train_modelo_train )"
   ]
  },
  {
   "cell_type": "markdown",
   "metadata": {},
   "source": [
    "- Ajustes de poda para vários modelos de árvore em sequência\n",
    "\n",
    "Usamos a amostra de treino para ajustar o modelo e a amostra de validação para selecionar os melhores e realizar o teste final na amostra de teste"
   ]
  },
  {
   "cell_type": "code",
   "execution_count": null,
   "metadata": {},
   "outputs": [],
   "source": [
    "iteracoes <- 150 # numero de iteracoes para tunning\n",
    "s_seeds <- sample(1000000:9999999, iteracoes) # sementes aleatorias\n",
    "dados_amostra_avaliacao_questoes <- NULL\n",
    "dados_amostra_avaliacao_clust <- NULL"
   ]
  },
  {
   "cell_type": "code",
   "execution_count": null,
   "metadata": {},
   "outputs": [],
   "source": [
    "for ( iter in 1:iteracoes ){\n",
    "  \n",
    "  set.seed( s_seeds[iter] )\n",
    "  minsplit_ <- sample(10:30, 1)\n",
    "  cp_ <- runif(1, 0.001, 0.1)\n",
    "  maxcompete_ <- sample(3:30, 1)\n",
    "  maxdepth_ <- sample(10:50, 1)\n",
    "  \n",
    "  modelo_arvore_questoes <- rpart( formula = nerdy ~ ., \n",
    "                          data = dados_nerd_train_modelo_train %>% \n",
    "                            dplyr::select( nerdy, contains('Q') ),\n",
    "                          control = list( minsplit = minsplit_,\n",
    "                                          cp = cp_,\n",
    "                                          maxcompete = maxcompete_,\n",
    "                                          maxdepth = maxdepth_ ) )\n",
    "  \n",
    "  modelo_arvore_clust <- rpart( formula = nerdy ~ ., \n",
    "                                   data = dados_nerd_train_modelo_train %>% \n",
    "                                     dplyr::select( nerdy, contains('Q'), grupos_final ),\n",
    "                                   control = list( minsplit = minsplit_,\n",
    "                                                   cp = cp_,\n",
    "                                                   maxcompete = maxcompete_,\n",
    "                                                   maxdepth = maxdepth_ ) )\n",
    "  \n",
    "  pred_tree_questoes <- predict( modelo_arvore_questoes, dados_nerd_train_modelo_valid )\n",
    "  pred_tree_clust <- predict( modelo_arvore_clust, dados_nerd_train_modelo_valid )\n",
    "  \n",
    "  erro_questoes <- rmse( dados_nerd_train_modelo_valid$nerdy, pred_tree_questoes )\n",
    "  erro_clust <- rmse( dados_nerd_train_modelo_valid$nerdy, pred_tree_clust )\n",
    "  \n",
    "  aval_questoes <- data_frame( seed = s_seeds[iter],\n",
    "                      minsplit_ = minsplit_,\n",
    "                      cp_ = cp_,\n",
    "                      maxcompete_ = maxcompete_,\n",
    "                      maxdepth_ = maxdepth_,\n",
    "                      erro = erro_questoes )\n",
    "  \n",
    "  aval_clust <- data_frame( seed = s_seeds[iter],\n",
    "                               minsplit_ = minsplit_,\n",
    "                               cp_ = cp_,\n",
    "                               maxcompete_ = maxcompete_,\n",
    "                               maxdepth_ = maxdepth_,\n",
    "                               erro = erro_clust )\n",
    "  \n",
    "  dados_amostra_avaliacao_questoes <- bind_rows( dados_amostra_avaliacao_questoes, aval_questoes )\n",
    "  dados_amostra_avaliacao_clust <- bind_rows( dados_amostra_avaliacao_clust, aval_clust )\n",
    "  \n",
    "}"
   ]
  },
  {
   "cell_type": "code",
   "execution_count": null,
   "metadata": {},
   "outputs": [],
   "source": [
    "bests_questoes <- dados_amostra_avaliacao_questoes %>% \n",
    "  arrange( erro ) %>% \n",
    "  head(1)\n",
    "\n",
    "bests_clust <- dados_amostra_avaliacao_clust %>% \n",
    "  arrange( erro ) %>% \n",
    "  head(1)"
   ]
  },
  {
   "cell_type": "code",
   "execution_count": null,
   "metadata": {},
   "outputs": [],
   "source": [
    "bests_questoes\n",
    "bests_clust"
   ]
  },
  {
   "cell_type": "markdown",
   "metadata": {},
   "source": [
    "- Retreina os melhores modelos e guarda resultados"
   ]
  },
  {
   "cell_type": "code",
   "execution_count": null,
   "metadata": {},
   "outputs": [],
   "source": [
    "modelo_arvore_1 <- rpart( formula = nerdy ~ ., \n",
    "                        data = dados_nerd_train_modelo_train %>% \n",
    "                          dplyr::select( nerdy, contains('Q') ),\n",
    "                        control = list( minsplit = bests_questoes$minsplit_[1],\n",
    "                                        cp = bests_questoes$cp_[1],\n",
    "                                        maxcompete = bests_questoes$maxcompete_[1],\n",
    "                                        maxdepth = bests_questoes$maxdepth_[1] ) )"
   ]
  },
  {
   "cell_type": "code",
   "execution_count": null,
   "metadata": {},
   "outputs": [],
   "source": [
    "modelo_arvore_2 <- rpart( formula = nerdy ~ ., \n",
    "                          data = dados_nerd_train_modelo_train %>% \n",
    "                            dplyr::select( nerdy, contains('Q'), grupos_final ),\n",
    "                          control = list( minsplit = bests_clust$minsplit_[1],\n",
    "                                          cp = bests_clust$cp_[1],\n",
    "                                          maxcompete = bests_clust$maxcompete_[1],\n",
    "                                          maxdepth = bests_clust$maxdepth_[1] ) )"
   ]
  },
  {
   "cell_type": "markdown",
   "metadata": {},
   "source": [
    "## Avaliação dos modelos"
   ]
  },
  {
   "cell_type": "markdown",
   "metadata": {},
   "source": [
    "- padronizamos as variáveis da amostra de teste"
   ]
  },
  {
   "cell_type": "code",
   "execution_count": null,
   "metadata": {},
   "outputs": [],
   "source": [
    "dados_nerd_test_padronizados <- dados_nerd_test %>% \n",
    "  dplyr::select( contains('Q') ) %>% \n",
    "  mutate_if( is.numeric, padronizar )"
   ]
  },
  {
   "cell_type": "markdown",
   "metadata": {},
   "source": [
    "- criamos os *clusters* para a amostra de teste"
   ]
  },
  {
   "cell_type": "code",
   "execution_count": null,
   "metadata": {},
   "outputs": [],
   "source": [
    "clusters_teste <- cl_predict( clusters_k4, \n",
    "            newdata = dados_nerd_test_padronizados )"
   ]
  },
  {
   "cell_type": "markdown",
   "metadata": {},
   "source": [
    "- Adicionamos os *clusters* na amostra de teste"
   ]
  },
  {
   "cell_type": "code",
   "execution_count": null,
   "metadata": {},
   "outputs": [],
   "source": [
    "dados_nerd_test %<>% \n",
    "  mutate( grupos_final = as.factor(clusters_teste) )"
   ]
  },
  {
   "cell_type": "code",
   "execution_count": null,
   "metadata": {},
   "outputs": [],
   "source": [
    "dados_nerd_test %>% \n",
    "    head()"
   ]
  },
  {
   "cell_type": "markdown",
   "metadata": {},
   "source": [
    "- Geramos as previsoes para avaliação"
   ]
  },
  {
   "cell_type": "code",
   "execution_count": null,
   "metadata": {},
   "outputs": [],
   "source": [
    "amostra_avaliacao <- dados_nerd_test %>% \n",
    "  mutate( pred_modelo1 = predict( modelo_arvore_1, . ),\n",
    "          pred_modelo2 = predict( modelo_arvore_2, . ) ) %>% \n",
    "  dplyr::select( nerdy, pred_modelo1, pred_modelo2 )"
   ]
  },
  {
   "cell_type": "code",
   "execution_count": null,
   "metadata": {},
   "outputs": [],
   "source": [
    "amostra_avaliacao %>% \n",
    "    head()"
   ]
  },
  {
   "cell_type": "markdown",
   "metadata": {},
   "source": [
    "- Comparamos os modelos pelo RMSE"
   ]
  },
  {
   "cell_type": "code",
   "execution_count": null,
   "metadata": {},
   "outputs": [],
   "source": [
    "amostra_avaliacao %>% \n",
    "  summarise( Modelo_1_questoes = rmse(nerdy, pred_modelo1),\n",
    "             Modelo_2_clusters = rmse(nerdy, pred_modelo2) ) %>% \n",
    "  gather( key = modelos, value = rmse ) %>% \n",
    "  arrange( rmse )"
   ]
  },
  {
   "cell_type": "code",
   "execution_count": null,
   "metadata": {},
   "outputs": [],
   "source": []
  }
 ],
 "metadata": {
  "kernelspec": {
   "display_name": "R",
   "language": "R",
   "name": "ir"
  },
  "language_info": {
   "codemirror_mode": "r",
   "file_extension": ".r",
   "mimetype": "text/x-r-source",
   "name": "R",
   "pygments_lexer": "r",
   "version": "3.4.4"
  }
 },
 "nbformat": 4,
 "nbformat_minor": 2
}
