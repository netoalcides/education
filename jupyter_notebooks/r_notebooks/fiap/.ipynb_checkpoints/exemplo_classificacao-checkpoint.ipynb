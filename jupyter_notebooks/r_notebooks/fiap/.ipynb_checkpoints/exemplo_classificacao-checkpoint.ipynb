{
 "cells": [
  {
   "cell_type": "markdown",
   "metadata": {},
   "source": [
    "# Exemplo Regressão Logística"
   ]
  },
  {
   "cell_type": "markdown",
   "metadata": {},
   "source": [
    "Neste exemplo iremos apresentar um modelo de regressão logística. O dataset utilizado será o dados_credito_small.csv.\n",
    "\n",
    "O objetivo desta análise é desenvolver um modelo que buscará predizer a probabilidade de pagamento de um indivíduo."
   ]
  },
  {
   "cell_type": "markdown",
   "metadata": {},
   "source": [
    "O modelo a ser ajustado será: \n",
    "\n",
    "$$\n",
    "\\begin{equation}\n",
    "P(pagar_i) = \\frac{1}{1 + \\mathrm{e}^{-(\\beta_0 + \\sum\\beta_i caracteristicas_i)}}\n",
    "\\tag{1}\n",
    "\\end{equation}\n",
    "$$"
   ]
  },
  {
   "cell_type": "markdown",
   "metadata": {},
   "source": [
    "## Carregar pacotes"
   ]
  },
  {
   "cell_type": "code",
   "execution_count": 1,
   "metadata": {},
   "outputs": [
    {
     "name": "stderr",
     "output_type": "stream",
     "text": [
      "── Attaching packages ─────────────────────────────────────── tidyverse 1.2.1 ──\n",
      "✔ ggplot2 3.0.0     ✔ purrr   0.2.5\n",
      "✔ tibble  1.4.2     ✔ dplyr   0.7.6\n",
      "✔ tidyr   0.8.1     ✔ stringr 1.3.1\n",
      "✔ readr   1.1.1     ✔ forcats 0.3.0\n",
      "── Conflicts ────────────────────────────────────────── tidyverse_conflicts() ──\n",
      "✖ dplyr::filter() masks stats::filter()\n",
      "✖ dplyr::lag()    masks stats::lag()\n",
      "\n",
      "Attaching package: ‘magrittr’\n",
      "\n",
      "The following object is masked from ‘package:purrr’:\n",
      "\n",
      "    set_names\n",
      "\n",
      "The following object is masked from ‘package:tidyr’:\n",
      "\n",
      "    extract\n",
      "\n",
      "Loading required package: lattice\n",
      "\n",
      "Attaching package: ‘caret’\n",
      "\n",
      "The following object is masked from ‘package:purrr’:\n",
      "\n",
      "    lift\n",
      "\n"
     ]
    }
   ],
   "source": [
    "library(tidyverse)\n",
    "library(magrittr)\n",
    "library(caret)"
   ]
  },
  {
   "cell_type": "markdown",
   "metadata": {},
   "source": [
    "## Carregar dados"
   ]
  },
  {
   "cell_type": "code",
   "execution_count": 2,
   "metadata": {
    "scrolled": false
   },
   "outputs": [
    {
     "name": "stderr",
     "output_type": "stream",
     "text": [
      "Parsed with column specification:\n",
      "cols(\n",
      "  id = col_integer(),\n",
      "  idade = col_integer(),\n",
      "  educacao = col_integer(),\n",
      "  tipo_emprego = col_integer(),\n",
      "  renda = col_integer(),\n",
      "  divida = col_double(),\n",
      "  outras_div = col_double(),\n",
      "  default = col_character(),\n",
      "  educacao_cat = col_character(),\n",
      "  idade_cat = col_character(),\n",
      "  renda_cat = col_character()\n",
      ")\n"
     ]
    },
    {
     "data": {
      "text/html": [
       "<table>\n",
       "<thead><tr><th scope=col>id</th><th scope=col>idade</th><th scope=col>educacao</th><th scope=col>tipo_emprego</th><th scope=col>renda</th><th scope=col>divida</th><th scope=col>outras_div</th><th scope=col>default</th><th scope=col>educacao_cat</th><th scope=col>idade_cat</th><th scope=col>renda_cat</th></tr></thead>\n",
       "<tbody>\n",
       "\t<tr><td>1           </td><td>41          </td><td>3           </td><td>18          </td><td>176         </td><td>10.3        </td><td>5.01        </td><td>nao_pagou   </td><td>ensin_sup   </td><td>acima_40    </td><td>(54,446]    </td></tr>\n",
       "\t<tr><td>2           </td><td>27          </td><td>1           </td><td>10          </td><td> 31         </td><td>17.3        </td><td>4.00        </td><td>pagou       </td><td>ensin_basico</td><td>abaixo_30   </td><td>(24,34]     </td></tr>\n",
       "\t<tr><td>3           </td><td>40          </td><td>1           </td><td>15          </td><td> 55         </td><td> 5.5        </td><td>2.17        </td><td>pagou       </td><td>ensin_basico</td><td>entre_30_40 </td><td>(54,446]    </td></tr>\n",
       "\t<tr><td>4           </td><td>41          </td><td>1           </td><td>15          </td><td>120         </td><td> 2.9        </td><td>0.82        </td><td>pagou       </td><td>ensin_basico</td><td>acima_40    </td><td>(54,446]    </td></tr>\n",
       "\t<tr><td>5           </td><td>24          </td><td>2           </td><td> 2          </td><td> 28         </td><td>17.3        </td><td>3.06        </td><td>nao_pagou   </td><td>ensin_medio </td><td>abaixo_30   </td><td>(24,34]     </td></tr>\n",
       "\t<tr><td>6           </td><td>41          </td><td>2           </td><td> 5          </td><td> 25         </td><td>10.2        </td><td>2.16        </td><td>pagou       </td><td>ensin_medio </td><td>acima_40    </td><td>(24,34]     </td></tr>\n",
       "</tbody>\n",
       "</table>\n"
      ],
      "text/latex": [
       "\\begin{tabular}{r|lllllllllll}\n",
       " id & idade & educacao & tipo\\_emprego & renda & divida & outras\\_div & default & educacao\\_cat & idade\\_cat & renda\\_cat\\\\\n",
       "\\hline\n",
       "\t 1              & 41             & 3              & 18             & 176            & 10.3           & 5.01           & nao\\_pagou    & ensin\\_sup    & acima\\_40     & (54,446{]}    \\\\\n",
       "\t 2              & 27             & 1              & 10             &  31            & 17.3           & 4.00           & pagou          & ensin\\_basico & abaixo\\_30    & (24,34{]}     \\\\\n",
       "\t 3               & 40              & 1               & 15              &  55             &  5.5            & 2.17            & pagou           & ensin\\_basico  & entre\\_30\\_40 & (54,446{]}     \\\\\n",
       "\t 4              & 41             & 1              & 15             & 120            &  2.9           & 0.82           & pagou          & ensin\\_basico & acima\\_40     & (54,446{]}    \\\\\n",
       "\t 5              & 24             & 2              &  2             &  28            & 17.3           & 3.06           & nao\\_pagou    & ensin\\_medio  & abaixo\\_30    & (24,34{]}     \\\\\n",
       "\t 6              & 41             & 2              &  5             &  25            & 10.2           & 2.16           & pagou          & ensin\\_medio  & acima\\_40     & (24,34{]}     \\\\\n",
       "\\end{tabular}\n"
      ],
      "text/markdown": [
       "\n",
       "id | idade | educacao | tipo_emprego | renda | divida | outras_div | default | educacao_cat | idade_cat | renda_cat | \n",
       "|---|---|---|---|---|---|\n",
       "| 1            | 41           | 3            | 18           | 176          | 10.3         | 5.01         | nao_pagou    | ensin_sup    | acima_40     | (54,446]     | \n",
       "| 2            | 27           | 1            | 10           |  31          | 17.3         | 4.00         | pagou        | ensin_basico | abaixo_30    | (24,34]      | \n",
       "| 3            | 40           | 1            | 15           |  55          |  5.5         | 2.17         | pagou        | ensin_basico | entre_30_40  | (54,446]     | \n",
       "| 4            | 41           | 1            | 15           | 120          |  2.9         | 0.82         | pagou        | ensin_basico | acima_40     | (54,446]     | \n",
       "| 5            | 24           | 2            |  2           |  28          | 17.3         | 3.06         | nao_pagou    | ensin_medio  | abaixo_30    | (24,34]      | \n",
       "| 6            | 41           | 2            |  5           |  25          | 10.2         | 2.16         | pagou        | ensin_medio  | acima_40     | (24,34]      | \n",
       "\n",
       "\n"
      ],
      "text/plain": [
       "  id idade educacao tipo_emprego renda divida outras_div default   educacao_cat\n",
       "1 1  41    3        18           176   10.3   5.01       nao_pagou ensin_sup   \n",
       "2 2  27    1        10            31   17.3   4.00       pagou     ensin_basico\n",
       "3 3  40    1        15            55    5.5   2.17       pagou     ensin_basico\n",
       "4 4  41    1        15           120    2.9   0.82       pagou     ensin_basico\n",
       "5 5  24    2         2            28   17.3   3.06       nao_pagou ensin_medio \n",
       "6 6  41    2         5            25   10.2   2.16       pagou     ensin_medio \n",
       "  idade_cat   renda_cat\n",
       "1 acima_40    (54,446] \n",
       "2 abaixo_30   (24,34]  \n",
       "3 entre_30_40 (54,446] \n",
       "4 acima_40    (54,446] \n",
       "5 abaixo_30   (24,34]  \n",
       "6 acima_40    (24,34]  "
      ]
     },
     "metadata": {},
     "output_type": "display_data"
    }
   ],
   "source": [
    "dados_credito <- read_csv( file = \"/home/vm-data-science/dados/dados_credito_small.csv\" )\n",
    "dados_credito %>% head"
   ]
  },
  {
   "cell_type": "markdown",
   "metadata": {},
   "source": [
    "Pequeno ajuste necessário.\n",
    "\n",
    "Também devemos criar um coluna nova, sendo 1 = pagou e 0 = não pagou."
   ]
  },
  {
   "cell_type": "code",
   "execution_count": 3,
   "metadata": {},
   "outputs": [],
   "source": [
    "dados_credito %<>%\n",
    "    mutate( default_dummy = ifelse( default == 'pagou', 1, 0 ),\n",
    "            default = as.factor(default) )"
   ]
  },
  {
   "cell_type": "markdown",
   "metadata": {},
   "source": [
    "## Análises"
   ]
  },
  {
   "cell_type": "markdown",
   "metadata": {},
   "source": [
    "Antes de iniciarmos a construção dos modelos é importante realizar um breve análise exploratória buscando comparar os indivíduos que pagaram e não pagaram."
   ]
  },
  {
   "cell_type": "markdown",
   "metadata": {},
   "source": [
    "### Análises em relação variáveis quantitativas"
   ]
  },
  {
   "cell_type": "code",
   "execution_count": 4,
   "metadata": {
    "scrolled": true
   },
   "outputs": [
    {
     "data": {
      "text/html": [
       "<table>\n",
       "<thead><tr><th scope=col>default</th><th scope=col>idade</th><th scope=col>renda</th><th scope=col>divida</th><th scope=col>outras_div</th></tr></thead>\n",
       "<tbody>\n",
       "\t<tr><td>nao_pagou</td><td>33.41085 </td><td>44.61240 </td><td>14.597674</td><td>4.106667 </td></tr>\n",
       "\t<tr><td>pagou    </td><td>35.15633 </td><td>45.64151 </td><td> 8.698383</td><td>2.647197 </td></tr>\n",
       "</tbody>\n",
       "</table>\n"
      ],
      "text/latex": [
       "\\begin{tabular}{r|lllll}\n",
       " default & idade & renda & divida & outras\\_div\\\\\n",
       "\\hline\n",
       "\t nao\\_pagou & 33.41085    & 44.61240    & 14.597674   & 4.106667   \\\\\n",
       "\t pagou     & 35.15633  & 45.64151  &  8.698383 & 2.647197 \\\\\n",
       "\\end{tabular}\n"
      ],
      "text/markdown": [
       "\n",
       "default | idade | renda | divida | outras_div | \n",
       "|---|---|\n",
       "| nao_pagou | 33.41085  | 44.61240  | 14.597674 | 4.106667  | \n",
       "| pagou     | 35.15633  | 45.64151  |  8.698383 | 2.647197  | \n",
       "\n",
       "\n"
      ],
      "text/plain": [
       "  default   idade    renda    divida    outras_div\n",
       "1 nao_pagou 33.41085 44.61240 14.597674 4.106667  \n",
       "2 pagou     35.15633 45.64151  8.698383 2.647197  "
      ]
     },
     "metadata": {},
     "output_type": "display_data"
    }
   ],
   "source": [
    "dados_credito %>% \n",
    "    select( -id, -educacao, -tipo_emprego, -default_dummy ) %>% \n",
    "    group_by( default ) %>% \n",
    "    summarise_if( is.numeric, mean )"
   ]
  },
  {
   "cell_type": "markdown",
   "metadata": {},
   "source": [
    "### Análises em relação as variáveis categóricas"
   ]
  },
  {
   "cell_type": "code",
   "execution_count": 5,
   "metadata": {
    "scrolled": true
   },
   "outputs": [
    {
     "data": {
      "text/html": [
       "<table>\n",
       "<thead><tr><th scope=col>educacao_cat</th><th scope=col>nao_pagou</th><th scope=col>pagou</th></tr></thead>\n",
       "<tbody>\n",
       "\t<tr><td>ensin_basico</td><td>55          </td><td>214         </td></tr>\n",
       "\t<tr><td>ensin_medio </td><td>41          </td><td> 98         </td></tr>\n",
       "\t<tr><td>ensin_sup   </td><td>33          </td><td> 59         </td></tr>\n",
       "</tbody>\n",
       "</table>\n"
      ],
      "text/latex": [
       "\\begin{tabular}{r|lll}\n",
       " educacao\\_cat & nao\\_pagou & pagou\\\\\n",
       "\\hline\n",
       "\t ensin\\_basico & 55             & 214           \\\\\n",
       "\t ensin\\_medio  & 41             &  98           \\\\\n",
       "\t ensin\\_sup    & 33             &  59           \\\\\n",
       "\\end{tabular}\n"
      ],
      "text/markdown": [
       "\n",
       "educacao_cat | nao_pagou | pagou | \n",
       "|---|---|---|\n",
       "| ensin_basico | 55           | 214          | \n",
       "| ensin_medio  | 41           |  98          | \n",
       "| ensin_sup    | 33           |  59          | \n",
       "\n",
       "\n"
      ],
      "text/plain": [
       "  educacao_cat nao_pagou pagou\n",
       "1 ensin_basico 55        214  \n",
       "2 ensin_medio  41         98  \n",
       "3 ensin_sup    33         59  "
      ]
     },
     "metadata": {},
     "output_type": "display_data"
    }
   ],
   "source": [
    "dados_credito %>% \n",
    "    group_by( default ) %>% \n",
    "    count( educacao_cat ) %>% \n",
    "    spread( key = default, value = n )"
   ]
  },
  {
   "cell_type": "code",
   "execution_count": 6,
   "metadata": {},
   "outputs": [
    {
     "data": {
      "text/html": [
       "<table>\n",
       "<thead><tr><th scope=col>idade_cat</th><th scope=col>nao_pagou</th><th scope=col>pagou</th></tr></thead>\n",
       "<tbody>\n",
       "\t<tr><td>abaixo_30  </td><td>57         </td><td>119        </td></tr>\n",
       "\t<tr><td>acima_40   </td><td>27         </td><td> 89        </td></tr>\n",
       "\t<tr><td>entre_30_40</td><td>45         </td><td>163        </td></tr>\n",
       "</tbody>\n",
       "</table>\n"
      ],
      "text/latex": [
       "\\begin{tabular}{r|lll}\n",
       " idade\\_cat & nao\\_pagou & pagou\\\\\n",
       "\\hline\n",
       "\t abaixo\\_30   & 57            & 119          \\\\\n",
       "\t acima\\_40    & 27            &  89          \\\\\n",
       "\t entre\\_30\\_40 & 45              & 163            \\\\\n",
       "\\end{tabular}\n"
      ],
      "text/markdown": [
       "\n",
       "idade_cat | nao_pagou | pagou | \n",
       "|---|---|---|\n",
       "| abaixo_30   | 57          | 119         | \n",
       "| acima_40    | 27          |  89         | \n",
       "| entre_30_40 | 45          | 163         | \n",
       "\n",
       "\n"
      ],
      "text/plain": [
       "  idade_cat   nao_pagou pagou\n",
       "1 abaixo_30   57        119  \n",
       "2 acima_40    27         89  \n",
       "3 entre_30_40 45        163  "
      ]
     },
     "metadata": {},
     "output_type": "display_data"
    }
   ],
   "source": [
    "dados_credito %>% \n",
    "    group_by( default ) %>% \n",
    "    count( idade_cat ) %>% \n",
    "    spread( key = default, value = n )"
   ]
  },
  {
   "cell_type": "code",
   "execution_count": 7,
   "metadata": {
    "scrolled": true
   },
   "outputs": [
    {
     "data": {
      "text/html": [
       "<table>\n",
       "<thead><tr><th scope=col>renda_cat</th><th scope=col>nao_pagou</th><th scope=col>pagou</th></tr></thead>\n",
       "<tbody>\n",
       "\t<tr><td>(24,34] </td><td>24      </td><td>103     </td></tr>\n",
       "\t<tr><td>(34,54] </td><td>28      </td><td> 95     </td></tr>\n",
       "\t<tr><td>(54,446]</td><td>28      </td><td> 96     </td></tr>\n",
       "\t<tr><td>[14,24] </td><td>49      </td><td> 77     </td></tr>\n",
       "</tbody>\n",
       "</table>\n"
      ],
      "text/latex": [
       "\\begin{tabular}{r|lll}\n",
       " renda\\_cat & nao\\_pagou & pagou\\\\\n",
       "\\hline\n",
       "\t (24,34{]}  & 24         & 103       \\\\\n",
       "\t (34,54{]}  & 28         &  95       \\\\\n",
       "\t (54,446{]} & 28         &  96       \\\\\n",
       "\t {[}14,24{]}  & 49           &  77         \\\\\n",
       "\\end{tabular}\n"
      ],
      "text/markdown": [
       "\n",
       "renda_cat | nao_pagou | pagou | \n",
       "|---|---|---|---|\n",
       "| (24,34]  | 24       | 103      | \n",
       "| (34,54]  | 28       |  95      | \n",
       "| (54,446] | 28       |  96      | \n",
       "| [14,24]  | 49       |  77      | \n",
       "\n",
       "\n"
      ],
      "text/plain": [
       "  renda_cat nao_pagou pagou\n",
       "1 (24,34]   24        103  \n",
       "2 (34,54]   28         95  \n",
       "3 (54,446]  28         96  \n",
       "4 [14,24]   49         77  "
      ]
     },
     "metadata": {},
     "output_type": "display_data"
    }
   ],
   "source": [
    "dados_credito %>% \n",
    "    group_by( default ) %>% \n",
    "    count( renda_cat ) %>% \n",
    "    spread( key = default, value = n )"
   ]
  },
  {
   "cell_type": "markdown",
   "metadata": {},
   "source": [
    "### Divisão das amostras treinamento e teste"
   ]
  },
  {
   "cell_type": "code",
   "execution_count": 8,
   "metadata": {},
   "outputs": [],
   "source": [
    "# amostra de treino\n",
    "set.seed(12345)\n",
    "dados_credito_train <- dados_credito %>% \n",
    "                            sample_frac(., 0.7)"
   ]
  },
  {
   "cell_type": "code",
   "execution_count": 9,
   "metadata": {
    "scrolled": true
   },
   "outputs": [],
   "source": [
    "# amostra de teste\n",
    "dados_credito_test <- setdiff( dados_credito, dados_credito_train )"
   ]
  },
  {
   "cell_type": "code",
   "execution_count": 10,
   "metadata": {},
   "outputs": [
    {
     "name": "stdout",
     "output_type": "stream",
     "text": [
      "[1] \"o banco de dados tem ao todo 500 linhas e 12 colunas\"\n",
      "[1] \"a amostra de treino tem 350 linhas e 12 colunas\"\n",
      "[1] \"a amostra de teste tem 150 linhas e 12 colunas\"\n"
     ]
    }
   ],
   "source": [
    "print( paste('o banco de dados tem ao todo', dim(dados_credito)[1], 'linhas e', dim(dados_credito)[2], 'colunas') )\n",
    "print( paste('a amostra de treino tem', dim(dados_credito_train)[1], 'linhas e', dim(dados_credito_train)[2], 'colunas') )\n",
    "print( paste('a amostra de teste tem', dim(dados_credito_test)[1], 'linhas e', dim(dados_credito_test)[2], 'colunas') ) "
   ]
  },
  {
   "cell_type": "markdown",
   "metadata": {},
   "source": [
    "### Treinamento modelo de regressão logística"
   ]
  },
  {
   "cell_type": "markdown",
   "metadata": {},
   "source": [
    "- modelo 1: modelo com todas as variáveis"
   ]
  },
  {
   "cell_type": "code",
   "execution_count": 11,
   "metadata": {},
   "outputs": [
    {
     "data": {
      "text/plain": [
       "\n",
       "Call:\n",
       "glm(formula = default_dummy ~ ., family = \"binomial\", data = dados_credito_train %>% \n",
       "    select(-id, -default))\n",
       "\n",
       "Deviance Residuals: \n",
       "    Min       1Q   Median       3Q      Max  \n",
       "-2.7758  -0.5562   0.3588   0.6604   2.1172  \n",
       "\n",
       "Coefficients:\n",
       "                         Estimate Std. Error z value Pr(>|z|)    \n",
       "(Intercept)              2.594746   1.544737   1.680  0.09301 .  \n",
       "idade                    0.023724   0.049474   0.480  0.63157    \n",
       "educacao                 0.028089   0.543390   0.052  0.95877    \n",
       "tipo_emprego             0.203109   0.042925   4.732 2.23e-06 ***\n",
       "renda                   -0.028405   0.009831  -2.889  0.00386 ** \n",
       "divida                  -0.188489   0.036142  -5.215 1.84e-07 ***\n",
       "outras_div               0.095414   0.097363   0.980  0.32709    \n",
       "educacao_catensin_medio -0.513558   0.656302  -0.783  0.43392    \n",
       "educacao_catensin_sup   -0.474789   1.401036  -0.339  0.73470    \n",
       "idade_catacima_40       -0.629505   1.009829  -0.623  0.53304    \n",
       "idade_catentre_30_40    -0.156654   0.544839  -0.288  0.77371    \n",
       "renda_cat(34,54]        -0.461963   0.467142  -0.989  0.32271    \n",
       "renda_cat(54,446]       -0.263070   0.681107  -0.386  0.69932    \n",
       "renda_cat[14,24]        -0.769798   0.432858  -1.778  0.07534 .  \n",
       "---\n",
       "Signif. codes:  0 ‘***’ 0.001 ‘**’ 0.01 ‘*’ 0.05 ‘.’ 0.1 ‘ ’ 1\n",
       "\n",
       "(Dispersion parameter for binomial family taken to be 1)\n",
       "\n",
       "    Null deviance: 409.27  on 349  degrees of freedom\n",
       "Residual deviance: 294.60  on 336  degrees of freedom\n",
       "AIC: 322.6\n",
       "\n",
       "Number of Fisher Scoring iterations: 5\n"
      ]
     },
     "metadata": {},
     "output_type": "display_data"
    }
   ],
   "source": [
    "model_full <- glm( formula = default_dummy ~ .,\n",
    "                   family = 'binomial',\n",
    "                   data = dados_credito_train %>% select( -id, -default) )\n",
    "summary(model_full)"
   ]
  },
  {
   "cell_type": "markdown",
   "metadata": {},
   "source": [
    "Escreva a equação do modelo:"
   ]
  },
  {
   "cell_type": "code",
   "execution_count": null,
   "metadata": {},
   "outputs": [],
   "source": []
  },
  {
   "cell_type": "markdown",
   "metadata": {},
   "source": [
    "- modelo 2: O seu modelo"
   ]
  },
  {
   "cell_type": "code",
   "execution_count": null,
   "metadata": {},
   "outputs": [],
   "source": []
  },
  {
   "cell_type": "markdown",
   "metadata": {},
   "source": [
    "### Teste dos modelos de regressão logística"
   ]
  },
  {
   "cell_type": "markdown",
   "metadata": {},
   "source": [
    "Para os problemas de regressão logística, iremos utilizar a métrica da Acurácia para validação dos modelos."
   ]
  },
  {
   "cell_type": "markdown",
   "metadata": {},
   "source": [
    "- Gera as previsões. (lembre-se de adicionar o seu modelo)"
   ]
  },
  {
   "cell_type": "code",
   "execution_count": 12,
   "metadata": {},
   "outputs": [],
   "source": [
    "dados_credito_test %<>% \n",
    "    mutate( previsao_model_full = predict( model_full, ., type = 'response' ) )"
   ]
  },
  {
   "cell_type": "markdown",
   "metadata": {},
   "source": [
    "- O modelo gera probabilidades."
   ]
  },
  {
   "cell_type": "code",
   "execution_count": 13,
   "metadata": {},
   "outputs": [
    {
     "data": {
      "text/html": [
       "<table>\n",
       "<thead><tr><th scope=col>default_dummy</th><th scope=col>previsao_model_full</th></tr></thead>\n",
       "<tbody>\n",
       "\t<tr><td>1        </td><td>0.7521671</td></tr>\n",
       "\t<tr><td>0        </td><td>0.1425679</td></tr>\n",
       "\t<tr><td>1        </td><td>0.8474590</td></tr>\n",
       "\t<tr><td>1        </td><td>0.9875242</td></tr>\n",
       "\t<tr><td>1        </td><td>0.7218608</td></tr>\n",
       "\t<tr><td>1        </td><td>0.9873025</td></tr>\n",
       "</tbody>\n",
       "</table>\n"
      ],
      "text/latex": [
       "\\begin{tabular}{r|ll}\n",
       " default\\_dummy & previsao\\_model\\_full\\\\\n",
       "\\hline\n",
       "\t 1         & 0.7521671\\\\\n",
       "\t 0         & 0.1425679\\\\\n",
       "\t 1         & 0.8474590\\\\\n",
       "\t 1         & 0.9875242\\\\\n",
       "\t 1         & 0.7218608\\\\\n",
       "\t 1         & 0.9873025\\\\\n",
       "\\end{tabular}\n"
      ],
      "text/markdown": [
       "\n",
       "default_dummy | previsao_model_full | \n",
       "|---|---|---|---|---|---|\n",
       "| 1         | 0.7521671 | \n",
       "| 0         | 0.1425679 | \n",
       "| 1         | 0.8474590 | \n",
       "| 1         | 0.9875242 | \n",
       "| 1         | 0.7218608 | \n",
       "| 1         | 0.9873025 | \n",
       "\n",
       "\n"
      ],
      "text/plain": [
       "  default_dummy previsao_model_full\n",
       "1 1             0.7521671          \n",
       "2 0             0.1425679          \n",
       "3 1             0.8474590          \n",
       "4 1             0.9875242          \n",
       "5 1             0.7218608          \n",
       "6 1             0.9873025          "
      ]
     },
     "metadata": {},
     "output_type": "display_data"
    }
   ],
   "source": [
    "dados_credito_test %>% \n",
    "    select( default_dummy, previsao_model_full ) %>% \n",
    "    head"
   ]
  },
  {
   "cell_type": "markdown",
   "metadata": {},
   "source": [
    "Transforma as probabilidades em classificações. (lembre-se de adicionar o seu modelo)\n",
    "\n",
    "Neste exemplo, vamos assumir que valores acima de 0.5 como 'pagou' e igual ou abaixo de 0.5 como 'não_pagou'."
   ]
  },
  {
   "cell_type": "code",
   "execution_count": 15,
   "metadata": {},
   "outputs": [],
   "source": [
    "dados_credito_test %<>% \n",
    "    mutate( previsao_model_full_bin = as.factor( ifelse( previsao_model_full > 0.5, 'pagou', 'nao_pagou') ) )"
   ]
  },
  {
   "cell_type": "code",
   "execution_count": 16,
   "metadata": {
    "scrolled": true
   },
   "outputs": [
    {
     "data": {
      "text/html": [
       "<table>\n",
       "<thead><tr><th scope=col>default</th><th scope=col>previsao_model_full_bin</th></tr></thead>\n",
       "<tbody>\n",
       "\t<tr><td>pagou    </td><td>pagou    </td></tr>\n",
       "\t<tr><td>nao_pagou</td><td>nao_pagou</td></tr>\n",
       "\t<tr><td>pagou    </td><td>pagou    </td></tr>\n",
       "\t<tr><td>pagou    </td><td>pagou    </td></tr>\n",
       "\t<tr><td>pagou    </td><td>pagou    </td></tr>\n",
       "\t<tr><td>pagou    </td><td>pagou    </td></tr>\n",
       "</tbody>\n",
       "</table>\n"
      ],
      "text/latex": [
       "\\begin{tabular}{r|ll}\n",
       " default & previsao\\_model\\_full\\_bin\\\\\n",
       "\\hline\n",
       "\t pagou     & pagou    \\\\\n",
       "\t nao\\_pagou & nao\\_pagou\\\\\n",
       "\t pagou     & pagou    \\\\\n",
       "\t pagou     & pagou    \\\\\n",
       "\t pagou     & pagou    \\\\\n",
       "\t pagou     & pagou    \\\\\n",
       "\\end{tabular}\n"
      ],
      "text/markdown": [
       "\n",
       "default | previsao_model_full_bin | \n",
       "|---|---|---|---|---|---|\n",
       "| pagou     | pagou     | \n",
       "| nao_pagou | nao_pagou | \n",
       "| pagou     | pagou     | \n",
       "| pagou     | pagou     | \n",
       "| pagou     | pagou     | \n",
       "| pagou     | pagou     | \n",
       "\n",
       "\n"
      ],
      "text/plain": [
       "  default   previsao_model_full_bin\n",
       "1 pagou     pagou                  \n",
       "2 nao_pagou nao_pagou              \n",
       "3 pagou     pagou                  \n",
       "4 pagou     pagou                  \n",
       "5 pagou     pagou                  \n",
       "6 pagou     pagou                  "
      ]
     },
     "metadata": {},
     "output_type": "display_data"
    }
   ],
   "source": [
    "dados_credito_test %>% \n",
    "    select( default, previsao_model_full_bin ) %>% \n",
    "    head"
   ]
  },
  {
   "cell_type": "code",
   "execution_count": 17,
   "metadata": {},
   "outputs": [
    {
     "data": {
      "text/html": [
       "<table>\n",
       "<thead><tr><th scope=col>previsao_model_full_bin</th><th scope=col>n</th></tr></thead>\n",
       "<tbody>\n",
       "\t<tr><td>nao_pagou</td><td> 28      </td></tr>\n",
       "\t<tr><td>pagou    </td><td>122      </td></tr>\n",
       "</tbody>\n",
       "</table>\n"
      ],
      "text/latex": [
       "\\begin{tabular}{r|ll}\n",
       " previsao\\_model\\_full\\_bin & n\\\\\n",
       "\\hline\n",
       "\t nao\\_pagou &  28        \\\\\n",
       "\t pagou     & 122      \\\\\n",
       "\\end{tabular}\n"
      ],
      "text/markdown": [
       "\n",
       "previsao_model_full_bin | n | \n",
       "|---|---|\n",
       "| nao_pagou |  28       | \n",
       "| pagou     | 122       | \n",
       "\n",
       "\n"
      ],
      "text/plain": [
       "  previsao_model_full_bin n  \n",
       "1 nao_pagou                28\n",
       "2 pagou                   122"
      ]
     },
     "metadata": {},
     "output_type": "display_data"
    }
   ],
   "source": [
    "dados_credito_test %>% \n",
    "    count( previsao_model_full_bin )"
   ]
  },
  {
   "cell_type": "markdown",
   "metadata": {},
   "source": [
    "- Matriz de confusão e Acurácia do modelo 1."
   ]
  },
  {
   "cell_type": "code",
   "execution_count": 18,
   "metadata": {
    "scrolled": true
   },
   "outputs": [
    {
     "data": {
      "text/plain": [
       "Confusion Matrix and Statistics\n",
       "\n",
       "           Reference\n",
       "Prediction  nao_pagou pagou\n",
       "  nao_pagou        13    21\n",
       "  pagou            15   101\n",
       "                                          \n",
       "               Accuracy : 0.76            \n",
       "                 95% CI : (0.6835, 0.8259)\n",
       "    No Information Rate : 0.8133          \n",
       "    P-Value [Acc > NIR] : 0.9591          \n",
       "                                          \n",
       "                  Kappa : 0.2699          \n",
       " Mcnemar's Test P-Value : 0.4047          \n",
       "                                          \n",
       "            Sensitivity : 0.8279          \n",
       "            Specificity : 0.4643          \n",
       "         Pos Pred Value : 0.8707          \n",
       "         Neg Pred Value : 0.3824          \n",
       "             Prevalence : 0.8133          \n",
       "         Detection Rate : 0.6733          \n",
       "   Detection Prevalence : 0.7733          \n",
       "      Balanced Accuracy : 0.6461          \n",
       "                                          \n",
       "       'Positive' Class : pagou           \n",
       "                                          "
      ]
     },
     "metadata": {},
     "output_type": "display_data"
    }
   ],
   "source": [
    "confusionMatrix(dados_credito_test$default, \n",
    "                dados_credito_test$previsao_model_full_bin,\n",
    "                positive = 'pagou')"
   ]
  },
  {
   "cell_type": "markdown",
   "metadata": {},
   "source": [
    "Matriz de confusão do modelo 2."
   ]
  },
  {
   "cell_type": "code",
   "execution_count": null,
   "metadata": {},
   "outputs": [],
   "source": []
  },
  {
   "cell_type": "markdown",
   "metadata": {},
   "source": [
    "Você conseguiu criar um modelo melhor?"
   ]
  },
  {
   "cell_type": "markdown",
   "metadata": {},
   "source": []
  }
 ],
 "metadata": {
  "kernelspec": {
   "display_name": "R",
   "language": "R",
   "name": "ir"
  },
  "language_info": {
   "codemirror_mode": "r",
   "file_extension": ".r",
   "mimetype": "text/x-r-source",
   "name": "R",
   "pygments_lexer": "r",
   "version": "3.4.4"
  }
 },
 "nbformat": 4,
 "nbformat_minor": 2
}
