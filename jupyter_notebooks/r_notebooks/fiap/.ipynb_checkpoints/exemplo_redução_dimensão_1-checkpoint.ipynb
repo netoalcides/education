{
 "cells": [
  {
   "cell_type": "markdown",
   "metadata": {},
   "source": [
    "# Exemplo 1 - Redução de dimensão\n",
    "\n",
    "Neste exemplo iremos analisar dados agregados do último censo.\n",
    "\n",
    "Será que conseguiremos resumir os dados apresentados em poucas visualizações?"
   ]
  },
  {
   "cell_type": "markdown",
   "metadata": {},
   "source": [
    "## Carregar pacotes"
   ]
  },
  {
   "cell_type": "code",
   "execution_count": null,
   "metadata": {},
   "outputs": [],
   "source": [
    "library(tidyverse)\n",
    "library(magrittr)\n",
    "library(plotly)\n",
    "library(psych)"
   ]
  },
  {
   "cell_type": "markdown",
   "metadata": {},
   "source": [
    "## Carregar dados"
   ]
  },
  {
   "cell_type": "code",
   "execution_count": null,
   "metadata": {},
   "outputs": [],
   "source": [
    "dados_municipios <- read_csv(\"/home/vm-data-science/dados/dados_municipios.csv\")"
   ]
  },
  {
   "cell_type": "code",
   "execution_count": null,
   "metadata": {},
   "outputs": [],
   "source": [
    "dados_municipios %>% head"
   ]
  },
  {
   "cell_type": "markdown",
   "metadata": {},
   "source": [
    "## Análises"
   ]
  },
  {
   "cell_type": "markdown",
   "metadata": {},
   "source": [
    "### Análise exploratória"
   ]
  },
  {
   "cell_type": "markdown",
   "metadata": {},
   "source": [
    "- Visão geral"
   ]
  },
  {
   "cell_type": "code",
   "execution_count": null,
   "metadata": {},
   "outputs": [],
   "source": [
    "dados_municipios %>% \n",
    "  summarise_if( is.double, mean )"
   ]
  },
  {
   "cell_type": "markdown",
   "metadata": {},
   "source": [
    "- Visão por estado"
   ]
  },
  {
   "cell_type": "code",
   "execution_count": null,
   "metadata": {},
   "outputs": [],
   "source": [
    "dados_municipios %>%\n",
    "  group_by( estado ) %>% \n",
    "  summarise_if( is.double, mean )"
   ]
  },
  {
   "cell_type": "markdown",
   "metadata": {},
   "source": [
    "### Algumas visualizações"
   ]
  },
  {
   "cell_type": "code",
   "execution_count": null,
   "metadata": {},
   "outputs": [],
   "source": [
    "dados_municipios %>% \n",
    "  plot_ly( x = ~estado,\n",
    "          y = ~t_agua,\n",
    "          type = 'box' ) "
   ]
  },
  {
   "cell_type": "code",
   "execution_count": null,
   "metadata": {},
   "outputs": [],
   "source": [
    "dados_municipios %>% \n",
    "  plot_ly( x = ~estado,\n",
    "           y = ~t_lixo,\n",
    "           type = 'box' )"
   ]
  },
  {
   "cell_type": "code",
   "execution_count": null,
   "metadata": {},
   "outputs": [],
   "source": [
    "dados_municipios %>% \n",
    "  plot_ly( x = ~estado,\n",
    "           y = ~t_luz,\n",
    "           type = 'box' ) "
   ]
  },
  {
   "cell_type": "code",
   "execution_count": null,
   "metadata": {},
   "outputs": [],
   "source": [
    "dados_municipios %>% \n",
    "  plot_ly( x = ~estado,\n",
    "           y = ~T_ANALF18M,\n",
    "           type = 'box' ) "
   ]
  },
  {
   "cell_type": "markdown",
   "metadata": {},
   "source": [
    "### Analisar correlações"
   ]
  },
  {
   "cell_type": "code",
   "execution_count": null,
   "metadata": {},
   "outputs": [],
   "source": [
    "correlacao <- dados_municipios %>% \n",
    "  select( contains('t_') ) %>% \n",
    "  cor() %>% \n",
    "  round(., 2)\n",
    "\n",
    "correlacao"
   ]
  },
  {
   "cell_type": "code",
   "execution_count": null,
   "metadata": {},
   "outputs": [],
   "source": [
    "plot_ly( z = correlacao,\n",
    "         x = colnames(correlacao),\n",
    "         y = colnames(correlacao), \n",
    "         colorscale = \"Greys\", \n",
    "         type = \"heatmap\" )"
   ]
  },
  {
   "cell_type": "markdown",
   "metadata": {},
   "source": [
    "Aparentemente observamos 2 grupos de índices: índices de educação e índices de qualidade de moradia."
   ]
  },
  {
   "cell_type": "markdown",
   "metadata": {},
   "source": [
    "### *Principal Components Analysis* - PCA\n",
    "\n",
    "Agora que podemos criar 2 índices, podemos reduzir a dimensão do dataset em somente 2 colunas."
   ]
  },
  {
   "cell_type": "code",
   "execution_count": null,
   "metadata": {},
   "outputs": [],
   "source": [
    "pca_model <- principal(dados_municipios %>% \n",
    "                        select( contains('t_') ), \n",
    "                       nfactors = 2, \n",
    "                       rotate = \"varimax\" )"
   ]
  },
  {
   "cell_type": "code",
   "execution_count": null,
   "metadata": {
    "scrolled": false
   },
   "outputs": [],
   "source": [
    "pca_model"
   ]
  },
  {
   "cell_type": "markdown",
   "metadata": {},
   "source": [
    "- São muitas informações. Iremos focar nos valores que chamamos de \"cargas\"."
   ]
  },
  {
   "cell_type": "code",
   "execution_count": null,
   "metadata": {
    "scrolled": true
   },
   "outputs": [],
   "source": [
    "pca_model$loadings[]"
   ]
  },
  {
   "cell_type": "markdown",
   "metadata": {},
   "source": [
    "Esta análise nos apresenta a possibilidade de criarmos os 2 índices esperados.\n",
    "\n",
    "A coluna RC1 representam cargas altas e positivas para os índices relacionados a educação.\n",
    "\n",
    "A coluna RC2 representam cargas altas e positivas para os índices relacionados a moradia."
   ]
  },
  {
   "cell_type": "markdown",
   "metadata": {},
   "source": [
    "### Obtenção dos índices e análises\n",
    "\n",
    "Os índices também são calculados pela ferramenta. \n",
    "\n",
    "Um ponto a destacar é que os índices estão padronizados para terem média igual a zero e desvio-padrão igual a 1.\n",
    "\n",
    "Vamos adicionar estes índices em nosso banco de dados."
   ]
  },
  {
   "cell_type": "code",
   "execution_count": null,
   "metadata": {},
   "outputs": [],
   "source": [
    "dados_municipios %<>% \n",
    "  mutate( indice_atraso_escolar = pca_model$scores[,1],\n",
    "          indice_qualidade_moradia = pca_model$scores[,2] )\n",
    "\n",
    "dados_municipios %>% \n",
    "    head"
   ]
  },
  {
   "cell_type": "code",
   "execution_count": null,
   "metadata": {},
   "outputs": [],
   "source": [
    "dados_municipios %>% \n",
    "    select( contains('indice') ) %>% \n",
    "    gather( key = indices, value = valores ) %>% \n",
    "    group_by( indices ) %>% \n",
    "    summarise( media = round( mean(valores) ),\n",
    "               desvio_padrao = sd(valores) )"
   ]
  },
  {
   "cell_type": "markdown",
   "metadata": {},
   "source": [
    "- Agora que temos 2 índices que resumem todo o dataset, podemos fazer uma análise simples e resumida."
   ]
  },
  {
   "cell_type": "code",
   "execution_count": null,
   "metadata": {},
   "outputs": [],
   "source": [
    "dados_municipios %>% \n",
    "  group_by( estado ) %>% \n",
    "  summarise( indice_qualidade_moradia = mean(indice_qualidade_moradia), \n",
    "             indice_atraso_escolar = mean(indice_atraso_escolar) ) %>% \n",
    "  plot_ly( x = ~indice_atraso_escolar,\n",
    "           y = ~indice_qualidade_moradia,\n",
    "           marker = list( size = 10),\n",
    "           type = 'scatter',\n",
    "           mode = 'markers',\n",
    "           text = ~paste( \"Estado: \", estado ),\n",
    "           hoverinfo = 'text',\n",
    "           showlegend = FALSE )"
   ]
  },
  {
   "cell_type": "markdown",
   "metadata": {},
   "source": [
    "- Podemos melhorar um pouco mais esta visualização."
   ]
  },
  {
   "cell_type": "code",
   "execution_count": null,
   "metadata": {},
   "outputs": [],
   "source": [
    "dados_municipios %>% \n",
    "  group_by( estado ) %>% \n",
    "  summarise( indice_qualidade_moradia = mean(indice_qualidade_moradia), \n",
    "             indice_atraso_escolar = mean(indice_atraso_escolar) ) %>% \n",
    "  mutate( d_qual = ifelse( indice_qualidade_moradia > 0, 'moradia_alta', 'moradia_baixa'),\n",
    "          d_atra = ifelse( indice_atraso_escolar > 0, 'atraso_alto', 'atraso_baixo'),\n",
    "          quadrante = paste0(d_qual, ' - ', d_atra) ) %>% \n",
    "  plot_ly( x = ~indice_atraso_escolar,\n",
    "           y = ~indice_qualidade_moradia,\n",
    "           color = ~quadrante,\n",
    "           marker = list( size = 15),\n",
    "           type = 'scatter',\n",
    "           mode = 'markers',\n",
    "           text = ~paste( \"</br> Estado: \", estado,\n",
    "                          \"</br> Moradia: \", d_qual,\n",
    "                          \"</br> Atraso: \", d_atra),\n",
    "           hoverinfo = 'text',\n",
    "           showlegend = TRUE ) %>% \n",
    "  layout( xaxis = list( title = \"Índice de atraso escolar\" ), \n",
    "          yaxis = list( title = \"Índice de qualidade de moradia\" ) )"
   ]
  }
 ],
 "metadata": {
  "kernelspec": {
   "display_name": "R",
   "language": "R",
   "name": "ir"
  },
  "language_info": {
   "codemirror_mode": "r",
   "file_extension": ".r",
   "mimetype": "text/x-r-source",
   "name": "R",
   "pygments_lexer": "r",
   "version": "3.4.4"
  }
 },
 "nbformat": 4,
 "nbformat_minor": 2
}
