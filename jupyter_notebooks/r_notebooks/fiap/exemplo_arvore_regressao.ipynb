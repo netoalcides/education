{
 "cells": [
  {
   "cell_type": "markdown",
   "metadata": {},
   "source": [
    "# Exemplo Modelo Árvore de regressão"
   ]
  },
  {
   "cell_type": "markdown",
   "metadata": {},
   "source": [
    "Neste exemplo iremos desenvolver um modelo para prever os gastos com cartão de uma pessoa.\n",
    "\n",
    "Porém, desta vez iremos utilizar o modelo de Particionamento Recursivo (Árvore de decisão)."
   ]
  },
  {
   "cell_type": "markdown",
   "metadata": {},
   "source": [
    "## Carregar pacotes"
   ]
  },
  {
   "cell_type": "code",
   "execution_count": null,
   "metadata": {},
   "outputs": [],
   "source": [
    "library(tidyverse)\n",
    "library(magrittr)\n",
    "library(rpart)\n",
    "library(visNetwork)"
   ]
  },
  {
   "cell_type": "markdown",
   "metadata": {},
   "source": [
    "## Carregar dados"
   ]
  },
  {
   "cell_type": "code",
   "execution_count": 2,
   "metadata": {
    "scrolled": true
   },
   "outputs": [
    {
     "name": "stderr",
     "output_type": "stream",
     "text": [
      "Parsed with column specification:\n",
      "cols(\n",
      "  gastos_cartao = col_integer(),\n",
      "  idade = col_integer(),\n",
      "  renda = col_integer(),\n",
      "  impostos = col_integer(),\n",
      "  segmento = col_character()\n",
      ")\n"
     ]
    }
   ],
   "source": [
    "dados_cartao <- read_csv( file = \"/home/vm-data-science/dados/base_gastos_cartao.csv\")"
   ]
  },
  {
   "cell_type": "code",
   "execution_count": null,
   "metadata": {},
   "outputs": [],
   "source": [
    "dados_cartao %>% \n",
    "    head()"
   ]
  },
  {
   "cell_type": "markdown",
   "metadata": {},
   "source": [
    "## Análise exploratória"
   ]
  },
  {
   "cell_type": "code",
   "execution_count": null,
   "metadata": {
    "scrolled": true
   },
   "outputs": [],
   "source": [
    "dados_cartao %>% \n",
    "    summarise_if( is.numeric, mean )"
   ]
  },
  {
   "cell_type": "code",
   "execution_count": null,
   "metadata": {},
   "outputs": [],
   "source": [
    "dados_cartao  %>% \n",
    "    count( segmento )"
   ]
  },
  {
   "cell_type": "markdown",
   "metadata": {},
   "source": [
    "## Treinamento do modelo"
   ]
  },
  {
   "cell_type": "code",
   "execution_count": 4,
   "metadata": {},
   "outputs": [],
   "source": [
    "modelo_arvore_regressão <- rpart( gastos_cartao ~ ., \n",
    "                                  data = dados_cartao )"
   ]
  },
  {
   "cell_type": "code",
   "execution_count": null,
   "metadata": {},
   "outputs": [],
   "source": [
    "summary( modelo_arvore_regressão )"
   ]
  },
  {
   "cell_type": "markdown",
   "metadata": {},
   "source": [
    "### Desenho da árvore"
   ]
  },
  {
   "cell_type": "code",
   "execution_count": null,
   "metadata": {},
   "outputs": [],
   "source": [
    "modelo_arvore_regressão %>% \n",
    "  visTree(., rules = TRUE,\n",
    "          fallenLeaves = TRUE,\n",
    "          width = \"100%\",\n",
    "          height = \"850\" ) %>% \n",
    "  visOptions(highlightNearest = TRUE, \n",
    "             nodesIdSelection = FALSE) %>% \n",
    "  visLegend( width = 0.1 )"
   ]
  },
  {
   "cell_type": "markdown",
   "metadata": {},
   "source": [
    "### Regras"
   ]
  },
  {
   "cell_type": "code",
   "execution_count": 8,
   "metadata": {},
   "outputs": [],
   "source": [
    "source('/home/vm-data-science/R_scripts/tree_rules.R')"
   ]
  },
  {
   "cell_type": "code",
   "execution_count": null,
   "metadata": {
    "scrolled": true
   },
   "outputs": [],
   "source": [
    "tree_rules(modelo_arvore_regressão, model_type = 'regression')"
   ]
  },
  {
   "cell_type": "markdown",
   "metadata": {},
   "source": [
    "IF  [renda]< 3400 AND [renda]< 2720 AND [idade]< 32.5 THEN \\'473.5\\' \\nELSEIF [renda]< 3400 AND [renda]< 2720 AND [idade]>=32.5 THEN 516.969696969697 \n",
    "\n",
    "ELSEIF [renda]< 3400 AND [renda]>=2720 THEN \\'564\\' \\nELSEIF [renda]>=3400 AND [renda]< 4840 AND [renda]< 4120 AND [idade]< 30.5 THEN 605.454545454545 \n",
    "\n",
    "ELSEIF [renda]>=3400 AND [renda]< 4840 AND [renda]< 4120 AND [idade]>=30.5 THEN 653\n",
    "\n",
    "ELSEIF [renda]>=3400 AND [renda]< 4840 AND [renda]>=4120 THEN 660.4 \n",
    "\n",
    "ELSEIF [renda]>=3400 AND [renda]>=4840 THEN 757.777777777778 \n",
    "\n",
    "END"
   ]
  }
 ],
 "metadata": {
  "kernelspec": {
   "display_name": "R",
   "language": "R",
   "name": "ir"
  },
  "language_info": {
   "codemirror_mode": "r",
   "file_extension": ".r",
   "mimetype": "text/x-r-source",
   "name": "R",
   "pygments_lexer": "r",
   "version": "3.4.4"
  }
 },
 "nbformat": 4,
 "nbformat_minor": 2
}
