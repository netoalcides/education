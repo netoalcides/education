{
 "cells": [
  {
   "cell_type": "markdown",
   "metadata": {},
   "source": [
    "# Exemplo Regressão Linear com PCA\n",
    "\n",
    "Neste exemplo será utilizado os dados da pesquisa sobre *Nerdy Personality Attributes Scale*"
   ]
  },
  {
   "cell_type": "markdown",
   "metadata": {},
   "source": [
    "## Carregar pacotes"
   ]
  },
  {
   "cell_type": "code",
   "execution_count": null,
   "metadata": {},
   "outputs": [],
   "source": [
    "library(tidyverse)\n",
    "library(magrittr)\n",
    "library(psych)\n",
    "library(plotly)\n",
    "library(bootStepAIC)"
   ]
  },
  {
   "cell_type": "markdown",
   "metadata": {},
   "source": [
    "## Funções gerais"
   ]
  },
  {
   "cell_type": "code",
   "execution_count": null,
   "metadata": {},
   "outputs": [],
   "source": [
    "rmse <- function( real, prediction ){ sqrt( mean( (real - prediction)^2 ) ) }"
   ]
  },
  {
   "cell_type": "markdown",
   "metadata": {},
   "source": [
    "## Carregar dados"
   ]
  },
  {
   "cell_type": "code",
   "execution_count": null,
   "metadata": {},
   "outputs": [],
   "source": [
    "load( '/home/vm-data-science/dados/dados_nerd_nomissings.RData' )"
   ]
  },
  {
   "cell_type": "code",
   "execution_count": null,
   "metadata": {},
   "outputs": [],
   "source": [
    "dados_nerd_train %>% \n",
    "    head()"
   ]
  },
  {
   "cell_type": "code",
   "execution_count": null,
   "metadata": {},
   "outputs": [],
   "source": [
    "dados_nerd_test %>% \n",
    "    head()"
   ]
  },
  {
   "cell_type": "markdown",
   "metadata": {},
   "source": [
    "## Análise exploratória"
   ]
  },
  {
   "cell_type": "code",
   "execution_count": null,
   "metadata": {
    "scrolled": true
   },
   "outputs": [],
   "source": [
    "# count em todas as colunas\n",
    "dados_nerd_train %>% \n",
    "  map( ~count(data.frame(x=.x), x) )"
   ]
  },
  {
   "cell_type": "code",
   "execution_count": null,
   "metadata": {},
   "outputs": [],
   "source": [
    "# Histograma\n",
    "dados_nerd_train %>% \n",
    "  ggplot( aes( x = nerdy ) ) +\n",
    "  geom_histogram()"
   ]
  },
  {
   "cell_type": "code",
   "execution_count": null,
   "metadata": {},
   "outputs": [],
   "source": [
    "# outliers\n",
    "dados_nerd_train %>% \n",
    "  dplyr::select( contains('Q') ) %>% \n",
    "  gather( key = variaveis, value = notas ) %>% \n",
    "  plot_ly( x = ~variaveis,\n",
    "           y = ~notas,\n",
    "           type = 'box' )"
   ]
  },
  {
   "cell_type": "markdown",
   "metadata": {},
   "source": [
    "## Combinação de técnicas supervisionadas com não supervisionadas\n",
    "\n",
    "1 - Aplicamos o algoritmo não supervisionado\n",
    "\n",
    "2 - Geramos os novos atributos no banco de dados\n",
    "\n",
    "3 - Aplicamos o algoritmo supervisionado com os atributos obtidos pelo não supervisionado"
   ]
  },
  {
   "cell_type": "markdown",
   "metadata": {},
   "source": [
    "### 1 - Aplicamos o PCA"
   ]
  },
  {
   "cell_type": "markdown",
   "metadata": {},
   "source": [
    "- Verificamos a correlação"
   ]
  },
  {
   "cell_type": "code",
   "execution_count": null,
   "metadata": {},
   "outputs": [],
   "source": [
    "correlacao <- dados_nerd_train %>% \n",
    "  dplyr::select( contains('Q') ) %>% \n",
    "  cor() %>% \n",
    "  round(., 2)"
   ]
  },
  {
   "cell_type": "code",
   "execution_count": null,
   "metadata": {},
   "outputs": [],
   "source": [
    "plot_ly( z = correlacao,\n",
    "         x = colnames(correlacao),\n",
    "         y = colnames(correlacao), \n",
    "         colorscale = \"Greys\", \n",
    "         type = \"heatmap\" )"
   ]
  },
  {
   "cell_type": "markdown",
   "metadata": {},
   "source": [
    "- Aplicamos o PCA ( nfactors = 26 porque temos 26 questões)"
   ]
  },
  {
   "cell_type": "code",
   "execution_count": null,
   "metadata": {},
   "outputs": [],
   "source": [
    "pca_model <- principal(dados_nerd_train %>% \n",
    "                         dplyr::select( contains('Q') ), \n",
    "                       nfactors = 26, \n",
    "                       rotate = \"none\" )"
   ]
  },
  {
   "cell_type": "markdown",
   "metadata": {},
   "source": [
    "- Verificamos o *screeplot*"
   ]
  },
  {
   "cell_type": "code",
   "execution_count": null,
   "metadata": {},
   "outputs": [],
   "source": [
    "pca_model$values %>% \n",
    "  as_data_frame %>% \n",
    "  rename( autovalor = value ) %>% \n",
    "  mutate( dimensao = 1:26 ) %>% \n",
    "  plot_ly(x = ~dimensao,\n",
    "          y = ~autovalor,\n",
    "          type = 'scatter',\n",
    "          mode = 'lines+markers',\n",
    "          marker = list(size = 10, color = 'red') )"
   ]
  },
  {
   "cell_type": "markdown",
   "metadata": {},
   "source": [
    "- Verificamos a variância explicada"
   ]
  },
  {
   "cell_type": "code",
   "execution_count": null,
   "metadata": {},
   "outputs": [],
   "source": [
    "pca_model$Vaccounted %>% \n",
    "  as.data.frame() %>% \n",
    "  rownames_to_column( var = 'medidas' ) %>% \n",
    "  gather( key = PC, value = valores, -medidas ) %>% \n",
    "  spread( key = medidas, value = valores ) %>% \n",
    "  arrange( desc(`SS loadings`) )"
   ]
  },
  {
   "cell_type": "markdown",
   "metadata": {},
   "source": [
    "- Pela observação do *screeplot* percebe-se que a partir do componente 7 não há grande variação. Porém, caso 7 componentes sejam escolhidos somente 58% da informação é explicada por estes dados.\n",
    "\n",
    "\n",
    "- Diante disto, buscamos adicionar os componentes 8 a 11 para que 70% da informação seja explicada pelos componentes."
   ]
  },
  {
   "cell_type": "markdown",
   "metadata": {},
   "source": [
    "### 2 - Geramos os novos atributos no banco de dados"
   ]
  },
  {
   "cell_type": "code",
   "execution_count": null,
   "metadata": {},
   "outputs": [],
   "source": [
    "# Guardamos os componentes num objeto\n",
    "scores_pca <- pca_model$scores[, 1:11] %>% \n",
    "  as_data_frame()"
   ]
  },
  {
   "cell_type": "code",
   "execution_count": null,
   "metadata": {},
   "outputs": [],
   "source": [
    "# Adicionamos os componentes no banco\n",
    "dados_nerd_train_modelo <- dados_nerd_train %>% \n",
    "  bind_cols(., scores_pca )"
   ]
  },
  {
   "cell_type": "code",
   "execution_count": null,
   "metadata": {},
   "outputs": [],
   "source": [
    "dados_nerd_train_modelo %>% \n",
    "    head()"
   ]
  },
  {
   "cell_type": "markdown",
   "metadata": {},
   "source": [
    "### 3 - Aplicamos o modelo de regressão linear"
   ]
  },
  {
   "cell_type": "markdown",
   "metadata": {},
   "source": [
    "- Alguns ajustes importantes no banco de dados no R"
   ]
  },
  {
   "cell_type": "code",
   "execution_count": null,
   "metadata": {},
   "outputs": [],
   "source": [
    "dados_nerd_train_modelo %<>% \n",
    "  mutate( gender = as.factor(gender),\n",
    "          education = as.factor(education),\n",
    "          married = as.factor(married),\n",
    "          ASD = as.factor(ASD) )"
   ]
  },
  {
   "cell_type": "markdown",
   "metadata": {},
   "source": [
    "- Modelo 1: somente as 26 questões"
   ]
  },
  {
   "cell_type": "code",
   "execution_count": null,
   "metadata": {},
   "outputs": [],
   "source": [
    "modelo_reg_questoes <- lm( formula = nerdy ~ ., \n",
    "    data = dados_nerd_train_modelo %>% dplyr::select( nerdy, contains('Q') ) )"
   ]
  },
  {
   "cell_type": "code",
   "execution_count": null,
   "metadata": {},
   "outputs": [],
   "source": [
    "summary( modelo_reg_questoes )"
   ]
  },
  {
   "cell_type": "markdown",
   "metadata": {},
   "source": [
    "- Modelo 2: somente os PC`s"
   ]
  },
  {
   "cell_type": "code",
   "execution_count": null,
   "metadata": {},
   "outputs": [],
   "source": [
    "modelo_reg_pca <- lm( formula = nerdy ~ ., \n",
    "                           data = dados_nerd_train_modelo %>% dplyr::select( nerdy, contains('PC') ) )"
   ]
  },
  {
   "cell_type": "code",
   "execution_count": null,
   "metadata": {},
   "outputs": [],
   "source": [
    "summary( modelo_reg_pca )"
   ]
  },
  {
   "cell_type": "markdown",
   "metadata": {},
   "source": [
    "- Modelo 3: Tecnica de seleção de variáveis *stepwise* nas 26 questões"
   ]
  },
  {
   "cell_type": "code",
   "execution_count": null,
   "metadata": {},
   "outputs": [],
   "source": [
    "modelo_reg_questoes_stepwise <- boot.stepAIC(modelo_reg_questoes, \n",
    "                                            data = dados_nerd_train_modelo, \n",
    "                                            B = 10, \n",
    "                                            k = 2,\n",
    "                                            direction = \"both\")"
   ]
  },
  {
   "cell_type": "code",
   "execution_count": null,
   "metadata": {},
   "outputs": [],
   "source": [
    "summary( modelo_reg_questoes_stepwise$OrigStepAIC )"
   ]
  },
  {
   "cell_type": "markdown",
   "metadata": {},
   "source": [
    "- Modelo 4: Tecnica de seleção de variáveis stepwise nos PC`s"
   ]
  },
  {
   "cell_type": "code",
   "execution_count": null,
   "metadata": {},
   "outputs": [],
   "source": [
    "modelo_reg_pca_stepwise <- boot.stepAIC(modelo_reg_pca, \n",
    "                                       data = dados_nerd_train_modelo, \n",
    "                                       B = 10, \n",
    "                                       k = 2,\n",
    "                                       direction = \"both\")"
   ]
  },
  {
   "cell_type": "code",
   "execution_count": null,
   "metadata": {},
   "outputs": [],
   "source": [
    "summary(modelo_reg_pca_stepwise$OrigStepAIC)"
   ]
  },
  {
   "cell_type": "markdown",
   "metadata": {},
   "source": [
    "## Avaliação dos modelos"
   ]
  },
  {
   "cell_type": "markdown",
   "metadata": {},
   "source": [
    "- Criamos os PC`s usando os dados da amostra de teste"
   ]
  },
  {
   "cell_type": "code",
   "execution_count": null,
   "metadata": {},
   "outputs": [],
   "source": [
    "scores_teste <- predict( pca_model, \n",
    "         dados_nerd_test %>% \n",
    "           dplyr::select( contains('Q') ) ) %>% \n",
    "  tbl_df()"
   ]
  },
  {
   "cell_type": "markdown",
   "metadata": {},
   "source": [
    "- Adicionamos os PC`s na amostra de teste"
   ]
  },
  {
   "cell_type": "code",
   "execution_count": null,
   "metadata": {},
   "outputs": [],
   "source": [
    "dados_nerd_test_modelo <- dados_nerd_test %>% \n",
    "  bind_cols(., scores_teste[, 1:11] )"
   ]
  },
  {
   "cell_type": "code",
   "execution_count": null,
   "metadata": {},
   "outputs": [],
   "source": [
    "dados_nerd_test_modelo %>% \n",
    "    head()"
   ]
  },
  {
   "cell_type": "markdown",
   "metadata": {},
   "source": [
    "- Geramos as previsoes para avaliação"
   ]
  },
  {
   "cell_type": "code",
   "execution_count": null,
   "metadata": {},
   "outputs": [],
   "source": [
    "amostra_avaliacao <- dados_nerd_test_modelo %>% \n",
    "  mutate( pred_nerdy_reg_questoes = predict( modelo_reg_questoes, . ),\n",
    "          pred_nerdy_reg_pca = predict( modelo_reg_pca, . ),\n",
    "          pred_nerdy_reg_questoes_stepwise = predict( modelo_reg_questoes_stepwise$OrigStepAIC, . ),\n",
    "          pred_nerdy_reg_pca_stepwise = predict( modelo_reg_pca_stepwise$OrigStepAIC, . ) ) %>% \n",
    "  dplyr::select( nerdy, pred_nerdy_reg_questoes, pred_nerdy_reg_pca, \n",
    "         pred_nerdy_reg_questoes_stepwise, pred_nerdy_reg_pca_stepwise )"
   ]
  },
  {
   "cell_type": "code",
   "execution_count": null,
   "metadata": {},
   "outputs": [],
   "source": [
    "amostra_avaliacao %>% \n",
    "    head()"
   ]
  },
  {
   "cell_type": "markdown",
   "metadata": {},
   "source": [
    "- Comparamos os modelos pelo RMSE"
   ]
  },
  {
   "cell_type": "code",
   "execution_count": null,
   "metadata": {},
   "outputs": [],
   "source": [
    "amostra_avaliacao %>% \n",
    "  summarise( Modelo_1_todas = rmse(nerdy, pred_nerdy_reg_questoes),\n",
    "             Modelo_2_pca = rmse(nerdy, pred_nerdy_reg_pca),\n",
    "             Modelo_3_stepwise = rmse(nerdy, pred_nerdy_reg_questoes_stepwise),\n",
    "             Modelo_4_pca_stepwise = rmse(nerdy, pred_nerdy_reg_pca_stepwise) ) %>% \n",
    "  gather( key = modelos, value = rmse ) %>% \n",
    "  arrange( rmse )"
   ]
  },
  {
   "cell_type": "markdown",
   "metadata": {},
   "source": [
    "- Apesar que o melhor modelo apresentou menor erro, os modelos utilizando número menor de questões apresentaram resultados similares."
   ]
  }
 ],
 "metadata": {
  "kernelspec": {
   "display_name": "R",
   "language": "R",
   "name": "ir"
  },
  "language_info": {
   "codemirror_mode": "r",
   "file_extension": ".r",
   "mimetype": "text/x-r-source",
   "name": "R",
   "pygments_lexer": "r",
   "version": "3.4.4"
  }
 },
 "nbformat": 4,
 "nbformat_minor": 2
}
