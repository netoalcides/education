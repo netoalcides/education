{
 "cells": [
  {
   "cell_type": "markdown",
   "metadata": {},
   "source": [
    "# Exemplo Modelo Árvore de regressão - *Prunning*"
   ]
  },
  {
   "cell_type": "markdown",
   "metadata": {},
   "source": [
    "Neste exemplo iremos desenvolver um modelo para prever os gastos com cartão de uma pessoa.\n",
    "\n",
    "Porém, desta vez iremos utilizar o modelo de Particionamento Recursivo (Árvore de decisão).\n",
    "\n",
    "Iremos adicionar o processo de \"Podar\" a árvore."
   ]
  },
  {
   "cell_type": "markdown",
   "metadata": {},
   "source": [
    "## Carregar pacotes"
   ]
  },
  {
   "cell_type": "code",
   "execution_count": null,
   "metadata": {},
   "outputs": [],
   "source": [
    "library(tidyverse)\n",
    "library(magrittr)\n",
    "library(rpart)\n",
    "library(plotly)\n",
    "library(visNetwork)"
   ]
  },
  {
   "cell_type": "markdown",
   "metadata": {},
   "source": [
    "## Carrega uma função para ajudar a criar os gráficos"
   ]
  },
  {
   "cell_type": "code",
   "execution_count": null,
   "metadata": {},
   "outputs": [],
   "source": [
    "accumulate_by <- function(dat, var) {\n",
    "  var <- lazyeval::f_eval(var, dat)\n",
    "  lvls <- plotly:::getLevels(var)\n",
    "  dats <- lapply(seq_along(lvls), function(x) {\n",
    "    cbind(dat[var %in% lvls[seq(1, x)], ], frame = lvls[[x]])\n",
    "  })\n",
    "  dplyr::bind_rows(dats)\n",
    "}"
   ]
  },
  {
   "cell_type": "markdown",
   "metadata": {},
   "source": [
    "## Carregar dados"
   ]
  },
  {
   "cell_type": "code",
   "execution_count": null,
   "metadata": {
    "scrolled": true
   },
   "outputs": [],
   "source": [
    "dados_cartao <- read_csv( file = \"/home/vm-data-science/dados/base_gastos_cartao.csv\")"
   ]
  },
  {
   "cell_type": "code",
   "execution_count": null,
   "metadata": {
    "scrolled": true
   },
   "outputs": [],
   "source": [
    "dados_cartao %>% \n",
    "    head()"
   ]
  },
  {
   "cell_type": "markdown",
   "metadata": {},
   "source": [
    "Número de linhas e colunas no banco de dados (150 linhas e 5 colunas)"
   ]
  },
  {
   "cell_type": "code",
   "execution_count": null,
   "metadata": {},
   "outputs": [],
   "source": [
    "dados_cartao %>% dim"
   ]
  },
  {
   "cell_type": "markdown",
   "metadata": {},
   "source": [
    "Ajuste na variável segmento"
   ]
  },
  {
   "cell_type": "code",
   "execution_count": null,
   "metadata": {},
   "outputs": [],
   "source": [
    "dados_cartao %<>%\n",
    "    mutate( segmento = as.factor(segmento) )"
   ]
  },
  {
   "cell_type": "markdown",
   "metadata": {},
   "source": [
    "## Análise exploratória"
   ]
  },
  {
   "cell_type": "code",
   "execution_count": null,
   "metadata": {
    "scrolled": true
   },
   "outputs": [],
   "source": [
    "dados_cartao %>% \n",
    "    summarise_if( is.numeric, mean )"
   ]
  },
  {
   "cell_type": "code",
   "execution_count": null,
   "metadata": {
    "scrolled": true
   },
   "outputs": [],
   "source": [
    "dados_cartao  %>% \n",
    "    count( segmento )"
   ]
  },
  {
   "cell_type": "markdown",
   "metadata": {},
   "source": [
    "## Dividir amostras de treino, validação e teste\n",
    "\n",
    "Aprendemos na aula que devemos gerar as regras na amostra de treino, validar o crescimento das regras na amostra de validação e realizar a avaliação final na amostra de teste."
   ]
  },
  {
   "cell_type": "markdown",
   "metadata": {},
   "source": [
    "### Primeiro dividimos as amostras de treinamento/validação e teste"
   ]
  },
  {
   "cell_type": "code",
   "execution_count": null,
   "metadata": {},
   "outputs": [],
   "source": [
    "# amostra de treino e validacao\n",
    "set.seed(1)\n",
    "dados_cartao_train_valid <- dados_cartao %>% \n",
    "                                sample_frac(., 0.70)"
   ]
  },
  {
   "cell_type": "code",
   "execution_count": null,
   "metadata": {},
   "outputs": [],
   "source": [
    "# amostra de teste\n",
    "dados_cartao_test <- setdiff( dados_cartao, dados_cartao_train_valid )"
   ]
  },
  {
   "cell_type": "markdown",
   "metadata": {},
   "source": [
    "### Depois dividimos a amostra de treinamento/validação"
   ]
  },
  {
   "cell_type": "code",
   "execution_count": null,
   "metadata": {},
   "outputs": [],
   "source": [
    "# amostra de treino\n",
    "set.seed(1)\n",
    "dados_cartao_train <- dados_cartao_train_valid %>% \n",
    "                                sample_frac(., 0.70)"
   ]
  },
  {
   "cell_type": "code",
   "execution_count": null,
   "metadata": {},
   "outputs": [],
   "source": [
    "# amostra de validacao\n",
    "dados_cartao_valid <- setdiff( dados_cartao_train_valid, dados_cartao_train )"
   ]
  },
  {
   "cell_type": "code",
   "execution_count": null,
   "metadata": {},
   "outputs": [],
   "source": [
    "print( paste('o banco de dados tem ao todo', dim(dados_cartao)[1], 'linhas e', dim(dados_cartao)[2], 'colunas') )\n",
    "print( paste('a amostra de treino tem', dim(dados_cartao_train)[1], 'linhas e', dim(dados_cartao_train)[2], 'colunas') )\n",
    "print( paste('a amostra de validação tem', dim(dados_cartao_valid)[1], 'linhas e', dim(dados_cartao_valid)[2], 'colunas') )\n",
    "print( paste('a amostra de teste tem', dim(dados_cartao_test)[1], 'linhas e', dim(dados_cartao_test)[2], 'colunas') )"
   ]
  },
  {
   "cell_type": "markdown",
   "metadata": {},
   "source": [
    "## Treinamento do modelo\n",
    "\n",
    "Parâmetros para controle:\n",
    "\n",
    "- minsplit\n",
    "- complexity parameter (cp)\n",
    "- maxcompete\n",
    "- maxdepth"
   ]
  },
  {
   "cell_type": "markdown",
   "metadata": {},
   "source": [
    "## Análise dos parâmetros\n",
    "\n",
    "antes de iniciarmos as análises, vamos conhecer um pouco o comportamento dos parâmetros."
   ]
  },
  {
   "cell_type": "markdown",
   "metadata": {},
   "source": [
    "### Análise do minsplit"
   ]
  },
  {
   "cell_type": "code",
   "execution_count": null,
   "metadata": {},
   "outputs": [],
   "source": [
    "dados_minsplit <- NULL\n",
    "\n",
    "for ( split in 1:50){\n",
    "    \n",
    "    # treino \n",
    "    modelo <- rpart( gastos_cartao ~ ., \n",
    "                 data = dados_cartao_train,\n",
    "                 control = list( minsplit = split) )\n",
    "    \n",
    "    # validacao\n",
    "    rmse <- sqrt( mean( (predict( modelo, dados_cartao_valid) - dados_cartao_valid$gastos_cartao)^2 ) )\n",
    "    \n",
    "    dados <- data_frame( minsplit = split,\n",
    "                         rmse = rmse )\n",
    "    \n",
    "    dados_minsplit <- bind_rows( dados_minsplit, dados)\n",
    "}"
   ]
  },
  {
   "cell_type": "code",
   "execution_count": null,
   "metadata": {},
   "outputs": [],
   "source": [
    "dados_minsplit %>% \n",
    "    accumulate_by(~minsplit) %>% \n",
    "    plot_ly( x = ~minsplit,\n",
    "             y = ~rmse,\n",
    "             frame = ~frame,\n",
    "             text = ~paste('</br> minsplit: ', minsplit,\n",
    "                           '</br> rmse: ', rmse ),\n",
    "             hoverinfo = 'text',\n",
    "             type = 'scatter',\n",
    "             mode = 'lines',\n",
    "             showlegend = F,\n",
    "             line = list(simplyfy = F) )"
   ]
  },
  {
   "cell_type": "markdown",
   "metadata": {},
   "source": [
    "### Análise do cp"
   ]
  },
  {
   "cell_type": "code",
   "execution_count": null,
   "metadata": {},
   "outputs": [],
   "source": [
    "dados_cp <- NULL\n",
    "\n",
    "for ( cp_val in seq( 0.001, 0.05, by = 0.001 ) ){\n",
    "    \n",
    "    # treino \n",
    "    modelo <- rpart( gastos_cartao ~ ., \n",
    "                 data = dados_cartao_train,\n",
    "                 control = list( cp = cp_val) )\n",
    "    \n",
    "    # validacao\n",
    "    rmse <- sqrt( mean( (predict( modelo, dados_cartao_valid) - dados_cartao_valid$gastos_cartao)^2 ) )\n",
    "    \n",
    "    dados <- data_frame( cp = cp_val,\n",
    "                         rmse = rmse )\n",
    "    \n",
    "    dados_cp <- bind_rows( dados_cp, dados)\n",
    "}"
   ]
  },
  {
   "cell_type": "code",
   "execution_count": null,
   "metadata": {},
   "outputs": [],
   "source": [
    "dados_cp %>% \n",
    "    accumulate_by(~cp) %>% \n",
    "    plot_ly( x = ~cp,\n",
    "             y = ~rmse,\n",
    "             frame = ~frame,\n",
    "             text = ~paste('</br> cp: ', cp,\n",
    "                           '</br> rmse: ', rmse ),\n",
    "             hoverinfo = 'text',\n",
    "             type = 'scatter',\n",
    "             mode = 'lines',\n",
    "             showlegend = F,\n",
    "             line = list(simplyfy = F) )"
   ]
  },
  {
   "cell_type": "markdown",
   "metadata": {},
   "source": [
    "### Análise do maxcompete"
   ]
  },
  {
   "cell_type": "code",
   "execution_count": null,
   "metadata": {},
   "outputs": [],
   "source": [
    "dados_maxcompete <- NULL\n",
    "\n",
    "for ( max_c in 1:15 ){\n",
    "    \n",
    "    # treino \n",
    "    modelo <- rpart( gastos_cartao ~ ., \n",
    "                 data = dados_cartao_train,\n",
    "                 control = list( maxcompete = max_c) )\n",
    "    \n",
    "    # validacao\n",
    "    rmse <- sqrt( mean( (predict( modelo, dados_cartao_valid) - dados_cartao_valid$gastos_cartao)^2 ) )\n",
    "    \n",
    "    dados <- data_frame( maxcompete = max_c,\n",
    "                         rmse = rmse )\n",
    "    \n",
    "    dados_maxcompete <- bind_rows( dados_maxcompete, dados)\n",
    "}"
   ]
  },
  {
   "cell_type": "code",
   "execution_count": null,
   "metadata": {},
   "outputs": [],
   "source": [
    "dados_maxcompete %>% \n",
    "    accumulate_by(~maxcompete) %>% \n",
    "    plot_ly( x = ~maxcompete,\n",
    "             y = ~rmse,\n",
    "             frame = ~frame,\n",
    "             text = ~paste('</br> maxcompete: ', maxcompete,\n",
    "                           '</br> rmse: ', rmse ),\n",
    "             hoverinfo = 'text',\n",
    "             type = 'scatter',\n",
    "             mode = 'lines',\n",
    "             showlegend = F,\n",
    "             line = list(simplyfy = F) )"
   ]
  },
  {
   "cell_type": "markdown",
   "metadata": {},
   "source": [
    "### Análise do maxdepth"
   ]
  },
  {
   "cell_type": "code",
   "execution_count": null,
   "metadata": {},
   "outputs": [],
   "source": [
    "dados_depth <- NULL\n",
    "\n",
    "for ( depth in 1:15 ){\n",
    "    \n",
    "    # treino \n",
    "    modelo <- rpart( gastos_cartao ~ ., \n",
    "                 data = dados_cartao_train,\n",
    "                 control = list( maxdepth = depth ) )\n",
    "    \n",
    "    # validacao\n",
    "    rmse <- sqrt( mean( (predict( modelo, dados_cartao_valid) - dados_cartao_valid$gastos_cartao)^2 ) )\n",
    "    \n",
    "    dados <- data_frame( maxdepth = depth,\n",
    "                         rmse = rmse )\n",
    "    \n",
    "    dados_depth <- bind_rows( dados_depth, dados)\n",
    "}"
   ]
  },
  {
   "cell_type": "code",
   "execution_count": null,
   "metadata": {},
   "outputs": [],
   "source": [
    "dados_depth %>% \n",
    "    accumulate_by(~maxdepth) %>% \n",
    "    plot_ly( x = ~maxdepth,\n",
    "             y = ~rmse,\n",
    "             frame = ~frame,\n",
    "             text = ~paste('</br> maxdepth: ', maxdepth,\n",
    "                           '</br> rmse: ', rmse ),\n",
    "             hoverinfo = 'text',\n",
    "             type = 'scatter',\n",
    "             mode = 'lines',\n",
    "             showlegend = F,\n",
    "             line = list(simplyfy = F) )"
   ]
  },
  {
   "cell_type": "markdown",
   "metadata": {},
   "source": [
    "## Modelos"
   ]
  },
  {
   "cell_type": "markdown",
   "metadata": {},
   "source": [
    "### Modelo 1 - árvore completa"
   ]
  },
  {
   "cell_type": "code",
   "execution_count": null,
   "metadata": {},
   "outputs": [],
   "source": [
    "modelo_1 <- rpart( gastos_cartao ~ ., \n",
    "                   data = dados_cartao_train )"
   ]
  },
  {
   "cell_type": "code",
   "execution_count": null,
   "metadata": {},
   "outputs": [],
   "source": [
    "modelo_1 %>% \n",
    "  visTree(., rules = TRUE,\n",
    "          fallenLeaves = TRUE,\n",
    "          width = \"100%\",\n",
    "          height = \"850\" ) %>% \n",
    "  visOptions(highlightNearest = TRUE, \n",
    "             nodesIdSelection = FALSE) %>% \n",
    "  visLegend( width = 0.1 )"
   ]
  },
  {
   "cell_type": "markdown",
   "metadata": {},
   "source": [
    "### Modelo 2 - arvore ajustada"
   ]
  },
  {
   "cell_type": "code",
   "execution_count": null,
   "metadata": {},
   "outputs": [],
   "source": [
    "modelo_2 <- rpart( gastos_cartao ~ ., \n",
    "                   data = dados_cartao_train,\n",
    "                   control = list( minsplit = 25,\n",
    "                                   maxcompete = 5,\n",
    "                                   cp = 0.001,\n",
    "                                   maxdepth = 3 ) )"
   ]
  },
  {
   "cell_type": "code",
   "execution_count": null,
   "metadata": {},
   "outputs": [],
   "source": [
    "modelo_2 %>% \n",
    "  visTree(., rules = TRUE,\n",
    "          fallenLeaves = TRUE,\n",
    "          width = \"100%\",\n",
    "          height = \"850\" ) %>% \n",
    "  visOptions(highlightNearest = TRUE, \n",
    "             nodesIdSelection = FALSE) %>% \n",
    "  visLegend( width = 0.1 )"
   ]
  },
  {
   "cell_type": "markdown",
   "metadata": {},
   "source": [
    "### Análise amostra de teste"
   ]
  },
  {
   "cell_type": "code",
   "execution_count": null,
   "metadata": {},
   "outputs": [],
   "source": [
    "dados_cartao_test %<>% \n",
    "    mutate( gastos_cartao_pred_m1 = predict( modelo_1, .),\n",
    "            gastos_cartao_pred_m2 = predict( modelo_2, .) )"
   ]
  },
  {
   "cell_type": "code",
   "execution_count": null,
   "metadata": {},
   "outputs": [],
   "source": [
    "dados_cartao_test %>% head"
   ]
  },
  {
   "cell_type": "code",
   "execution_count": null,
   "metadata": {},
   "outputs": [],
   "source": [
    "rmse <- function( previsto, real ) { sqrt( mean( (previsto - real)^2 ) ) }"
   ]
  },
  {
   "cell_type": "code",
   "execution_count": null,
   "metadata": {},
   "outputs": [],
   "source": [
    "dados_cartao_test %>% \n",
    "    summarise( erro_modelo_1 = rmse( gastos_cartao_pred_m1, gastos_cartao ),\n",
    "               erro_modelo_2 = rmse( gastos_cartao_pred_m2, gastos_cartao ) )"
   ]
  },
  {
   "cell_type": "markdown",
   "metadata": {},
   "source": [
    "### Regras"
   ]
  },
  {
   "cell_type": "markdown",
   "metadata": {},
   "source": [
    "- Regras modelo 1"
   ]
  },
  {
   "cell_type": "code",
   "execution_count": 95,
   "metadata": {},
   "outputs": [],
   "source": [
    "source('/home/vm-data-science/R_scripts/tree_rules.R')"
   ]
  },
  {
   "cell_type": "code",
   "execution_count": 96,
   "metadata": {
    "scrolled": true
   },
   "outputs": [
    {
     "data": {
      "text/html": [
       "<span style=white-space:pre-wrap>'IF  [impostos]&lt; 375 AND [renda]&lt; 2720 AND [idade]&lt; 34.5 THEN \\'483.529411764706\\' \\nELSEIF [impostos]&lt; 375 AND [renda]&lt; 2720 AND [idade]&gt;=34.5 THEN \\'524\\' \\nELSEIF [impostos]&lt; 375 AND [renda]&gt;=2720 THEN \\'555.714285714286\\' \\nELSEIF [impostos]&gt;=375 AND [renda]&lt; 4520 AND [renda]&lt; 3640 THEN \\'592.727272727273\\' \\nELSEIF [impostos]&gt;=375 AND [renda]&lt; 4520 AND [renda]&gt;=3640 AND [impostos]&gt;=525 THEN \\'623.846153846154\\' \\nELSEIF [impostos]&gt;=375 AND [renda]&lt; 4520 AND [renda]&gt;=3640 AND [impostos]&lt; 525 THEN \\'666.25\\' \\nELSEIF [impostos]&gt;=375 AND [renda]&gt;=4520 THEN \\'712.5\\' \\nEND'</span>"
      ],
      "text/latex": [
       "'IF  {[}impostos{]}< 375 AND {[}renda{]}< 2720 AND {[}idade{]}< 34.5 THEN \\textbackslash{}'483.529411764706\\textbackslash{}' \\textbackslash{}nELSEIF {[}impostos{]}< 375 AND {[}renda{]}< 2720 AND {[}idade{]}>=34.5 THEN \\textbackslash{}'524\\textbackslash{}' \\textbackslash{}nELSEIF {[}impostos{]}< 375 AND {[}renda{]}>=2720 THEN \\textbackslash{}'555.714285714286\\textbackslash{}' \\textbackslash{}nELSEIF {[}impostos{]}>=375 AND {[}renda{]}< 4520 AND {[}renda{]}< 3640 THEN \\textbackslash{}'592.727272727273\\textbackslash{}' \\textbackslash{}nELSEIF {[}impostos{]}>=375 AND {[}renda{]}< 4520 AND {[}renda{]}>=3640 AND {[}impostos{]}>=525 THEN \\textbackslash{}'623.846153846154\\textbackslash{}' \\textbackslash{}nELSEIF {[}impostos{]}>=375 AND {[}renda{]}< 4520 AND {[}renda{]}>=3640 AND {[}impostos{]}< 525 THEN \\textbackslash{}'666.25\\textbackslash{}' \\textbackslash{}nELSEIF {[}impostos{]}>=375 AND {[}renda{]}>=4520 THEN \\textbackslash{}'712.5\\textbackslash{}' \\textbackslash{}nEND'"
      ],
      "text/markdown": [
       "<span style=white-space:pre-wrap>'IF  [impostos]&lt; 375 AND [renda]&lt; 2720 AND [idade]&lt; 34.5 THEN \\'483.529411764706\\' \\nELSEIF [impostos]&lt; 375 AND [renda]&lt; 2720 AND [idade]&gt;=34.5 THEN \\'524\\' \\nELSEIF [impostos]&lt; 375 AND [renda]&gt;=2720 THEN \\'555.714285714286\\' \\nELSEIF [impostos]&gt;=375 AND [renda]&lt; 4520 AND [renda]&lt; 3640 THEN \\'592.727272727273\\' \\nELSEIF [impostos]&gt;=375 AND [renda]&lt; 4520 AND [renda]&gt;=3640 AND [impostos]&gt;=525 THEN \\'623.846153846154\\' \\nELSEIF [impostos]&gt;=375 AND [renda]&lt; 4520 AND [renda]&gt;=3640 AND [impostos]&lt; 525 THEN \\'666.25\\' \\nELSEIF [impostos]&gt;=375 AND [renda]&gt;=4520 THEN \\'712.5\\' \\nEND'</span>"
      ],
      "text/plain": [
       "[1] \"IF  [impostos]< 375 AND [renda]< 2720 AND [idade]< 34.5 THEN '483.529411764706' \\nELSEIF [impostos]< 375 AND [renda]< 2720 AND [idade]>=34.5 THEN '524' \\nELSEIF [impostos]< 375 AND [renda]>=2720 THEN '555.714285714286' \\nELSEIF [impostos]>=375 AND [renda]< 4520 AND [renda]< 3640 THEN '592.727272727273' \\nELSEIF [impostos]>=375 AND [renda]< 4520 AND [renda]>=3640 AND [impostos]>=525 THEN '623.846153846154' \\nELSEIF [impostos]>=375 AND [renda]< 4520 AND [renda]>=3640 AND [impostos]< 525 THEN '666.25' \\nELSEIF [impostos]>=375 AND [renda]>=4520 THEN '712.5' \\nEND\""
      ]
     },
     "metadata": {},
     "output_type": "display_data"
    }
   ],
   "source": [
    "tree_rules(modelo_1, model_type = 'regression')"
   ]
  },
  {
   "cell_type": "markdown",
   "metadata": {},
   "source": [
    "IF  [impostos]< 375 AND [renda]< 2720 AND [idade]< 34.5 THEN \\'483.529411764706\\' \n",
    "ELSEIF [impostos]< 375 AND [renda]< 2720 AND [idade]>=34.5 THEN \\'524\\' \n",
    "ELSEIF [impostos]< 375 AND [renda]>=2720 THEN \\'555.714285714286\\' \n",
    "ELSEIF [impostos]>=375 AND [renda]< 4520 AND [renda]< 3640 THEN \\'592.727272727273\\' \n",
    "ELSEIF [impostos]>=375 AND [renda]< 4520 AND [renda]>=3640 AND [impostos]>=525 THEN \\'623.846153846154\\' \n",
    "ELSEIF [impostos]>=375 AND [renda]< 4520 AND [renda]>=3640 AND [impostos]< 525 THEN \\'666.25\\' \n",
    "ELSEIF [impostos]>=375 AND [renda]>=4520 THEN \\'712.5\\' \n",
    "END"
   ]
  },
  {
   "cell_type": "markdown",
   "metadata": {},
   "source": [
    "- Regras modelo 2"
   ]
  },
  {
   "cell_type": "code",
   "execution_count": 97,
   "metadata": {},
   "outputs": [],
   "source": [
    "source('/home/vm-data-science/R_scripts/tree_rules.R')"
   ]
  },
  {
   "cell_type": "code",
   "execution_count": 98,
   "metadata": {},
   "outputs": [
    {
     "data": {
      "text/html": [
       "<span style=white-space:pre-wrap>'IF  [impostos]&lt; 375 AND [renda]&lt; 2720 AND [idade]&lt; 34.5 THEN \\'483.529411764706\\' \\nELSEIF [impostos]&lt; 375 AND [renda]&lt; 2720 AND [idade]&gt;=34.5 THEN \\'524\\' \\nELSEIF [impostos]&lt; 375 AND [renda]&gt;=2720 THEN \\'555.714285714286\\' \\nELSEIF [impostos]&gt;=375 AND [renda]&lt; 4520 AND [renda]&lt; 3640 THEN \\'592.727272727273\\' \\nELSEIF [impostos]&gt;=375 AND [renda]&lt; 4520 AND [renda]&gt;=3640 THEN \\'640\\' \\nELSEIF [impostos]&gt;=375 AND [renda]&gt;=4520 THEN \\'712.5\\' \\nEND'</span>"
      ],
      "text/latex": [
       "'IF  {[}impostos{]}< 375 AND {[}renda{]}< 2720 AND {[}idade{]}< 34.5 THEN \\textbackslash{}'483.529411764706\\textbackslash{}' \\textbackslash{}nELSEIF {[}impostos{]}< 375 AND {[}renda{]}< 2720 AND {[}idade{]}>=34.5 THEN \\textbackslash{}'524\\textbackslash{}' \\textbackslash{}nELSEIF {[}impostos{]}< 375 AND {[}renda{]}>=2720 THEN \\textbackslash{}'555.714285714286\\textbackslash{}' \\textbackslash{}nELSEIF {[}impostos{]}>=375 AND {[}renda{]}< 4520 AND {[}renda{]}< 3640 THEN \\textbackslash{}'592.727272727273\\textbackslash{}' \\textbackslash{}nELSEIF {[}impostos{]}>=375 AND {[}renda{]}< 4520 AND {[}renda{]}>=3640 THEN \\textbackslash{}'640\\textbackslash{}' \\textbackslash{}nELSEIF {[}impostos{]}>=375 AND {[}renda{]}>=4520 THEN \\textbackslash{}'712.5\\textbackslash{}' \\textbackslash{}nEND'"
      ],
      "text/markdown": [
       "<span style=white-space:pre-wrap>'IF  [impostos]&lt; 375 AND [renda]&lt; 2720 AND [idade]&lt; 34.5 THEN \\'483.529411764706\\' \\nELSEIF [impostos]&lt; 375 AND [renda]&lt; 2720 AND [idade]&gt;=34.5 THEN \\'524\\' \\nELSEIF [impostos]&lt; 375 AND [renda]&gt;=2720 THEN \\'555.714285714286\\' \\nELSEIF [impostos]&gt;=375 AND [renda]&lt; 4520 AND [renda]&lt; 3640 THEN \\'592.727272727273\\' \\nELSEIF [impostos]&gt;=375 AND [renda]&lt; 4520 AND [renda]&gt;=3640 THEN \\'640\\' \\nELSEIF [impostos]&gt;=375 AND [renda]&gt;=4520 THEN \\'712.5\\' \\nEND'</span>"
      ],
      "text/plain": [
       "[1] \"IF  [impostos]< 375 AND [renda]< 2720 AND [idade]< 34.5 THEN '483.529411764706' \\nELSEIF [impostos]< 375 AND [renda]< 2720 AND [idade]>=34.5 THEN '524' \\nELSEIF [impostos]< 375 AND [renda]>=2720 THEN '555.714285714286' \\nELSEIF [impostos]>=375 AND [renda]< 4520 AND [renda]< 3640 THEN '592.727272727273' \\nELSEIF [impostos]>=375 AND [renda]< 4520 AND [renda]>=3640 THEN '640' \\nELSEIF [impostos]>=375 AND [renda]>=4520 THEN '712.5' \\nEND\""
      ]
     },
     "metadata": {},
     "output_type": "display_data"
    }
   ],
   "source": [
    "tree_rules(modelo_2, model_type = 'regression')"
   ]
  },
  {
   "cell_type": "markdown",
   "metadata": {},
   "source": [
    "IF  [impostos]< 375 AND [renda]< 2720 AND [idade]< 34.5 THEN \\'483.529411764706\\' \n",
    "ELSEIF [impostos]< 375 AND [renda]< 2720 AND [idade]>=34.5 THEN \\'524\\' \n",
    "ELSEIF [impostos]< 375 AND [renda]>=2720 THEN \\'555.714285714286\\' \n",
    "ELSEIF [impostos]>=375 AND [renda]< 4520 AND [renda]< 3640 THEN \\'592.727272727273\\' \n",
    "ELSEIF [impostos]>=375 AND [renda]< 4520 AND [renda]>=3640 THEN \\'640\\' \n",
    "ELSEIF [impostos]>=375 AND [renda]>=4520 THEN \\'712.5\\' \n",
    "END'"
   ]
  },
  {
   "cell_type": "markdown",
   "metadata": {},
   "source": [
    "- Quantas regras no modelo 1?\n",
    "- Quantas regras no modelo 2?"
   ]
  },
  {
   "cell_type": "code",
   "execution_count": null,
   "metadata": {},
   "outputs": [],
   "source": []
  }
 ],
 "metadata": {
  "kernelspec": {
   "display_name": "R",
   "language": "R",
   "name": "ir"
  },
  "language_info": {
   "codemirror_mode": "r",
   "file_extension": ".r",
   "mimetype": "text/x-r-source",
   "name": "R",
   "pygments_lexer": "r",
   "version": "3.4.4"
  }
 },
 "nbformat": 4,
 "nbformat_minor": 2
}
