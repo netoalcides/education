{
 "cells": [
  {
   "cell_type": "markdown",
   "metadata": {},
   "source": [
    "# Conceito PCA\n",
    "\n",
    "Iremos apresentar um pouco sobre *Principal Component Analysis* de uma forma mais visual."
   ]
  },
  {
   "cell_type": "markdown",
   "metadata": {},
   "source": [
    "## Carregar pacotes"
   ]
  },
  {
   "cell_type": "code",
   "execution_count": null,
   "metadata": {},
   "outputs": [],
   "source": [
    "library(tidyverse)\n",
    "library(magrittr)\n",
    "library(plotly)\n",
    "library(psych)"
   ]
  },
  {
   "cell_type": "code",
   "execution_count": null,
   "metadata": {},
   "outputs": [],
   "source": [
    "norm <- function(x){ (x - mean(x)) / sd(x) }"
   ]
  },
  {
   "cell_type": "markdown",
   "metadata": {},
   "source": [
    "## Carregar dados\n",
    "\n",
    "Iremos testar um dataset com 3 dimensões e reduzir para 2 dimensões"
   ]
  },
  {
   "cell_type": "code",
   "execution_count": null,
   "metadata": {},
   "outputs": [],
   "source": [
    "X <- data_frame( x1 = c(10, 11, 8, 3, 2, 1),\n",
    "                 x2 = c(6, 4, 5, 3, 2.8, 1),\n",
    "                 x3 = c(12, 9, 10, 2.5, 1.3, 2) )"
   ]
  },
  {
   "cell_type": "code",
   "execution_count": null,
   "metadata": {},
   "outputs": [],
   "source": [
    "X"
   ]
  },
  {
   "cell_type": "markdown",
   "metadata": {},
   "source": [
    "## Análises"
   ]
  },
  {
   "cell_type": "markdown",
   "metadata": {},
   "source": [
    "### Padronizar\n",
    "\n",
    "Iremos padronizar os dados com objetivos de facilitar a visualização"
   ]
  },
  {
   "cell_type": "code",
   "execution_count": null,
   "metadata": {},
   "outputs": [],
   "source": [
    "X_std <- X %>% \n",
    "  mutate_all( funs( norm ) )\n",
    "\n",
    "X_std"
   ]
  },
  {
   "cell_type": "markdown",
   "metadata": {},
   "source": [
    "- O gráfico original"
   ]
  },
  {
   "cell_type": "code",
   "execution_count": null,
   "metadata": {
    "scrolled": false
   },
   "outputs": [],
   "source": [
    "X %>%\n",
    "    plot_ly(x = ~x1,\n",
    "            y = ~x2,\n",
    "            z = ~x3,\n",
    "            type = 'scatter3d',\n",
    "            mode = 'markers' )"
   ]
  },
  {
   "cell_type": "markdown",
   "metadata": {},
   "source": [
    "- gráfico com dados padronizados"
   ]
  },
  {
   "cell_type": "code",
   "execution_count": null,
   "metadata": {
    "scrolled": true
   },
   "outputs": [],
   "source": [
    "X_std %>%\n",
    "    plot_ly(x = ~x1,\n",
    "            y = ~x2,\n",
    "            z = ~x3,\n",
    "            type = 'scatter3d',\n",
    "            mode = 'markers' )"
   ]
  },
  {
   "cell_type": "markdown",
   "metadata": {},
   "source": [
    "### PCA\n",
    "\n",
    "Neste dataset temos 3 dimensões, iremos reduzir para somente 2 dimensões: PC1 e PC2."
   ]
  },
  {
   "cell_type": "code",
   "execution_count": null,
   "metadata": {},
   "outputs": [],
   "source": [
    "pca <- principal(X_std,\n",
    "                 nfactors = 3,\n",
    "                 rotate = 'none' )"
   ]
  },
  {
   "cell_type": "code",
   "execution_count": null,
   "metadata": {},
   "outputs": [],
   "source": [
    "pca"
   ]
  },
  {
   "cell_type": "markdown",
   "metadata": {},
   "source": [
    "- Podemos traçar a primeira nova dimensão - PC1"
   ]
  },
  {
   "cell_type": "code",
   "execution_count": null,
   "metadata": {},
   "outputs": [],
   "source": [
    "pesos <- pca$loadings\n",
    "p <- X_std %>%\n",
    "    plot_ly(x = ~x1,\n",
    "            y = ~x2,\n",
    "            z = ~x3,\n",
    "            type = 'scatter3d',\n",
    "            mode = 'markers' )\n",
    "\n",
    "k = 1\n",
    "\n",
    "x <- c(-1*pesos[1,k], pesos[1,k])\n",
    "\n",
    "y <- c(-1*pesos[2,k], pesos[2,k])\n",
    "\n",
    "z <- c(-1*pesos[3,k], pesos[3,k])\n",
    "\n",
    "p <- p %>% \n",
    "    add_trace(x = x, \n",
    "              y = y, \n",
    "              z = z,\n",
    "              name = 'PC1',\n",
    "              type = \"scatter3d\", \n",
    "              mode = \"lines\",\n",
    "              line = list(width=8),\n",
    "              opacity = 1)\n",
    "p"
   ]
  },
  {
   "cell_type": "markdown",
   "metadata": {},
   "source": [
    "- Traçamos a segunda nova dimensão PC2."
   ]
  },
  {
   "cell_type": "code",
   "execution_count": null,
   "metadata": {},
   "outputs": [],
   "source": [
    "k = 2\n",
    "\n",
    "x <- c(-1*pesos[1,k], pesos[1,k])\n",
    "\n",
    "y <- c(-1*pesos[2,k], pesos[2,k])\n",
    "\n",
    "z <- c(-1*pesos[3,k], pesos[3,k])\n",
    "\n",
    "p <- p %>% \n",
    "    add_trace(x = x, \n",
    "              y = y, \n",
    "              z = z,\n",
    "              name = 'PC2',\n",
    "              type = \"scatter3d\", \n",
    "              mode = \"lines\",\n",
    "              line = list(width=8),\n",
    "              opacity = 1)\n",
    "p"
   ]
  },
  {
   "cell_type": "markdown",
   "metadata": {},
   "source": [
    "- Podemos simplificar para a visão 2D"
   ]
  },
  {
   "cell_type": "code",
   "execution_count": null,
   "metadata": {},
   "outputs": [],
   "source": [
    "pca$scores[,1:2] %>% \n",
    "    as_data_frame %>% \n",
    "    plot_ly(x = ~PC1, \n",
    "            y = ~PC2,\n",
    "            type = \"scatter\", \n",
    "            mode = \"markers\",\n",
    "           marker = list( size = 15) )"
   ]
  },
  {
   "cell_type": "code",
   "execution_count": null,
   "metadata": {},
   "outputs": [],
   "source": []
  }
 ],
 "metadata": {
  "kernelspec": {
   "display_name": "R",
   "language": "R",
   "name": "ir"
  },
  "language_info": {
   "codemirror_mode": "r",
   "file_extension": ".r",
   "mimetype": "text/x-r-source",
   "name": "R",
   "pygments_lexer": "r",
   "version": "3.4.4"
  }
 },
 "nbformat": 4,
 "nbformat_minor": 2
}
