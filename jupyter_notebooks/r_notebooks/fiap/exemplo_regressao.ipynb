{
 "cells": [
  {
   "cell_type": "markdown",
   "metadata": {},
   "source": [
    "# Exemplo Modelo de regressão"
   ]
  },
  {
   "cell_type": "markdown",
   "metadata": {},
   "source": [
    "Neste exemplo iremos desenvolver um modelo para prever os gastos com cartão de uma pessoa."
   ]
  },
  {
   "cell_type": "markdown",
   "metadata": {},
   "source": [
    "## Carregar pacotes"
   ]
  },
  {
   "cell_type": "code",
   "execution_count": 1,
   "metadata": {},
   "outputs": [
    {
     "name": "stderr",
     "output_type": "stream",
     "text": [
      "── Attaching packages ─────────────────────────────────────── tidyverse 1.2.1 ──\n",
      "✔ ggplot2 3.0.0     ✔ purrr   0.2.5\n",
      "✔ tibble  1.4.2     ✔ dplyr   0.7.6\n",
      "✔ tidyr   0.8.1     ✔ stringr 1.3.1\n",
      "✔ readr   1.1.1     ✔ forcats 0.3.0\n",
      "── Conflicts ────────────────────────────────────────── tidyverse_conflicts() ──\n",
      "✖ dplyr::filter() masks stats::filter()\n",
      "✖ dplyr::lag()    masks stats::lag()\n",
      "\n",
      "Attaching package: ‘magrittr’\n",
      "\n",
      "The following object is masked from ‘package:purrr’:\n",
      "\n",
      "    set_names\n",
      "\n",
      "The following object is masked from ‘package:tidyr’:\n",
      "\n",
      "    extract\n",
      "\n"
     ]
    }
   ],
   "source": [
    "library(tidyverse)\n",
    "library(magrittr)"
   ]
  },
  {
   "cell_type": "markdown",
   "metadata": {},
   "source": [
    "## Carregar dados"
   ]
  },
  {
   "cell_type": "code",
   "execution_count": 2,
   "metadata": {
    "scrolled": true
   },
   "outputs": [
    {
     "name": "stderr",
     "output_type": "stream",
     "text": [
      "Parsed with column specification:\n",
      "cols(\n",
      "  gastos_cartao = col_integer(),\n",
      "  idade = col_integer(),\n",
      "  renda = col_integer(),\n",
      "  impostos = col_integer(),\n",
      "  segmento = col_character()\n",
      ")\n"
     ]
    }
   ],
   "source": [
    "dados_cartao <- read_csv( file = \"/home/vm-data-science/dados/base_gastos_cartao.csv\")"
   ]
  },
  {
   "cell_type": "code",
   "execution_count": 3,
   "metadata": {},
   "outputs": [
    {
     "data": {
      "text/html": [
       "<table>\n",
       "<thead><tr><th scope=col>gastos_cartao</th><th scope=col>idade</th><th scope=col>renda</th><th scope=col>impostos</th><th scope=col>segmento</th></tr></thead>\n",
       "<tbody>\n",
       "\t<tr><td>510 </td><td>35  </td><td>1120</td><td> 60 </td><td>C   </td></tr>\n",
       "\t<tr><td>490 </td><td>30  </td><td>1120</td><td> 60 </td><td>C   </td></tr>\n",
       "\t<tr><td>470 </td><td>32  </td><td>1040</td><td> 60 </td><td>C   </td></tr>\n",
       "\t<tr><td>460 </td><td>31  </td><td>1200</td><td> 60 </td><td>C   </td></tr>\n",
       "\t<tr><td>500 </td><td>36  </td><td>1120</td><td> 60 </td><td>C   </td></tr>\n",
       "\t<tr><td>540 </td><td>39  </td><td>1360</td><td>120 </td><td>C   </td></tr>\n",
       "</tbody>\n",
       "</table>\n"
      ],
      "text/latex": [
       "\\begin{tabular}{r|lllll}\n",
       " gastos\\_cartao & idade & renda & impostos & segmento\\\\\n",
       "\\hline\n",
       "\t 510  & 35   & 1120 &  60  & C   \\\\\n",
       "\t 490  & 30   & 1120 &  60  & C   \\\\\n",
       "\t 470  & 32   & 1040 &  60  & C   \\\\\n",
       "\t 460  & 31   & 1200 &  60  & C   \\\\\n",
       "\t 500  & 36   & 1120 &  60  & C   \\\\\n",
       "\t 540  & 39   & 1360 & 120  & C   \\\\\n",
       "\\end{tabular}\n"
      ],
      "text/markdown": [
       "\n",
       "gastos_cartao | idade | renda | impostos | segmento | \n",
       "|---|---|---|---|---|---|\n",
       "| 510  | 35   | 1120 |  60  | C    | \n",
       "| 490  | 30   | 1120 |  60  | C    | \n",
       "| 470  | 32   | 1040 |  60  | C    | \n",
       "| 460  | 31   | 1200 |  60  | C    | \n",
       "| 500  | 36   | 1120 |  60  | C    | \n",
       "| 540  | 39   | 1360 | 120  | C    | \n",
       "\n",
       "\n"
      ],
      "text/plain": [
       "  gastos_cartao idade renda impostos segmento\n",
       "1 510           35    1120   60      C       \n",
       "2 490           30    1120   60      C       \n",
       "3 470           32    1040   60      C       \n",
       "4 460           31    1200   60      C       \n",
       "5 500           36    1120   60      C       \n",
       "6 540           39    1360  120      C       "
      ]
     },
     "metadata": {},
     "output_type": "display_data"
    }
   ],
   "source": [
    "dados_cartao %>% \n",
    "    head()"
   ]
  },
  {
   "cell_type": "markdown",
   "metadata": {},
   "source": [
    "## Análise exploratória"
   ]
  },
  {
   "cell_type": "code",
   "execution_count": null,
   "metadata": {
    "scrolled": true
   },
   "outputs": [],
   "source": [
    "dados_cartao %>% \n",
    "    summarise_if( is.numeric, mean )"
   ]
  },
  {
   "cell_type": "code",
   "execution_count": null,
   "metadata": {},
   "outputs": [],
   "source": [
    "dados_cartao  %>% \n",
    "    count( segmento )"
   ]
  },
  {
   "cell_type": "markdown",
   "metadata": {},
   "source": [
    "## Dividir amostra de treino e teste"
   ]
  },
  {
   "cell_type": "code",
   "execution_count": 18,
   "metadata": {},
   "outputs": [],
   "source": [
    "# amostra de treino\n",
    "dados_cartao_train <- dados_cartao %>% \n",
    "                        sample_frac(., 0.5)"
   ]
  },
  {
   "cell_type": "code",
   "execution_count": 19,
   "metadata": {},
   "outputs": [],
   "source": [
    "# amostra de teste\n",
    "dados_cartao_test <- setdiff( dados_cartao, dados_cartao_train )"
   ]
  },
  {
   "cell_type": "code",
   "execution_count": 20,
   "metadata": {},
   "outputs": [
    {
     "name": "stdout",
     "output_type": "stream",
     "text": [
      "[1] \"o banco de dados tem ao todo 150 linhas e 5 colunas\"\n",
      "[1] \"a amostra de treino tem 75 linhas e 5 colunas\"\n",
      "[1] \"a amostra de teste tem 74 linhas e 5 colunas\"\n"
     ]
    }
   ],
   "source": [
    "print( paste('o banco de dados tem ao todo', dim(dados_cartao)[1], 'linhas e', dim(dados_cartao)[2], 'colunas') )\n",
    "print( paste('a amostra de treino tem', dim(dados_cartao_train)[1], 'linhas e', dim(dados_cartao_train)[2], 'colunas') )\n",
    "print( paste('a amostra de teste tem', dim(dados_cartao_test)[1], 'linhas e', dim(dados_cartao_test)[2], 'colunas') ) "
   ]
  },
  {
   "cell_type": "markdown",
   "metadata": {},
   "source": [
    "## Treinamento do modelo\n",
    "\n",
    "Conforme aprendemos na aula, vamos testar o seguinte:\n",
    "\n",
    "- Modelo somente utilizando a variável renda\n",
    "- Modelo com todas as variáveis, inclusive as categóricas\n",
    "- Modelo contendo efeitos quadráticos\n",
    "- Modelo contendo efeitos multiplicativos (interação)"
   ]
  },
  {
   "cell_type": "markdown",
   "metadata": {},
   "source": [
    "### Modelo 1 - somente renda"
   ]
  },
  {
   "cell_type": "code",
   "execution_count": 7,
   "metadata": {},
   "outputs": [],
   "source": [
    "modelo_1 <- lm( formula = gastos_cartao ~ renda, \n",
    "                data = dados_cartao_train)"
   ]
  },
  {
   "cell_type": "code",
   "execution_count": 8,
   "metadata": {},
   "outputs": [
    {
     "data": {
      "text/plain": [
       "\n",
       "Call:\n",
       "lm(formula = gastos_cartao ~ renda, data = dados_cartao_train)\n",
       "\n",
       "Residuals:\n",
       "    Min      1Q  Median      3Q     Max \n",
       "-73.336 -28.712  -6.029  25.323 106.294 \n",
       "\n",
       "Coefficients:\n",
       "             Estimate Std. Error t value Pr(>|t|)    \n",
       "(Intercept) 4.229e+02  1.143e+01   36.99   <2e-16 ***\n",
       "renda       5.289e-02  3.306e-03   16.00   <2e-16 ***\n",
       "---\n",
       "Signif. codes:  0 ‘***’ 0.001 ‘**’ 0.01 ‘*’ 0.05 ‘.’ 0.1 ‘ ’ 1\n",
       "\n",
       "Residual standard error: 38.61 on 73 degrees of freedom\n",
       "Multiple R-squared:  0.778,\tAdjusted R-squared:  0.775 \n",
       "F-statistic: 255.9 on 1 and 73 DF,  p-value: < 2.2e-16\n"
      ]
     },
     "metadata": {},
     "output_type": "display_data"
    }
   ],
   "source": [
    "summary( modelo_1 )"
   ]
  },
  {
   "cell_type": "markdown",
   "metadata": {},
   "source": [
    "### Modelo 2 - todas as variáveis"
   ]
  },
  {
   "cell_type": "code",
   "execution_count": 21,
   "metadata": {},
   "outputs": [],
   "source": [
    "modelo_2 <- lm( formula = gastos_cartao ~ ., \n",
    "    data = dados_cartao_train)"
   ]
  },
  {
   "cell_type": "code",
   "execution_count": 22,
   "metadata": {},
   "outputs": [
    {
     "data": {
      "text/plain": [
       "\n",
       "Call:\n",
       "lm(formula = gastos_cartao ~ ., data = dados_cartao_train)\n",
       "\n",
       "Residuals:\n",
       "    Min      1Q  Median      3Q     Max \n",
       "-70.497 -17.954  -2.818  21.087  75.801 \n",
       "\n",
       "Coefficients:\n",
       "             Estimate Std. Error t value Pr(>|t|)    \n",
       "(Intercept) 151.34588   50.18907   3.016  0.00359 ** \n",
       "idade         3.89235    1.28902   3.020  0.00355 ** \n",
       "renda         0.09445    0.01228   7.691 7.36e-11 ***\n",
       "impostos     -0.03954    0.07655  -0.517  0.60709    \n",
       "segmentoB    20.14197   18.81832   1.070  0.28820    \n",
       "segmentoC   108.85581   52.55590   2.071  0.04208 *  \n",
       "---\n",
       "Signif. codes:  0 ‘***’ 0.001 ‘**’ 0.01 ‘*’ 0.05 ‘.’ 0.1 ‘ ’ 1\n",
       "\n",
       "Residual standard error: 30.31 on 69 degrees of freedom\n",
       "Multiple R-squared:  0.8831,\tAdjusted R-squared:  0.8746 \n",
       "F-statistic: 104.2 on 5 and 69 DF,  p-value: < 2.2e-16\n"
      ]
     },
     "metadata": {},
     "output_type": "display_data"
    }
   ],
   "source": [
    "summary( modelo_2 )"
   ]
  },
  {
   "cell_type": "markdown",
   "metadata": {},
   "source": [
    "### Modelo 3 - efeitos quadráticos (idade)"
   ]
  },
  {
   "cell_type": "code",
   "execution_count": 11,
   "metadata": {},
   "outputs": [],
   "source": [
    "modelo_3 <- lm( formula = gastos_cartao ~ idade + renda + impostos + segmento + I(idade^2), \n",
    "                data = dados_cartao_train)"
   ]
  },
  {
   "cell_type": "code",
   "execution_count": 12,
   "metadata": {},
   "outputs": [
    {
     "data": {
      "text/plain": [
       "\n",
       "Call:\n",
       "lm(formula = gastos_cartao ~ idade + renda + impostos + segmento + \n",
       "    I(idade^2), data = dados_cartao_train)\n",
       "\n",
       "Residuals:\n",
       "    Min      1Q  Median      3Q     Max \n",
       "-72.377 -22.923  -1.341  21.611  63.307 \n",
       "\n",
       "Coefficients:\n",
       "             Estimate Std. Error t value Pr(>|t|)    \n",
       "(Intercept) 356.95853  137.31694   2.600   0.0114 *  \n",
       "idade        -8.19127    9.18350  -0.892   0.3756    \n",
       "renda         0.10167    0.01211   8.393 4.24e-12 ***\n",
       "impostos     -0.15146    0.06525  -2.321   0.0233 *  \n",
       "segmentoB    17.34857   16.83956   1.030   0.3066    \n",
       "segmentoC    68.27372   45.96185   1.485   0.1420    \n",
       "I(idade^2)    0.20662    0.14756   1.400   0.1660    \n",
       "---\n",
       "Signif. codes:  0 ‘***’ 0.001 ‘**’ 0.01 ‘*’ 0.05 ‘.’ 0.1 ‘ ’ 1\n",
       "\n",
       "Residual standard error: 30.68 on 68 degrees of freedom\n",
       "Multiple R-squared:  0.8694,\tAdjusted R-squared:  0.8579 \n",
       "F-statistic: 75.47 on 6 and 68 DF,  p-value: < 2.2e-16\n"
      ]
     },
     "metadata": {},
     "output_type": "display_data"
    }
   ],
   "source": [
    "summary( modelo_3 )"
   ]
  },
  {
   "cell_type": "markdown",
   "metadata": {},
   "source": [
    "#### Modelo 4 - efeitos multiplicativos"
   ]
  },
  {
   "cell_type": "code",
   "execution_count": 13,
   "metadata": {},
   "outputs": [],
   "source": [
    "modelo_4 <- lm( formula = gastos_cartao ~ idade + renda + impostos + segmento + \n",
    "                          I( c(segmento == 'B') * renda ) + I( c(segmento == 'C') * renda ), \n",
    "                data = dados_cartao_train )"
   ]
  },
  {
   "cell_type": "code",
   "execution_count": 14,
   "metadata": {},
   "outputs": [
    {
     "data": {
      "text/plain": [
       "\n",
       "Call:\n",
       "lm(formula = gastos_cartao ~ idade + renda + impostos + segmento + \n",
       "    I(c(segmento == \"B\") * renda) + I(c(segmento == \"C\") * renda), \n",
       "    data = dados_cartao_train)\n",
       "\n",
       "Residuals:\n",
       "    Min      1Q  Median      3Q     Max \n",
       "-73.856 -20.230   0.083  16.658  58.034 \n",
       "\n",
       "Coefficients:\n",
       "                               Estimate Std. Error t value Pr(>|t|)    \n",
       "(Intercept)                   109.11780   63.92141   1.707  0.09244 .  \n",
       "idade                           4.78322    1.14403   4.181 8.61e-05 ***\n",
       "renda                           0.11450    0.01415   8.091 1.65e-11 ***\n",
       "impostos                       -0.16954    0.06233  -2.720  0.00831 ** \n",
       "segmentoB                      98.75967   81.90324   1.206  0.23213    \n",
       "segmentoC                     285.03142   86.03211   3.313  0.00149 ** \n",
       "I(c(segmento == \"B\") * renda)  -0.02040    0.02077  -0.982  0.32951    \n",
       "I(c(segmento == \"C\") * renda)  -0.15491    0.04975  -3.114  0.00272 ** \n",
       "---\n",
       "Signif. codes:  0 ‘***’ 0.001 ‘**’ 0.01 ‘*’ 0.05 ‘.’ 0.1 ‘ ’ 1\n",
       "\n",
       "Residual standard error: 29.26 on 67 degrees of freedom\n",
       "Multiple R-squared:  0.883,\tAdjusted R-squared:  0.8708 \n",
       "F-statistic: 72.22 on 7 and 67 DF,  p-value: < 2.2e-16\n"
      ]
     },
     "metadata": {},
     "output_type": "display_data"
    }
   ],
   "source": [
    "summary( modelo_4 )"
   ]
  },
  {
   "cell_type": "markdown",
   "metadata": {},
   "source": [
    "### Teste dos modelos"
   ]
  },
  {
   "cell_type": "markdown",
   "metadata": {},
   "source": [
    "Para realizar os testes dos modelos, devemos seguir pelo menos 2 passos:\n",
    "\n",
    "1 - Realizar as previsões.\n",
    "\n",
    "2 - Realizar os testes."
   ]
  },
  {
   "cell_type": "markdown",
   "metadata": {},
   "source": [
    "### Previsões"
   ]
  },
  {
   "cell_type": "code",
   "execution_count": 15,
   "metadata": {},
   "outputs": [],
   "source": [
    "dados_cartao_test %<>% \n",
    "    mutate( gastos_cartao_pred_m1 = predict( modelo_1, .),\n",
    "            gastos_cartao_pred_m2 = predict( modelo_2, .),\n",
    "            gastos_cartao_pred_m3 = predict( modelo_3, .),\n",
    "            gastos_cartao_pred_m4 = predict( modelo_4, .) )"
   ]
  },
  {
   "cell_type": "markdown",
   "metadata": {},
   "source": [
    "### Teste"
   ]
  },
  {
   "cell_type": "code",
   "execution_count": 16,
   "metadata": {},
   "outputs": [],
   "source": [
    "rmse <- function( previsto, real ) { sqrt( mean( (previsto - real)^2 ) ) }"
   ]
  },
  {
   "cell_type": "code",
   "execution_count": 17,
   "metadata": {
    "scrolled": true
   },
   "outputs": [
    {
     "data": {
      "text/html": [
       "<table>\n",
       "<thead><tr><th scope=col>erro_modelo_1</th><th scope=col>erro_modelo_2</th><th scope=col>erro_modelo_3</th><th scope=col>erro_modelo_4</th></tr></thead>\n",
       "<tbody>\n",
       "\t<tr><td>42.67624</td><td>31.40423</td><td>31.0555 </td><td>34.00008</td></tr>\n",
       "</tbody>\n",
       "</table>\n"
      ],
      "text/latex": [
       "\\begin{tabular}{r|llll}\n",
       " erro\\_modelo\\_1 & erro\\_modelo\\_2 & erro\\_modelo\\_3 & erro\\_modelo\\_4\\\\\n",
       "\\hline\n",
       "\t 42.67624 & 31.40423 & 31.0555  & 34.00008\\\\\n",
       "\\end{tabular}\n"
      ],
      "text/markdown": [
       "\n",
       "erro_modelo_1 | erro_modelo_2 | erro_modelo_3 | erro_modelo_4 | \n",
       "|---|\n",
       "| 42.67624 | 31.40423 | 31.0555  | 34.00008 | \n",
       "\n",
       "\n"
      ],
      "text/plain": [
       "  erro_modelo_1 erro_modelo_2 erro_modelo_3 erro_modelo_4\n",
       "1 42.67624      31.40423      31.0555       34.00008     "
      ]
     },
     "metadata": {},
     "output_type": "display_data"
    }
   ],
   "source": [
    "dados_cartao_test %>% \n",
    "    summarise( erro_modelo_1 = rmse( gastos_cartao_pred_m1, gastos_cartao ),\n",
    "               erro_modelo_2 = rmse( gastos_cartao_pred_m2, gastos_cartao ),\n",
    "               erro_modelo_3 = rmse( gastos_cartao_pred_m3, gastos_cartao ),\n",
    "               erro_modelo_4 = rmse( gastos_cartao_pred_m4, gastos_cartao ) )"
   ]
  },
  {
   "cell_type": "markdown",
   "metadata": {},
   "source": [
    "## Qual modelo apresentou melhor desempenho na amostra de teste?"
   ]
  },
  {
   "cell_type": "markdown",
   "metadata": {},
   "source": []
  }
 ],
 "metadata": {
  "kernelspec": {
   "display_name": "R",
   "language": "R",
   "name": "ir"
  },
  "language_info": {
   "codemirror_mode": "r",
   "file_extension": ".r",
   "mimetype": "text/x-r-source",
   "name": "R",
   "pygments_lexer": "r",
   "version": "3.4.4"
  }
 },
 "nbformat": 4,
 "nbformat_minor": 2
}
